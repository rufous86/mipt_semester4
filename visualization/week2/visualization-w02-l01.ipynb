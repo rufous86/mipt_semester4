{
  "nbformat": 4,
  "nbformat_minor": 0,
  "metadata": {
    "colab": {
      "provenance": []
    },
    "kernelspec": {
      "name": "python3",
      "display_name": "Python 3"
    },
    "language_info": {
      "name": "python"
    }
  },
  "cells": [
    {
      "cell_type": "markdown",
      "source": [
        "# Модуль 2\n",
        "В этом модуле мы познакомимся с возможностями по работе со временем в Python, поймем основные принципы визуализации временных рядов. Узнаем, как использовать Pandas для визуализации данных, а также научимся писать собственные функции для Pandas.\n",
        "\n",
        "Зачастую аналитики данных работают с данными, которые имеют временные метки. Например, данные о динамике ВВП в разных стран за последние 50 лет. В таком случае для построения визуализаций и моделей необходимо хорошо владеть методами работы со временем.\n",
        "\n",
        "В свою очередь зачастую в рамках работы с датасетами в Pandas возникает необходимость многократно повторять одни и те же действия. Иногда для их выполнения не хватает стандарного набора методов, которые встроены в библиотеку. В таком случае Pandas позволяет использовать собственные кастомные функции и применять их к датасету.\n",
        "\n",
        "Итак, давайте начнем:"
      ],
      "metadata": {
        "id": "7zlbdDSUP1HK"
      }
    },
    {
      "cell_type": "markdown",
      "source": [
        "# Введение\n",
        "\n",
        "В рамках второй недели мы:\n",
        "- Закрепим полученные ранее знания\n",
        "- Узнаем как лучше использовать функционал Pandas для подготовки данных\n",
        "- Познакомимся с основами работы с временем в Python\n",
        "- Узнаем о предустановленных возможностях Pandas по созданию быстрых визуализаций"
      ],
      "metadata": {
        "id": "1Z3Bax4nlquy"
      }
    },
    {
      "cell_type": "code",
      "execution_count": null,
      "metadata": {
        "id": "1IU99lOflINJ"
      },
      "outputs": [],
      "source": [
        "# Импортируем все библиотеки, которые будем использовать в рамках работы\n",
        "from datetime import datetime, timedelta\n",
        "import matplotlib.pyplot as plt\n",
        "import numpy as np\n",
        "import pandas as pd\n",
        "import math\n",
        "import missingno as msno\n",
        "import seaborn as sns\n",
        "import os\n",
        "\n",
        "%matplotlib inline\n",
        "palette = plt.get_cmap('Set2')"
      ]
    },
    {
      "cell_type": "markdown",
      "source": [
        "В рамках этого модуля мы будем использовать те же датасеты, что и раньше. Импортируем их перед работой:"
      ],
      "metadata": {
        "id": "tWIzj-oQ0N0y"
      }
    },
    {
      "cell_type": "code",
      "source": [
        "# Импортируем данные\n",
        "kiva_loans = pd.read_csv('https://raw.githubusercontent.com/ElijahSum/mipt_visualization/master/week_02_visualization/kiva_loans_week2', index_col=0)\n",
        "mpi = pd.read_csv('https://raw.githubusercontent.com/ElijahSum/mipt_visualization/master/week_01_visualization/data/kiva_mpi_region_locations.csv')"
      ],
      "metadata": {
        "id": "AD2brQkAWnSy"
      },
      "execution_count": null,
      "outputs": []
    },
    {
      "cell_type": "markdown",
      "source": [
        "# 1. Работа со временем  "
      ],
      "metadata": {
        "id": "tcHiob-bXf71"
      }
    },
    {
      "cell_type": "markdown",
      "source": [
        "Перед тем как перейти к изучению работы со временем стоит отдельно освятить, зачем это стоит изучать. Дело в том, что в случае, если мы имеем дело с временными рядами или с любыми данными, где указана дата, чтобы эффективно работать с этими данными нам необходимо понимать принципы работы с временем.\n",
        "\n",
        "Например, мы хотим создать график динамики изменения количества займов по месяцам. С помощью работы со временем мы можем агрегировать все наши данные по месяцам и посчитать их количество.\n",
        "\n",
        "В Python несколько встроенных библиотек для работы со временем и интервалами времени: time, datatime, calendar, timeit. Чаще всего в рамках стоящих перед нами задач используют модуль time. Рассмотрим на его примере.\n",
        "\n",
        "Методы, связанные со временем, распределены во встроенных модулях Python 3 довольно компактно. Однако наблюдаются и некоторые пересечения. Здесь мы рассмотрим работу со следующими встроенными модулями:"
      ],
      "metadata": {
        "id": "gMf7EXjdX4nh"
      }
    },
    {
      "cell_type": "code",
      "source": [
        "import time"
      ],
      "metadata": {
        "id": "LyPLSc36WtVz"
      },
      "execution_count": null,
      "outputs": []
    },
    {
      "cell_type": "markdown",
      "source": [
        "## 1.1 Понятие epoch (эпоха)\n",
        "Работа с [модулем time](https://docs.python.org/3/library/time.html) в существенной мере зависит от операционной системы. Время в библиотеке привязано к фиксированной начальной точке –  эпохе (epoch). Узнаем эту начальную точку:"
      ],
      "metadata": {
        "id": "KTWgdfNJXswC"
      }
    },
    {
      "cell_type": "code",
      "source": [
        "time.gmtime(0)"
      ],
      "metadata": {
        "colab": {
          "base_uri": "https://localhost:8080/"
        },
        "id": "Kdh63P_XXqYE",
        "outputId": "c9705745-b252-44d8-ec84-c43db05559da"
      },
      "execution_count": null,
      "outputs": [
        {
          "output_type": "execute_result",
          "data": {
            "text/plain": [
              "time.struct_time(tm_year=1970, tm_mon=1, tm_mday=1, tm_hour=0, tm_min=0, tm_sec=0, tm_wday=3, tm_yday=1, tm_isdst=0)"
            ]
          },
          "metadata": {},
          "execution_count": 65
        }
      ]
    },
    {
      "cell_type": "markdown",
      "source": [
        "В Windodws и Unix-системах начальной точкой отсчета (`epoch`) является 1 января 1970 г. Функция `gmtime()` вернула объект именованного кортежа `struct_time`.\n",
        "\n",
        "С помощью функции `time()` время, прошедшее с этой начальной точки можно также вывести в **секундах** (`seconds since the epoch`):"
      ],
      "metadata": {
        "id": "Hw9zTdo1YHjA"
      }
    },
    {
      "cell_type": "code",
      "source": [
        "time.time()"
      ],
      "metadata": {
        "colab": {
          "base_uri": "https://localhost:8080/"
        },
        "id": "aBLcDGkfYBzq",
        "outputId": "d97d63dd-fca7-4d4b-bee3-a5eac9772a84"
      },
      "execution_count": null,
      "outputs": [
        {
          "output_type": "execute_result",
          "data": {
            "text/plain": [
              "1701539900.3941581"
            ]
          },
          "metadata": {},
          "execution_count": 66
        }
      ]
    },
    {
      "cell_type": "markdown",
      "source": [
        "Так как точка `epoch` для разных операционных систем может отличаться, число секунд, возвращаемое функцией `time()` также может быть различным.\n",
        "\n",
        "Время до точки `epoch` тоже существует, но значения секунд `seconds since the epoch` отрицательны. Если мы передадим функции `gmtime` отрицательное значение секунд, мы перенесемся в прошлое относительно момента времени `epoch`:"
      ],
      "metadata": {
        "id": "H_lxBqbRYoYa"
      }
    },
    {
      "cell_type": "code",
      "source": [
        "time.gmtime(-10**8)"
      ],
      "metadata": {
        "colab": {
          "base_uri": "https://localhost:8080/"
        },
        "id": "SckGktEDYh_7",
        "outputId": "52314d08-394f-4ba5-c371-d425b5ab1db5"
      },
      "execution_count": null,
      "outputs": [
        {
          "output_type": "execute_result",
          "data": {
            "text/plain": [
              "time.struct_time(tm_year=1966, tm_mon=10, tm_mday=31, tm_hour=14, tm_min=13, tm_sec=20, tm_wday=0, tm_yday=304, tm_isdst=0)"
            ]
          },
          "metadata": {},
          "execution_count": 67
        }
      ]
    },
    {
      "cell_type": "markdown",
      "source": [
        "## 1.2. Секунды, struct_time и преобразование друг в друга\n",
        "\n",
        "Итак, модуль `time` оперирует двумя основными типами объектов: `struct_time` и секундами с начала эпохи. Для взаимных преобразований  используются следующие функции:\n",
        "\n",
        "- `gmtime()`: из секунд в `struct_time` для UTC\n",
        "- `localtime()`: из секунд в `struct_time` для местного времени\n",
        "- `calendar.timegm()` (не модуль time): из `struct_time` для UTC в секунды\n",
        "- `mktime()`: из `struct_time` местного времени в секунды\n",
        "\n",
        "UTC – стандартное обозначение [всемирного координированного времени](https://ru.wikipedia.org/wiki/%D0%92%D1%81%D0%B5%D0%BC%D0%B8%D1%80%D0%BD%D0%BE%D0%B5_%D0%BA%D0%BE%D0%BE%D1%80%D0%B4%D0%B8%D0%BD%D0%B8%D1%80%D0%BE%D0%B2%D0%B0%D0%BD%D0%BD%D0%BE%D0%B5_%D0%B2%D1%80%D0%B5%D0%BC%D1%8F) без учета [часовых поясов](https://ru.wikipedia.org/wiki/%D0%A7%D0%B0%D1%81%D0%BE%D0%B2%D0%BE%D0%B9_%D0%BF%D0%BE%D1%8F%D1%81). Начало отсчета `epoch` привязано к UTC, то есть не зависит от местного времени. Поэтому UTC удобнее использовать для общения с внешним миром."
      ],
      "metadata": {
        "id": "QY4A4R7tY0xW"
      }
    },
    {
      "cell_type": "code",
      "source": [
        "time.gmtime() # UTC-time"
      ],
      "metadata": {
        "colab": {
          "base_uri": "https://localhost:8080/"
        },
        "id": "nZ5BAKf7Ys6n",
        "outputId": "8aa2bb7f-e35e-43d0-c24f-1884746fde79"
      },
      "execution_count": null,
      "outputs": [
        {
          "output_type": "execute_result",
          "data": {
            "text/plain": [
              "time.struct_time(tm_year=2023, tm_mon=12, tm_mday=2, tm_hour=17, tm_min=58, tm_sec=20, tm_wday=5, tm_yday=336, tm_isdst=0)"
            ]
          },
          "metadata": {},
          "execution_count": 68
        }
      ]
    },
    {
      "cell_type": "code",
      "source": [
        "time.localtime() # Локальное время на сервере, при использовании на своей машине, вернет ваше локальное время"
      ],
      "metadata": {
        "colab": {
          "base_uri": "https://localhost:8080/"
        },
        "id": "dHWDIM-uY5XQ",
        "outputId": "6c40388f-68f9-4cc1-d99c-93d6879cd588"
      },
      "execution_count": null,
      "outputs": [
        {
          "output_type": "execute_result",
          "data": {
            "text/plain": [
              "time.struct_time(tm_year=2023, tm_mon=12, tm_mday=2, tm_hour=17, tm_min=58, tm_sec=20, tm_wday=5, tm_yday=336, tm_isdst=0)"
            ]
          },
          "metadata": {},
          "execution_count": 69
        }
      ]
    },
    {
      "cell_type": "markdown",
      "source": [
        "В отсутствии аргумента функции `gmtime()` и `localtime()` возвращают значение для текущего времени – соответственно UTC и местное время.\n",
        "\n",
        "Для преобразования объекта `struct_time` в секунды можно или передать сам объект, или кортеж целых чисел. Порядок элементов в кортеже:\n",
        "\n",
        "1. Год `tm_year`\n",
        "2. Месяц `tm_mon` – целое число (`1` - Январь, `12` - Декабрь)\n",
        "3. День месяца `tm_day`\n",
        "4. Час `tm_hour` – целое число в диапазоне от `0` до `23`\n",
        "5. Минута `tm_min`\n",
        "6. Секунда `tm_sec`\n",
        "7. День недели `tm_wday` – целое число от `0` (Понедельник) до `6` (Воскресенье)\n",
        "8. День года `tm_yday`\n",
        "9. Целочисленный флаг `tm_isdst` для учета перехода на [летнее время](https://ru.wikipedia.org/wiki/%D0%9B%D0%B5%D1%82%D0%BD%D0%B5%D0%B5_%D0%B2%D1%80%D0%B5%D0%BC%D1%8F) (daylight saving time, DST): `1` – переход на летнее время учитывается, `0` – не учитывается, `-1` – неизвестно"
      ],
      "metadata": {
        "id": "UZhqGYw_ZlHM"
      }
    },
    {
      "cell_type": "code",
      "source": [
        "time.mktime((2015, 10, 21, 7, 28, 0, 2, 294, -1))"
      ],
      "metadata": {
        "colab": {
          "base_uri": "https://localhost:8080/"
        },
        "id": "33QD8BBBY9DX",
        "outputId": "38eae8fa-17e7-4c9b-9118-48bb224d38af"
      },
      "execution_count": null,
      "outputs": [
        {
          "output_type": "execute_result",
          "data": {
            "text/plain": [
              "1445412480.0"
            ]
          },
          "metadata": {},
          "execution_count": 70
        }
      ]
    },
    {
      "cell_type": "code",
      "source": [
        "time.mktime(time.localtime())"
      ],
      "metadata": {
        "colab": {
          "base_uri": "https://localhost:8080/"
        },
        "id": "iacyqn75ZpGr",
        "outputId": "dbcd1777-6674-4459-8d93-02678305bd9b"
      },
      "execution_count": null,
      "outputs": [
        {
          "output_type": "execute_result",
          "data": {
            "text/plain": [
              "1701539900.0"
            ]
          },
          "metadata": {},
          "execution_count": 71
        }
      ]
    },
    {
      "cell_type": "markdown",
      "source": [
        "Заметим, что в отличие от представления в виде секунд, `struct_time` не хранит составляющих времени, меньших, чем секунда.\n",
        "\n",
        "Удобство использования `struct_time` заключается в том, что это [именованный кортеж](https://docs.python.org/3/library/collections.html#collections.namedtuple). Значит, можно писать более ясный код: вместо индексов элементы объекта можно вызвать по ключам с говорящими названиями:"
      ],
      "metadata": {
        "id": "n250h4PFZ9Ah"
      }
    },
    {
      "cell_type": "code",
      "source": [
        "t = time.localtime()\n",
        "'Итак, на дворе {}-й год.'.format(t.tm_year)"
      ],
      "metadata": {
        "colab": {
          "base_uri": "https://localhost:8080/",
          "height": 35
        },
        "id": "7oCtAM3KZvL0",
        "outputId": "8c7a5255-f50e-4e78-aa09-b5cf8ba013c6"
      },
      "execution_count": null,
      "outputs": [
        {
          "output_type": "execute_result",
          "data": {
            "text/plain": [
              "'Итак, на дворе 2023-й год.'"
            ],
            "application/vnd.google.colaboratory.intrinsic+json": {
              "type": "string"
            }
          },
          "metadata": {},
          "execution_count": 72
        }
      ]
    },
    {
      "cell_type": "markdown",
      "source": [
        "## 1.3. Строки временных меток\n",
        "Выше мы использовали функции, которые возвращают время в секундах, часах, годах и т.п. Однако чаще нам может понадобиться работать с датами. Для этого в библиотеках есть специальные функции для преобразования в дату.\n",
        "\n",
        "Распространенная задача – преобразование объектов указанных типов в строки вида `timestamp`, например, `Mon Dec 2 18:30:20 2019`.\n",
        "Для этого применяются функции `ctime()` и `asctime()`:\n",
        "- `ctime()` – принимает время в секундах\n",
        "- `asctime()` – принимает `struct_time` (по умолчанию используется местное время)"
      ],
      "metadata": {
        "id": "2Oh1yf4uaIVt"
      }
    },
    {
      "cell_type": "code",
      "source": [
        "time.ctime(time.time())  # преобразует время в секундах в timestamp для местного времени"
      ],
      "metadata": {
        "colab": {
          "base_uri": "https://localhost:8080/",
          "height": 35
        },
        "id": "g59h8QfkaCiM",
        "outputId": "a58ee4a6-e106-4ab1-edcd-a8e91f6b3468"
      },
      "execution_count": null,
      "outputs": [
        {
          "output_type": "execute_result",
          "data": {
            "text/plain": [
              "'Sat Dec  2 17:58:20 2023'"
            ],
            "application/vnd.google.colaboratory.intrinsic+json": {
              "type": "string"
            }
          },
          "metadata": {},
          "execution_count": 73
        }
      ]
    },
    {
      "cell_type": "code",
      "source": [
        "time.asctime()  # Аналогично time.asctime(time.localtime())"
      ],
      "metadata": {
        "colab": {
          "base_uri": "https://localhost:8080/",
          "height": 35
        },
        "id": "4QFXRgO-aB1l",
        "outputId": "3b913ca8-20e3-4dff-bee3-2b3364233dee"
      },
      "execution_count": null,
      "outputs": [
        {
          "output_type": "execute_result",
          "data": {
            "text/plain": [
              "'Sat Dec  2 17:58:20 2023'"
            ],
            "application/vnd.google.colaboratory.intrinsic+json": {
              "type": "string"
            }
          },
          "metadata": {},
          "execution_count": 74
        }
      ]
    },
    {
      "cell_type": "code",
      "source": [
        "time.asctime(time.gmtime())  # Время UTC"
      ],
      "metadata": {
        "colab": {
          "base_uri": "https://localhost:8080/",
          "height": 35
        },
        "id": "UlOTexxGaQ7i",
        "outputId": "5dbf323d-b33c-4581-9322-57e7b5134301"
      },
      "execution_count": null,
      "outputs": [
        {
          "output_type": "execute_result",
          "data": {
            "text/plain": [
              "'Sat Dec  2 17:58:20 2023'"
            ],
            "application/vnd.google.colaboratory.intrinsic+json": {
              "type": "string"
            }
          },
          "metadata": {},
          "execution_count": 75
        }
      ]
    },
    {
      "cell_type": "markdown",
      "source": [
        "Хотя строковый вывод функций `ctime()` и `asctime()` довольно удобен, может потребоваться альтернативный формат. Для гибкого форматирования в библиотеку `time` включена функция `strftime()`. Функция принимает строку шаблона форматирования со спецификаторами и сам объект времени."
      ],
      "metadata": {
        "id": "Vh9NlL4jaUWX"
      }
    },
    {
      "cell_type": "code",
      "source": [
        "time.strftime('%d.%m.%Y', time.localtime())"
      ],
      "metadata": {
        "colab": {
          "base_uri": "https://localhost:8080/",
          "height": 35
        },
        "id": "EHn-hKehaSJA",
        "outputId": "bc33967a-61fa-4e99-c885-b22926679825"
      },
      "execution_count": null,
      "outputs": [
        {
          "output_type": "execute_result",
          "data": {
            "text/plain": [
              "'02.12.2023'"
            ],
            "application/vnd.google.colaboratory.intrinsic+json": {
              "type": "string"
            }
          },
          "metadata": {},
          "execution_count": 76
        }
      ]
    },
    {
      "cell_type": "code",
      "source": [
        "import locale\n",
        "locale.setlocale(locale.LC_TIME)\n",
        "time.strftime('Текущее время: %c', time.localtime())"
      ],
      "metadata": {
        "colab": {
          "base_uri": "https://localhost:8080/",
          "height": 35
        },
        "id": "HmY9TWSAaWfL",
        "outputId": "659d2836-13a4-46ae-daa2-eaebc7db6400"
      },
      "execution_count": null,
      "outputs": [
        {
          "output_type": "execute_result",
          "data": {
            "text/plain": [
              "'Текущее время: Sat Dec  2 17:58:20 2023'"
            ],
            "application/vnd.google.colaboratory.intrinsic+json": {
              "type": "string"
            }
          },
          "metadata": {},
          "execution_count": 77
        }
      ]
    },
    {
      "cell_type": "markdown",
      "source": [
        "## 1.4 Использование работы со временем для построения визуализаций"
      ],
      "metadata": {
        "id": "jBTbyzxgazOV"
      }
    },
    {
      "cell_type": "markdown",
      "source": [
        "Давайте представим - мы хотим узнать динамику изменения количества кредитных денег, выданных в месяц. Для этого нам необходимо сгруппировать имеющиеся у нас данные по месяцам, а затем сложить все средства, выданные в определенный месяц.\n",
        "\n",
        "Для решения подобных задач в pandas предустановлен тип данных `TimeStamp`, позволяющий работать с датами по тому же принципу, что и был рассмотрен выше."
      ],
      "metadata": {
        "id": "Od6UtGX7rHwL"
      }
    },
    {
      "cell_type": "code",
      "source": [
        "# Снова посмотрим наш датасет\n",
        "kiva_loans.head()"
      ],
      "metadata": {
        "colab": {
          "base_uri": "https://localhost:8080/",
          "height": 204
        },
        "id": "xBRtLeWWayrx",
        "outputId": "8c182407-060c-45fa-ea41-657f169862ad"
      },
      "execution_count": null,
      "outputs": [
        {
          "output_type": "execute_result",
          "data": {
            "text/plain": [
              "   funded_amount  loan_amount             activity          sector   country  \\\n",
              "0          300.0        300.0  Fruits & Vegetables            Food  Pakistan   \n",
              "1          575.0        575.0             Rickshaw  Transportation  Pakistan   \n",
              "2          150.0        150.0       Transportation  Transportation     India   \n",
              "3          200.0        200.0           Embroidery            Arts  Pakistan   \n",
              "4          400.0        400.0           Milk Sales            Food  Pakistan   \n",
              "\n",
              "         region  partner_id                funded_time  lender_count  \\\n",
              "0        Lahore       247.0  2014-01-02 10:06:32+00:00            12   \n",
              "1        Lahore       247.0  2014-01-02 09:17:23+00:00            14   \n",
              "2     Maynaguri       334.0  2014-01-01 16:01:36+00:00             6   \n",
              "3        Lahore       247.0  2014-01-01 13:00:00+00:00             8   \n",
              "4  Abdul Hakeem       245.0  2014-01-01 19:18:51+00:00            16   \n",
              "\n",
              "  borrower_genders  \n",
              "0           female  \n",
              "1   female, female  \n",
              "2           female  \n",
              "3           female  \n",
              "4           female  "
            ],
            "text/html": [
              "\n",
              "  <div id=\"df-f2fcd010-4dfe-4c27-9bce-fd884caa7be5\" class=\"colab-df-container\">\n",
              "    <div>\n",
              "<style scoped>\n",
              "    .dataframe tbody tr th:only-of-type {\n",
              "        vertical-align: middle;\n",
              "    }\n",
              "\n",
              "    .dataframe tbody tr th {\n",
              "        vertical-align: top;\n",
              "    }\n",
              "\n",
              "    .dataframe thead th {\n",
              "        text-align: right;\n",
              "    }\n",
              "</style>\n",
              "<table border=\"1\" class=\"dataframe\">\n",
              "  <thead>\n",
              "    <tr style=\"text-align: right;\">\n",
              "      <th></th>\n",
              "      <th>funded_amount</th>\n",
              "      <th>loan_amount</th>\n",
              "      <th>activity</th>\n",
              "      <th>sector</th>\n",
              "      <th>country</th>\n",
              "      <th>region</th>\n",
              "      <th>partner_id</th>\n",
              "      <th>funded_time</th>\n",
              "      <th>lender_count</th>\n",
              "      <th>borrower_genders</th>\n",
              "    </tr>\n",
              "  </thead>\n",
              "  <tbody>\n",
              "    <tr>\n",
              "      <th>0</th>\n",
              "      <td>300.0</td>\n",
              "      <td>300.0</td>\n",
              "      <td>Fruits &amp; Vegetables</td>\n",
              "      <td>Food</td>\n",
              "      <td>Pakistan</td>\n",
              "      <td>Lahore</td>\n",
              "      <td>247.0</td>\n",
              "      <td>2014-01-02 10:06:32+00:00</td>\n",
              "      <td>12</td>\n",
              "      <td>female</td>\n",
              "    </tr>\n",
              "    <tr>\n",
              "      <th>1</th>\n",
              "      <td>575.0</td>\n",
              "      <td>575.0</td>\n",
              "      <td>Rickshaw</td>\n",
              "      <td>Transportation</td>\n",
              "      <td>Pakistan</td>\n",
              "      <td>Lahore</td>\n",
              "      <td>247.0</td>\n",
              "      <td>2014-01-02 09:17:23+00:00</td>\n",
              "      <td>14</td>\n",
              "      <td>female, female</td>\n",
              "    </tr>\n",
              "    <tr>\n",
              "      <th>2</th>\n",
              "      <td>150.0</td>\n",
              "      <td>150.0</td>\n",
              "      <td>Transportation</td>\n",
              "      <td>Transportation</td>\n",
              "      <td>India</td>\n",
              "      <td>Maynaguri</td>\n",
              "      <td>334.0</td>\n",
              "      <td>2014-01-01 16:01:36+00:00</td>\n",
              "      <td>6</td>\n",
              "      <td>female</td>\n",
              "    </tr>\n",
              "    <tr>\n",
              "      <th>3</th>\n",
              "      <td>200.0</td>\n",
              "      <td>200.0</td>\n",
              "      <td>Embroidery</td>\n",
              "      <td>Arts</td>\n",
              "      <td>Pakistan</td>\n",
              "      <td>Lahore</td>\n",
              "      <td>247.0</td>\n",
              "      <td>2014-01-01 13:00:00+00:00</td>\n",
              "      <td>8</td>\n",
              "      <td>female</td>\n",
              "    </tr>\n",
              "    <tr>\n",
              "      <th>4</th>\n",
              "      <td>400.0</td>\n",
              "      <td>400.0</td>\n",
              "      <td>Milk Sales</td>\n",
              "      <td>Food</td>\n",
              "      <td>Pakistan</td>\n",
              "      <td>Abdul Hakeem</td>\n",
              "      <td>245.0</td>\n",
              "      <td>2014-01-01 19:18:51+00:00</td>\n",
              "      <td>16</td>\n",
              "      <td>female</td>\n",
              "    </tr>\n",
              "  </tbody>\n",
              "</table>\n",
              "</div>\n",
              "    <div class=\"colab-df-buttons\">\n",
              "\n",
              "  <div class=\"colab-df-container\">\n",
              "    <button class=\"colab-df-convert\" onclick=\"convertToInteractive('df-f2fcd010-4dfe-4c27-9bce-fd884caa7be5')\"\n",
              "            title=\"Convert this dataframe to an interactive table.\"\n",
              "            style=\"display:none;\">\n",
              "\n",
              "  <svg xmlns=\"http://www.w3.org/2000/svg\" height=\"24px\" viewBox=\"0 -960 960 960\">\n",
              "    <path d=\"M120-120v-720h720v720H120Zm60-500h600v-160H180v160Zm220 220h160v-160H400v160Zm0 220h160v-160H400v160ZM180-400h160v-160H180v160Zm440 0h160v-160H620v160ZM180-180h160v-160H180v160Zm440 0h160v-160H620v160Z\"/>\n",
              "  </svg>\n",
              "    </button>\n",
              "\n",
              "  <style>\n",
              "    .colab-df-container {\n",
              "      display:flex;\n",
              "      gap: 12px;\n",
              "    }\n",
              "\n",
              "    .colab-df-convert {\n",
              "      background-color: #E8F0FE;\n",
              "      border: none;\n",
              "      border-radius: 50%;\n",
              "      cursor: pointer;\n",
              "      display: none;\n",
              "      fill: #1967D2;\n",
              "      height: 32px;\n",
              "      padding: 0 0 0 0;\n",
              "      width: 32px;\n",
              "    }\n",
              "\n",
              "    .colab-df-convert:hover {\n",
              "      background-color: #E2EBFA;\n",
              "      box-shadow: 0px 1px 2px rgba(60, 64, 67, 0.3), 0px 1px 3px 1px rgba(60, 64, 67, 0.15);\n",
              "      fill: #174EA6;\n",
              "    }\n",
              "\n",
              "    .colab-df-buttons div {\n",
              "      margin-bottom: 4px;\n",
              "    }\n",
              "\n",
              "    [theme=dark] .colab-df-convert {\n",
              "      background-color: #3B4455;\n",
              "      fill: #D2E3FC;\n",
              "    }\n",
              "\n",
              "    [theme=dark] .colab-df-convert:hover {\n",
              "      background-color: #434B5C;\n",
              "      box-shadow: 0px 1px 3px 1px rgba(0, 0, 0, 0.15);\n",
              "      filter: drop-shadow(0px 1px 2px rgba(0, 0, 0, 0.3));\n",
              "      fill: #FFFFFF;\n",
              "    }\n",
              "  </style>\n",
              "\n",
              "    <script>\n",
              "      const buttonEl =\n",
              "        document.querySelector('#df-f2fcd010-4dfe-4c27-9bce-fd884caa7be5 button.colab-df-convert');\n",
              "      buttonEl.style.display =\n",
              "        google.colab.kernel.accessAllowed ? 'block' : 'none';\n",
              "\n",
              "      async function convertToInteractive(key) {\n",
              "        const element = document.querySelector('#df-f2fcd010-4dfe-4c27-9bce-fd884caa7be5');\n",
              "        const dataTable =\n",
              "          await google.colab.kernel.invokeFunction('convertToInteractive',\n",
              "                                                    [key], {});\n",
              "        if (!dataTable) return;\n",
              "\n",
              "        const docLinkHtml = 'Like what you see? Visit the ' +\n",
              "          '<a target=\"_blank\" href=https://colab.research.google.com/notebooks/data_table.ipynb>data table notebook</a>'\n",
              "          + ' to learn more about interactive tables.';\n",
              "        element.innerHTML = '';\n",
              "        dataTable['output_type'] = 'display_data';\n",
              "        await google.colab.output.renderOutput(dataTable, element);\n",
              "        const docLink = document.createElement('div');\n",
              "        docLink.innerHTML = docLinkHtml;\n",
              "        element.appendChild(docLink);\n",
              "      }\n",
              "    </script>\n",
              "  </div>\n",
              "\n",
              "\n",
              "<div id=\"df-ed7f2fa1-7400-4707-9a67-265c4a94f16b\">\n",
              "  <button class=\"colab-df-quickchart\" onclick=\"quickchart('df-ed7f2fa1-7400-4707-9a67-265c4a94f16b')\"\n",
              "            title=\"Suggest charts\"\n",
              "            style=\"display:none;\">\n",
              "\n",
              "<svg xmlns=\"http://www.w3.org/2000/svg\" height=\"24px\"viewBox=\"0 0 24 24\"\n",
              "     width=\"24px\">\n",
              "    <g>\n",
              "        <path d=\"M19 3H5c-1.1 0-2 .9-2 2v14c0 1.1.9 2 2 2h14c1.1 0 2-.9 2-2V5c0-1.1-.9-2-2-2zM9 17H7v-7h2v7zm4 0h-2V7h2v10zm4 0h-2v-4h2v4z\"/>\n",
              "    </g>\n",
              "</svg>\n",
              "  </button>\n",
              "\n",
              "<style>\n",
              "  .colab-df-quickchart {\n",
              "      --bg-color: #E8F0FE;\n",
              "      --fill-color: #1967D2;\n",
              "      --hover-bg-color: #E2EBFA;\n",
              "      --hover-fill-color: #174EA6;\n",
              "      --disabled-fill-color: #AAA;\n",
              "      --disabled-bg-color: #DDD;\n",
              "  }\n",
              "\n",
              "  [theme=dark] .colab-df-quickchart {\n",
              "      --bg-color: #3B4455;\n",
              "      --fill-color: #D2E3FC;\n",
              "      --hover-bg-color: #434B5C;\n",
              "      --hover-fill-color: #FFFFFF;\n",
              "      --disabled-bg-color: #3B4455;\n",
              "      --disabled-fill-color: #666;\n",
              "  }\n",
              "\n",
              "  .colab-df-quickchart {\n",
              "    background-color: var(--bg-color);\n",
              "    border: none;\n",
              "    border-radius: 50%;\n",
              "    cursor: pointer;\n",
              "    display: none;\n",
              "    fill: var(--fill-color);\n",
              "    height: 32px;\n",
              "    padding: 0;\n",
              "    width: 32px;\n",
              "  }\n",
              "\n",
              "  .colab-df-quickchart:hover {\n",
              "    background-color: var(--hover-bg-color);\n",
              "    box-shadow: 0 1px 2px rgba(60, 64, 67, 0.3), 0 1px 3px 1px rgba(60, 64, 67, 0.15);\n",
              "    fill: var(--button-hover-fill-color);\n",
              "  }\n",
              "\n",
              "  .colab-df-quickchart-complete:disabled,\n",
              "  .colab-df-quickchart-complete:disabled:hover {\n",
              "    background-color: var(--disabled-bg-color);\n",
              "    fill: var(--disabled-fill-color);\n",
              "    box-shadow: none;\n",
              "  }\n",
              "\n",
              "  .colab-df-spinner {\n",
              "    border: 2px solid var(--fill-color);\n",
              "    border-color: transparent;\n",
              "    border-bottom-color: var(--fill-color);\n",
              "    animation:\n",
              "      spin 1s steps(1) infinite;\n",
              "  }\n",
              "\n",
              "  @keyframes spin {\n",
              "    0% {\n",
              "      border-color: transparent;\n",
              "      border-bottom-color: var(--fill-color);\n",
              "      border-left-color: var(--fill-color);\n",
              "    }\n",
              "    20% {\n",
              "      border-color: transparent;\n",
              "      border-left-color: var(--fill-color);\n",
              "      border-top-color: var(--fill-color);\n",
              "    }\n",
              "    30% {\n",
              "      border-color: transparent;\n",
              "      border-left-color: var(--fill-color);\n",
              "      border-top-color: var(--fill-color);\n",
              "      border-right-color: var(--fill-color);\n",
              "    }\n",
              "    40% {\n",
              "      border-color: transparent;\n",
              "      border-right-color: var(--fill-color);\n",
              "      border-top-color: var(--fill-color);\n",
              "    }\n",
              "    60% {\n",
              "      border-color: transparent;\n",
              "      border-right-color: var(--fill-color);\n",
              "    }\n",
              "    80% {\n",
              "      border-color: transparent;\n",
              "      border-right-color: var(--fill-color);\n",
              "      border-bottom-color: var(--fill-color);\n",
              "    }\n",
              "    90% {\n",
              "      border-color: transparent;\n",
              "      border-bottom-color: var(--fill-color);\n",
              "    }\n",
              "  }\n",
              "</style>\n",
              "\n",
              "  <script>\n",
              "    async function quickchart(key) {\n",
              "      const quickchartButtonEl =\n",
              "        document.querySelector('#' + key + ' button');\n",
              "      quickchartButtonEl.disabled = true;  // To prevent multiple clicks.\n",
              "      quickchartButtonEl.classList.add('colab-df-spinner');\n",
              "      try {\n",
              "        const charts = await google.colab.kernel.invokeFunction(\n",
              "            'suggestCharts', [key], {});\n",
              "      } catch (error) {\n",
              "        console.error('Error during call to suggestCharts:', error);\n",
              "      }\n",
              "      quickchartButtonEl.classList.remove('colab-df-spinner');\n",
              "      quickchartButtonEl.classList.add('colab-df-quickchart-complete');\n",
              "    }\n",
              "    (() => {\n",
              "      let quickchartButtonEl =\n",
              "        document.querySelector('#df-ed7f2fa1-7400-4707-9a67-265c4a94f16b button');\n",
              "      quickchartButtonEl.style.display =\n",
              "        google.colab.kernel.accessAllowed ? 'block' : 'none';\n",
              "    })();\n",
              "  </script>\n",
              "</div>\n",
              "    </div>\n",
              "  </div>\n"
            ]
          },
          "metadata": {},
          "execution_count": 78
        }
      ]
    },
    {
      "cell_type": "code",
      "source": [
        "# Проверяем тип данных в столбце с датами\n",
        "type(kiva_loans.funded_time[0])"
      ],
      "metadata": {
        "colab": {
          "base_uri": "https://localhost:8080/"
        },
        "id": "fA0DHad_afwU",
        "outputId": "93944372-b281-43c3-b8c6-156fb3a644b8"
      },
      "execution_count": null,
      "outputs": [
        {
          "output_type": "execute_result",
          "data": {
            "text/plain": [
              "str"
            ]
          },
          "metadata": {},
          "execution_count": 79
        }
      ]
    },
    {
      "cell_type": "code",
      "source": [
        "kiva_loans.funded_time[0]"
      ],
      "metadata": {
        "colab": {
          "base_uri": "https://localhost:8080/",
          "height": 35
        },
        "id": "6ze5OqPse5rT",
        "outputId": "8ed3124d-75c8-4ef4-8ab4-6c4ff5ae0fbb"
      },
      "execution_count": null,
      "outputs": [
        {
          "output_type": "execute_result",
          "data": {
            "text/plain": [
              "'2014-01-02 10:06:32+00:00'"
            ],
            "application/vnd.google.colaboratory.intrinsic+json": {
              "type": "string"
            }
          },
          "metadata": {},
          "execution_count": 80
        }
      ]
    },
    {
      "cell_type": "markdown",
      "source": [
        "Преобразуем имеющийся у нас столбец с датами в формат Timestamp, предустановленный в библиотеке pandas."
      ],
      "metadata": {
        "id": "iaawGayKfN-J"
      }
    },
    {
      "cell_type": "code",
      "source": [
        "kiva_loans.funded_time = pd.to_datetime(kiva_loans.funded_time,\n",
        "               format='%Y-%m-%d %H:%M:%S.%f')"
      ],
      "metadata": {
        "id": "gu9ropBLekMk"
      },
      "execution_count": null,
      "outputs": []
    },
    {
      "cell_type": "markdown",
      "source": [
        "Посмотрим на результаты преобразования:"
      ],
      "metadata": {
        "id": "wUdxG8k4rqPT"
      }
    },
    {
      "cell_type": "code",
      "source": [
        "type(kiva_loans.funded_time[0])"
      ],
      "metadata": {
        "colab": {
          "base_uri": "https://localhost:8080/"
        },
        "id": "tMV_Wlg2fE-L",
        "outputId": "bde957da-0f2c-4b73-fcdc-b4bf62611319"
      },
      "execution_count": null,
      "outputs": [
        {
          "output_type": "execute_result",
          "data": {
            "text/plain": [
              "pandas._libs.tslibs.timestamps.Timestamp"
            ]
          },
          "metadata": {},
          "execution_count": 82
        }
      ]
    },
    {
      "cell_type": "markdown",
      "source": [
        "Как мы видим, теперь наш тип данных преобразован из `str` в `Timestamp`. А значит, нам доступны все методы работы с датами. Например, с помощью метода `.month` мы можем посмотреть в каком месяце произошло событие."
      ],
      "metadata": {
        "id": "Q-W5pvAZrt4Z"
      }
    },
    {
      "cell_type": "code",
      "source": [
        "kiva_loans.funded_time[0].month"
      ],
      "metadata": {
        "colab": {
          "base_uri": "https://localhost:8080/"
        },
        "id": "WFqBPBFHgImc",
        "outputId": "ca90d472-e4ed-4f21-93ac-47660d14da6e"
      },
      "execution_count": null,
      "outputs": [
        {
          "output_type": "execute_result",
          "data": {
            "text/plain": [
              "1"
            ]
          },
          "metadata": {},
          "execution_count": 83
        }
      ]
    },
    {
      "cell_type": "markdown",
      "source": [
        "Давайте используем полученные даты для решения практических задач.\n",
        "\n",
        "Напомним, что в нашем датасете две переменные, которые нам интересны для решения этой задачи:\n",
        "- funded_amount - Сумма, выплаченная Kiva агенту на местах (USD)\n",
        "- loan_amount - Сумма, выплаченная полевым агентом\n"
      ],
      "metadata": {
        "id": "ge8ki-DIsIRp"
      }
    },
    {
      "cell_type": "code",
      "source": [
        "# Создадим переменную, в которой будет указан только год и месяц взятия займа, эту переменную мы будем использовать для группировки\n",
        "kiva_loans['YearMonth'] = pd.to_datetime(kiva_loans['funded_time']).apply(lambda x: '{year}-{month}'.format(year=x.year, month=x.month))\n",
        "\n",
        "# Сгруппируем данные по созданной выше переменной, суммируем все численные значения\n",
        "# Использование метода .iloc[:-1, :] необходимо, поскольку последним элементом остается NaN - данные без указанной даты. Это портит анализ\n",
        "loans_per_month = kiva_loans.groupby(by=['YearMonth'], as_index=False).sum(numeric_only=True).iloc[:-1, :]\n",
        "\n",
        "# Преобразовываем тип данных переменной YearMonth в дату\n",
        "loans_per_month.YearMonth = pd.to_datetime(loans_per_month.YearMonth, format='%Y-%m').dt.to_period('M')\n",
        "\n",
        "# Сортируем, оставляем только интересующие нас столбцы\n",
        "loans_per_month = loans_per_month.sort_values(by='YearMonth')\n",
        "loans_per_month = loans_per_month.drop(['partner_id', 'lender_count'], axis=1)\n",
        "loans_per_month.head(5)"
      ],
      "metadata": {
        "colab": {
          "base_uri": "https://localhost:8080/",
          "height": 204
        },
        "id": "ifIyUKqTfqjP",
        "outputId": "7fbe64fe-035b-4b9b-c1e0-8e3ed6deb5bc"
      },
      "execution_count": null,
      "outputs": [
        {
          "output_type": "execute_result",
          "data": {
            "text/plain": [
              "  YearMonth  funded_amount  loan_amount\n",
              "0   2014-01      5933175.0    5933175.0\n",
              "4   2014-02      9599075.0    9599075.0\n",
              "5   2014-03     13200400.0   13200400.0\n",
              "6   2014-04     10331475.0   10331475.0\n",
              "7   2014-05     10595075.0   10595075.0"
            ],
            "text/html": [
              "\n",
              "  <div id=\"df-b8850f72-4a14-4e74-aa9e-6b30bf5070b4\" class=\"colab-df-container\">\n",
              "    <div>\n",
              "<style scoped>\n",
              "    .dataframe tbody tr th:only-of-type {\n",
              "        vertical-align: middle;\n",
              "    }\n",
              "\n",
              "    .dataframe tbody tr th {\n",
              "        vertical-align: top;\n",
              "    }\n",
              "\n",
              "    .dataframe thead th {\n",
              "        text-align: right;\n",
              "    }\n",
              "</style>\n",
              "<table border=\"1\" class=\"dataframe\">\n",
              "  <thead>\n",
              "    <tr style=\"text-align: right;\">\n",
              "      <th></th>\n",
              "      <th>YearMonth</th>\n",
              "      <th>funded_amount</th>\n",
              "      <th>loan_amount</th>\n",
              "    </tr>\n",
              "  </thead>\n",
              "  <tbody>\n",
              "    <tr>\n",
              "      <th>0</th>\n",
              "      <td>2014-01</td>\n",
              "      <td>5933175.0</td>\n",
              "      <td>5933175.0</td>\n",
              "    </tr>\n",
              "    <tr>\n",
              "      <th>4</th>\n",
              "      <td>2014-02</td>\n",
              "      <td>9599075.0</td>\n",
              "      <td>9599075.0</td>\n",
              "    </tr>\n",
              "    <tr>\n",
              "      <th>5</th>\n",
              "      <td>2014-03</td>\n",
              "      <td>13200400.0</td>\n",
              "      <td>13200400.0</td>\n",
              "    </tr>\n",
              "    <tr>\n",
              "      <th>6</th>\n",
              "      <td>2014-04</td>\n",
              "      <td>10331475.0</td>\n",
              "      <td>10331475.0</td>\n",
              "    </tr>\n",
              "    <tr>\n",
              "      <th>7</th>\n",
              "      <td>2014-05</td>\n",
              "      <td>10595075.0</td>\n",
              "      <td>10595075.0</td>\n",
              "    </tr>\n",
              "  </tbody>\n",
              "</table>\n",
              "</div>\n",
              "    <div class=\"colab-df-buttons\">\n",
              "\n",
              "  <div class=\"colab-df-container\">\n",
              "    <button class=\"colab-df-convert\" onclick=\"convertToInteractive('df-b8850f72-4a14-4e74-aa9e-6b30bf5070b4')\"\n",
              "            title=\"Convert this dataframe to an interactive table.\"\n",
              "            style=\"display:none;\">\n",
              "\n",
              "  <svg xmlns=\"http://www.w3.org/2000/svg\" height=\"24px\" viewBox=\"0 -960 960 960\">\n",
              "    <path d=\"M120-120v-720h720v720H120Zm60-500h600v-160H180v160Zm220 220h160v-160H400v160Zm0 220h160v-160H400v160ZM180-400h160v-160H180v160Zm440 0h160v-160H620v160ZM180-180h160v-160H180v160Zm440 0h160v-160H620v160Z\"/>\n",
              "  </svg>\n",
              "    </button>\n",
              "\n",
              "  <style>\n",
              "    .colab-df-container {\n",
              "      display:flex;\n",
              "      gap: 12px;\n",
              "    }\n",
              "\n",
              "    .colab-df-convert {\n",
              "      background-color: #E8F0FE;\n",
              "      border: none;\n",
              "      border-radius: 50%;\n",
              "      cursor: pointer;\n",
              "      display: none;\n",
              "      fill: #1967D2;\n",
              "      height: 32px;\n",
              "      padding: 0 0 0 0;\n",
              "      width: 32px;\n",
              "    }\n",
              "\n",
              "    .colab-df-convert:hover {\n",
              "      background-color: #E2EBFA;\n",
              "      box-shadow: 0px 1px 2px rgba(60, 64, 67, 0.3), 0px 1px 3px 1px rgba(60, 64, 67, 0.15);\n",
              "      fill: #174EA6;\n",
              "    }\n",
              "\n",
              "    .colab-df-buttons div {\n",
              "      margin-bottom: 4px;\n",
              "    }\n",
              "\n",
              "    [theme=dark] .colab-df-convert {\n",
              "      background-color: #3B4455;\n",
              "      fill: #D2E3FC;\n",
              "    }\n",
              "\n",
              "    [theme=dark] .colab-df-convert:hover {\n",
              "      background-color: #434B5C;\n",
              "      box-shadow: 0px 1px 3px 1px rgba(0, 0, 0, 0.15);\n",
              "      filter: drop-shadow(0px 1px 2px rgba(0, 0, 0, 0.3));\n",
              "      fill: #FFFFFF;\n",
              "    }\n",
              "  </style>\n",
              "\n",
              "    <script>\n",
              "      const buttonEl =\n",
              "        document.querySelector('#df-b8850f72-4a14-4e74-aa9e-6b30bf5070b4 button.colab-df-convert');\n",
              "      buttonEl.style.display =\n",
              "        google.colab.kernel.accessAllowed ? 'block' : 'none';\n",
              "\n",
              "      async function convertToInteractive(key) {\n",
              "        const element = document.querySelector('#df-b8850f72-4a14-4e74-aa9e-6b30bf5070b4');\n",
              "        const dataTable =\n",
              "          await google.colab.kernel.invokeFunction('convertToInteractive',\n",
              "                                                    [key], {});\n",
              "        if (!dataTable) return;\n",
              "\n",
              "        const docLinkHtml = 'Like what you see? Visit the ' +\n",
              "          '<a target=\"_blank\" href=https://colab.research.google.com/notebooks/data_table.ipynb>data table notebook</a>'\n",
              "          + ' to learn more about interactive tables.';\n",
              "        element.innerHTML = '';\n",
              "        dataTable['output_type'] = 'display_data';\n",
              "        await google.colab.output.renderOutput(dataTable, element);\n",
              "        const docLink = document.createElement('div');\n",
              "        docLink.innerHTML = docLinkHtml;\n",
              "        element.appendChild(docLink);\n",
              "      }\n",
              "    </script>\n",
              "  </div>\n",
              "\n",
              "\n",
              "<div id=\"df-25da1c0a-8a0e-455c-bba7-06e33aeb0b37\">\n",
              "  <button class=\"colab-df-quickchart\" onclick=\"quickchart('df-25da1c0a-8a0e-455c-bba7-06e33aeb0b37')\"\n",
              "            title=\"Suggest charts\"\n",
              "            style=\"display:none;\">\n",
              "\n",
              "<svg xmlns=\"http://www.w3.org/2000/svg\" height=\"24px\"viewBox=\"0 0 24 24\"\n",
              "     width=\"24px\">\n",
              "    <g>\n",
              "        <path d=\"M19 3H5c-1.1 0-2 .9-2 2v14c0 1.1.9 2 2 2h14c1.1 0 2-.9 2-2V5c0-1.1-.9-2-2-2zM9 17H7v-7h2v7zm4 0h-2V7h2v10zm4 0h-2v-4h2v4z\"/>\n",
              "    </g>\n",
              "</svg>\n",
              "  </button>\n",
              "\n",
              "<style>\n",
              "  .colab-df-quickchart {\n",
              "      --bg-color: #E8F0FE;\n",
              "      --fill-color: #1967D2;\n",
              "      --hover-bg-color: #E2EBFA;\n",
              "      --hover-fill-color: #174EA6;\n",
              "      --disabled-fill-color: #AAA;\n",
              "      --disabled-bg-color: #DDD;\n",
              "  }\n",
              "\n",
              "  [theme=dark] .colab-df-quickchart {\n",
              "      --bg-color: #3B4455;\n",
              "      --fill-color: #D2E3FC;\n",
              "      --hover-bg-color: #434B5C;\n",
              "      --hover-fill-color: #FFFFFF;\n",
              "      --disabled-bg-color: #3B4455;\n",
              "      --disabled-fill-color: #666;\n",
              "  }\n",
              "\n",
              "  .colab-df-quickchart {\n",
              "    background-color: var(--bg-color);\n",
              "    border: none;\n",
              "    border-radius: 50%;\n",
              "    cursor: pointer;\n",
              "    display: none;\n",
              "    fill: var(--fill-color);\n",
              "    height: 32px;\n",
              "    padding: 0;\n",
              "    width: 32px;\n",
              "  }\n",
              "\n",
              "  .colab-df-quickchart:hover {\n",
              "    background-color: var(--hover-bg-color);\n",
              "    box-shadow: 0 1px 2px rgba(60, 64, 67, 0.3), 0 1px 3px 1px rgba(60, 64, 67, 0.15);\n",
              "    fill: var(--button-hover-fill-color);\n",
              "  }\n",
              "\n",
              "  .colab-df-quickchart-complete:disabled,\n",
              "  .colab-df-quickchart-complete:disabled:hover {\n",
              "    background-color: var(--disabled-bg-color);\n",
              "    fill: var(--disabled-fill-color);\n",
              "    box-shadow: none;\n",
              "  }\n",
              "\n",
              "  .colab-df-spinner {\n",
              "    border: 2px solid var(--fill-color);\n",
              "    border-color: transparent;\n",
              "    border-bottom-color: var(--fill-color);\n",
              "    animation:\n",
              "      spin 1s steps(1) infinite;\n",
              "  }\n",
              "\n",
              "  @keyframes spin {\n",
              "    0% {\n",
              "      border-color: transparent;\n",
              "      border-bottom-color: var(--fill-color);\n",
              "      border-left-color: var(--fill-color);\n",
              "    }\n",
              "    20% {\n",
              "      border-color: transparent;\n",
              "      border-left-color: var(--fill-color);\n",
              "      border-top-color: var(--fill-color);\n",
              "    }\n",
              "    30% {\n",
              "      border-color: transparent;\n",
              "      border-left-color: var(--fill-color);\n",
              "      border-top-color: var(--fill-color);\n",
              "      border-right-color: var(--fill-color);\n",
              "    }\n",
              "    40% {\n",
              "      border-color: transparent;\n",
              "      border-right-color: var(--fill-color);\n",
              "      border-top-color: var(--fill-color);\n",
              "    }\n",
              "    60% {\n",
              "      border-color: transparent;\n",
              "      border-right-color: var(--fill-color);\n",
              "    }\n",
              "    80% {\n",
              "      border-color: transparent;\n",
              "      border-right-color: var(--fill-color);\n",
              "      border-bottom-color: var(--fill-color);\n",
              "    }\n",
              "    90% {\n",
              "      border-color: transparent;\n",
              "      border-bottom-color: var(--fill-color);\n",
              "    }\n",
              "  }\n",
              "</style>\n",
              "\n",
              "  <script>\n",
              "    async function quickchart(key) {\n",
              "      const quickchartButtonEl =\n",
              "        document.querySelector('#' + key + ' button');\n",
              "      quickchartButtonEl.disabled = true;  // To prevent multiple clicks.\n",
              "      quickchartButtonEl.classList.add('colab-df-spinner');\n",
              "      try {\n",
              "        const charts = await google.colab.kernel.invokeFunction(\n",
              "            'suggestCharts', [key], {});\n",
              "      } catch (error) {\n",
              "        console.error('Error during call to suggestCharts:', error);\n",
              "      }\n",
              "      quickchartButtonEl.classList.remove('colab-df-spinner');\n",
              "      quickchartButtonEl.classList.add('colab-df-quickchart-complete');\n",
              "    }\n",
              "    (() => {\n",
              "      let quickchartButtonEl =\n",
              "        document.querySelector('#df-25da1c0a-8a0e-455c-bba7-06e33aeb0b37 button');\n",
              "      quickchartButtonEl.style.display =\n",
              "        google.colab.kernel.accessAllowed ? 'block' : 'none';\n",
              "    })();\n",
              "  </script>\n",
              "</div>\n",
              "    </div>\n",
              "  </div>\n"
            ]
          },
          "metadata": {},
          "execution_count": 84
        }
      ]
    },
    {
      "cell_type": "markdown",
      "source": [
        "# 2. Использование функционала Pandas для создания графиков"
      ],
      "metadata": {
        "id": "ifYjWCoKk0n6"
      }
    },
    {
      "cell_type": "markdown",
      "source": [
        "В библиотеке Pandas есть свой модуль pandas.plot, позволяющий быстро рисовать простые графики. Она рассчитана на создание быстрых и простых визуализаций по ходу анализа, для того, чтобы получить более полное представление о имеющихся данных.\n",
        "\n",
        "Давайте разберем основной функционал модуля этого модуля."
      ],
      "metadata": {
        "id": "Y8moFTIqwYbO"
      }
    },
    {
      "cell_type": "markdown",
      "source": [
        "# 2.1 Визуализация распределения переменной"
      ],
      "metadata": {
        "id": "qgfUrO4lnq2K"
      }
    },
    {
      "cell_type": "markdown",
      "source": [
        "Для того, чтобы создать простейший график, необходимо после названия датафрейма написать `.plot.bar`, где вместо `.bar` может стоять любой интересующий Вас график. Иногда начальное `.plot` можно опустить, например, при создании гистограммы:"
      ],
      "metadata": {
        "id": "vN72XNgKxPFx"
      }
    },
    {
      "cell_type": "code",
      "source": [
        "loans_per_month.hist('funded_amount', bins=5, figsize=(8, 5))"
      ],
      "metadata": {
        "colab": {
          "base_uri": "https://localhost:8080/",
          "height": 503
        },
        "id": "pBbjkwIiiSMc",
        "outputId": "da7411e2-7278-466d-dbe5-fee90bf98744"
      },
      "execution_count": null,
      "outputs": [
        {
          "output_type": "execute_result",
          "data": {
            "text/plain": [
              "array([[<Axes: title={'center': 'funded_amount'}>]], dtype=object)"
            ]
          },
          "metadata": {},
          "execution_count": 85
        },
        {
          "output_type": "display_data",
          "data": {
            "text/plain": [
              "<Figure size 800x500 with 1 Axes>"
            ],
            "image/png": "[encoded data removed]"
          },
          "metadata": {}
        }
      ]
    },
    {
      "cell_type": "markdown",
      "source": [
        "# 2.2 Создание визуализаций с помощью Pandas"
      ],
      "metadata": {
        "id": "-tMqe14HoGfM"
      }
    },
    {
      "cell_type": "markdown",
      "source": [
        "А для использования некоторых графиков в библиотеке pandas просто необходимо использовать модуль .plot перед указанием типа графика:"
      ],
      "metadata": {
        "id": "Cq6VQLT0l7r3"
      }
    },
    {
      "cell_type": "code",
      "source": [
        "loans_per_month.plot.bar(x='YearMonth', y='funded_amount', figsize=(8, 5))"
      ],
      "metadata": {
        "colab": {
          "base_uri": "https://localhost:8080/",
          "height": 541
        },
        "id": "V3OqBFOYgwG-",
        "outputId": "9b9df471-f958-4072-f5d4-f81de516dea7"
      },
      "execution_count": null,
      "outputs": [
        {
          "output_type": "execute_result",
          "data": {
            "text/plain": [
              "<Axes: xlabel='YearMonth'>"
            ]
          },
          "metadata": {},
          "execution_count": 86
        },
        {
          "output_type": "display_data",
          "data": {
            "text/plain": [
              "<Figure size 800x500 with 1 Axes>"
            ],
            "image/png": "[encoded data removed]"
          },
          "metadata": {}
        }
      ]
    },
    {
      "cell_type": "markdown",
      "source": [
        "Таким образом, мы построили график изменения объема выданных ссуд по месяцам. Какие зависимости вы видите на графике?\n",
        "\n",
        "\n",
        "Если не уточнять какой график будет использован, то по умолчанию всегда будет строиться lineplot:"
      ],
      "metadata": {
        "id": "u-ETqD62x3nm"
      }
    },
    {
      "cell_type": "code",
      "source": [
        "loans_per_month.plot(x='YearMonth', y='funded_amount', figsize=(8, 5))"
      ],
      "metadata": {
        "colab": {
          "base_uri": "https://localhost:8080/",
          "height": 513
        },
        "id": "gq-c9VqlhXFY",
        "outputId": "bc28755e-7882-4235-8b8b-d1a095e86084"
      },
      "execution_count": null,
      "outputs": [
        {
          "output_type": "execute_result",
          "data": {
            "text/plain": [
              "<Axes: xlabel='YearMonth'>"
            ]
          },
          "metadata": {},
          "execution_count": 87
        },
        {
          "output_type": "display_data",
          "data": {
            "text/plain": [
              "<Figure size 800x500 with 1 Axes>"
            ],
            "image/png": "[encoded data removed]"
          },
          "metadata": {}
        }
      ]
    },
    {
      "cell_type": "markdown",
      "source": [
        "Поскольку у нас есть две численные переменные, которые напрямую связанны друг с другом, построим график созависимости двух переменных используя `.plot.scatter()`:\n",
        "\n",
        "Если значения на таком графике расположены близко к диагонали, это значит, что существует очень высокая корреляция между двумя значениями. В зависимости от диагонали, корреляция может быть как негативной, так и позитивной. В нашем случае значения расположены настолько близко, что это свидетельствует, что корреляция очень близка к единичной."
      ],
      "metadata": {
        "id": "IgMvmoMxy2oD"
      }
    },
    {
      "cell_type": "code",
      "source": [
        "loans_per_month.plot.scatter(y='loan_amount', x='funded_amount')"
      ],
      "metadata": {
        "colab": {
          "base_uri": "https://localhost:8080/",
          "height": 482
        },
        "id": "bX1e6jUkhq2N",
        "outputId": "855c4110-ceec-4723-84be-f33e2a4ee900"
      },
      "execution_count": null,
      "outputs": [
        {
          "output_type": "execute_result",
          "data": {
            "text/plain": [
              "<Axes: xlabel='funded_amount', ylabel='loan_amount'>"
            ]
          },
          "metadata": {},
          "execution_count": 88
        },
        {
          "output_type": "display_data",
          "data": {
            "text/plain": [
              "<Figure size 640x480 with 1 Axes>"
            ],
            "image/png": "[encoded data removed]"
          },
          "metadata": {}
        }
      ]
    },
    {
      "cell_type": "markdown",
      "source": [
        "Все те же самые действия можно сделать воспользовавшись параметром `kind` методом в методе `.plot`."
      ],
      "metadata": {
        "id": "2drOyyaIaM5H"
      }
    },
    {
      "cell_type": "code",
      "source": [
        "loans_per_month.plot(kind='scatter', y='loan_amount', x='funded_amount')"
      ],
      "metadata": {
        "colab": {
          "base_uri": "https://localhost:8080/",
          "height": 482
        },
        "id": "ScUI8F40aGci",
        "outputId": "5f2d7509-62f8-4555-b166-0d24e202fa1e"
      },
      "execution_count": null,
      "outputs": [
        {
          "output_type": "execute_result",
          "data": {
            "text/plain": [
              "<Axes: xlabel='funded_amount', ylabel='loan_amount'>"
            ]
          },
          "metadata": {},
          "execution_count": 89
        },
        {
          "output_type": "display_data",
          "data": {
            "text/plain": [
              "<Figure size 640x480 with 1 Axes>"
            ],
            "image/png": "[encoded data removed]"
          },
          "metadata": {}
        }
      ]
    },
    {
      "cell_type": "markdown",
      "source": [
        "# 3. Написание собственных функций для работы с pandas\n",
        "\n",
        "Все проделанные выше действия не являются уникальными для нашего конкретного датасета. Многие из этих операций в рамках большого проекта нужно будет повторять большое количество раз - например, преобразование данных из типа строки (`str`) в дату (`TimeStamp`). Такая ситуация, к примеру, может возникнуть когда вы работаете с несколькими датасетами в рамках одного проекта.\n",
        "\n",
        "Чаще при импорте данных возникает проблема с типом импортированных данных. Зачастую числовые значения интерпретируются при импорте как `str`. Для решения этой проблемы будет удобно написать функцию, которую можно будем многократно использовать.\n",
        "\n",
        "Для того, чтобы многократно использовать один и тот же функционал, можно написать функцию, которую затем можно будет использовать неограниченное количество раз. Pandas предлагает удобные инструменты работы с такими функциями с помощью метода `.apply`."
      ],
      "metadata": {
        "id": "--IrS4uO4ZXz"
      }
    },
    {
      "cell_type": "code",
      "source": [
        "kiva_loans_pandas = pd.read_csv('https://raw.githubusercontent.com/ElijahSum/mipt_visualization/master/week_02_visualization/kiva_loans_week2', index_col=0)"
      ],
      "metadata": {
        "id": "xjzTqc987o61"
      },
      "execution_count": null,
      "outputs": []
    },
    {
      "cell_type": "markdown",
      "source": [
        "## 3.1 Метод apply()"
      ],
      "metadata": {
        "id": "ih2Qc4awH09x"
      }
    },
    {
      "cell_type": "markdown",
      "source": [
        "Метод `.apply()` позволяет применять заданную функцию к каждому элементу `pandas.Series` или `pandas.DataFrame`.\n",
        "\n",
        "Давайте автоматизируем то, что делали ранее, и напишем функцию, которая будет менять тип данных столбца на дату."
      ],
      "metadata": {
        "id": "j_eCKUzqzIgC"
      }
    },
    {
      "cell_type": "code",
      "source": [
        "def str_to_date(series):\n",
        "  return series.apply(lambda x: pd.to_datetime(x, format='%Y-%m-%d %H:%M:%S.%f'))\n",
        "\n",
        "print(\"Тип данных funded_time до применения функции:\", type(kiva_loans_pandas.funded_time[0]))\n",
        "kiva_loans_pandas.funded_time = str_to_date(kiva_loans_pandas.funded_time)\n",
        "print(\"Тип данных funded_time после применения функции:\", type(kiva_loans_pandas.funded_time[0]))"
      ],
      "metadata": {
        "colab": {
          "base_uri": "https://localhost:8080/"
        },
        "id": "oaaKkjZKnXxF",
        "outputId": "00686f2b-ce01-49a6-9554-a55094760943"
      },
      "execution_count": null,
      "outputs": [
        {
          "output_type": "stream",
          "name": "stdout",
          "text": [
            "Тип данных funded_time до применения функции: <class 'str'>\n",
            "Тип данных funded_time после применения функции: <class 'pandas._libs.tslibs.timestamps.Timestamp'>\n"
          ]
        }
      ]
    },
    {
      "cell_type": "code",
      "source": [
        "kiva_loans_pandas.head()"
      ],
      "metadata": {
        "colab": {
          "base_uri": "https://localhost:8080/",
          "height": 204
        },
        "id": "QqzsEbtl-ZrR",
        "outputId": "c70e4bd6-a9c0-4fb9-db91-a5f51800cfd4"
      },
      "execution_count": null,
      "outputs": [
        {
          "output_type": "execute_result",
          "data": {
            "text/plain": [
              "   funded_amount  loan_amount             activity          sector   country  \\\n",
              "0          300.0        300.0  Fruits & Vegetables            Food  Pakistan   \n",
              "1          575.0        575.0             Rickshaw  Transportation  Pakistan   \n",
              "2          150.0        150.0       Transportation  Transportation     India   \n",
              "3          200.0        200.0           Embroidery            Arts  Pakistan   \n",
              "4          400.0        400.0           Milk Sales            Food  Pakistan   \n",
              "\n",
              "         region  partner_id               funded_time  lender_count  \\\n",
              "0        Lahore       247.0 2014-01-02 10:06:32+00:00            12   \n",
              "1        Lahore       247.0 2014-01-02 09:17:23+00:00            14   \n",
              "2     Maynaguri       334.0 2014-01-01 16:01:36+00:00             6   \n",
              "3        Lahore       247.0 2014-01-01 13:00:00+00:00             8   \n",
              "4  Abdul Hakeem       245.0 2014-01-01 19:18:51+00:00            16   \n",
              "\n",
              "  borrower_genders  \n",
              "0           female  \n",
              "1   female, female  \n",
              "2           female  \n",
              "3           female  \n",
              "4           female  "
            ],
            "text/html": [
              "\n",
              "  <div id=\"df-a7fcba79-d103-4b24-b9fa-8f782f79deec\" class=\"colab-df-container\">\n",
              "    <div>\n",
              "<style scoped>\n",
              "    .dataframe tbody tr th:only-of-type {\n",
              "        vertical-align: middle;\n",
              "    }\n",
              "\n",
              "    .dataframe tbody tr th {\n",
              "        vertical-align: top;\n",
              "    }\n",
              "\n",
              "    .dataframe thead th {\n",
              "        text-align: right;\n",
              "    }\n",
              "</style>\n",
              "<table border=\"1\" class=\"dataframe\">\n",
              "  <thead>\n",
              "    <tr style=\"text-align: right;\">\n",
              "      <th></th>\n",
              "      <th>funded_amount</th>\n",
              "      <th>loan_amount</th>\n",
              "      <th>activity</th>\n",
              "      <th>sector</th>\n",
              "      <th>country</th>\n",
              "      <th>region</th>\n",
              "      <th>partner_id</th>\n",
              "      <th>funded_time</th>\n",
              "      <th>lender_count</th>\n",
              "      <th>borrower_genders</th>\n",
              "    </tr>\n",
              "  </thead>\n",
              "  <tbody>\n",
              "    <tr>\n",
              "      <th>0</th>\n",
              "      <td>300.0</td>\n",
              "      <td>300.0</td>\n",
              "      <td>Fruits &amp; Vegetables</td>\n",
              "      <td>Food</td>\n",
              "      <td>Pakistan</td>\n",
              "      <td>Lahore</td>\n",
              "      <td>247.0</td>\n",
              "      <td>2014-01-02 10:06:32+00:00</td>\n",
              "      <td>12</td>\n",
              "      <td>female</td>\n",
              "    </tr>\n",
              "    <tr>\n",
              "      <th>1</th>\n",
              "      <td>575.0</td>\n",
              "      <td>575.0</td>\n",
              "      <td>Rickshaw</td>\n",
              "      <td>Transportation</td>\n",
              "      <td>Pakistan</td>\n",
              "      <td>Lahore</td>\n",
              "      <td>247.0</td>\n",
              "      <td>2014-01-02 09:17:23+00:00</td>\n",
              "      <td>14</td>\n",
              "      <td>female, female</td>\n",
              "    </tr>\n",
              "    <tr>\n",
              "      <th>2</th>\n",
              "      <td>150.0</td>\n",
              "      <td>150.0</td>\n",
              "      <td>Transportation</td>\n",
              "      <td>Transportation</td>\n",
              "      <td>India</td>\n",
              "      <td>Maynaguri</td>\n",
              "      <td>334.0</td>\n",
              "      <td>2014-01-01 16:01:36+00:00</td>\n",
              "      <td>6</td>\n",
              "      <td>female</td>\n",
              "    </tr>\n",
              "    <tr>\n",
              "      <th>3</th>\n",
              "      <td>200.0</td>\n",
              "      <td>200.0</td>\n",
              "      <td>Embroidery</td>\n",
              "      <td>Arts</td>\n",
              "      <td>Pakistan</td>\n",
              "      <td>Lahore</td>\n",
              "      <td>247.0</td>\n",
              "      <td>2014-01-01 13:00:00+00:00</td>\n",
              "      <td>8</td>\n",
              "      <td>female</td>\n",
              "    </tr>\n",
              "    <tr>\n",
              "      <th>4</th>\n",
              "      <td>400.0</td>\n",
              "      <td>400.0</td>\n",
              "      <td>Milk Sales</td>\n",
              "      <td>Food</td>\n",
              "      <td>Pakistan</td>\n",
              "      <td>Abdul Hakeem</td>\n",
              "      <td>245.0</td>\n",
              "      <td>2014-01-01 19:18:51+00:00</td>\n",
              "      <td>16</td>\n",
              "      <td>female</td>\n",
              "    </tr>\n",
              "  </tbody>\n",
              "</table>\n",
              "</div>\n",
              "    <div class=\"colab-df-buttons\">\n",
              "\n",
              "  <div class=\"colab-df-container\">\n",
              "    <button class=\"colab-df-convert\" onclick=\"convertToInteractive('df-a7fcba79-d103-4b24-b9fa-8f782f79deec')\"\n",
              "            title=\"Convert this dataframe to an interactive table.\"\n",
              "            style=\"display:none;\">\n",
              "\n",
              "  <svg xmlns=\"http://www.w3.org/2000/svg\" height=\"24px\" viewBox=\"0 -960 960 960\">\n",
              "    <path d=\"M120-120v-720h720v720H120Zm60-500h600v-160H180v160Zm220 220h160v-160H400v160Zm0 220h160v-160H400v160ZM180-400h160v-160H180v160Zm440 0h160v-160H620v160ZM180-180h160v-160H180v160Zm440 0h160v-160H620v160Z\"/>\n",
              "  </svg>\n",
              "    </button>\n",
              "\n",
              "  <style>\n",
              "    .colab-df-container {\n",
              "      display:flex;\n",
              "      gap: 12px;\n",
              "    }\n",
              "\n",
              "    .colab-df-convert {\n",
              "      background-color: #E8F0FE;\n",
              "      border: none;\n",
              "      border-radius: 50%;\n",
              "      cursor: pointer;\n",
              "      display: none;\n",
              "      fill: #1967D2;\n",
              "      height: 32px;\n",
              "      padding: 0 0 0 0;\n",
              "      width: 32px;\n",
              "    }\n",
              "\n",
              "    .colab-df-convert:hover {\n",
              "      background-color: #E2EBFA;\n",
              "      box-shadow: 0px 1px 2px rgba(60, 64, 67, 0.3), 0px 1px 3px 1px rgba(60, 64, 67, 0.15);\n",
              "      fill: #174EA6;\n",
              "    }\n",
              "\n",
              "    .colab-df-buttons div {\n",
              "      margin-bottom: 4px;\n",
              "    }\n",
              "\n",
              "    [theme=dark] .colab-df-convert {\n",
              "      background-color: #3B4455;\n",
              "      fill: #D2E3FC;\n",
              "    }\n",
              "\n",
              "    [theme=dark] .colab-df-convert:hover {\n",
              "      background-color: #434B5C;\n",
              "      box-shadow: 0px 1px 3px 1px rgba(0, 0, 0, 0.15);\n",
              "      filter: drop-shadow(0px 1px 2px rgba(0, 0, 0, 0.3));\n",
              "      fill: #FFFFFF;\n",
              "    }\n",
              "  </style>\n",
              "\n",
              "    <script>\n",
              "      const buttonEl =\n",
              "        document.querySelector('#df-a7fcba79-d103-4b24-b9fa-8f782f79deec button.colab-df-convert');\n",
              "      buttonEl.style.display =\n",
              "        google.colab.kernel.accessAllowed ? 'block' : 'none';\n",
              "\n",
              "      async function convertToInteractive(key) {\n",
              "        const element = document.querySelector('#df-a7fcba79-d103-4b24-b9fa-8f782f79deec');\n",
              "        const dataTable =\n",
              "          await google.colab.kernel.invokeFunction('convertToInteractive',\n",
              "                                                    [key], {});\n",
              "        if (!dataTable) return;\n",
              "\n",
              "        const docLinkHtml = 'Like what you see? Visit the ' +\n",
              "          '<a target=\"_blank\" href=https://colab.research.google.com/notebooks/data_table.ipynb>data table notebook</a>'\n",
              "          + ' to learn more about interactive tables.';\n",
              "        element.innerHTML = '';\n",
              "        dataTable['output_type'] = 'display_data';\n",
              "        await google.colab.output.renderOutput(dataTable, element);\n",
              "        const docLink = document.createElement('div');\n",
              "        docLink.innerHTML = docLinkHtml;\n",
              "        element.appendChild(docLink);\n",
              "      }\n",
              "    </script>\n",
              "  </div>\n",
              "\n",
              "\n",
              "<div id=\"df-a9239f78-df76-4de7-a3a2-4a104cf47fa4\">\n",
              "  <button class=\"colab-df-quickchart\" onclick=\"quickchart('df-a9239f78-df76-4de7-a3a2-4a104cf47fa4')\"\n",
              "            title=\"Suggest charts\"\n",
              "            style=\"display:none;\">\n",
              "\n",
              "<svg xmlns=\"http://www.w3.org/2000/svg\" height=\"24px\"viewBox=\"0 0 24 24\"\n",
              "     width=\"24px\">\n",
              "    <g>\n",
              "        <path d=\"M19 3H5c-1.1 0-2 .9-2 2v14c0 1.1.9 2 2 2h14c1.1 0 2-.9 2-2V5c0-1.1-.9-2-2-2zM9 17H7v-7h2v7zm4 0h-2V7h2v10zm4 0h-2v-4h2v4z\"/>\n",
              "    </g>\n",
              "</svg>\n",
              "  </button>\n",
              "\n",
              "<style>\n",
              "  .colab-df-quickchart {\n",
              "      --bg-color: #E8F0FE;\n",
              "      --fill-color: #1967D2;\n",
              "      --hover-bg-color: #E2EBFA;\n",
              "      --hover-fill-color: #174EA6;\n",
              "      --disabled-fill-color: #AAA;\n",
              "      --disabled-bg-color: #DDD;\n",
              "  }\n",
              "\n",
              "  [theme=dark] .colab-df-quickchart {\n",
              "      --bg-color: #3B4455;\n",
              "      --fill-color: #D2E3FC;\n",
              "      --hover-bg-color: #434B5C;\n",
              "      --hover-fill-color: #FFFFFF;\n",
              "      --disabled-bg-color: #3B4455;\n",
              "      --disabled-fill-color: #666;\n",
              "  }\n",
              "\n",
              "  .colab-df-quickchart {\n",
              "    background-color: var(--bg-color);\n",
              "    border: none;\n",
              "    border-radius: 50%;\n",
              "    cursor: pointer;\n",
              "    display: none;\n",
              "    fill: var(--fill-color);\n",
              "    height: 32px;\n",
              "    padding: 0;\n",
              "    width: 32px;\n",
              "  }\n",
              "\n",
              "  .colab-df-quickchart:hover {\n",
              "    background-color: var(--hover-bg-color);\n",
              "    box-shadow: 0 1px 2px rgba(60, 64, 67, 0.3), 0 1px 3px 1px rgba(60, 64, 67, 0.15);\n",
              "    fill: var(--button-hover-fill-color);\n",
              "  }\n",
              "\n",
              "  .colab-df-quickchart-complete:disabled,\n",
              "  .colab-df-quickchart-complete:disabled:hover {\n",
              "    background-color: var(--disabled-bg-color);\n",
              "    fill: var(--disabled-fill-color);\n",
              "    box-shadow: none;\n",
              "  }\n",
              "\n",
              "  .colab-df-spinner {\n",
              "    border: 2px solid var(--fill-color);\n",
              "    border-color: transparent;\n",
              "    border-bottom-color: var(--fill-color);\n",
              "    animation:\n",
              "      spin 1s steps(1) infinite;\n",
              "  }\n",
              "\n",
              "  @keyframes spin {\n",
              "    0% {\n",
              "      border-color: transparent;\n",
              "      border-bottom-color: var(--fill-color);\n",
              "      border-left-color: var(--fill-color);\n",
              "    }\n",
              "    20% {\n",
              "      border-color: transparent;\n",
              "      border-left-color: var(--fill-color);\n",
              "      border-top-color: var(--fill-color);\n",
              "    }\n",
              "    30% {\n",
              "      border-color: transparent;\n",
              "      border-left-color: var(--fill-color);\n",
              "      border-top-color: var(--fill-color);\n",
              "      border-right-color: var(--fill-color);\n",
              "    }\n",
              "    40% {\n",
              "      border-color: transparent;\n",
              "      border-right-color: var(--fill-color);\n",
              "      border-top-color: var(--fill-color);\n",
              "    }\n",
              "    60% {\n",
              "      border-color: transparent;\n",
              "      border-right-color: var(--fill-color);\n",
              "    }\n",
              "    80% {\n",
              "      border-color: transparent;\n",
              "      border-right-color: var(--fill-color);\n",
              "      border-bottom-color: var(--fill-color);\n",
              "    }\n",
              "    90% {\n",
              "      border-color: transparent;\n",
              "      border-bottom-color: var(--fill-color);\n",
              "    }\n",
              "  }\n",
              "</style>\n",
              "\n",
              "  <script>\n",
              "    async function quickchart(key) {\n",
              "      const quickchartButtonEl =\n",
              "        document.querySelector('#' + key + ' button');\n",
              "      quickchartButtonEl.disabled = true;  // To prevent multiple clicks.\n",
              "      quickchartButtonEl.classList.add('colab-df-spinner');\n",
              "      try {\n",
              "        const charts = await google.colab.kernel.invokeFunction(\n",
              "            'suggestCharts', [key], {});\n",
              "      } catch (error) {\n",
              "        console.error('Error during call to suggestCharts:', error);\n",
              "      }\n",
              "      quickchartButtonEl.classList.remove('colab-df-spinner');\n",
              "      quickchartButtonEl.classList.add('colab-df-quickchart-complete');\n",
              "    }\n",
              "    (() => {\n",
              "      let quickchartButtonEl =\n",
              "        document.querySelector('#df-a9239f78-df76-4de7-a3a2-4a104cf47fa4 button');\n",
              "      quickchartButtonEl.style.display =\n",
              "        google.colab.kernel.accessAllowed ? 'block' : 'none';\n",
              "    })();\n",
              "  </script>\n",
              "</div>\n",
              "    </div>\n",
              "  </div>\n"
            ]
          },
          "metadata": {},
          "execution_count": 92
        }
      ]
    },
    {
      "cell_type": "markdown",
      "source": [
        "# 3.2 Создание визуализаций с помощью собственных функций"
      ],
      "metadata": {
        "id": "bkEfxg2fH5hE"
      }
    },
    {
      "cell_type": "markdown",
      "source": [
        "С помощью того же функционала можно создавать и более сложные функции. В 1 неделе мы писали код, который заменял значения на \"группа\", в случае если ссуда предоставлялась нескольким людям. Давайте сделаем то же самое с помощью нового функционала:"
      ],
      "metadata": {
        "id": "iFhNBxJf0TXC"
      }
    },
    {
      "cell_type": "code",
      "source": [
        "def gender_get(series):\n",
        "  return series.apply(lambda x: 'female' if x=='female' else 'male' if x=='male' else 'group')\n",
        "\n",
        "gender_distribution = gender_get(kiva_loans_pandas['borrower_genders']).value_counts()"
      ],
      "metadata": {
        "id": "1mg6f0T27SrP"
      },
      "execution_count": null,
      "outputs": []
    },
    {
      "cell_type": "code",
      "source": [
        "gender_distribution.plot.bar()"
      ],
      "metadata": {
        "colab": {
          "base_uri": "https://localhost:8080/",
          "height": 481
        },
        "id": "wej7D3mU82PF",
        "outputId": "7ae63fc8-70a5-44a9-e7f5-67b6bfdf0490"
      },
      "execution_count": null,
      "outputs": [
        {
          "output_type": "execute_result",
          "data": {
            "text/plain": [
              "<Axes: >"
            ]
          },
          "metadata": {},
          "execution_count": 94
        },
        {
          "output_type": "display_data",
          "data": {
            "text/plain": [
              "<Figure size 640x480 with 1 Axes>"
            ],
            "image/png": "[encoded data removed]"
          },
          "metadata": {}
        }
      ]
    },
    {
      "cell_type": "markdown",
      "source": [
        "# 3.3 Работа с выбросами после применения собственной функции"
      ],
      "metadata": {
        "id": "IrE_4_mbIFBa"
      }
    },
    {
      "cell_type": "markdown",
      "source": [
        "Давайте узнаем, насколько отличается размер `funded_amount` от `loan_amount`. Поскольку выше анализ scatter plot не дал результатов, создадим новую переменную, путем вычитания одного столбца из другого:"
      ],
      "metadata": {
        "id": "nQGUNGD91zqj"
      }
    },
    {
      "cell_type": "code",
      "source": [
        "def subtracted_amount(df, first_col, second_col, result):\n",
        "  df[result] = df[first_col] - df[second_col]\n",
        "  return df\n",
        "\n",
        "kiva_loans_pandas = subtracted_amount(kiva_loans_pandas, 'loan_amount', 'funded_amount', 'unfunded_amount')\n",
        "kiva_loans_pandas.head(5)"
      ],
      "metadata": {
        "colab": {
          "base_uri": "https://localhost:8080/",
          "height": 289
        },
        "id": "0umU4Wkw9oiA",
        "outputId": "81a3a8da-4ebe-4ccf-8cd6-c4d1dd927aa5"
      },
      "execution_count": null,
      "outputs": [
        {
          "output_type": "execute_result",
          "data": {
            "text/plain": [
              "   funded_amount  loan_amount             activity          sector   country  \\\n",
              "0          300.0        300.0  Fruits & Vegetables            Food  Pakistan   \n",
              "1          575.0        575.0             Rickshaw  Transportation  Pakistan   \n",
              "2          150.0        150.0       Transportation  Transportation     India   \n",
              "3          200.0        200.0           Embroidery            Arts  Pakistan   \n",
              "4          400.0        400.0           Milk Sales            Food  Pakistan   \n",
              "\n",
              "         region  partner_id               funded_time  lender_count  \\\n",
              "0        Lahore       247.0 2014-01-02 10:06:32+00:00            12   \n",
              "1        Lahore       247.0 2014-01-02 09:17:23+00:00            14   \n",
              "2     Maynaguri       334.0 2014-01-01 16:01:36+00:00             6   \n",
              "3        Lahore       247.0 2014-01-01 13:00:00+00:00             8   \n",
              "4  Abdul Hakeem       245.0 2014-01-01 19:18:51+00:00            16   \n",
              "\n",
              "  borrower_genders  unfunded_amount  \n",
              "0           female              0.0  \n",
              "1   female, female              0.0  \n",
              "2           female              0.0  \n",
              "3           female              0.0  \n",
              "4           female              0.0  "
            ],
            "text/html": [
              "\n",
              "  <div id=\"df-f070734e-71b4-49fe-9a38-a08997610c19\" class=\"colab-df-container\">\n",
              "    <div>\n",
              "<style scoped>\n",
              "    .dataframe tbody tr th:only-of-type {\n",
              "        vertical-align: middle;\n",
              "    }\n",
              "\n",
              "    .dataframe tbody tr th {\n",
              "        vertical-align: top;\n",
              "    }\n",
              "\n",
              "    .dataframe thead th {\n",
              "        text-align: right;\n",
              "    }\n",
              "</style>\n",
              "<table border=\"1\" class=\"dataframe\">\n",
              "  <thead>\n",
              "    <tr style=\"text-align: right;\">\n",
              "      <th></th>\n",
              "      <th>funded_amount</th>\n",
              "      <th>loan_amount</th>\n",
              "      <th>activity</th>\n",
              "      <th>sector</th>\n",
              "      <th>country</th>\n",
              "      <th>region</th>\n",
              "      <th>partner_id</th>\n",
              "      <th>funded_time</th>\n",
              "      <th>lender_count</th>\n",
              "      <th>borrower_genders</th>\n",
              "      <th>unfunded_amount</th>\n",
              "    </tr>\n",
              "  </thead>\n",
              "  <tbody>\n",
              "    <tr>\n",
              "      <th>0</th>\n",
              "      <td>300.0</td>\n",
              "      <td>300.0</td>\n",
              "      <td>Fruits &amp; Vegetables</td>\n",
              "      <td>Food</td>\n",
              "      <td>Pakistan</td>\n",
              "      <td>Lahore</td>\n",
              "      <td>247.0</td>\n",
              "      <td>2014-01-02 10:06:32+00:00</td>\n",
              "      <td>12</td>\n",
              "      <td>female</td>\n",
              "      <td>0.0</td>\n",
              "    </tr>\n",
              "    <tr>\n",
              "      <th>1</th>\n",
              "      <td>575.0</td>\n",
              "      <td>575.0</td>\n",
              "      <td>Rickshaw</td>\n",
              "      <td>Transportation</td>\n",
              "      <td>Pakistan</td>\n",
              "      <td>Lahore</td>\n",
              "      <td>247.0</td>\n",
              "      <td>2014-01-02 09:17:23+00:00</td>\n",
              "      <td>14</td>\n",
              "      <td>female, female</td>\n",
              "      <td>0.0</td>\n",
              "    </tr>\n",
              "    <tr>\n",
              "      <th>2</th>\n",
              "      <td>150.0</td>\n",
              "      <td>150.0</td>\n",
              "      <td>Transportation</td>\n",
              "      <td>Transportation</td>\n",
              "      <td>India</td>\n",
              "      <td>Maynaguri</td>\n",
              "      <td>334.0</td>\n",
              "      <td>2014-01-01 16:01:36+00:00</td>\n",
              "      <td>6</td>\n",
              "      <td>female</td>\n",
              "      <td>0.0</td>\n",
              "    </tr>\n",
              "    <tr>\n",
              "      <th>3</th>\n",
              "      <td>200.0</td>\n",
              "      <td>200.0</td>\n",
              "      <td>Embroidery</td>\n",
              "      <td>Arts</td>\n",
              "      <td>Pakistan</td>\n",
              "      <td>Lahore</td>\n",
              "      <td>247.0</td>\n",
              "      <td>2014-01-01 13:00:00+00:00</td>\n",
              "      <td>8</td>\n",
              "      <td>female</td>\n",
              "      <td>0.0</td>\n",
              "    </tr>\n",
              "    <tr>\n",
              "      <th>4</th>\n",
              "      <td>400.0</td>\n",
              "      <td>400.0</td>\n",
              "      <td>Milk Sales</td>\n",
              "      <td>Food</td>\n",
              "      <td>Pakistan</td>\n",
              "      <td>Abdul Hakeem</td>\n",
              "      <td>245.0</td>\n",
              "      <td>2014-01-01 19:18:51+00:00</td>\n",
              "      <td>16</td>\n",
              "      <td>female</td>\n",
              "      <td>0.0</td>\n",
              "    </tr>\n",
              "  </tbody>\n",
              "</table>\n",
              "</div>\n",
              "    <div class=\"colab-df-buttons\">\n",
              "\n",
              "  <div class=\"colab-df-container\">\n",
              "    <button class=\"colab-df-convert\" onclick=\"convertToInteractive('df-f070734e-71b4-49fe-9a38-a08997610c19')\"\n",
              "            title=\"Convert this dataframe to an interactive table.\"\n",
              "            style=\"display:none;\">\n",
              "\n",
              "  <svg xmlns=\"http://www.w3.org/2000/svg\" height=\"24px\" viewBox=\"0 -960 960 960\">\n",
              "    <path d=\"M120-120v-720h720v720H120Zm60-500h600v-160H180v160Zm220 220h160v-160H400v160Zm0 220h160v-160H400v160ZM180-400h160v-160H180v160Zm440 0h160v-160H620v160ZM180-180h160v-160H180v160Zm440 0h160v-160H620v160Z\"/>\n",
              "  </svg>\n",
              "    </button>\n",
              "\n",
              "  <style>\n",
              "    .colab-df-container {\n",
              "      display:flex;\n",
              "      gap: 12px;\n",
              "    }\n",
              "\n",
              "    .colab-df-convert {\n",
              "      background-color: #E8F0FE;\n",
              "      border: none;\n",
              "      border-radius: 50%;\n",
              "      cursor: pointer;\n",
              "      display: none;\n",
              "      fill: #1967D2;\n",
              "      height: 32px;\n",
              "      padding: 0 0 0 0;\n",
              "      width: 32px;\n",
              "    }\n",
              "\n",
              "    .colab-df-convert:hover {\n",
              "      background-color: #E2EBFA;\n",
              "      box-shadow: 0px 1px 2px rgba(60, 64, 67, 0.3), 0px 1px 3px 1px rgba(60, 64, 67, 0.15);\n",
              "      fill: #174EA6;\n",
              "    }\n",
              "\n",
              "    .colab-df-buttons div {\n",
              "      margin-bottom: 4px;\n",
              "    }\n",
              "\n",
              "    [theme=dark] .colab-df-convert {\n",
              "      background-color: #3B4455;\n",
              "      fill: #D2E3FC;\n",
              "    }\n",
              "\n",
              "    [theme=dark] .colab-df-convert:hover {\n",
              "      background-color: #434B5C;\n",
              "      box-shadow: 0px 1px 3px 1px rgba(0, 0, 0, 0.15);\n",
              "      filter: drop-shadow(0px 1px 2px rgba(0, 0, 0, 0.3));\n",
              "      fill: #FFFFFF;\n",
              "    }\n",
              "  </style>\n",
              "\n",
              "    <script>\n",
              "      const buttonEl =\n",
              "        document.querySelector('#df-f070734e-71b4-49fe-9a38-a08997610c19 button.colab-df-convert');\n",
              "      buttonEl.style.display =\n",
              "        google.colab.kernel.accessAllowed ? 'block' : 'none';\n",
              "\n",
              "      async function convertToInteractive(key) {\n",
              "        const element = document.querySelector('#df-f070734e-71b4-49fe-9a38-a08997610c19');\n",
              "        const dataTable =\n",
              "          await google.colab.kernel.invokeFunction('convertToInteractive',\n",
              "                                                    [key], {});\n",
              "        if (!dataTable) return;\n",
              "\n",
              "        const docLinkHtml = 'Like what you see? Visit the ' +\n",
              "          '<a target=\"_blank\" href=https://colab.research.google.com/notebooks/data_table.ipynb>data table notebook</a>'\n",
              "          + ' to learn more about interactive tables.';\n",
              "        element.innerHTML = '';\n",
              "        dataTable['output_type'] = 'display_data';\n",
              "        await google.colab.output.renderOutput(dataTable, element);\n",
              "        const docLink = document.createElement('div');\n",
              "        docLink.innerHTML = docLinkHtml;\n",
              "        element.appendChild(docLink);\n",
              "      }\n",
              "    </script>\n",
              "  </div>\n",
              "\n",
              "\n",
              "<div id=\"df-0eb94f94-9b44-4c8a-8840-950dcd5162c7\">\n",
              "  <button class=\"colab-df-quickchart\" onclick=\"quickchart('df-0eb94f94-9b44-4c8a-8840-950dcd5162c7')\"\n",
              "            title=\"Suggest charts\"\n",
              "            style=\"display:none;\">\n",
              "\n",
              "<svg xmlns=\"http://www.w3.org/2000/svg\" height=\"24px\"viewBox=\"0 0 24 24\"\n",
              "     width=\"24px\">\n",
              "    <g>\n",
              "        <path d=\"M19 3H5c-1.1 0-2 .9-2 2v14c0 1.1.9 2 2 2h14c1.1 0 2-.9 2-2V5c0-1.1-.9-2-2-2zM9 17H7v-7h2v7zm4 0h-2V7h2v10zm4 0h-2v-4h2v4z\"/>\n",
              "    </g>\n",
              "</svg>\n",
              "  </button>\n",
              "\n",
              "<style>\n",
              "  .colab-df-quickchart {\n",
              "      --bg-color: #E8F0FE;\n",
              "      --fill-color: #1967D2;\n",
              "      --hover-bg-color: #E2EBFA;\n",
              "      --hover-fill-color: #174EA6;\n",
              "      --disabled-fill-color: #AAA;\n",
              "      --disabled-bg-color: #DDD;\n",
              "  }\n",
              "\n",
              "  [theme=dark] .colab-df-quickchart {\n",
              "      --bg-color: #3B4455;\n",
              "      --fill-color: #D2E3FC;\n",
              "      --hover-bg-color: #434B5C;\n",
              "      --hover-fill-color: #FFFFFF;\n",
              "      --disabled-bg-color: #3B4455;\n",
              "      --disabled-fill-color: #666;\n",
              "  }\n",
              "\n",
              "  .colab-df-quickchart {\n",
              "    background-color: var(--bg-color);\n",
              "    border: none;\n",
              "    border-radius: 50%;\n",
              "    cursor: pointer;\n",
              "    display: none;\n",
              "    fill: var(--fill-color);\n",
              "    height: 32px;\n",
              "    padding: 0;\n",
              "    width: 32px;\n",
              "  }\n",
              "\n",
              "  .colab-df-quickchart:hover {\n",
              "    background-color: var(--hover-bg-color);\n",
              "    box-shadow: 0 1px 2px rgba(60, 64, 67, 0.3), 0 1px 3px 1px rgba(60, 64, 67, 0.15);\n",
              "    fill: var(--button-hover-fill-color);\n",
              "  }\n",
              "\n",
              "  .colab-df-quickchart-complete:disabled,\n",
              "  .colab-df-quickchart-complete:disabled:hover {\n",
              "    background-color: var(--disabled-bg-color);\n",
              "    fill: var(--disabled-fill-color);\n",
              "    box-shadow: none;\n",
              "  }\n",
              "\n",
              "  .colab-df-spinner {\n",
              "    border: 2px solid var(--fill-color);\n",
              "    border-color: transparent;\n",
              "    border-bottom-color: var(--fill-color);\n",
              "    animation:\n",
              "      spin 1s steps(1) infinite;\n",
              "  }\n",
              "\n",
              "  @keyframes spin {\n",
              "    0% {\n",
              "      border-color: transparent;\n",
              "      border-bottom-color: var(--fill-color);\n",
              "      border-left-color: var(--fill-color);\n",
              "    }\n",
              "    20% {\n",
              "      border-color: transparent;\n",
              "      border-left-color: var(--fill-color);\n",
              "      border-top-color: var(--fill-color);\n",
              "    }\n",
              "    30% {\n",
              "      border-color: transparent;\n",
              "      border-left-color: var(--fill-color);\n",
              "      border-top-color: var(--fill-color);\n",
              "      border-right-color: var(--fill-color);\n",
              "    }\n",
              "    40% {\n",
              "      border-color: transparent;\n",
              "      border-right-color: var(--fill-color);\n",
              "      border-top-color: var(--fill-color);\n",
              "    }\n",
              "    60% {\n",
              "      border-color: transparent;\n",
              "      border-right-color: var(--fill-color);\n",
              "    }\n",
              "    80% {\n",
              "      border-color: transparent;\n",
              "      border-right-color: var(--fill-color);\n",
              "      border-bottom-color: var(--fill-color);\n",
              "    }\n",
              "    90% {\n",
              "      border-color: transparent;\n",
              "      border-bottom-color: var(--fill-color);\n",
              "    }\n",
              "  }\n",
              "</style>\n",
              "\n",
              "  <script>\n",
              "    async function quickchart(key) {\n",
              "      const quickchartButtonEl =\n",
              "        document.querySelector('#' + key + ' button');\n",
              "      quickchartButtonEl.disabled = true;  // To prevent multiple clicks.\n",
              "      quickchartButtonEl.classList.add('colab-df-spinner');\n",
              "      try {\n",
              "        const charts = await google.colab.kernel.invokeFunction(\n",
              "            'suggestCharts', [key], {});\n",
              "      } catch (error) {\n",
              "        console.error('Error during call to suggestCharts:', error);\n",
              "      }\n",
              "      quickchartButtonEl.classList.remove('colab-df-spinner');\n",
              "      quickchartButtonEl.classList.add('colab-df-quickchart-complete');\n",
              "    }\n",
              "    (() => {\n",
              "      let quickchartButtonEl =\n",
              "        document.querySelector('#df-0eb94f94-9b44-4c8a-8840-950dcd5162c7 button');\n",
              "      quickchartButtonEl.style.display =\n",
              "        google.colab.kernel.accessAllowed ? 'block' : 'none';\n",
              "    })();\n",
              "  </script>\n",
              "</div>\n",
              "    </div>\n",
              "  </div>\n"
            ]
          },
          "metadata": {},
          "execution_count": 95
        }
      ]
    },
    {
      "cell_type": "markdown",
      "source": [
        "В рамках модуля plot библиотеки Pandas, можно создать график плотности распределения, задав параметр `kind='kde'`:"
      ],
      "metadata": {
        "id": "mC2bvNQ02onQ"
      }
    },
    {
      "cell_type": "code",
      "source": [
        "kiva_loans_pandas.unfunded_amount.plot(kind='kde')"
      ],
      "metadata": {
        "colab": {
          "base_uri": "https://localhost:8080/",
          "height": 447
        },
        "id": "89SToYCpIV1i",
        "outputId": "75b0947a-7d62-46a8-db38-e2a1cf0632e9"
      },
      "execution_count": null,
      "outputs": [
        {
          "output_type": "execute_result",
          "data": {
            "text/plain": [
              "<Axes: ylabel='Density'>"
            ]
          },
          "metadata": {},
          "execution_count": 96
        },
        {
          "output_type": "display_data",
          "data": {
            "text/plain": [
              "<Figure size 640x480 with 1 Axes>"
            ],
            "image/png": "[encoded data removed]"
          },
          "metadata": {}
        }
      ]
    },
    {
      "cell_type": "markdown",
      "source": [
        "Судя по этому графику, все значения равны нулю. Однако, мы видим, что при этом нам показан достаточно большой промежуток: от ~-25k до ~75k. Возможно, там находятся выбросы?\n",
        "\n",
        "Построим гистограмму для той же переменной:"
      ],
      "metadata": {
        "id": "0UtfcmQW26OP"
      }
    },
    {
      "cell_type": "code",
      "source": [
        "kiva_loans_pandas.unfunded_amount.hist()"
      ],
      "metadata": {
        "colab": {
          "base_uri": "https://localhost:8080/",
          "height": 450
        },
        "id": "Z50ic24uA7dY",
        "outputId": "da16278c-8285-4321-a2aa-bb00aac4d9a9"
      },
      "execution_count": null,
      "outputs": [
        {
          "output_type": "execute_result",
          "data": {
            "text/plain": [
              "<Axes: >"
            ]
          },
          "metadata": {},
          "execution_count": 97
        },
        {
          "output_type": "display_data",
          "data": {
            "text/plain": [
              "<Figure size 640x480 with 1 Axes>"
            ],
            "image/png": "[encoded data removed]"
          },
          "metadata": {}
        }
      ]
    },
    {
      "cell_type": "markdown",
      "source": [
        "Та же ситуация - столбец один, а интервал показан огромный: до 50k. Следовательно, надо избавиться от выбросов, которые портят визуализацию. Попробуем ограничить пятью тысячами:"
      ],
      "metadata": {
        "id": "OX1CF5ah3YB1"
      }
    },
    {
      "cell_type": "code",
      "source": [
        "kiva_loans_pandas[kiva_loans_pandas['unfunded_amount'] < 5000]['unfunded_amount'].hist()"
      ],
      "metadata": {
        "colab": {
          "base_uri": "https://localhost:8080/",
          "height": 447
        },
        "id": "_Qdn9hz2CtB-",
        "outputId": "79336549-3942-4e5d-c268-01d648ec5e31"
      },
      "execution_count": null,
      "outputs": [
        {
          "output_type": "execute_result",
          "data": {
            "text/plain": [
              "<Axes: >"
            ]
          },
          "metadata": {},
          "execution_count": 98
        },
        {
          "output_type": "display_data",
          "data": {
            "text/plain": [
              "<Figure size 640x480 with 1 Axes>"
            ],
            "image/png": "[encoded data removed]"
          },
          "metadata": {}
        }
      ]
    },
    {
      "cell_type": "markdown",
      "source": [
        "Уже лучше, теперь мы видим больше столбцов. Попробуем еще больше ограничить визуализацию:"
      ],
      "metadata": {
        "id": "-s2RcMSn3qXa"
      }
    },
    {
      "cell_type": "code",
      "source": [
        "kiva_loans_pandas[kiva_loans_pandas['unfunded_amount'] < 1000]['unfunded_amount'].hist(bins=11)"
      ],
      "metadata": {
        "colab": {
          "base_uri": "https://localhost:8080/",
          "height": 447
        },
        "id": "I1nous9oDHHA",
        "outputId": "3d2fe8bd-e013-4fba-9735-b31ac00bfa72"
      },
      "execution_count": null,
      "outputs": [
        {
          "output_type": "execute_result",
          "data": {
            "text/plain": [
              "<Axes: >"
            ]
          },
          "metadata": {},
          "execution_count": 99
        },
        {
          "output_type": "display_data",
          "data": {
            "text/plain": [
              "<Figure size 640x480 with 1 Axes>"
            ],
            "image/png": "[encoded data removed]"
          },
          "metadata": {}
        }
      ]
    },
    {
      "cell_type": "markdown",
      "source": [
        "Еще лучше! Но теперь видно, что самый высокий столбик немного заходит в отрицательную плоскость, так есть какие-то значения или это особенность разметки гистограммы? Проверим на данных:"
      ],
      "metadata": {
        "id": "zjkOA81j30jN"
      }
    },
    {
      "cell_type": "code",
      "source": [
        "kiva_loans_pandas[kiva_loans_pandas['unfunded_amount'] <= 0]['unfunded_amount'].value_counts()"
      ],
      "metadata": {
        "colab": {
          "base_uri": "https://localhost:8080/"
        },
        "id": "s6ROHtUFDMHM",
        "outputId": "f44d2545-8210-4d6e-b481-0aa04f21475d"
      },
      "execution_count": null,
      "outputs": [
        {
          "output_type": "execute_result",
          "data": {
            "text/plain": [
              " 0.0      622875\n",
              "-25.0          1\n",
              "-400.0         1\n",
              "Name: unfunded_amount, dtype: int64"
            ]
          },
          "metadata": {},
          "execution_count": 100
        }
      ]
    },
    {
      "cell_type": "markdown",
      "source": [
        "Мы видим, что всего 2 значения заходят в отрицательную плоскость - то есть это точно выбросы. При этом почти 623 тысячи значений равны нулю, что сильно портит визуализацию остальных результатов. Давайте построим гистограмму распределения значений в интервале `(0, 5000]`"
      ],
      "metadata": {
        "id": "vQFeuLBf4H7G"
      }
    },
    {
      "cell_type": "code",
      "source": [
        "kiva_loans_pandas[(kiva_loans_pandas['unfunded_amount'] > 0) & (kiva_loans_pandas['unfunded_amount'] <= 5000)]['unfunded_amount'].hist(figsize=(9, 7))"
      ],
      "metadata": {
        "colab": {
          "base_uri": "https://localhost:8080/",
          "height": 616
        },
        "id": "SyjkKukfEXW_",
        "outputId": "831b6c11-6266-41e0-9dfe-fee2cf1278b1"
      },
      "execution_count": null,
      "outputs": [
        {
          "output_type": "execute_result",
          "data": {
            "text/plain": [
              "<Axes: >"
            ]
          },
          "metadata": {},
          "execution_count": 116
        },
        {
          "output_type": "display_data",
          "data": {
            "text/plain": [
              "<Figure size 900x700 with 1 Axes>"
            ],
            "image/png": "[encoded data removed]"
          },
          "metadata": {}
        }
      ]
    },
    {
      "cell_type": "markdown",
      "source": [
        "Таким образом, мы смогли обнаружить интервалы, в которых находятся выбросы и понять, как лучше визуализировать имеющиеся значения, благодаря построению серии быстрых графиков.\n",
        "\n",
        "То же самое можно проделать на большом количестве других задач. Например, давайте посмотрим распределение количества субсидируемых регионов в каждой стране:"
      ],
      "metadata": {
        "id": "TNftz3dJ4pQq"
      }
    },
    {
      "cell_type": "code",
      "source": [
        "funded_amount_per_region = kiva_loans_pandas.groupby(['country', 'region'], as_index=False)['funded_amount'].count()"
      ],
      "metadata": {
        "id": "e_x7Y6urFJOR"
      },
      "execution_count": null,
      "outputs": []
    },
    {
      "cell_type": "code",
      "source": [
        "funded_amount_per_region.plot(kind='kde')"
      ],
      "metadata": {
        "colab": {
          "base_uri": "https://localhost:8080/",
          "height": 451
        },
        "id": "fPC62mm1R5ok",
        "outputId": "013617fd-031c-4318-9706-cb22db108662"
      },
      "execution_count": null,
      "outputs": [
        {
          "output_type": "execute_result",
          "data": {
            "text/plain": [
              "<Axes: ylabel='Density'>"
            ]
          },
          "metadata": {},
          "execution_count": 103
        },
        {
          "output_type": "display_data",
          "data": {
            "text/plain": [
              "<Figure size 640x480 with 1 Axes>"
            ],
            "image/png": "[encoded data removed]"
          },
          "metadata": {}
        }
      ]
    },
    {
      "cell_type": "code",
      "source": [
        "funded_amount_per_region[funded_amount_per_region['funded_amount'] <= 50].plot(kind='kde')"
      ],
      "metadata": {
        "colab": {
          "base_uri": "https://localhost:8080/",
          "height": 451
        },
        "id": "4wQn0ZUlHXOy",
        "outputId": "d00ce78d-2ec3-4bba-8b3a-e6e55fa6b014"
      },
      "execution_count": null,
      "outputs": [
        {
          "output_type": "execute_result",
          "data": {
            "text/plain": [
              "<Axes: ylabel='Density'>"
            ]
          },
          "metadata": {},
          "execution_count": 104
        },
        {
          "output_type": "display_data",
          "data": {
            "text/plain": [
              "<Figure size 640x480 with 1 Axes>"
            ],
            "image/png": "[encoded data removed]"
          },
          "metadata": {}
        }
      ]
    },
    {
      "cell_type": "code",
      "source": [
        "funded_amount_per_region.groupby('country')['region'].count().describe()"
      ],
      "metadata": {
        "colab": {
          "base_uri": "https://localhost:8080/"
        },
        "id": "q6jJgAjePHOR",
        "outputId": "6e016c7f-3a3c-451f-b3b7-67051608c742"
      },
      "execution_count": null,
      "outputs": [
        {
          "output_type": "execute_result",
          "data": {
            "text/plain": [
              "count      82.000000\n",
              "mean      155.475610\n",
              "std       429.059731\n",
              "min         1.000000\n",
              "25%         8.000000\n",
              "50%        32.000000\n",
              "75%       116.000000\n",
              "max      3638.000000\n",
              "Name: region, dtype: float64"
            ]
          },
          "metadata": {},
          "execution_count": 105
        }
      ]
    },
    {
      "cell_type": "code",
      "source": [
        "regions_in_country = funded_amount_per_region.groupby('country', as_index=False)['region'].count()"
      ],
      "metadata": {
        "id": "rPfufMAaSCsg"
      },
      "execution_count": null,
      "outputs": []
    },
    {
      "cell_type": "code",
      "source": [
        "regions_in_country[regions_in_country['region']<200].plot(kind='kde')"
      ],
      "metadata": {
        "colab": {
          "base_uri": "https://localhost:8080/",
          "height": 447
        },
        "id": "V2CHMfG-SMKr",
        "outputId": "77d7a4a8-b91a-45e0-f4ef-cdee8a6a79aa"
      },
      "execution_count": null,
      "outputs": [
        {
          "output_type": "execute_result",
          "data": {
            "text/plain": [
              "<Axes: ylabel='Density'>"
            ]
          },
          "metadata": {},
          "execution_count": 107
        },
        {
          "output_type": "display_data",
          "data": {
            "text/plain": [
              "<Figure size 640x480 with 1 Axes>"
            ],
            "image/png": "[encoded data removed]"
          },
          "metadata": {}
        }
      ]
    },
    {
      "cell_type": "markdown",
      "source": [
        "# 3.4 Метод .pipe() - использование собственного функционала Pandas"
      ],
      "metadata": {
        "id": "TIxw-MqYbXwE"
      }
    },
    {
      "cell_type": "markdown",
      "source": [
        "В рамках модуля Pandas существует метод `.pipe()`, позволяющий использовать собственные функции для работы с Pandas. Таким образом, мы можем использовать всё, что было написано ранее, более эффективным путем.\n",
        "\n",
        "Например, выше мы уже написали функцию gender_get, которая принимает на вход столбец с гендерным составом группы, и применяет к каждому наблюдению алгоритм, возвращающий значения \"male\", \"female\" или \"group\". То же самое мы можем использовать с помощью Pandas метода `.pipe()`, но в более удобном и практичном виде. Давайте попробуем его применить:"
      ],
      "metadata": {
        "id": "5a8rW7a0bOsM"
      }
    },
    {
      "cell_type": "code",
      "source": [
        "# Снова скопируем наш датафрейм в отдельную переменную\n",
        "kiva_loans_pipe = pd.read_csv('https://raw.githubusercontent.com/ElijahSum/mipt_visualization/master/week_02_visualization/kiva_loans_week2', index_col=0)"
      ],
      "metadata": {
        "id": "_DJjUKI9bXBa"
      },
      "execution_count": null,
      "outputs": []
    },
    {
      "cell_type": "code",
      "source": [
        "kiva_loans_pipe.head(5)"
      ],
      "metadata": {
        "colab": {
          "base_uri": "https://localhost:8080/",
          "height": 204
        },
        "id": "XFV04g5VV8Bl",
        "outputId": "321f7dad-ec07-4f6b-e1c8-a5f1237a3486"
      },
      "execution_count": null,
      "outputs": [
        {
          "output_type": "execute_result",
          "data": {
            "text/plain": [
              "   funded_amount  loan_amount             activity          sector   country  \\\n",
              "0          300.0        300.0  Fruits & Vegetables            Food  Pakistan   \n",
              "1          575.0        575.0             Rickshaw  Transportation  Pakistan   \n",
              "2          150.0        150.0       Transportation  Transportation     India   \n",
              "3          200.0        200.0           Embroidery            Arts  Pakistan   \n",
              "4          400.0        400.0           Milk Sales            Food  Pakistan   \n",
              "\n",
              "         region  partner_id                funded_time  lender_count  \\\n",
              "0        Lahore       247.0  2014-01-02 10:06:32+00:00            12   \n",
              "1        Lahore       247.0  2014-01-02 09:17:23+00:00            14   \n",
              "2     Maynaguri       334.0  2014-01-01 16:01:36+00:00             6   \n",
              "3        Lahore       247.0  2014-01-01 13:00:00+00:00             8   \n",
              "4  Abdul Hakeem       245.0  2014-01-01 19:18:51+00:00            16   \n",
              "\n",
              "  borrower_genders  \n",
              "0           female  \n",
              "1   female, female  \n",
              "2           female  \n",
              "3           female  \n",
              "4           female  "
            ],
            "text/html": [
              "\n",
              "  <div id=\"df-a4957f9d-0dca-45b3-a5ff-231e3e14557c\" class=\"colab-df-container\">\n",
              "    <div>\n",
              "<style scoped>\n",
              "    .dataframe tbody tr th:only-of-type {\n",
              "        vertical-align: middle;\n",
              "    }\n",
              "\n",
              "    .dataframe tbody tr th {\n",
              "        vertical-align: top;\n",
              "    }\n",
              "\n",
              "    .dataframe thead th {\n",
              "        text-align: right;\n",
              "    }\n",
              "</style>\n",
              "<table border=\"1\" class=\"dataframe\">\n",
              "  <thead>\n",
              "    <tr style=\"text-align: right;\">\n",
              "      <th></th>\n",
              "      <th>funded_amount</th>\n",
              "      <th>loan_amount</th>\n",
              "      <th>activity</th>\n",
              "      <th>sector</th>\n",
              "      <th>country</th>\n",
              "      <th>region</th>\n",
              "      <th>partner_id</th>\n",
              "      <th>funded_time</th>\n",
              "      <th>lender_count</th>\n",
              "      <th>borrower_genders</th>\n",
              "    </tr>\n",
              "  </thead>\n",
              "  <tbody>\n",
              "    <tr>\n",
              "      <th>0</th>\n",
              "      <td>300.0</td>\n",
              "      <td>300.0</td>\n",
              "      <td>Fruits &amp; Vegetables</td>\n",
              "      <td>Food</td>\n",
              "      <td>Pakistan</td>\n",
              "      <td>Lahore</td>\n",
              "      <td>247.0</td>\n",
              "      <td>2014-01-02 10:06:32+00:00</td>\n",
              "      <td>12</td>\n",
              "      <td>female</td>\n",
              "    </tr>\n",
              "    <tr>\n",
              "      <th>1</th>\n",
              "      <td>575.0</td>\n",
              "      <td>575.0</td>\n",
              "      <td>Rickshaw</td>\n",
              "      <td>Transportation</td>\n",
              "      <td>Pakistan</td>\n",
              "      <td>Lahore</td>\n",
              "      <td>247.0</td>\n",
              "      <td>2014-01-02 09:17:23+00:00</td>\n",
              "      <td>14</td>\n",
              "      <td>female, female</td>\n",
              "    </tr>\n",
              "    <tr>\n",
              "      <th>2</th>\n",
              "      <td>150.0</td>\n",
              "      <td>150.0</td>\n",
              "      <td>Transportation</td>\n",
              "      <td>Transportation</td>\n",
              "      <td>India</td>\n",
              "      <td>Maynaguri</td>\n",
              "      <td>334.0</td>\n",
              "      <td>2014-01-01 16:01:36+00:00</td>\n",
              "      <td>6</td>\n",
              "      <td>female</td>\n",
              "    </tr>\n",
              "    <tr>\n",
              "      <th>3</th>\n",
              "      <td>200.0</td>\n",
              "      <td>200.0</td>\n",
              "      <td>Embroidery</td>\n",
              "      <td>Arts</td>\n",
              "      <td>Pakistan</td>\n",
              "      <td>Lahore</td>\n",
              "      <td>247.0</td>\n",
              "      <td>2014-01-01 13:00:00+00:00</td>\n",
              "      <td>8</td>\n",
              "      <td>female</td>\n",
              "    </tr>\n",
              "    <tr>\n",
              "      <th>4</th>\n",
              "      <td>400.0</td>\n",
              "      <td>400.0</td>\n",
              "      <td>Milk Sales</td>\n",
              "      <td>Food</td>\n",
              "      <td>Pakistan</td>\n",
              "      <td>Abdul Hakeem</td>\n",
              "      <td>245.0</td>\n",
              "      <td>2014-01-01 19:18:51+00:00</td>\n",
              "      <td>16</td>\n",
              "      <td>female</td>\n",
              "    </tr>\n",
              "  </tbody>\n",
              "</table>\n",
              "</div>\n",
              "    <div class=\"colab-df-buttons\">\n",
              "\n",
              "  <div class=\"colab-df-container\">\n",
              "    <button class=\"colab-df-convert\" onclick=\"convertToInteractive('df-a4957f9d-0dca-45b3-a5ff-231e3e14557c')\"\n",
              "            title=\"Convert this dataframe to an interactive table.\"\n",
              "            style=\"display:none;\">\n",
              "\n",
              "  <svg xmlns=\"http://www.w3.org/2000/svg\" height=\"24px\" viewBox=\"0 -960 960 960\">\n",
              "    <path d=\"M120-120v-720h720v720H120Zm60-500h600v-160H180v160Zm220 220h160v-160H400v160Zm0 220h160v-160H400v160ZM180-400h160v-160H180v160Zm440 0h160v-160H620v160ZM180-180h160v-160H180v160Zm440 0h160v-160H620v160Z\"/>\n",
              "  </svg>\n",
              "    </button>\n",
              "\n",
              "  <style>\n",
              "    .colab-df-container {\n",
              "      display:flex;\n",
              "      gap: 12px;\n",
              "    }\n",
              "\n",
              "    .colab-df-convert {\n",
              "      background-color: #E8F0FE;\n",
              "      border: none;\n",
              "      border-radius: 50%;\n",
              "      cursor: pointer;\n",
              "      display: none;\n",
              "      fill: #1967D2;\n",
              "      height: 32px;\n",
              "      padding: 0 0 0 0;\n",
              "      width: 32px;\n",
              "    }\n",
              "\n",
              "    .colab-df-convert:hover {\n",
              "      background-color: #E2EBFA;\n",
              "      box-shadow: 0px 1px 2px rgba(60, 64, 67, 0.3), 0px 1px 3px 1px rgba(60, 64, 67, 0.15);\n",
              "      fill: #174EA6;\n",
              "    }\n",
              "\n",
              "    .colab-df-buttons div {\n",
              "      margin-bottom: 4px;\n",
              "    }\n",
              "\n",
              "    [theme=dark] .colab-df-convert {\n",
              "      background-color: #3B4455;\n",
              "      fill: #D2E3FC;\n",
              "    }\n",
              "\n",
              "    [theme=dark] .colab-df-convert:hover {\n",
              "      background-color: #434B5C;\n",
              "      box-shadow: 0px 1px 3px 1px rgba(0, 0, 0, 0.15);\n",
              "      filter: drop-shadow(0px 1px 2px rgba(0, 0, 0, 0.3));\n",
              "      fill: #FFFFFF;\n",
              "    }\n",
              "  </style>\n",
              "\n",
              "    <script>\n",
              "      const buttonEl =\n",
              "        document.querySelector('#df-a4957f9d-0dca-45b3-a5ff-231e3e14557c button.colab-df-convert');\n",
              "      buttonEl.style.display =\n",
              "        google.colab.kernel.accessAllowed ? 'block' : 'none';\n",
              "\n",
              "      async function convertToInteractive(key) {\n",
              "        const element = document.querySelector('#df-a4957f9d-0dca-45b3-a5ff-231e3e14557c');\n",
              "        const dataTable =\n",
              "          await google.colab.kernel.invokeFunction('convertToInteractive',\n",
              "                                                    [key], {});\n",
              "        if (!dataTable) return;\n",
              "\n",
              "        const docLinkHtml = 'Like what you see? Visit the ' +\n",
              "          '<a target=\"_blank\" href=https://colab.research.google.com/notebooks/data_table.ipynb>data table notebook</a>'\n",
              "          + ' to learn more about interactive tables.';\n",
              "        element.innerHTML = '';\n",
              "        dataTable['output_type'] = 'display_data';\n",
              "        await google.colab.output.renderOutput(dataTable, element);\n",
              "        const docLink = document.createElement('div');\n",
              "        docLink.innerHTML = docLinkHtml;\n",
              "        element.appendChild(docLink);\n",
              "      }\n",
              "    </script>\n",
              "  </div>\n",
              "\n",
              "\n",
              "<div id=\"df-c7ccd0f8-a274-4d28-8ce1-e92953ee59c7\">\n",
              "  <button class=\"colab-df-quickchart\" onclick=\"quickchart('df-c7ccd0f8-a274-4d28-8ce1-e92953ee59c7')\"\n",
              "            title=\"Suggest charts\"\n",
              "            style=\"display:none;\">\n",
              "\n",
              "<svg xmlns=\"http://www.w3.org/2000/svg\" height=\"24px\"viewBox=\"0 0 24 24\"\n",
              "     width=\"24px\">\n",
              "    <g>\n",
              "        <path d=\"M19 3H5c-1.1 0-2 .9-2 2v14c0 1.1.9 2 2 2h14c1.1 0 2-.9 2-2V5c0-1.1-.9-2-2-2zM9 17H7v-7h2v7zm4 0h-2V7h2v10zm4 0h-2v-4h2v4z\"/>\n",
              "    </g>\n",
              "</svg>\n",
              "  </button>\n",
              "\n",
              "<style>\n",
              "  .colab-df-quickchart {\n",
              "      --bg-color: #E8F0FE;\n",
              "      --fill-color: #1967D2;\n",
              "      --hover-bg-color: #E2EBFA;\n",
              "      --hover-fill-color: #174EA6;\n",
              "      --disabled-fill-color: #AAA;\n",
              "      --disabled-bg-color: #DDD;\n",
              "  }\n",
              "\n",
              "  [theme=dark] .colab-df-quickchart {\n",
              "      --bg-color: #3B4455;\n",
              "      --fill-color: #D2E3FC;\n",
              "      --hover-bg-color: #434B5C;\n",
              "      --hover-fill-color: #FFFFFF;\n",
              "      --disabled-bg-color: #3B4455;\n",
              "      --disabled-fill-color: #666;\n",
              "  }\n",
              "\n",
              "  .colab-df-quickchart {\n",
              "    background-color: var(--bg-color);\n",
              "    border: none;\n",
              "    border-radius: 50%;\n",
              "    cursor: pointer;\n",
              "    display: none;\n",
              "    fill: var(--fill-color);\n",
              "    height: 32px;\n",
              "    padding: 0;\n",
              "    width: 32px;\n",
              "  }\n",
              "\n",
              "  .colab-df-quickchart:hover {\n",
              "    background-color: var(--hover-bg-color);\n",
              "    box-shadow: 0 1px 2px rgba(60, 64, 67, 0.3), 0 1px 3px 1px rgba(60, 64, 67, 0.15);\n",
              "    fill: var(--button-hover-fill-color);\n",
              "  }\n",
              "\n",
              "  .colab-df-quickchart-complete:disabled,\n",
              "  .colab-df-quickchart-complete:disabled:hover {\n",
              "    background-color: var(--disabled-bg-color);\n",
              "    fill: var(--disabled-fill-color);\n",
              "    box-shadow: none;\n",
              "  }\n",
              "\n",
              "  .colab-df-spinner {\n",
              "    border: 2px solid var(--fill-color);\n",
              "    border-color: transparent;\n",
              "    border-bottom-color: var(--fill-color);\n",
              "    animation:\n",
              "      spin 1s steps(1) infinite;\n",
              "  }\n",
              "\n",
              "  @keyframes spin {\n",
              "    0% {\n",
              "      border-color: transparent;\n",
              "      border-bottom-color: var(--fill-color);\n",
              "      border-left-color: var(--fill-color);\n",
              "    }\n",
              "    20% {\n",
              "      border-color: transparent;\n",
              "      border-left-color: var(--fill-color);\n",
              "      border-top-color: var(--fill-color);\n",
              "    }\n",
              "    30% {\n",
              "      border-color: transparent;\n",
              "      border-left-color: var(--fill-color);\n",
              "      border-top-color: var(--fill-color);\n",
              "      border-right-color: var(--fill-color);\n",
              "    }\n",
              "    40% {\n",
              "      border-color: transparent;\n",
              "      border-right-color: var(--fill-color);\n",
              "      border-top-color: var(--fill-color);\n",
              "    }\n",
              "    60% {\n",
              "      border-color: transparent;\n",
              "      border-right-color: var(--fill-color);\n",
              "    }\n",
              "    80% {\n",
              "      border-color: transparent;\n",
              "      border-right-color: var(--fill-color);\n",
              "      border-bottom-color: var(--fill-color);\n",
              "    }\n",
              "    90% {\n",
              "      border-color: transparent;\n",
              "      border-bottom-color: var(--fill-color);\n",
              "    }\n",
              "  }\n",
              "</style>\n",
              "\n",
              "  <script>\n",
              "    async function quickchart(key) {\n",
              "      const quickchartButtonEl =\n",
              "        document.querySelector('#' + key + ' button');\n",
              "      quickchartButtonEl.disabled = true;  // To prevent multiple clicks.\n",
              "      quickchartButtonEl.classList.add('colab-df-spinner');\n",
              "      try {\n",
              "        const charts = await google.colab.kernel.invokeFunction(\n",
              "            'suggestCharts', [key], {});\n",
              "      } catch (error) {\n",
              "        console.error('Error during call to suggestCharts:', error);\n",
              "      }\n",
              "      quickchartButtonEl.classList.remove('colab-df-spinner');\n",
              "      quickchartButtonEl.classList.add('colab-df-quickchart-complete');\n",
              "    }\n",
              "    (() => {\n",
              "      let quickchartButtonEl =\n",
              "        document.querySelector('#df-c7ccd0f8-a274-4d28-8ce1-e92953ee59c7 button');\n",
              "      quickchartButtonEl.style.display =\n",
              "        google.colab.kernel.accessAllowed ? 'block' : 'none';\n",
              "    })();\n",
              "  </script>\n",
              "</div>\n",
              "    </div>\n",
              "  </div>\n"
            ]
          },
          "metadata": {},
          "execution_count": 109
        }
      ]
    },
    {
      "cell_type": "markdown",
      "source": [
        "Применим метод `.pipe()` с ранее написанной функцией `gender_get` к нашему \"чистому\" датафрейму."
      ],
      "metadata": {
        "id": "88o8c3-3dnST"
      }
    },
    {
      "cell_type": "code",
      "source": [
        "kiva_loans_pipe['borrower_genders'] =  kiva_loans_pipe['borrower_genders'].pipe(gender_get)"
      ],
      "metadata": {
        "id": "-SwaAwYcZ-R4"
      },
      "execution_count": null,
      "outputs": []
    },
    {
      "cell_type": "code",
      "source": [
        "kiva_loans_pipe.head(5)"
      ],
      "metadata": {
        "colab": {
          "base_uri": "https://localhost:8080/",
          "height": 204
        },
        "id": "xFZHqHeVdd4F",
        "outputId": "72730eef-1f59-40f2-ed36-2866703e3a8c"
      },
      "execution_count": null,
      "outputs": [
        {
          "output_type": "execute_result",
          "data": {
            "text/plain": [
              "   funded_amount  loan_amount             activity          sector   country  \\\n",
              "0          300.0        300.0  Fruits & Vegetables            Food  Pakistan   \n",
              "1          575.0        575.0             Rickshaw  Transportation  Pakistan   \n",
              "2          150.0        150.0       Transportation  Transportation     India   \n",
              "3          200.0        200.0           Embroidery            Arts  Pakistan   \n",
              "4          400.0        400.0           Milk Sales            Food  Pakistan   \n",
              "\n",
              "         region  partner_id                funded_time  lender_count  \\\n",
              "0        Lahore       247.0  2014-01-02 10:06:32+00:00            12   \n",
              "1        Lahore       247.0  2014-01-02 09:17:23+00:00            14   \n",
              "2     Maynaguri       334.0  2014-01-01 16:01:36+00:00             6   \n",
              "3        Lahore       247.0  2014-01-01 13:00:00+00:00             8   \n",
              "4  Abdul Hakeem       245.0  2014-01-01 19:18:51+00:00            16   \n",
              "\n",
              "  borrower_genders  \n",
              "0           female  \n",
              "1            group  \n",
              "2           female  \n",
              "3           female  \n",
              "4           female  "
            ],
            "text/html": [
              "\n",
              "  <div id=\"df-8110c042-1bdd-47db-8e01-ee3c60d6eafe\" class=\"colab-df-container\">\n",
              "    <div>\n",
              "<style scoped>\n",
              "    .dataframe tbody tr th:only-of-type {\n",
              "        vertical-align: middle;\n",
              "    }\n",
              "\n",
              "    .dataframe tbody tr th {\n",
              "        vertical-align: top;\n",
              "    }\n",
              "\n",
              "    .dataframe thead th {\n",
              "        text-align: right;\n",
              "    }\n",
              "</style>\n",
              "<table border=\"1\" class=\"dataframe\">\n",
              "  <thead>\n",
              "    <tr style=\"text-align: right;\">\n",
              "      <th></th>\n",
              "      <th>funded_amount</th>\n",
              "      <th>loan_amount</th>\n",
              "      <th>activity</th>\n",
              "      <th>sector</th>\n",
              "      <th>country</th>\n",
              "      <th>region</th>\n",
              "      <th>partner_id</th>\n",
              "      <th>funded_time</th>\n",
              "      <th>lender_count</th>\n",
              "      <th>borrower_genders</th>\n",
              "    </tr>\n",
              "  </thead>\n",
              "  <tbody>\n",
              "    <tr>\n",
              "      <th>0</th>\n",
              "      <td>300.0</td>\n",
              "      <td>300.0</td>\n",
              "      <td>Fruits &amp; Vegetables</td>\n",
              "      <td>Food</td>\n",
              "      <td>Pakistan</td>\n",
              "      <td>Lahore</td>\n",
              "      <td>247.0</td>\n",
              "      <td>2014-01-02 10:06:32+00:00</td>\n",
              "      <td>12</td>\n",
              "      <td>female</td>\n",
              "    </tr>\n",
              "    <tr>\n",
              "      <th>1</th>\n",
              "      <td>575.0</td>\n",
              "      <td>575.0</td>\n",
              "      <td>Rickshaw</td>\n",
              "      <td>Transportation</td>\n",
              "      <td>Pakistan</td>\n",
              "      <td>Lahore</td>\n",
              "      <td>247.0</td>\n",
              "      <td>2014-01-02 09:17:23+00:00</td>\n",
              "      <td>14</td>\n",
              "      <td>group</td>\n",
              "    </tr>\n",
              "    <tr>\n",
              "      <th>2</th>\n",
              "      <td>150.0</td>\n",
              "      <td>150.0</td>\n",
              "      <td>Transportation</td>\n",
              "      <td>Transportation</td>\n",
              "      <td>India</td>\n",
              "      <td>Maynaguri</td>\n",
              "      <td>334.0</td>\n",
              "      <td>2014-01-01 16:01:36+00:00</td>\n",
              "      <td>6</td>\n",
              "      <td>female</td>\n",
              "    </tr>\n",
              "    <tr>\n",
              "      <th>3</th>\n",
              "      <td>200.0</td>\n",
              "      <td>200.0</td>\n",
              "      <td>Embroidery</td>\n",
              "      <td>Arts</td>\n",
              "      <td>Pakistan</td>\n",
              "      <td>Lahore</td>\n",
              "      <td>247.0</td>\n",
              "      <td>2014-01-01 13:00:00+00:00</td>\n",
              "      <td>8</td>\n",
              "      <td>female</td>\n",
              "    </tr>\n",
              "    <tr>\n",
              "      <th>4</th>\n",
              "      <td>400.0</td>\n",
              "      <td>400.0</td>\n",
              "      <td>Milk Sales</td>\n",
              "      <td>Food</td>\n",
              "      <td>Pakistan</td>\n",
              "      <td>Abdul Hakeem</td>\n",
              "      <td>245.0</td>\n",
              "      <td>2014-01-01 19:18:51+00:00</td>\n",
              "      <td>16</td>\n",
              "      <td>female</td>\n",
              "    </tr>\n",
              "  </tbody>\n",
              "</table>\n",
              "</div>\n",
              "    <div class=\"colab-df-buttons\">\n",
              "\n",
              "  <div class=\"colab-df-container\">\n",
              "    <button class=\"colab-df-convert\" onclick=\"convertToInteractive('df-8110c042-1bdd-47db-8e01-ee3c60d6eafe')\"\n",
              "            title=\"Convert this dataframe to an interactive table.\"\n",
              "            style=\"display:none;\">\n",
              "\n",
              "  <svg xmlns=\"http://www.w3.org/2000/svg\" height=\"24px\" viewBox=\"0 -960 960 960\">\n",
              "    <path d=\"M120-120v-720h720v720H120Zm60-500h600v-160H180v160Zm220 220h160v-160H400v160Zm0 220h160v-160H400v160ZM180-400h160v-160H180v160Zm440 0h160v-160H620v160ZM180-180h160v-160H180v160Zm440 0h160v-160H620v160Z\"/>\n",
              "  </svg>\n",
              "    </button>\n",
              "\n",
              "  <style>\n",
              "    .colab-df-container {\n",
              "      display:flex;\n",
              "      gap: 12px;\n",
              "    }\n",
              "\n",
              "    .colab-df-convert {\n",
              "      background-color: #E8F0FE;\n",
              "      border: none;\n",
              "      border-radius: 50%;\n",
              "      cursor: pointer;\n",
              "      display: none;\n",
              "      fill: #1967D2;\n",
              "      height: 32px;\n",
              "      padding: 0 0 0 0;\n",
              "      width: 32px;\n",
              "    }\n",
              "\n",
              "    .colab-df-convert:hover {\n",
              "      background-color: #E2EBFA;\n",
              "      box-shadow: 0px 1px 2px rgba(60, 64, 67, 0.3), 0px 1px 3px 1px rgba(60, 64, 67, 0.15);\n",
              "      fill: #174EA6;\n",
              "    }\n",
              "\n",
              "    .colab-df-buttons div {\n",
              "      margin-bottom: 4px;\n",
              "    }\n",
              "\n",
              "    [theme=dark] .colab-df-convert {\n",
              "      background-color: #3B4455;\n",
              "      fill: #D2E3FC;\n",
              "    }\n",
              "\n",
              "    [theme=dark] .colab-df-convert:hover {\n",
              "      background-color: #434B5C;\n",
              "      box-shadow: 0px 1px 3px 1px rgba(0, 0, 0, 0.15);\n",
              "      filter: drop-shadow(0px 1px 2px rgba(0, 0, 0, 0.3));\n",
              "      fill: #FFFFFF;\n",
              "    }\n",
              "  </style>\n",
              "\n",
              "    <script>\n",
              "      const buttonEl =\n",
              "        document.querySelector('#df-8110c042-1bdd-47db-8e01-ee3c60d6eafe button.colab-df-convert');\n",
              "      buttonEl.style.display =\n",
              "        google.colab.kernel.accessAllowed ? 'block' : 'none';\n",
              "\n",
              "      async function convertToInteractive(key) {\n",
              "        const element = document.querySelector('#df-8110c042-1bdd-47db-8e01-ee3c60d6eafe');\n",
              "        const dataTable =\n",
              "          await google.colab.kernel.invokeFunction('convertToInteractive',\n",
              "                                                    [key], {});\n",
              "        if (!dataTable) return;\n",
              "\n",
              "        const docLinkHtml = 'Like what you see? Visit the ' +\n",
              "          '<a target=\"_blank\" href=https://colab.research.google.com/notebooks/data_table.ipynb>data table notebook</a>'\n",
              "          + ' to learn more about interactive tables.';\n",
              "        element.innerHTML = '';\n",
              "        dataTable['output_type'] = 'display_data';\n",
              "        await google.colab.output.renderOutput(dataTable, element);\n",
              "        const docLink = document.createElement('div');\n",
              "        docLink.innerHTML = docLinkHtml;\n",
              "        element.appendChild(docLink);\n",
              "      }\n",
              "    </script>\n",
              "  </div>\n",
              "\n",
              "\n",
              "<div id=\"df-7bc3d60b-2807-4c33-b84b-ead674ca6bd2\">\n",
              "  <button class=\"colab-df-quickchart\" onclick=\"quickchart('df-7bc3d60b-2807-4c33-b84b-ead674ca6bd2')\"\n",
              "            title=\"Suggest charts\"\n",
              "            style=\"display:none;\">\n",
              "\n",
              "<svg xmlns=\"http://www.w3.org/2000/svg\" height=\"24px\"viewBox=\"0 0 24 24\"\n",
              "     width=\"24px\">\n",
              "    <g>\n",
              "        <path d=\"M19 3H5c-1.1 0-2 .9-2 2v14c0 1.1.9 2 2 2h14c1.1 0 2-.9 2-2V5c0-1.1-.9-2-2-2zM9 17H7v-7h2v7zm4 0h-2V7h2v10zm4 0h-2v-4h2v4z\"/>\n",
              "    </g>\n",
              "</svg>\n",
              "  </button>\n",
              "\n",
              "<style>\n",
              "  .colab-df-quickchart {\n",
              "      --bg-color: #E8F0FE;\n",
              "      --fill-color: #1967D2;\n",
              "      --hover-bg-color: #E2EBFA;\n",
              "      --hover-fill-color: #174EA6;\n",
              "      --disabled-fill-color: #AAA;\n",
              "      --disabled-bg-color: #DDD;\n",
              "  }\n",
              "\n",
              "  [theme=dark] .colab-df-quickchart {\n",
              "      --bg-color: #3B4455;\n",
              "      --fill-color: #D2E3FC;\n",
              "      --hover-bg-color: #434B5C;\n",
              "      --hover-fill-color: #FFFFFF;\n",
              "      --disabled-bg-color: #3B4455;\n",
              "      --disabled-fill-color: #666;\n",
              "  }\n",
              "\n",
              "  .colab-df-quickchart {\n",
              "    background-color: var(--bg-color);\n",
              "    border: none;\n",
              "    border-radius: 50%;\n",
              "    cursor: pointer;\n",
              "    display: none;\n",
              "    fill: var(--fill-color);\n",
              "    height: 32px;\n",
              "    padding: 0;\n",
              "    width: 32px;\n",
              "  }\n",
              "\n",
              "  .colab-df-quickchart:hover {\n",
              "    background-color: var(--hover-bg-color);\n",
              "    box-shadow: 0 1px 2px rgba(60, 64, 67, 0.3), 0 1px 3px 1px rgba(60, 64, 67, 0.15);\n",
              "    fill: var(--button-hover-fill-color);\n",
              "  }\n",
              "\n",
              "  .colab-df-quickchart-complete:disabled,\n",
              "  .colab-df-quickchart-complete:disabled:hover {\n",
              "    background-color: var(--disabled-bg-color);\n",
              "    fill: var(--disabled-fill-color);\n",
              "    box-shadow: none;\n",
              "  }\n",
              "\n",
              "  .colab-df-spinner {\n",
              "    border: 2px solid var(--fill-color);\n",
              "    border-color: transparent;\n",
              "    border-bottom-color: var(--fill-color);\n",
              "    animation:\n",
              "      spin 1s steps(1) infinite;\n",
              "  }\n",
              "\n",
              "  @keyframes spin {\n",
              "    0% {\n",
              "      border-color: transparent;\n",
              "      border-bottom-color: var(--fill-color);\n",
              "      border-left-color: var(--fill-color);\n",
              "    }\n",
              "    20% {\n",
              "      border-color: transparent;\n",
              "      border-left-color: var(--fill-color);\n",
              "      border-top-color: var(--fill-color);\n",
              "    }\n",
              "    30% {\n",
              "      border-color: transparent;\n",
              "      border-left-color: var(--fill-color);\n",
              "      border-top-color: var(--fill-color);\n",
              "      border-right-color: var(--fill-color);\n",
              "    }\n",
              "    40% {\n",
              "      border-color: transparent;\n",
              "      border-right-color: var(--fill-color);\n",
              "      border-top-color: var(--fill-color);\n",
              "    }\n",
              "    60% {\n",
              "      border-color: transparent;\n",
              "      border-right-color: var(--fill-color);\n",
              "    }\n",
              "    80% {\n",
              "      border-color: transparent;\n",
              "      border-right-color: var(--fill-color);\n",
              "      border-bottom-color: var(--fill-color);\n",
              "    }\n",
              "    90% {\n",
              "      border-color: transparent;\n",
              "      border-bottom-color: var(--fill-color);\n",
              "    }\n",
              "  }\n",
              "</style>\n",
              "\n",
              "  <script>\n",
              "    async function quickchart(key) {\n",
              "      const quickchartButtonEl =\n",
              "        document.querySelector('#' + key + ' button');\n",
              "      quickchartButtonEl.disabled = true;  // To prevent multiple clicks.\n",
              "      quickchartButtonEl.classList.add('colab-df-spinner');\n",
              "      try {\n",
              "        const charts = await google.colab.kernel.invokeFunction(\n",
              "            'suggestCharts', [key], {});\n",
              "      } catch (error) {\n",
              "        console.error('Error during call to suggestCharts:', error);\n",
              "      }\n",
              "      quickchartButtonEl.classList.remove('colab-df-spinner');\n",
              "      quickchartButtonEl.classList.add('colab-df-quickchart-complete');\n",
              "    }\n",
              "    (() => {\n",
              "      let quickchartButtonEl =\n",
              "        document.querySelector('#df-7bc3d60b-2807-4c33-b84b-ead674ca6bd2 button');\n",
              "      quickchartButtonEl.style.display =\n",
              "        google.colab.kernel.accessAllowed ? 'block' : 'none';\n",
              "    })();\n",
              "  </script>\n",
              "</div>\n",
              "    </div>\n",
              "  </div>\n"
            ]
          },
          "metadata": {},
          "execution_count": 111
        }
      ]
    },
    {
      "cell_type": "markdown",
      "source": [
        "Как мы видим, результат не отличим от результатов, полученных ранее. Так в чем же преимущество использования данного метода?\n",
        "\n",
        "Метод `.pipe()` позволяет в более понятной и краткой манере применять несколько функций к датафрейму:"
      ],
      "metadata": {
        "id": "nLnrlVsFd3sf"
      }
    },
    {
      "cell_type": "code",
      "source": [
        "# Создадим функции, которые переведут количество денег в тысячи и добавят в конце значек доллара\n",
        "\n",
        "def number_to_thousands(series):\n",
        "  series /= 1000\n",
        "  return series\n",
        "\n",
        "def add_dollar_sign(series):\n",
        "  series = series.apply(lambda x: str(x) + '$')\n",
        "  return series\n",
        "\n",
        "kiva_loans_pipe['loan_amount'].pipe(number_to_thousands).pipe(add_dollar_sign)"
      ],
      "metadata": {
        "colab": {
          "base_uri": "https://localhost:8080/"
        },
        "id": "uZTPOM-5diY2",
        "outputId": "e1cb3783-6984-4d1e-de9c-9956ee131df4"
      },
      "execution_count": null,
      "outputs": [
        {
          "output_type": "execute_result",
          "data": {
            "text/plain": [
              "0           0.3$\n",
              "1         0.575$\n",
              "2          0.15$\n",
              "3           0.2$\n",
              "4           0.4$\n",
              "           ...  \n",
              "671200    0.025$\n",
              "671201    0.025$\n",
              "671202    0.025$\n",
              "671203    0.025$\n",
              "671204    0.025$\n",
              "Name: loan_amount, Length: 671205, dtype: object"
            ]
          },
          "metadata": {},
          "execution_count": 112
        }
      ]
    },
    {
      "cell_type": "markdown",
      "source": [
        "Сравните читаемость:"
      ],
      "metadata": {
        "id": "fC7vPvFpf0BA"
      }
    },
    {
      "cell_type": "code",
      "source": [
        "kiva_loans_pipe['loan_amount'].pipe(number_to_thousands).pipe(add_dollar_sign)"
      ],
      "metadata": {
        "colab": {
          "base_uri": "https://localhost:8080/"
        },
        "id": "pfXe6J2CfyU6",
        "outputId": "1f41d939-1380-4c37-9ca3-77199e7cbb16"
      },
      "execution_count": null,
      "outputs": [
        {
          "output_type": "execute_result",
          "data": {
            "text/plain": [
              "0           0.0003$\n",
              "1         0.000575$\n",
              "2          0.00015$\n",
              "3           0.0002$\n",
              "4           0.0004$\n",
              "            ...    \n",
              "671200     2.5e-05$\n",
              "671201     2.5e-05$\n",
              "671202     2.5e-05$\n",
              "671203     2.5e-05$\n",
              "671204     2.5e-05$\n",
              "Name: loan_amount, Length: 671205, dtype: object"
            ]
          },
          "metadata": {},
          "execution_count": 113
        }
      ]
    },
    {
      "cell_type": "code",
      "source": [
        "add_dollar_sign(number_to_thousands(kiva_loans_pipe['loan_amount']))"
      ],
      "metadata": {
        "colab": {
          "base_uri": "https://localhost:8080/"
        },
        "id": "jqqb6hAcfVJF",
        "outputId": "2f38bbfa-dfe9-4a59-d5a8-4cbfa31ddeec"
      },
      "execution_count": null,
      "outputs": [
        {
          "output_type": "execute_result",
          "data": {
            "text/plain": [
              "0                          3e-07$\n",
              "1                       5.75e-07$\n",
              "2                        1.5e-07$\n",
              "3         2.0000000000000002e-07$\n",
              "4         4.0000000000000003e-07$\n",
              "                   ...           \n",
              "671200    2.5000000000000002e-08$\n",
              "671201    2.5000000000000002e-08$\n",
              "671202    2.5000000000000002e-08$\n",
              "671203    2.5000000000000002e-08$\n",
              "671204    2.5000000000000002e-08$\n",
              "Name: loan_amount, Length: 671205, dtype: object"
            ]
          },
          "metadata": {},
          "execution_count": 114
        }
      ]
    },
    {
      "cell_type": "markdown",
      "source": [
        "В чем отличия методов `.apply()` и `.pipe`?\n",
        "\n",
        "**Метод .apply():**\n",
        "1. **Применение к строкам или столбцам:** .apply() в основном используется для применения функции вдоль оси DataFrame, либо вдоль строк (axis=0), либо вдоль столбцов (axis=1).\n",
        "2. **Гибкость функций:** Этот метод универсальный и может принимать функции, работающие с одномерными массивами, такими как объекты Series.\n",
        "3. **Операции вдоль столбцов или строк:** .apply() может выполнять операции вдоль столбцов или строк, что делает его мощным инструментом для настраиваемых преобразований.\n",
        "4. **Доступ к нескольким столбцам:** Функция, переданная .apply(), может обращаться к нескольким столбцам одновременно и возвращать Series или скалярное значение.\n",
        "\n",
        "**Метод .pipe():**\n",
        "1. **Цепочка методов:** .pipe() предназначен для цепочки методов, что позволяет вам более свободно объединять несколько операций.\n",
        "2. **Передача DataFrame в функцию:** Он принимает функцию в качестве аргумента, и эта функция может принимать и возвращать DataFrame. Это делает его удобным для более сложных манипуляций данными.\n",
        "3. **Ясность и читаемость кода:** .pipe() может повысить ясность и читаемость вашего кода, когда у вас есть последовательность операций с DataFrame.\n",
        "4. **Пользовательские функции:** Можно определить пользовательские функции и применять их с использованием .pipe(), что полезно для создания многоразовых конвейеров обработки данных."
      ],
      "metadata": {
        "id": "Pw1AMqi5mNiC"
      }
    },
    {
      "cell_type": "markdown",
      "source": [
        "Самое полезное для нас в рамках этого курса - метод `.pipe` позволяет создавать и использовать шаблоны для наших графиков, которые можно будет использовать в нашем анализе."
      ],
      "metadata": {
        "id": "5gLCZc2hhhyM"
      }
    },
    {
      "cell_type": "markdown",
      "source": [
        "## Заключение и выводы"
      ],
      "metadata": {
        "id": "-peIHkuyZ_yP"
      }
    },
    {
      "cell_type": "markdown",
      "source": [
        "В этом модуле мы познакомились с основными принципами работы с временем в Python, научились визуализировать графики и строить временные ряды с помощью Pandas, создали собственные функции для обработки данных в Pandas, повторили концепты, пройденные в предыдущем модуле.\n",
        "\n",
        "1. Работа со временем\n",
        "   - Для работы со временем есть специальные библиотеки. Самая популярная из них - `time`. Однако использование этой библиотеки в отрыве от всего остального не очень удобно.\n",
        "   - В рамках библиотеки Pandas уже встроены все необходимые методы и собственный тип данных для работы со временем `TimeStamp`.\n",
        "   - После импорта данных со столбцом дат, необходимо проверить тип данных этого столбца. В случае, если даты импортировались некорректно, стоит использовать функцию `pd.to_datetime()`.\n",
        "2. Использование Pandas для визуализации\n",
        "   - В библиотеке Pandas есть ряд методов для простейшей визуализации данных. Например, чтобы создать быструю визуализацию в ходе EDA, необязательно обращаться к другим библиотекам.\n",
        "   - Самые популярные типы визуализации можно создать напрямую указав название графика (`df.hist()` или `df.plot()`), к другим же можно обратиться лишь через подмодуль `.plot` (`df.plot.bar()` или `df.plot.scatter()`).\n",
        "   - С помощью встроенных методов Pandas можно строить визуализацию временных рядов, обозначив в качестве параметра `x` столбец с временем. Например, `loans_per_month.plot.bar(x='YearMonth', y='funded_amount', figsize=(8, 5))`.\n",
        "3. Написание собственных функций для работы с Pandas\n",
        "   - Написав функцию, ее можно применить к столбцам или строкам датафрейма с помощью метода `.apply()`.\n",
        "   - Создание собственных функций может помочь при создании визуализаций в Pandas.\n",
        "   - Для того, чтобы создать собственные функции для применения к нескольким столбцам или ко всему датасету используется метод `.pipe()`. Этот метод специально создан для того чтобы максимально эффективно применять последовательно несколько функций к одному датасету."
      ],
      "metadata": {
        "id": "FnWKHtx-aHwa"
      }
    }
  ]
}