{
  "cells": [
    {
      "cell_type": "markdown",
      "id": "497f4b8b-f6dc-4a6f-ad1e-4d3ef3f07545",
      "metadata": {
        "id": "497f4b8b-f6dc-4a6f-ad1e-4d3ef3f07545"
      },
      "source": [
        "# Семинар 1"
      ]
    },
    {
      "cell_type": "markdown",
      "id": "26c298c2-087c-4d0a-8afc-1ca0fae75e02",
      "metadata": {
        "id": "26c298c2-087c-4d0a-8afc-1ca0fae75e02"
      },
      "source": [
        "## Введение в TF-IDF"
      ]
    },
    {
      "cell_type": "markdown",
      "id": "2a62c39f-7940-40ee-89da-8c60dfbe2e41",
      "metadata": {
        "id": "2a62c39f-7940-40ee-89da-8c60dfbe2e41"
      },
      "source": [
        "TF-IDF (частота термина — обратная частота документа) — это статистическая мера, используемая для оценки важности слова в контексте документа, который является частью коллекции или корпуса. Эта величина увеличивается пропорционально количеству раз, когда слово появляется в документе, но компенсируется частотой слова в корпусе, что помогает контролировать факт, что некоторые слова встречаются более обще."
      ]
    },
    {
      "cell_type": "markdown",
      "id": "159e8c14-c5b8-401a-b8df-0db2804c7b63",
      "metadata": {
        "id": "159e8c14-c5b8-401a-b8df-0db2804c7b63"
      },
      "source": [
        "## Ключевые концепции"
      ]
    },
    {
      "cell_type": "markdown",
      "id": "c34a46a0-b741-4559-8197-513aebac5057",
      "metadata": {
        "id": "c34a46a0-b741-4559-8197-513aebac5057"
      },
      "source": [
        "- **Частота термина (TF)**: Количество раз, когда определенное слово появляется в документе.\n",
        "- **Обратная частота документа (IDF)**: Мера того, насколько уникально или редко слово встречается во всем корпусе.\n",
        "- **Зачем использовать TF-IDF**: Этот метод помогает выявлять наиболее важные слова в тексте, что особенно полезно для задач обработки естественного языка, таких как поиск информации, классификация текстов и других.\n",
        "\n",
        "В этом разделе мы подробно рассмотрим, как рассчитывается TF-IDF, и покажем, как его можно применять на практике для анализа текстовых данных."
      ]
    },
    {
      "cell_type": "markdown",
      "id": "75fc1946-862c-488f-9daa-34db30132c29",
      "metadata": {
        "id": "75fc1946-862c-488f-9daa-34db30132c29"
      },
      "source": [
        "$$\\text{tf-idf}(t, d, D) = \\text{tf}(t, d) \\times \\text{idf}(t, d, D)$$"
      ]
    },
    {
      "cell_type": "markdown",
      "id": "7bcafb09-b121-4703-97cd-ce14639a697b",
      "metadata": {
        "id": "7bcafb09-b121-4703-97cd-ce14639a697b"
      },
      "source": [
        "Здесь  \n",
        "t - обозначает конкретные слова;  \n",
        "d - обозначает каждый документ;  \n",
        "D - обозначает коллекцию документов"
      ]
    },
    {
      "cell_type": "markdown",
      "id": "036f5c79-7840-46de-955a-07013a9ead0e",
      "metadata": {
        "id": "036f5c79-7840-46de-955a-07013a9ead0e"
      },
      "source": [
        "Первая часть формулы $tf(t, d)$ отвечает за частоту слов, которая определяется как количество раз, которое втстречается конкретное слово $t$ в рассматриваемом документе $d$."
      ]
    },
    {
      "cell_type": "markdown",
      "id": "42496b0d-f293-4b46-9627-9336ffd14ae2",
      "metadata": {
        "id": "42496b0d-f293-4b46-9627-9336ffd14ae2"
      },
      "source": [
        "Чтобы понять вторую часть формулы $\\text{idf}(t, d, D)$, обратной частоты документа, давайте сначала запишем полную математическую формулу для IDF."
      ]
    },
    {
      "cell_type": "markdown",
      "id": "434a8fa5-bf09-4a2f-a327-e147fd2d03f1",
      "metadata": {
        "id": "434a8fa5-bf09-4a2f-a327-e147fd2d03f1"
      },
      "source": [
        "$$ idf(t, d, D) = log \\frac{ \\mid \\text{ } D \\text{ } \\mid }{ 1 + \\mid \\{ d : t \\in d \\} \\mid } $$"
      ]
    },
    {
      "cell_type": "markdown",
      "id": "b7563764-58e4-4566-a091-bb1022ee4310",
      "metadata": {
        "id": "b7563764-58e4-4566-a091-bb1022ee4310"
      },
      "source": [
        "Числитель: D относится к нашему пространству документов. Его также можно представить как D = ${ d_{1}, d_{2}, \\dots, d_{n} }$, где n - количество документов в вашей коллекции."
      ]
    },
    {
      "cell_type": "markdown",
      "id": "e1c86328-4f6f-436d-a26b-e705e48c3dae",
      "metadata": {
        "id": "e1c86328-4f6f-436d-a26b-e705e48c3dae"
      },
      "source": [
        "Знаменатель: $\\mid { d: t \\in d } \\mid$ - это частота документов. Или по другому, это количество документов $d$, содержащих слово $t$. Обратите внимание, что это подразумевает, что не имеет значения, появился ли термин 1 раз или 100 раз в документе, он все равно будет учитываться как 1, поскольку слово действительно появилось в документе.  \n",
        "Также будем считать, что если слово встретилось во всех документах, то его $$ idf(t, d, D) = 0 $$"
      ]
    },
    {
      "cell_type": "markdown",
      "id": "68291207-a2ad-46e7-9eb1-18b31185929a",
      "metadata": {
        "id": "68291207-a2ad-46e7-9eb1-18b31185929a"
      },
      "source": [
        "Константа 1 добавляется к знаменателю, чтобы избежать ошибки деления на ноль, если термин не содержится ни в одном документе тестового набора данных."
      ]
    },
    {
      "cell_type": "markdown",
      "id": "fb012378-a089-49c5-b38d-e9a2d769ce20",
      "metadata": {
        "id": "fb012378-a089-49c5-b38d-e9a2d769ce20"
      },
      "source": [
        "### Задание 1"
      ]
    },
    {
      "cell_type": "markdown",
      "id": "fc77826e-9910-47cb-9327-d32a533f7bdd",
      "metadata": {
        "id": "fc77826e-9910-47cb-9327-d32a533f7bdd"
      },
      "source": [
        "Посчитаем на игрушечном примере"
      ]
    },
    {
      "cell_type": "code",
      "execution_count": 1,
      "id": "ec890399-3d82-46f0-9f5b-c6564afcc4b6",
      "metadata": {
        "id": "ec890399-3d82-46f0-9f5b-c6564afcc4b6"
      },
      "outputs": [],
      "source": [
        "import numpy as np\n",
        "from collections import Counter\n",
        "from math import log"
      ]
    },
    {
      "cell_type": "markdown",
      "id": "64ddb7b9-d6f5-42fa-8917-c13f165f9a95",
      "metadata": {
        "id": "64ddb7b9-d6f5-42fa-8917-c13f165f9a95"
      },
      "source": [
        "Напишем класс для подсчета TF-IDF заданного корпуса документов (предложений). Вам нужно реализовать два метода, вычисляющие TF и IDF. Подсказки по реализации можно найти в описании методов"
      ]
    },
    {
      "cell_type": "code",
      "execution_count": 2,
      "id": "e8fbe25b-d20e-4af0-b6c2-ca37fa9412b7",
      "metadata": {
        "colab": {
          "base_uri": "https://localhost:8080/"
        },
        "id": "e8fbe25b-d20e-4af0-b6c2-ca37fa9412b7",
        "outputId": "31e123e9-c7ec-42d4-8ba9-738bd930f959"
      },
      "outputs": [
        {
          "output_type": "execute_result",
          "data": {
            "text/plain": [
              "[]"
            ]
          },
          "metadata": {},
          "execution_count": 2
        }
      ],
      "source": [
        "class ToyTfIdf:\n",
        "    def __init__(self, sentences):\n",
        "        self.sentences = [self.preprocess(sentence) for sentence in sentences]\n",
        "        self.tf_scores = []\n",
        "        self.idf_scores = {}\n",
        "        self.tf_idf_scores = []\n",
        "\n",
        "    @staticmethod\n",
        "    def preprocess(sentence: str) -> str:\n",
        "        return sentence.lower().replace('.', '')\n",
        "\n",
        "    def compute_tf(self, sentence: str) -> dict[str, float]:\n",
        "        \"\"\"\n",
        "        Computes the term frequency for each word in a given sentence.\n",
        "        Recall that Term Frequency (TF) for a word in a document is\n",
        "        calculated by dividing the number of times the word appears in the document by the total number of words in the document.\n",
        "        \"\"\"\n",
        "        # YOUR CODE HERE\n",
        "        pass\n",
        "\n",
        "    def compute_idf(self):\n",
        "        \"\"\"\n",
        "        Calculates the inverse document frequency for each unique word across all sentences.\n",
        "        Inverse Document Frequency (IDF) measures how important a word is across multiple documents.\n",
        "        It's calculated as the logarithm of the ratio of the total number of documents to the number of documents containing the word.\n",
        "        \"\"\"\n",
        "        # YOUR CODE HERE\n",
        "        pass\n",
        "\n",
        "    def compute_tf_idf(self):\n",
        "        \"\"\"\n",
        "        Calculates the TF-IDF score for each word in each sentence based on the previously computed TF and IDF scores.\n",
        "        \"\"\"\n",
        "        # YOUR CODE HERE\n",
        "        pass\n",
        "\n",
        "    def calculate_scores(self) -> list[dict[str, float]]:\n",
        "        \"\"\"\n",
        "        Orchestrates the computation of TF, IDF, and TF-IDF scores for the given sentences.\n",
        "        \"\"\"\n",
        "        # Calculate TF scores\n",
        "        self.tf_scores = [self.compute_tf(sentence) for sentence in self.sentences]\n",
        "        self.compute_idf()\n",
        "        self.compute_tf_idf()\n",
        "\n",
        "        return self.tf_idf_scores\n",
        "\n",
        "# Example usage\n",
        "toy_data = [\n",
        "    \"Кот спит на подушке.\",\n",
        "    \"Собака лежит на ковре в гостиной.\",\n",
        "    \"Кот и собака играют вместе на улице.\"\n",
        "]\n",
        "\n",
        "toy_tf_idf = ToyTfIdf(toy_data)\n",
        "tf_idf_results = toy_tf_idf.calculate_scores()\n",
        "tf_idf_results"
      ]
    },
    {
      "cell_type": "code",
      "execution_count": 3,
      "id": "255b626c-8850-45fb-beb0-687684c3cdb4",
      "metadata": {
        "colab": {
          "base_uri": "https://localhost:8080/"
        },
        "id": "255b626c-8850-45fb-beb0-687684c3cdb4",
        "outputId": "7c6e77f0-61a2-4646-f0bc-3952b66ec3d8"
      },
      "outputs": [
        {
          "output_type": "execute_result",
          "data": {
            "text/plain": [
              "[{'кот': 0.0,\n",
              "  'спит': 0.1013662770270411,\n",
              "  'на': 0.0,\n",
              "  'подушке': 0.1013662770270411},\n",
              " {'собака': 0.0,\n",
              "  'лежит': 0.06757751801802739,\n",
              "  'на': 0.0,\n",
              "  'ковре': 0.06757751801802739,\n",
              "  'в': 0.06757751801802739,\n",
              "  'гостиной': 0.06757751801802739},\n",
              " {'кот': 0.0,\n",
              "  'и': 0.05792358687259491,\n",
              "  'собака': 0.0,\n",
              "  'играют': 0.05792358687259491,\n",
              "  'вместе': 0.05792358687259491,\n",
              "  'на': 0.0,\n",
              "  'улице': 0.05792358687259491}]"
            ]
          },
          "metadata": {},
          "execution_count": 3
        }
      ],
      "source": [
        "# solved\n",
        "\n",
        "class ToyTfIdf:\n",
        "    def __init__(self, sentences):\n",
        "        self.sentences = [self.preprocess(sentence) for sentence in sentences]\n",
        "        self.tf_scores = []\n",
        "        self.idf_scores = {}\n",
        "        self.tf_idf_scores = []\n",
        "\n",
        "    @staticmethod\n",
        "    def preprocess(sentence: str) -> str:\n",
        "        # Lowercase and remove punctuation\n",
        "        return sentence.lower().replace('.', '')\n",
        "\n",
        "    def compute_tf(self, sentence: str) -> dict[str, float]:\n",
        "        tf_dict = {}\n",
        "        words = sentence.split()\n",
        "        word_count = len(words)\n",
        "        word_counts = Counter(words)\n",
        "        for word, count in word_counts.items():\n",
        "            tf_dict[word] = count / float(word_count)\n",
        "        return tf_dict\n",
        "\n",
        "    def compute_idf(self):\n",
        "        N = len(self.sentences)\n",
        "        all_words = set(word for sentence in self.sentences for word in sentence.split())\n",
        "        for word in all_words:\n",
        "            count = sum(word in sentence.split() for sentence in self.sentences)\n",
        "            if count == len(self.sentences):\n",
        "                self.idf_scores[word] = 0\n",
        "            else:\n",
        "                self.idf_scores[word] = log(N / (1 + float(count)))\n",
        "\n",
        "    def compute_tf_idf(self):\n",
        "        for tf in self.tf_scores:\n",
        "            tf_idf_dict = {}\n",
        "            for word, tf_score in tf.items():\n",
        "                tf_idf_dict[word] = tf_score * self.idf_scores[word]\n",
        "            self.tf_idf_scores.append(tf_idf_dict)\n",
        "\n",
        "    def calculate_scores(self) -> list[dict[str, float]]:\n",
        "        # Calculate TF scores\n",
        "        self.tf_scores = [self.compute_tf(sentence) for sentence in self.sentences]\n",
        "\n",
        "        # Calculate IDF scores\n",
        "        self.compute_idf()\n",
        "\n",
        "        # Calculate TF-IDF scores\n",
        "        self.compute_tf_idf()\n",
        "\n",
        "        return self.tf_idf_scores\n",
        "\n",
        "\n",
        "sentences = [\n",
        "    \"Кот спит на подушке\",\n",
        "    \"Собака лежит на ковре в гостиной\",\n",
        "    \"Кот и собака играют вместе на улице\"\n",
        "]\n",
        "\n",
        "toy_tf_idf = ToyTfIdf(sentences)\n",
        "tf_idf_results = toy_tf_idf.calculate_scores()\n",
        "tf_idf_results"
      ]
    },
    {
      "cell_type": "code",
      "execution_count": 5,
      "id": "9a698890-e5e8-4a6c-bf61-d1fee6fc72c7",
      "metadata": {
        "colab": {
          "base_uri": "https://localhost:8080/"
        },
        "id": "9a698890-e5e8-4a6c-bf61-d1fee6fc72c7",
        "outputId": "96890790-b08e-440b-b9bc-0a68d1ca67aa"
      },
      "outputs": [
        {
          "output_type": "stream",
          "name": "stdout",
          "text": [
            "All checks passed!\n"
          ]
        }
      ],
      "source": [
        "toy_tf_idf = ToyTfIdf([\"Кот спит на подушке\"])\n",
        "computed_tf = toy_tf_idf.compute_tf(toy_tf_idf.sentences[0])\n",
        "expected_tf_for_word_кот = 0.25  # The word 'Кот' appears once in a sentence of 4 words.\n",
        "assert computed_tf.get('кот', 0) == expected_tf_for_word_кот, \"TF calculation is incorrect for word 'кот'\"\n",
        "\n",
        "toy_tf_idf = ToyTfIdf([\"Кот спит\", \"Кот ест\", \"Кот играет\"])\n",
        "toy_tf_idf.compute_idf()\n",
        "expected_idf_for_common_word = 0  # The word 'Кот' appears in all 3 documents.\n",
        "assert toy_tf_idf.idf_scores.get('кот', -1) == expected_idf_for_common_word, \"IDF calculation is incorrect for a word appearing in all documents\"\n",
        "\n",
        "toy_tf_idf = ToyTfIdf([\"Кот спит на подушке\", \"Собака лежит\", \"Кот и собака играют\"])\n",
        "toy_tf_idf.tf_scores = [toy_tf_idf.compute_tf(sentence) for sentence in toy_tf_idf.sentences]\n",
        "toy_tf_idf.compute_idf()\n",
        "toy_tf_idf.compute_tf_idf()\n",
        "expected_tf_idf_for_word_спит = toy_tf_idf.tf_scores[0]['спит'] * toy_tf_idf.idf_scores['спит']\n",
        "assert toy_tf_idf.tf_idf_scores[0].get('спит', 0) == expected_tf_idf_for_word_спит, \"TF-IDF calculation is incorrect for word 'спит'\"\n",
        "\n",
        "toy_tf_idf = ToyTfIdf([\"Кот спит\", \"Собака лежит\", \"Кот играет\"])\n",
        "result = toy_tf_idf.calculate_scores()\n",
        "assert len(result) == 3, \"The number of calculated TF-IDF dictionaries should match the number of sentences\"\n",
        "assert all(isinstance(d, dict) for d in result), \"Each item in the result should be a dictionary\"\n",
        "\n",
        "print(\"All checks passed!\")\n"
      ]
    },
    {
      "cell_type": "markdown",
      "id": "b83ea17e-1dca-4260-8f8c-6da554caf900",
      "metadata": {
        "id": "b83ea17e-1dca-4260-8f8c-6da554caf900"
      },
      "source": [
        "### Продолжаем"
      ]
    },
    {
      "cell_type": "markdown",
      "id": "78ff0f18-a23e-4e45-bdfe-07d48f8c9d2e",
      "metadata": {
        "id": "78ff0f18-a23e-4e45-bdfe-07d48f8c9d2e"
      },
      "source": [
        "Отлично, теперь давайте посмотрим на пример реального использования TF-IDF из библиотеки sklearn для задачи кластеризации текстов"
      ]
    },
    {
      "cell_type": "code",
      "execution_count": 6,
      "id": "ff15ee54-0976-4bef-98da-3c96e60ba79c",
      "metadata": {
        "scrolled": true,
        "colab": {
          "base_uri": "https://localhost:8080/"
        },
        "id": "ff15ee54-0976-4bef-98da-3c96e60ba79c",
        "outputId": "8b85108c-817a-4643-b705-fb402512350c"
      },
      "outputs": [
        {
          "output_type": "stream",
          "name": "stderr",
          "text": [
            "[nltk_data] Downloading package punkt to /root/nltk_data...\n",
            "[nltk_data]   Unzipping tokenizers/punkt.zip.\n"
          ]
        }
      ],
      "source": [
        "import pandas as pd\n",
        "import nltk\n",
        "nltk.download('punkt')\n",
        "from nltk.tokenize import word_tokenize, wordpunct_tokenize, sent_tokenize"
      ]
    },
    {
      "cell_type": "markdown",
      "id": "6348a0db-7500-49ee-8aa8-fbbeb4dbc82a",
      "metadata": {
        "id": "6348a0db-7500-49ee-8aa8-fbbeb4dbc82a"
      },
      "source": [
        "Загрузим пример с данными из новостного источника Lenta.ru"
      ]
    },
    {
      "cell_type": "code",
      "source": [
        "!unzip ./lenta-ru-news_shrinked.zip"
      ],
      "metadata": {
        "colab": {
          "base_uri": "https://localhost:8080/"
        },
        "id": "r81E5EtGUxzG",
        "outputId": "369e9dab-a4b5-4e6b-cd7b-85e61a282acc"
      },
      "id": "r81E5EtGUxzG",
      "execution_count": 7,
      "outputs": [
        {
          "output_type": "stream",
          "name": "stdout",
          "text": [
            "Archive:  ./lenta-ru-news_shrinked.zip\n",
            "  inflating: lenta-ru-news_shrinked.csv  \n"
          ]
        }
      ]
    },
    {
      "cell_type": "code",
      "execution_count": 8,
      "id": "53138ec1-7dd7-48f0-8f62-577d50a934d6",
      "metadata": {
        "id": "53138ec1-7dd7-48f0-8f62-577d50a934d6"
      },
      "outputs": [],
      "source": [
        "data_path = './lenta-ru-news_shrinked.csv'\n",
        "\n",
        "df = pd.read_csv(data_path)"
      ]
    },
    {
      "cell_type": "code",
      "execution_count": 9,
      "id": "2739b434-e73d-4376-9a07-988713f39bcd",
      "metadata": {
        "colab": {
          "base_uri": "https://localhost:8080/"
        },
        "id": "2739b434-e73d-4376-9a07-988713f39bcd",
        "outputId": "78f47554-1cfa-4b6b-e7c6-83dd7f9c3d0e"
      },
      "outputs": [
        {
          "output_type": "stream",
          "name": "stdout",
          "text": [
            "<class 'pandas.core.frame.DataFrame'>\n",
            "RangeIndex: 92555 entries, 0 to 92554\n",
            "Data columns (total 6 columns):\n",
            " #   Column  Non-Null Count  Dtype \n",
            "---  ------  --------------  ----- \n",
            " 0   url     92555 non-null  object\n",
            " 1   title   92555 non-null  object\n",
            " 2   text    92555 non-null  object\n",
            " 3   topic   92555 non-null  object\n",
            " 4   tags    85998 non-null  object\n",
            " 5   date    92555 non-null  object\n",
            "dtypes: object(6)\n",
            "memory usage: 4.2+ MB\n"
          ]
        }
      ],
      "source": [
        "df.info()"
      ]
    },
    {
      "cell_type": "code",
      "execution_count": 10,
      "id": "074089eb-472b-4bf8-9062-d381fe591463",
      "metadata": {
        "colab": {
          "base_uri": "https://localhost:8080/"
        },
        "id": "074089eb-472b-4bf8-9062-d381fe591463",
        "outputId": "06eb5fb9-1431-4557-cf99-7b1ee02a1734"
      },
      "outputs": [
        {
          "output_type": "execute_result",
          "data": {
            "text/plain": [
              "Спорт          64413\n",
              "Дом            21734\n",
              "Путешествия     6408\n",
              "Name: topic, dtype: int64"
            ]
          },
          "metadata": {},
          "execution_count": 10
        }
      ],
      "source": [
        "df['topic'].value_counts()"
      ]
    },
    {
      "cell_type": "code",
      "execution_count": 11,
      "id": "ad5d2c6f-8ae8-416f-82c2-6d6ab290fff0",
      "metadata": {
        "colab": {
          "base_uri": "https://localhost:8080/",
          "height": 87
        },
        "id": "ad5d2c6f-8ae8-416f-82c2-6d6ab290fff0",
        "outputId": "62fc84b2-d257-4369-d218-9444c225ead9"
      },
      "outputs": [
        {
          "output_type": "execute_result",
          "data": {
            "text/plain": [
              "'Семикратная победительница Уимблдона может на этой неделе отправиться в Антарктиду с тем, чтобы оттуда дать несколько прямых телеуроков игры в теннис. Соорудить подобие корта берется аргентинская антарктическая станция \"Вице-коммондор Марамбио\". Однако осуществить пожелание Штеффи Граф не так просто:станция находится в ведении аргентинского военного ведомства идоступ туда возможен только с разрешения правительства. Крометого, для полета на станцию необходим военно-транспортныйсамолет, способный совершить посадку на короткой снежнойполосе.'"
            ],
            "application/vnd.google.colaboratory.intrinsic+json": {
              "type": "string"
            }
          },
          "metadata": {},
          "execution_count": 11
        }
      ],
      "source": [
        "df.loc[0, 'text']"
      ]
    },
    {
      "cell_type": "code",
      "execution_count": 12,
      "id": "5dd06159-039a-49d4-8afd-cec66f96631b",
      "metadata": {
        "scrolled": true,
        "colab": {
          "base_uri": "https://localhost:8080/"
        },
        "id": "5dd06159-039a-49d4-8afd-cec66f96631b",
        "outputId": "399a896e-ecf4-4ac2-deea-2a9b0cac6cda"
      },
      "outputs": [
        {
          "output_type": "execute_result",
          "data": {
            "text/plain": [
              "['Семикратная',\n",
              " 'победительница',\n",
              " 'Уимблдона',\n",
              " 'может',\n",
              " 'на',\n",
              " 'этой',\n",
              " 'неделе',\n",
              " 'отправиться',\n",
              " 'в',\n",
              " 'Антарктиду',\n",
              " 'с',\n",
              " 'тем',\n",
              " ',',\n",
              " 'чтобы',\n",
              " 'оттуда',\n",
              " 'дать',\n",
              " 'несколько',\n",
              " 'прямых',\n",
              " 'телеуроков',\n",
              " 'игры',\n",
              " 'в',\n",
              " 'теннис',\n",
              " '.',\n",
              " 'Соорудить',\n",
              " 'подобие',\n",
              " 'корта',\n",
              " 'берется',\n",
              " 'аргентинская',\n",
              " 'антарктическая',\n",
              " 'станция',\n",
              " '\"',\n",
              " 'Вице',\n",
              " '-',\n",
              " 'коммондор',\n",
              " 'Марамбио',\n",
              " '\".',\n",
              " 'Однако',\n",
              " 'осуществить',\n",
              " 'пожелание',\n",
              " 'Штеффи',\n",
              " 'Граф',\n",
              " 'не',\n",
              " 'так',\n",
              " 'просто',\n",
              " ':',\n",
              " 'станция',\n",
              " 'находится',\n",
              " 'в',\n",
              " 'ведении',\n",
              " 'аргентинского',\n",
              " 'военного',\n",
              " 'ведомства',\n",
              " 'идоступ',\n",
              " 'туда',\n",
              " 'возможен',\n",
              " 'только',\n",
              " 'с',\n",
              " 'разрешения',\n",
              " 'правительства',\n",
              " '.',\n",
              " 'Крометого',\n",
              " ',',\n",
              " 'для',\n",
              " 'полета',\n",
              " 'на',\n",
              " 'станцию',\n",
              " 'необходим',\n",
              " 'военно',\n",
              " '-',\n",
              " 'транспортныйсамолет',\n",
              " ',',\n",
              " 'способный',\n",
              " 'совершить',\n",
              " 'посадку',\n",
              " 'на',\n",
              " 'короткой',\n",
              " 'снежнойполосе',\n",
              " '.']"
            ]
          },
          "metadata": {},
          "execution_count": 12
        }
      ],
      "source": [
        "wordpunct_tokenize(df.loc[0, 'text'])"
      ]
    },
    {
      "cell_type": "code",
      "execution_count": 13,
      "id": "184e002e-85e4-4c15-a322-3d2bb0a24fe6",
      "metadata": {
        "colab": {
          "base_uri": "https://localhost:8080/"
        },
        "id": "184e002e-85e4-4c15-a322-3d2bb0a24fe6",
        "outputId": "2436282c-bf2d-4ba5-bf30-43930883119b"
      },
      "outputs": [
        {
          "output_type": "execute_result",
          "data": {
            "text/plain": [
              "92555"
            ]
          },
          "metadata": {},
          "execution_count": 13
        }
      ],
      "source": [
        "tokenized_sentences = df['text'].apply(wordpunct_tokenize)\n",
        "len(tokenized_sentences)"
      ]
    },
    {
      "cell_type": "markdown",
      "id": "089ad6cc-c96f-4be1-acf2-925e400f8ae6",
      "metadata": {
        "id": "089ad6cc-c96f-4be1-acf2-925e400f8ae6"
      },
      "source": [
        "### Давайте построим TF-IDF векторизатор для текста статей"
      ]
    },
    {
      "cell_type": "markdown",
      "id": "7efeeda9-e2ef-415d-878a-999350338216",
      "metadata": {
        "id": "7efeeda9-e2ef-415d-878a-999350338216"
      },
      "source": [
        "В реальности вы не будете с нуля писать свой TF-IDF, поэтому давайте попробуем использовать готовую реализацию из библиотеки sklearn"
      ]
    },
    {
      "cell_type": "code",
      "execution_count": 14,
      "id": "0dab9508-83d7-40ad-812a-a86e7e10a7f0",
      "metadata": {
        "colab": {
          "base_uri": "https://localhost:8080/"
        },
        "id": "0dab9508-83d7-40ad-812a-a86e7e10a7f0",
        "outputId": "82d95603-2fe0-4891-a4dd-585f1276b529"
      },
      "outputs": [
        {
          "output_type": "stream",
          "name": "stderr",
          "text": [
            "[nltk_data] Downloading package stopwords to /root/nltk_data...\n",
            "[nltk_data]   Unzipping corpora/stopwords.zip.\n"
          ]
        }
      ],
      "source": [
        "from sklearn.feature_extraction.text import TfidfVectorizer\n",
        "import  nltk\n",
        "nltk.download('stopwords')\n",
        "\n",
        "from nltk.corpus import stopwords\n",
        "russian_stopwords = stopwords.words(\"russian\")\n",
        "russian_stopwords.extend(['это', 'нею'])"
      ]
    },
    {
      "cell_type": "markdown",
      "id": "169ef9c4-0e7e-4c88-8b45-1f33fd7b993a",
      "metadata": {
        "id": "169ef9c4-0e7e-4c88-8b45-1f33fd7b993a"
      },
      "source": [
        "### Initailize TfidfVectorizer"
      ]
    },
    {
      "cell_type": "markdown",
      "id": "4f9127ae-54d8-4190-9a3e-8381d9acf947",
      "metadata": {
        "id": "4f9127ae-54d8-4190-9a3e-8381d9acf947"
      },
      "source": [
        "Инициализируйте TfidfVectorizer с ограничением размера словаря любым значением до 30000, игнорированием русских стоп-слов и использованием заданного токенизатора."
      ]
    },
    {
      "cell_type": "code",
      "execution_count": 15,
      "id": "2c79d1cb-e6d7-4b82-9b42-efd7d75afc9d",
      "metadata": {
        "id": "2c79d1cb-e6d7-4b82-9b42-efd7d75afc9d"
      },
      "outputs": [],
      "source": [
        "vectorizer = TfidfVectorizer(\n",
        "    # YOUR CODE HERE\n",
        ")"
      ]
    },
    {
      "cell_type": "code",
      "execution_count": 16,
      "id": "e8432a37-e2ff-47f0-a1fa-d308eb841675",
      "metadata": {
        "id": "e8432a37-e2ff-47f0-a1fa-d308eb841675"
      },
      "outputs": [],
      "source": [
        "# solved\n",
        "\n",
        "vectorizer = TfidfVectorizer(stop_words=russian_stopwords,\n",
        "                             ngram_range=(1,3),\n",
        "                             max_features=5024,\n",
        "                             tokenizer=wordpunct_tokenize)"
      ]
    },
    {
      "cell_type": "code",
      "execution_count": 17,
      "id": "506b0963-5764-405b-b6be-a33f5d1e44c8",
      "metadata": {
        "colab": {
          "base_uri": "https://localhost:8080/"
        },
        "id": "506b0963-5764-405b-b6be-a33f5d1e44c8",
        "outputId": "a5e30c42-e732-4651-c5e8-b2ba27efd7a3"
      },
      "outputs": [
        {
          "output_type": "stream",
          "name": "stdout",
          "text": [
            "All checks passed!\n"
          ]
        }
      ],
      "source": [
        "assert vectorizer.get_params()['stop_words'] == russian_stopwords, \"You forgot to add russian stopwords for calculation\"\n",
        "\n",
        "assert vectorizer.get_params()['tokenizer'] == wordpunct_tokenize, \"Tokenizer that you use is incorrect, it should be wordpunct_tokenize\"\n",
        "\n",
        "assert vectorizer.get_params()['max_features'] < 30000, \"Size of your final vocabulary is inapropiate\"\n",
        "\n",
        "print(\"All checks passed!\")"
      ]
    },
    {
      "cell_type": "code",
      "execution_count": 18,
      "id": "9f73395f-444d-42fd-a93b-3ecc86e17868",
      "metadata": {
        "scrolled": true,
        "colab": {
          "base_uri": "https://localhost:8080/"
        },
        "id": "9f73395f-444d-42fd-a93b-3ecc86e17868",
        "outputId": "08e8c18f-00fa-454a-8bf4-0cee6bab7fc3"
      },
      "outputs": [
        {
          "output_type": "stream",
          "name": "stderr",
          "text": [
            "/usr/local/lib/python3.10/dist-packages/sklearn/feature_extraction/text.py:528: UserWarning: The parameter 'token_pattern' will not be used since 'tokenizer' is not None'\n",
            "  warnings.warn(\n"
          ]
        }
      ],
      "source": [
        "matrix_tfidf = vectorizer.fit_transform(df['title'])"
      ]
    },
    {
      "cell_type": "code",
      "execution_count": 19,
      "id": "58defcd0-1cbe-4ef4-bc4b-3ab27552258c",
      "metadata": {
        "colab": {
          "base_uri": "https://localhost:8080/"
        },
        "id": "58defcd0-1cbe-4ef4-bc4b-3ab27552258c",
        "outputId": "06293d5e-f8a8-40f2-e8ee-928d165a9b97"
      },
      "outputs": [
        {
          "output_type": "stream",
          "name": "stdout",
          "text": [
            "(92555, 5024)\n",
            "<class 'scipy.sparse._csr.csr_matrix'>\n"
          ]
        }
      ],
      "source": [
        "print(matrix_tfidf.shape)\n",
        "print(type(matrix_tfidf))"
      ]
    },
    {
      "cell_type": "markdown",
      "id": "9354faf9-e6cb-4045-ad2c-f1c9f7f602a3",
      "metadata": {
        "id": "9354faf9-e6cb-4045-ad2c-f1c9f7f602a3"
      },
      "source": [
        "Матрица всех векторов для нашего корпуса документов имеет формат разрешенной матрицы для удобства хранения и скорости работы с данными, в случае необходимости вы можете преобразовать значения к привычным спискам или numpy array"
      ]
    },
    {
      "cell_type": "code",
      "execution_count": 20,
      "id": "e88477e7-1b2a-4792-bf22-20149643bf0c",
      "metadata": {
        "colab": {
          "base_uri": "https://localhost:8080/"
        },
        "id": "e88477e7-1b2a-4792-bf22-20149643bf0c",
        "outputId": "0999d6f3-e691-4f25-e805-f8577cb298a2"
      },
      "outputs": [
        {
          "output_type": "execute_result",
          "data": {
            "text/plain": [
              "(1, 5024)"
            ]
          },
          "metadata": {},
          "execution_count": 20
        }
      ],
      "source": [
        "matrix_tfidf[0].todense().shape"
      ]
    },
    {
      "cell_type": "code",
      "execution_count": null,
      "id": "d52e012e-4dcc-43b4-92dc-29631819a53d",
      "metadata": {
        "id": "d52e012e-4dcc-43b4-92dc-29631819a53d"
      },
      "outputs": [],
      "source": [
        "dir(matrix_tfidf[0])"
      ]
    },
    {
      "cell_type": "markdown",
      "id": "31cdd383-5d1b-4eba-984b-d34d88b72978",
      "metadata": {
        "id": "31cdd383-5d1b-4eba-984b-d34d88b72978"
      },
      "source": [
        "### Задание 2"
      ]
    },
    {
      "cell_type": "markdown",
      "id": "8a8c3cdf-11f4-4a01-b5ba-729c4530bfb8",
      "metadata": {
        "id": "8a8c3cdf-11f4-4a01-b5ba-729c4530bfb8"
      },
      "source": [
        "Теперь, мы можем на основе имеющихся знаний построить простейшую систему поиска релевантных документов. В качестве меры близости будем использовать меру косинусной близости."
      ]
    },
    {
      "cell_type": "code",
      "execution_count": 21,
      "id": "1be0bb54-623b-4c1d-8a24-5674f612001a",
      "metadata": {
        "id": "1be0bb54-623b-4c1d-8a24-5674f612001a"
      },
      "outputs": [],
      "source": [
        "from sklearn.metrics.pairwise import cosine_similarity"
      ]
    },
    {
      "cell_type": "markdown",
      "id": "ae7bdf6a-e675-4249-8d4f-4256692eb4c2",
      "metadata": {
        "id": "ae7bdf6a-e675-4249-8d4f-4256692eb4c2"
      },
      "source": [
        "Построим простую систему поиска по статьям на основе нашего векторизатора, который мы создали ранее, только теперь организуем код в более структурном виде"
      ]
    },
    {
      "cell_type": "markdown",
      "id": "890b8e83-447a-48a5-a7f7-cc43c153c60d",
      "metadata": {
        "id": "890b8e83-447a-48a5-a7f7-cc43c153c60d"
      },
      "source": [
        "На основе косинусной близости и векторизатора необходимо искать top_k наиболее похожих документа"
      ]
    },
    {
      "cell_type": "code",
      "execution_count": 23,
      "id": "b53cf676-1cd2-41cb-99da-ae9e77b0be28",
      "metadata": {
        "id": "b53cf676-1cd2-41cb-99da-ae9e77b0be28"
      },
      "outputs": [],
      "source": [
        "class SimpleSearchEngine:\n",
        "    def __init__(self, text_database: list[str]):\n",
        "        self.raw_procesed_data = [self.preprocess(sample) for sample in text_database]\n",
        "        self.base = []\n",
        "        self.retriever = None\n",
        "        self.inverted_index = {}\n",
        "        self._init_retriever(text_database)\n",
        "        self._init_inverted_index(text_database)\n",
        "\n",
        "    @staticmethod\n",
        "    def preprocess(sentence: str) -> str:\n",
        "        return sentence\n",
        "\n",
        "    def _init_retriever(self, text_database: list[str]):\n",
        "        \"\"\"\n",
        "        TfidfVectorizer is used to convert a collection of raw documents into a matrix of TF-IDF features.\n",
        "        Use fit_transform method of TfidfVectorizer to learn the vocabulary and idf from the training set and the transformed matrix.\n",
        "        \"\"\"\n",
        "        # YOUR CODE HERE\n",
        "        pass\n",
        "\n",
        "    def retrieve(self, query):\n",
        "        return self.retriever.transform([query])\n",
        "\n",
        "    def retrieve_documents(self, query: str, top_k=3) -> np.array:\n",
        "        \"\"\"\n",
        "        The query needs to be transformed into the same vector space as your document base.\n",
        "        Utilize cosine_similarity to compute the similarity between the query vector and all document vectors in the base.\n",
        "        Remember that cosine_similarity returns a matrix; you might need to flatten it to get a 1D array of similarity scores.\n",
        "        Sort the documents based on their cosine similarity scores to find k most relevant ones to the query and return them as answer.\n",
        "        \"\"\"\n",
        "        # YOUR CODE HERE\n",
        "        pass\n",
        "\n",
        "    def _init_inverted_index(self, text_database: list[str]):\n",
        "        self.inverted_index = dict(enumerate(text_database))\n",
        "\n",
        "    def display_relevant_docs(self, query: str, full_database, top_k=3) -> list[str]:\n",
        "        docs_indexes = self.retrieve_documents(query, top_k=top_k)\n",
        "        return [self.inverted_index[ind] for ind in docs_indexes]\n",
        "\n",
        "\n",
        "simple_search_engine = SimpleSearchEngine(df['title'])\n",
        "query = 'Какой отдых самый лучший?'\n",
        "\n",
        "# simple_search_engine_results = simple_search_engine.display_relevant_docs(query, df['title'])\n",
        "# simple_search_engine_results"
      ]
    },
    {
      "cell_type": "code",
      "execution_count": 24,
      "id": "47e41e90-e682-4167-89b2-aeb1deca84e3",
      "metadata": {
        "colab": {
          "base_uri": "https://localhost:8080/"
        },
        "id": "47e41e90-e682-4167-89b2-aeb1deca84e3",
        "outputId": "9ecd1b88-c407-4211-c3fa-19ccbbc058ef"
      },
      "outputs": [
        {
          "output_type": "execute_result",
          "data": {
            "text/plain": [
              "['Слепцовой предоставили отдых',\n",
              " 'Любители Apple обошли пользователей Android по\\xa0тратам на\\xa0отдых',\n",
              " 'Испанцы превратили отдых пенсионерки в\\xa0катастрофу']"
            ]
          },
          "metadata": {},
          "execution_count": 24
        }
      ],
      "source": [
        "# solved\n",
        "\n",
        "class SimpleSearchEngine:\n",
        "    def __init__(self, text_database: list[str]):\n",
        "        self.raw_procesed_data = [self.preprocess(sample) for sample in text_database]\n",
        "        self.base = []\n",
        "        self.retriever = None\n",
        "        self.inverted_index = {}\n",
        "        self._init_retriever(text_database)\n",
        "        self._init_inverted_index(text_database)\n",
        "\n",
        "    @staticmethod\n",
        "    def preprocess(sentence: str) -> str:\n",
        "        return sentence\n",
        "\n",
        "    def _init_retriever(self, text_database: list[str]):\n",
        "        self.retriever = TfidfVectorizer(stop_words=russian_stopwords,\n",
        "                             ngram_range=(1,3),\n",
        "                             max_features=5024,\n",
        "                             tokenizer=wordpunct_tokenize)\n",
        "        self.base = self.retriever.fit_transform(text_database)\n",
        "\n",
        "    def retrieve(self, query: str) -> np.array:\n",
        "        return self.retriever.transform([query])\n",
        "\n",
        "    def retrieve_documents(self, query: str, top_k=3) -> np.array:\n",
        "        query_vector = self.retrieve(query)\n",
        "        cosine_similarities = cosine_similarity(query_vector, self.base).flatten()\n",
        "        relevant_indices = np.argsort(cosine_similarities, axis=0)[::-1][:top_k]\n",
        "        return relevant_indices\n",
        "\n",
        "    def _init_inverted_index(self, text_database: list[str]):\n",
        "        self.inverted_index = dict(enumerate(text_database))\n",
        "\n",
        "    def display_relevant_docs(self, query: str, full_database, top_k=3) -> list[str]:\n",
        "        docs_indexes = self.retrieve_documents(query, top_k=top_k)\n",
        "        return [self.inverted_index[ind] for ind in docs_indexes]\n",
        "\n",
        "\n",
        "simple_search_engine = SimpleSearchEngine(df['title'])\n",
        "query = 'Какой отдых самый лучший?'\n",
        "\n",
        "simple_search_engine_results = simple_search_engine.display_relevant_docs(query, df['title'])\n",
        "simple_search_engine_results"
      ]
    },
    {
      "cell_type": "code",
      "execution_count": 25,
      "id": "c9385931-f568-45dd-8bbc-b7692d1c0aed",
      "metadata": {
        "colab": {
          "base_uri": "https://localhost:8080/"
        },
        "id": "c9385931-f568-45dd-8bbc-b7692d1c0aed",
        "outputId": "25257f68-1fde-470c-8b65-247b3ec92ef3"
      },
      "outputs": [
        {
          "output_type": "stream",
          "name": "stdout",
          "text": [
            "All checks passed!\n"
          ]
        }
      ],
      "source": [
        "assert simple_search_engine.base.shape[0] == len(df['title']), \"The number of rows in TF-IDF matrix should match the number of documents in the corpus\"\n",
        "assert simple_search_engine.base.shape[1] > 0, \"The number of features in TF-IDF matrix should be greater than 0\"\n",
        "\n",
        "query_vector = simple_search_engine.retriever.transform([query])\n",
        "assert query_vector.shape[1] == simple_search_engine.base.shape[1], \"Query vector and document TF-IDF matrix should have the same number of features\"\n",
        "\n",
        "top_documents = simple_search_engine.retrieve_documents(query, top_k=3)\n",
        "assert len(top_documents) <= 3, \"The number of retrieved documents should not exceed the specified top_n\"\n",
        "assert all(0 <= doc_index < len(df['title']) for doc_index in top_documents), \"Retrieved document indices must be valid within the corpus range\"\n",
        "\n",
        "cosine_similarities = cosine_similarity(query_vector, simple_search_engine.base).flatten()\n",
        "assert all(sim >= 0 for sim in cosine_similarities), \"Cosine similarities should be non-negative\"\n",
        "\n",
        "print(\"All checks passed!\")"
      ]
    },
    {
      "cell_type": "markdown",
      "id": "090e2de1-454e-40e7-a740-e8540b86f08b",
      "metadata": {
        "id": "090e2de1-454e-40e7-a740-e8540b86f08b"
      },
      "source": [
        "Пример, как мы можем искать похожие документы"
      ]
    },
    {
      "cell_type": "code",
      "execution_count": 28,
      "id": "276dfad0-0c4a-4d37-a859-7561d487e617",
      "metadata": {
        "colab": {
          "base_uri": "https://localhost:8080/"
        },
        "id": "276dfad0-0c4a-4d37-a859-7561d487e617",
        "outputId": "93a8d252-50fb-4189-a695-89206ea32818"
      },
      "outputs": [
        {
          "output_type": "execute_result",
          "data": {
            "text/plain": [
              "array([43883, 62932, 89949, 72968, 88256])"
            ]
          },
          "metadata": {},
          "execution_count": 28
        }
      ],
      "source": [
        "test_text = 'Какой отдых самый лучший?'\n",
        "\n",
        "docs = simple_search_engine.retrieve_documents(test_text, top_k=5)\n",
        "docs"
      ]
    },
    {
      "cell_type": "code",
      "execution_count": 29,
      "id": "fecc2e0b-0c73-439b-ac33-aae88935088e",
      "metadata": {
        "colab": {
          "base_uri": "https://localhost:8080/"
        },
        "id": "fecc2e0b-0c73-439b-ac33-aae88935088e",
        "outputId": "08c13277-8acd-4215-aa4b-2574bacb1a94"
      },
      "outputs": [
        {
          "output_type": "execute_result",
          "data": {
            "text/plain": [
              "['Слепцовой предоставили отдых',\n",
              " 'Любители Apple обошли пользователей Android по\\xa0тратам на\\xa0отдых',\n",
              " 'Испанцы превратили отдых пенсионерки в\\xa0катастрофу',\n",
              " 'Люди предпочли отдых в\\xa0одиночестве общению с\\xa0семьей и\\xa0друзьями',\n",
              " 'Сингапурцы запустят самый длинный авиарейс']"
            ]
          },
          "metadata": {},
          "execution_count": 29
        }
      ],
      "source": [
        "df.loc[docs, 'title'].to_list()"
      ]
    },
    {
      "cell_type": "markdown",
      "id": "e10b9604-a5b6-4600-88fa-1f38145b9222",
      "metadata": {
        "id": "e10b9604-a5b6-4600-88fa-1f38145b9222"
      },
      "source": [
        "Как видите, система работает далеко не идеально, поэтому для более тонкой настройки необходимо придумывать метрики для оценки качества системы и итеративно улучшать данную реализацию"
      ]
    },
    {
      "cell_type": "markdown",
      "id": "2f7e2d59-ec78-40f0-8678-92c3628bac29",
      "metadata": {
        "id": "2f7e2d59-ec78-40f0-8678-92c3628bac29"
      },
      "source": [
        "## Векторизация слов"
      ]
    },
    {
      "cell_type": "markdown",
      "id": "7bff1b4a-2aff-4aaf-9212-01b815a09613",
      "metadata": {
        "id": "7bff1b4a-2aff-4aaf-9212-01b815a09613"
      },
      "source": [
        "### Продолжаем"
      ]
    },
    {
      "cell_type": "markdown",
      "id": "30f8be9f-25cd-4efc-bc4f-f33512da07c1",
      "metadata": {
        "id": "30f8be9f-25cd-4efc-bc4f-f33512da07c1"
      },
      "source": [
        "Теперь, давайте перейдем к методам векторизации конкретных слов. Это может быть поллезно, если система которую вы строите имеет ограничения по производительности, а ваш домен достаточно специализирован.\n",
        "\n",
        "Также этот метод крайне полезен при анализе ваших данных на этапе EDA"
      ]
    },
    {
      "cell_type": "code",
      "source": [
        "!pip install fasttext -q"
      ],
      "metadata": {
        "colab": {
          "base_uri": "https://localhost:8080/"
        },
        "id": "oX8eFciHXLol",
        "outputId": "8aa41e26-c25a-4905-937e-6656fa404715"
      },
      "id": "oX8eFciHXLol",
      "execution_count": 31,
      "outputs": [
        {
          "output_type": "stream",
          "name": "stdout",
          "text": [
            "\u001b[?25l     \u001b[90m━━━━━━━━━━━━━━━━━━━━━━━━━━━━━━━━━━━━━━━━\u001b[0m \u001b[32m0.0/68.8 kB\u001b[0m \u001b[31m?\u001b[0m eta \u001b[36m-:--:--\u001b[0m\r\u001b[2K     \u001b[91m━━━━━━━━━━━━━━━━━━━━━━━\u001b[0m\u001b[91m╸\u001b[0m\u001b[90m━━━━━━━━━━━━━━━━\u001b[0m \u001b[32m41.0/68.8 kB\u001b[0m \u001b[31m933.0 kB/s\u001b[0m eta \u001b[36m0:00:01\u001b[0m\r\u001b[2K     \u001b[90m━━━━━━━━━━━━━━━━━━━━━━━━━━━━━━━━━━━━━━━━\u001b[0m \u001b[32m68.8/68.8 kB\u001b[0m \u001b[31m1.1 MB/s\u001b[0m eta \u001b[36m0:00:00\u001b[0m\n",
            "\u001b[?25h  Preparing metadata (setup.py) ... \u001b[?25l\u001b[?25hdone\n",
            "  Building wheel for fasttext (setup.py) ... \u001b[?25l\u001b[?25hdone\n"
          ]
        }
      ]
    },
    {
      "cell_type": "code",
      "execution_count": 32,
      "id": "bb341a62-6099-437e-b218-32488df9ba8e",
      "metadata": {
        "id": "bb341a62-6099-437e-b218-32488df9ba8e"
      },
      "outputs": [],
      "source": [
        "from string import punctuation\n",
        "from tqdm.auto import tqdm, trange\n",
        "import fasttext\n",
        "\n",
        "from multiprocessing import Pool\n",
        "\n",
        "punkt = [p for p in punctuation] + [\"`\", \"``\" ,\"''\", \"'\"]"
      ]
    },
    {
      "cell_type": "markdown",
      "id": "a4d021a8-0999-4047-a1ae-3c0cd740692b",
      "metadata": {
        "id": "a4d021a8-0999-4047-a1ae-3c0cd740692b"
      },
      "source": [
        "Давайте определим новую функцию для токенизации, которая будет исключать все слова, которые входят в определенный ранее список стоп-слов, и также будем игнорировать все слова, которые будут принадлежать списку для пунктуации.\n",
        "\n",
        "Этап процессинга данных часто может занимать достаточно много времени, поэтому лучше выполнять его в параллельном режиме. Здесь можно использовать самый удобный способ распараллеливания - использовать Pool"
      ]
    },
    {
      "cell_type": "code",
      "execution_count": 33,
      "id": "6c5afedf-4128-4af8-9077-c638ea502d83",
      "metadata": {
        "id": "6c5afedf-4128-4af8-9077-c638ea502d83"
      },
      "outputs": [],
      "source": [
        "def tokenize(sent: str) -> str:\n",
        "    # YOUR CODE HERE\n",
        "    pass\n",
        "\n",
        "with Pool(8) as p:\n",
        "    titles_preprocessed = list(\n",
        "        # YOUR CODE HERE\n",
        "                             )"
      ]
    },
    {
      "cell_type": "code",
      "execution_count": 34,
      "id": "ebcc6e9f-7e15-4e92-a085-26c77464cab6",
      "metadata": {
        "colab": {
          "base_uri": "https://localhost:8080/",
          "height": 49,
          "referenced_widgets": [
            "eae36d77cd7e47359eaf0edae20c6191",
            "0457a45e223d461d8cd7f65ee4afbccc",
            "60de727138614f879c6745e68e53a3de",
            "51634048eda943e997b477557377daf0",
            "ec9a2232e1b544ce95ef10f9480a39a0",
            "25a9f7e56d904e71b60787c6ae3fef22",
            "731f2fd31f2d4e8884325af32ed2a315",
            "ba3869a9229b4cb7bfac856e7aa38250",
            "21e82b791d304cd7a02a96165e18cd74",
            "7d5dbe0639ab46cd99b0a95b7973bbd5",
            "260994f3b6f2414e937f9f5b574df2b2"
          ]
        },
        "id": "ebcc6e9f-7e15-4e92-a085-26c77464cab6",
        "outputId": "a93bb3e5-8663-48e0-8af9-6daaea1025f3"
      },
      "outputs": [
        {
          "output_type": "display_data",
          "data": {
            "text/plain": [
              "  0%|          | 0/92555 [00:00<?, ?it/s]"
            ],
            "application/vnd.jupyter.widget-view+json": {
              "version_major": 2,
              "version_minor": 0,
              "model_id": "eae36d77cd7e47359eaf0edae20c6191"
            }
          },
          "metadata": {}
        }
      ],
      "source": [
        "# solved\n",
        "\n",
        "def tokenize(sent: str) -> str:\n",
        "        sent = word_tokenize(sent)\n",
        "        return ' '.join([word for word in sent if word not in russian_stopwords and word not in punkt])\n",
        "\n",
        "with Pool(8) as p:\n",
        "    titles_preprocessed = list(tqdm(\n",
        "                                    p.imap(tokenize, df['title'].tolist()),\n",
        "                                    total=df['title'].size\n",
        "                                    )\n",
        "                             )"
      ]
    },
    {
      "cell_type": "markdown",
      "id": "c7a334b4-1034-42a4-be45-6079c4c649fc",
      "metadata": {
        "id": "c7a334b4-1034-42a4-be45-6079c4c649fc"
      },
      "source": [
        "После того, как мы подготовили данные, можно приступать к обучению своего собственного векторизатора. Для начала мы обучим FastText - самый продвинутый из методов векторизации слов на основе семантической близости. Он позволяет решать проблему отсутствия некоторых слов в словаре за счет добавления буквенных n-gram при обучении представлений слов."
      ]
    },
    {
      "cell_type": "code",
      "execution_count": 35,
      "id": "81e69cd4-b037-401b-bf36-4195f2d7478f",
      "metadata": {
        "id": "81e69cd4-b037-401b-bf36-4195f2d7478f"
      },
      "outputs": [],
      "source": [
        "with open('titles_unsupervised.txt', 'w+', encoding='utf-8') as titles:\n",
        "    for idx in range(len(titles_preprocessed)):\n",
        "        titles.write(titles_preprocessed[idx]+'\\n')"
      ]
    },
    {
      "cell_type": "code",
      "execution_count": 36,
      "id": "9d966e7e-4524-42cf-a9a6-b6e9d173b4e0",
      "metadata": {
        "colab": {
          "base_uri": "https://localhost:8080/"
        },
        "id": "9d966e7e-4524-42cf-a9a6-b6e9d173b4e0",
        "outputId": "1839c0f7-10a2-49a3-d587-700824bcb1d9"
      },
      "outputs": [
        {
          "output_type": "stream",
          "name": "stdout",
          "text": [
            "CPU times: user 31.5 s, sys: 568 ms, total: 32 s\n",
            "Wall time: 35.1 s\n"
          ]
        }
      ],
      "source": [
        "%%time\n",
        "ft_vectors = fasttext.train_unsupervised('titles_unsupervised.txt', minn=3,maxn=5, dim=50)"
      ]
    },
    {
      "cell_type": "code",
      "execution_count": 37,
      "id": "373f3325-519a-4e95-9734-5119021e3473",
      "metadata": {
        "colab": {
          "base_uri": "https://localhost:8080/"
        },
        "id": "373f3325-519a-4e95-9734-5119021e3473",
        "outputId": "4fa16f60-5248-42d5-9fe5-91d13d7e11e2"
      },
      "outputs": [
        {
          "output_type": "execute_result",
          "data": {
            "text/plain": [
              "[(0.9097076654434204, 'гол'),\n",
              " (0.8799793124198914, 'мяча'),\n",
              " (0.8685975670814514, 'головы'),\n",
              " (0.860861599445343, 'мячи'),\n",
              " (0.8484773635864258, 'забитый'),\n",
              " (0.8462731838226318, 'голос'),\n",
              " (0.8451036214828491, 'ворота'),\n",
              " (0.8438910841941833, 'голкипер'),\n",
              " (0.8364012837409973, 'ворот'),\n",
              " (0.8235505223274231, 'голове')]"
            ]
          },
          "metadata": {},
          "execution_count": 37
        }
      ],
      "source": [
        "ft_vectors.get_nearest_neighbors('мяч')"
      ]
    },
    {
      "cell_type": "code",
      "execution_count": 38,
      "id": "f23a7353-bbc0-48c8-9d1c-72dadd1783c7",
      "metadata": {
        "colab": {
          "base_uri": "https://localhost:8080/"
        },
        "id": "f23a7353-bbc0-48c8-9d1c-72dadd1783c7",
        "outputId": "3eb953cc-465f-4226-8f8d-92f475470059"
      },
      "outputs": [
        {
          "output_type": "execute_result",
          "data": {
            "text/plain": [
              "[(0.8021924495697021, 'мячи'),\n",
              " (0.7995634078979492, 'Полуголый'),\n",
              " (0.7913100719451904, 'гольфу'),\n",
              " (0.7897704839706421, 'голу'),\n",
              " (0.7894031405448914, '1:3'),\n",
              " (0.7858723402023315, 'Ницце'),\n",
              " (0.7855551838874817, '20-градусный'),\n",
              " (0.7849912047386169, 'забитый'),\n",
              " (0.7805249094963074, 'Шапекоэнсе'),\n",
              " (0.7796913981437683, '0:1')]"
            ]
          },
          "metadata": {},
          "execution_count": 38
        }
      ],
      "source": [
        "ft_vectors.get_nearest_neighbors('мятч')"
      ]
    },
    {
      "cell_type": "markdown",
      "id": "5fc3ee4e-7db1-462a-b2e5-c16a0a59590e",
      "metadata": {
        "id": "5fc3ee4e-7db1-462a-b2e5-c16a0a59590e"
      },
      "source": [
        "Как видите он может находить достаточно точные похожие слова, даже для опечаток"
      ]
    },
    {
      "cell_type": "code",
      "execution_count": 39,
      "id": "427fd2d9-e595-41cf-b2e1-fe65c8592a47",
      "metadata": {
        "colab": {
          "base_uri": "https://localhost:8080/"
        },
        "id": "427fd2d9-e595-41cf-b2e1-fe65c8592a47",
        "outputId": "fec09d2c-4150-4976-ac47-ffc0053fa531"
      },
      "outputs": [
        {
          "output_type": "stream",
          "name": "stdout",
          "text": [
            "14436\n"
          ]
        },
        {
          "output_type": "execute_result",
          "data": {
            "text/plain": [
              "['</s>', '«', '»', 'России', 'В', 'сборной', 'мира', 'Москве', 'матче', 'ЦСКА']"
            ]
          },
          "metadata": {},
          "execution_count": 39
        }
      ],
      "source": [
        "print(len(ft_vectors.words))\n",
        "top3k = ft_vectors.words[:3000]\n",
        "top3k[:10]"
      ]
    },
    {
      "cell_type": "markdown",
      "id": "69f530d4-aed5-4b06-9771-2fd409404707",
      "metadata": {
        "id": "69f530d4-aed5-4b06-9771-2fd409404707"
      },
      "source": [
        "Обучим Word2vec на нашем корпусе текстов + добавим отдельный вектор для UNK, чтобы избежать вечной проблемы с поиском слов, которые отсутсвуют в тренировочной выборке.\n",
        "\n",
        "Это может быть полезно, если вы используете данные вектора потом для обучения своей нейронной сети, а эти вектора будут инициализировать ваш слой Embedding"
      ]
    },
    {
      "cell_type": "code",
      "execution_count": 40,
      "id": "10119fe9-cc90-468b-9280-b6e11f0d4d85",
      "metadata": {
        "id": "10119fe9-cc90-468b-9280-b6e11f0d4d85"
      },
      "outputs": [],
      "source": [
        "titles_for_w2v = [sent.split(\" \") for sent in titles_preprocessed]"
      ]
    },
    {
      "cell_type": "code",
      "execution_count": 41,
      "id": "9bca5c22-c0df-44ad-ac5c-c5bfe5847522",
      "metadata": {
        "colab": {
          "base_uri": "https://localhost:8080/"
        },
        "id": "9bca5c22-c0df-44ad-ac5c-c5bfe5847522",
        "outputId": "1f1333bd-8cd3-40c2-9e70-fe9015b3cc5b"
      },
      "outputs": [
        {
          "output_type": "stream",
          "name": "stdout",
          "text": [
            "CPU times: user 6.28 s, sys: 73 ms, total: 6.35 s\n",
            "Wall time: 4.13 s\n"
          ]
        }
      ],
      "source": [
        "%%time\n",
        "from gensim.models import Word2Vec\n",
        "w2v = Word2Vec(sentences=titles_for_w2v, min_count=3, vector_size=50, window=6, seed=33, workers=4)"
      ]
    },
    {
      "cell_type": "code",
      "execution_count": 42,
      "id": "05dca16e-705e-44a2-896b-d920d6d35587",
      "metadata": {
        "id": "05dca16e-705e-44a2-896b-d920d6d35587"
      },
      "outputs": [],
      "source": [
        "w2v.save('lenta_titles_w2v_model.bin.gz')"
      ]
    },
    {
      "cell_type": "code",
      "execution_count": 43,
      "id": "3b9e148c-3213-4e2c-94a6-68020ef59bbf",
      "metadata": {
        "colab": {
          "base_uri": "https://localhost:8080/"
        },
        "id": "3b9e148c-3213-4e2c-94a6-68020ef59bbf",
        "outputId": "66d62b1d-b689-46f7-e08f-b6198165aa71"
      },
      "outputs": [
        {
          "output_type": "execute_result",
          "data": {
            "text/plain": [
              "gensim.models.word2vec.Word2Vec"
            ]
          },
          "metadata": {},
          "execution_count": 43
        }
      ],
      "source": [
        "w2v = Word2Vec.load('lenta_titles_w2v_model.bin.gz')\n",
        "type(w2v)"
      ]
    },
    {
      "cell_type": "code",
      "execution_count": null,
      "id": "a26c0f52-c861-4dfd-9802-14212dbf3056",
      "metadata": {
        "scrolled": true,
        "id": "a26c0f52-c861-4dfd-9802-14212dbf3056"
      },
      "outputs": [],
      "source": [
        "w2v.wv['мятч'].shape"
      ]
    },
    {
      "cell_type": "code",
      "execution_count": 45,
      "id": "d62ccff0-65fb-46be-aa13-0e34160d270d",
      "metadata": {
        "colab": {
          "base_uri": "https://localhost:8080/"
        },
        "id": "d62ccff0-65fb-46be-aa13-0e34160d270d",
        "outputId": "ae6ce0bf-262f-4445-f42b-15f8dc78b695"
      },
      "outputs": [
        {
          "output_type": "stream",
          "name": "stderr",
          "text": [
            "/usr/local/lib/python3.10/dist-packages/gensim/models/keyedvectors.py:551: UserWarning: Adding single vectors to a KeyedVectors which grows by one each time can be costly. Consider adding in batches or preallocating to the required size.\n",
            "  warnings.warn(\n"
          ]
        },
        {
          "output_type": "execute_result",
          "data": {
            "text/plain": [
              "21859"
            ]
          },
          "metadata": {},
          "execution_count": 45
        }
      ],
      "source": [
        "w2v.wv.add_vector('UNK', np.random.uniform(low=-0.2, high=0.2, size=(50,)))"
      ]
    },
    {
      "cell_type": "markdown",
      "id": "13a096ff-7223-4b12-b45e-f365fed6ef03",
      "metadata": {
        "id": "13a096ff-7223-4b12-b45e-f365fed6ef03"
      },
      "source": [
        "### Задание 3"
      ]
    },
    {
      "cell_type": "markdown",
      "id": "db7d081e-772a-4d0f-ac9f-03be86948ceb",
      "metadata": {
        "id": "db7d081e-772a-4d0f-ac9f-03be86948ceb"
      },
      "source": [
        "Напишите класс для обучения своего Word2Vec. Реализуйте метод get_vector, который будет выдавать нужный вам вектор, а если вектора нет в словаре, тогда будет возвращать специальный вектор UNK"
      ]
    },
    {
      "cell_type": "code",
      "execution_count": 46,
      "id": "e9ebc278-ff8c-4883-8ac0-48232011fd9b",
      "metadata": {
        "id": "e9ebc278-ff8c-4883-8ac0-48232011fd9b"
      },
      "outputs": [],
      "source": [
        "class CustomWord2Vec(Word2Vec):\n",
        "    def __init__(self, *args, **kwargs):\n",
        "        super(CustomWord2Vec, self).__init__(*args, **kwargs)\n",
        "        self.unknown_word_vector = None # YOUR CODE HERE\n",
        "\n",
        "    @staticmethod\n",
        "    def text_preprocess(texts: list, tokenize_func) -> list[int]:\n",
        "        with Pool(8) as p:\n",
        "            texts_preprocessed = list()\n",
        "        return texts_preprocessed\n",
        "\n",
        "    def get_vector(self, word: str) -> np.array:\n",
        "        # YOUR CODE HERE\n",
        "        pass\n"
      ]
    },
    {
      "cell_type": "code",
      "execution_count": 47,
      "id": "2a7c75b6-d8f9-4939-9650-226f81869b5a",
      "metadata": {
        "id": "2a7c75b6-d8f9-4939-9650-226f81869b5a"
      },
      "outputs": [],
      "source": [
        "# solved\n",
        "\n",
        "class CustomWord2Vec(Word2Vec):\n",
        "    def __init__(self, *args, **kwargs):\n",
        "        super(CustomWord2Vec, self).__init__(*args, **kwargs)\n",
        "        self.unknown_word_vector = np.random.uniform(low=-0.2, high=0.2, size=(50,))\n",
        "        w2v.wv.add_vector('UNK', self.unknown_word_vector)\n",
        "\n",
        "    @staticmethod\n",
        "    def text_preprocess(texts: list[str], tokenize_func) -> list[int]:\n",
        "        with Pool(8) as p:\n",
        "            texts_preprocessed = list(tqdm(\n",
        "                                            p.imap(tokenize_func, texts),\n",
        "                                            total=df['title'].size\n",
        "                                        )\n",
        "                                     )\n",
        "        return texts_preprocessed\n",
        "\n",
        "    def get_vector(self, word: str) -> np.array:\n",
        "        if word in self.wv.key_to_index:\n",
        "            return self.wv[word]\n",
        "        else:\n",
        "            # Return the predefined vector for unknown words\n",
        "            return self.unknown_word_vector\n"
      ]
    },
    {
      "cell_type": "code",
      "execution_count": 48,
      "id": "23e54220-5c5f-4dac-ad45-74cbd7d46b48",
      "metadata": {
        "colab": {
          "base_uri": "https://localhost:8080/"
        },
        "id": "23e54220-5c5f-4dac-ad45-74cbd7d46b48",
        "outputId": "582543f1-7182-4de4-dbff-1ea6fea51b60"
      },
      "outputs": [
        {
          "output_type": "execute_result",
          "data": {
            "text/plain": [
              "array([-1.96007113e-01,  1.49344134e-01, -1.94199086e-01,  6.33644239e-02,\n",
              "       -3.97968814e-02, -6.36083128e-02,  1.67107743e-01,  1.82702377e-01,\n",
              "        1.58911811e-02, -3.82773050e-02, -9.26925351e-02, -6.33713117e-02,\n",
              "       -1.63505821e-01, -5.64325614e-02,  1.24313401e-01, -1.39070786e-01,\n",
              "       -1.55001213e-02, -1.39545678e-01,  2.15055431e-02,  6.55410365e-02,\n",
              "        1.20170326e-01,  1.50698725e-04,  1.90471611e-01, -9.93446092e-02,\n",
              "       -1.38637915e-01, -1.48869174e-01, -4.21020295e-02, -1.02278713e-01,\n",
              "        1.08725416e-01, -1.98296565e-01,  9.40099524e-02,  1.78816081e-01,\n",
              "        3.07701619e-02, -1.48359929e-01,  4.30810628e-02, -6.71934822e-03,\n",
              "       -1.62762638e-01,  1.48280462e-01, -1.22372954e-01,  7.13991814e-02,\n",
              "        1.02699252e-01,  3.52428301e-02, -1.33204720e-01,  1.90108664e-01,\n",
              "       -5.59859387e-02, -6.26054870e-02, -9.44024341e-02,  1.71464825e-01,\n",
              "        2.35067121e-04, -6.13968509e-02])"
            ]
          },
          "metadata": {},
          "execution_count": 48
        }
      ],
      "source": [
        "model = CustomWord2Vec(sentences=titles_for_w2v, min_count=3, vector_size=50, window=6, seed=33, workers=4)\n",
        "model.get_vector(\"мятч\")"
      ]
    },
    {
      "cell_type": "code",
      "execution_count": 49,
      "id": "98f24fbf-3933-42c3-9779-9e21c249b3e3",
      "metadata": {
        "colab": {
          "base_uri": "https://localhost:8080/"
        },
        "id": "98f24fbf-3933-42c3-9779-9e21c249b3e3",
        "outputId": "4831a4c7-be9c-4b4d-fa31-90534ff1d567"
      },
      "outputs": [
        {
          "output_type": "execute_result",
          "data": {
            "text/plain": [
              "array([-1.96007113e-01,  1.49344134e-01, -1.94199086e-01,  6.33644239e-02,\n",
              "       -3.97968814e-02, -6.36083128e-02,  1.67107743e-01,  1.82702377e-01,\n",
              "        1.58911811e-02, -3.82773050e-02, -9.26925351e-02, -6.33713117e-02,\n",
              "       -1.63505821e-01, -5.64325614e-02,  1.24313401e-01, -1.39070786e-01,\n",
              "       -1.55001213e-02, -1.39545678e-01,  2.15055431e-02,  6.55410365e-02,\n",
              "        1.20170326e-01,  1.50698725e-04,  1.90471611e-01, -9.93446092e-02,\n",
              "       -1.38637915e-01, -1.48869174e-01, -4.21020295e-02, -1.02278713e-01,\n",
              "        1.08725416e-01, -1.98296565e-01,  9.40099524e-02,  1.78816081e-01,\n",
              "        3.07701619e-02, -1.48359929e-01,  4.30810628e-02, -6.71934822e-03,\n",
              "       -1.62762638e-01,  1.48280462e-01, -1.22372954e-01,  7.13991814e-02,\n",
              "        1.02699252e-01,  3.52428301e-02, -1.33204720e-01,  1.90108664e-01,\n",
              "       -5.59859387e-02, -6.26054870e-02, -9.44024341e-02,  1.71464825e-01,\n",
              "        2.35067121e-04, -6.13968509e-02])"
            ]
          },
          "metadata": {},
          "execution_count": 49
        }
      ],
      "source": [
        "model.get_vector('UNK')"
      ]
    },
    {
      "cell_type": "markdown",
      "id": "8e5a933f-7f10-4237-8fd8-b13ea48bc2e9",
      "metadata": {
        "id": "8e5a933f-7f10-4237-8fd8-b13ea48bc2e9"
      },
      "source": [
        "В реальности вам все же лучше порой использовать предобученные вектора для слов, потому что чаще всего ваш корпус данных недостаточно репрезентативен, а задача только выиграет от интеграции общего доменного знания о представлении слов (дистрибутивная семантика)"
      ]
    },
    {
      "cell_type": "markdown",
      "id": "09a1e14d-8c09-4fa2-ae1c-76d1450b00e5",
      "metadata": {
        "id": "09a1e14d-8c09-4fa2-ae1c-76d1450b00e5"
      },
      "source": [
        "Это можно сделать так"
      ]
    },
    {
      "cell_type": "markdown",
      "id": "33864b30-a39e-4344-b36a-1dd67f596dd0",
      "metadata": {
        "id": "33864b30-a39e-4344-b36a-1dd67f596dd0"
      },
      "source": [
        "#### Осторожно, эти эмбединги достаточно большие и это может занять достаточно времени"
      ]
    },
    {
      "cell_type": "code",
      "execution_count": null,
      "id": "a6b84b3b-8e3c-470e-8721-b6c4fceb898f",
      "metadata": {
        "id": "a6b84b3b-8e3c-470e-8721-b6c4fceb898f"
      },
      "outputs": [],
      "source": [
        "# https://fasttext.cc/docs/en/crawl-vectors.html"
      ]
    },
    {
      "cell_type": "code",
      "execution_count": null,
      "id": "b208d3b8-0f86-452b-97c0-e8e63542dfe3",
      "metadata": {
        "id": "b208d3b8-0f86-452b-97c0-e8e63542dfe3"
      },
      "outputs": [],
      "source": [
        "# import fasttext.util\n",
        "# fasttext.util.download_model('en', if_exists='ignore')  # fasttext.util.download_model('ru', if_exists='ignore') for russian\n",
        "# ft = fasttext.load_model('cc.en.300.bin') # 'cc.ru.300.bin' for russian"
      ]
    },
    {
      "cell_type": "code",
      "execution_count": null,
      "id": "c316df76-7ffc-4748-bdfb-1d5c0e4d438c",
      "metadata": {
        "id": "c316df76-7ffc-4748-bdfb-1d5c0e4d438c"
      },
      "outputs": [],
      "source": []
    },
    {
      "cell_type": "code",
      "execution_count": null,
      "id": "536b3eca-7649-45e5-83c8-0a2b7acbe1fd",
      "metadata": {
        "id": "536b3eca-7649-45e5-83c8-0a2b7acbe1fd"
      },
      "outputs": [],
      "source": [
        "# open source analog for gensim wordvectors\n",
        "# https://github.com/natasha/navec"
      ]
    },
    {
      "cell_type": "code",
      "execution_count": null,
      "id": "05d4c927-aacb-4f0e-bf5d-5dc67e80612f",
      "metadata": {
        "id": "05d4c927-aacb-4f0e-bf5d-5dc67e80612f"
      },
      "outputs": [],
      "source": [
        "# import torch\n",
        "# from slovnet.model.emb import NavecEmbedding\n",
        "\n",
        "# emb = NavecEmbedding(navec)\n",
        "# input = torch.tensor([1, 2, 0])\n",
        "# output = emb(input)\n",
        "\n",
        "# output.shape\n",
        "# torch.Size([3, 300])\n",
        "\n",
        "# output\n",
        "# tensor([[ 4.2000e-01,  3.6666e-01,  1.7728e-01, -3.8719e-01, -1.0762e-01,\n",
        "#           1.6954e-01, -4.6063e-01,  5.4519e-01, -2.1212e-01,  2.0965e-01,\n",
        "#           1.9658e-01,  2.7807e-01, -2.3802e-01,  3.5155e-01,  1.4491e-02,\n",
        "# \t\t  ..."
      ]
    },
    {
      "cell_type": "markdown",
      "id": "bc099de3-c174-4b49-bc48-5d88af02c429",
      "metadata": {
        "id": "bc099de3-c174-4b49-bc48-5d88af02c429"
      },
      "source": [
        "## Контекстные вектора документов"
      ]
    },
    {
      "cell_type": "markdown",
      "id": "4c2c0420-4bb3-480d-9a62-fe1c5cd848d7",
      "metadata": {
        "id": "4c2c0420-4bb3-480d-9a62-fe1c5cd848d7"
      },
      "source": [
        "### Продолжаем"
      ]
    },
    {
      "cell_type": "markdown",
      "id": "346aa507-57f1-4eda-b86f-2d914ab99b37",
      "metadata": {
        "id": "346aa507-57f1-4eda-b86f-2d914ab99b37"
      },
      "source": [
        "Теперь перейдем к контекстуализированным эмбеддингам ваших документов/текстов с использованием предобученных Энкодерных текстовых моделей.\n",
        "Для решения более 90% задач этот метод отлично подходит как одно из первых решений и будет если не первым, то уж вторым точно baseline` решением."
      ]
    },
    {
      "cell_type": "markdown",
      "id": "d8ed0df9-868d-4ce1-ba93-9c149b4208df",
      "metadata": {
        "id": "d8ed0df9-868d-4ce1-ba93-9c149b4208df"
      },
      "source": [
        "Напомним, что BERT-like модели хороши тем, что помимо того, что они возвращают контекстуализированный эмбеддинг для каждого токена, у них еще есть представление всего текста, которое можно доставать из CLS токена (почти всегда он представлен на первом месте)"
      ]
    },
    {
      "cell_type": "markdown",
      "id": "67167247-198e-41ab-b93e-fd9f7f6886ef",
      "metadata": {
        "id": "67167247-198e-41ab-b93e-fd9f7f6886ef"
      },
      "source": [
        "Давайте попробуем векторизовать наши тексты с использованием легкой предобученной модели ruBERTtiny2. Она отлично подойдет для inferenca на CPU, потому что весит меньше 120 MB (для текстового энкодера это очень-очень мало).  \n",
        "Также есть модель ruBERTtiny, которая еще меньше и весит всего 40 MB, но она чуть хуже на downstream-задачах"
      ]
    },
    {
      "cell_type": "code",
      "execution_count": 50,
      "id": "9fb7e6cc-49d8-4114-95ad-069e16ddc3c3",
      "metadata": {
        "colab": {
          "base_uri": "https://localhost:8080/",
          "height": 351,
          "referenced_widgets": [
            "4fda059290604639982c7fcd3369c91a",
            "ec7b8ebf457e4e089eb55a22bcfaa896",
            "37f3010b01f749388c7b8cefb74ff166",
            "f7114f0d3bca481d97075223fba56d56",
            "3c2b4b9efb764aa3902e7a7dca76b3a6",
            "1890b16a581946d3a7fc856a525d5636",
            "0d7facdea78d4d2484e7516751ad4164",
            "b0876c7a93b84c62839537305425ef56",
            "2b4527b5ce8e47fb88a1ddccf436bd4e",
            "1a434390482947cbbdeb9b4240d57667",
            "303fed8408fb4fa5888c5da04fbbf6a2",
            "2f7446bacdd041a7bda94df0367201b1",
            "31b1d7c9f358400a98386e2729a0d81a",
            "bc2e23ce8def4e3a8bb3d0ae15daa2f7",
            "bc7c7244e8964fb382f7f13e64fe29a5",
            "9039ef757af9490095781ff872d75e89",
            "e770f0c880124b859c600fa8ba14134f",
            "010a9463297945bbbb252630bd1110cb",
            "413c70fc853343a893492407772f1fb8",
            "a283d961658742b1bfab69a60c99e28b",
            "efe11e74031c480aae4f7d2e2dab505c",
            "ca4b29ebd1614aaebe4ca7998e3c657c",
            "47e02fa16f3b41edb664bee1243e7369",
            "b901cfcc57a346f28bb5aca5f116c643",
            "0af3fc5915aa4581b836dfcf160476d5",
            "5935b30ccfb94f92bbc549e74cca5f51",
            "ff98ad822a0547c1ad9fe87bd298f4e4",
            "551a9835381c4562af9fd0ca4f15b1de",
            "587782919caf43f58910840b5373e44f",
            "2e5f30ae5b3e450e8ebb0ae4856181e7",
            "60f90e4b317140a58370dae5bd8ee842",
            "292bf5c6a58a4858ac978c63ca4618a2",
            "2a082449c8054bd3ba07335856c4e661",
            "0f7233a4b22e498198581e76cf94022d",
            "510ce8f0911b4bd4aec2b6faa021127e",
            "5c5ff5e98df54c22a65719efe1d8acab",
            "f8f86a793e4a4249b59bfe73e1222b06",
            "17dd849baa7c45dfb26e6bfc64d45a2c",
            "3b54b159e1444350ac2aa6385ccdadca",
            "ac3e9c681d65481fb552b6a27be39885",
            "7c76446bae924726ba9bc9d5bb3befa7",
            "2501d82c3c0d4a0d84a4e99f923a4d41",
            "6f159bf69bd140fc96dfddf491091bb0",
            "b2db7e480e0e405f8bdcaab77a8022ea",
            "cad7081dc80c4757a628f5cc7b10a8e0",
            "4419b066c6624733912ef7afe8392b93",
            "bdb85533c9b54e23a0df9ead6ae9946e",
            "3dd206fb938740f6a21aa29d775d8f15",
            "448f3278a0634bf2b7f88001dd0704c4",
            "515f3806ee2a465f9f82522b92d74d2f",
            "5dbc7adf80ea4f66b4d10eb466e6e7a3",
            "51b0c20118654528a929c18ab84ee192",
            "ea4ea33d28444d449c981ff06ce283e4",
            "c0f385d8c2214112b45cff525f49ad4b",
            "333a5b5dc3be42819f48b9ef78c160bd",
            "399721d5ec6c45b5b67028b5c7d6c980",
            "66b3a9b424d14b828fcb666269192d05",
            "731d7b6a85474be9a170051694486ad7",
            "c722fb4a69274e109cbcc5903c50be8f",
            "8a25b9b202134d1f835e57de44c6a247",
            "62d05bd25711404398b519aed67e6ddf",
            "ad7f819b83794a5298868745a14ad226",
            "7ee3ddaadd994a569313a09e0d4b4345",
            "d53718ad9b1b465aa82ee9d760588656",
            "f71a249fa9d34aae9658ebdbced5c3eb",
            "fb131bb92b3242ed81a2f1cde6ee9276"
          ]
        },
        "id": "9fb7e6cc-49d8-4114-95ad-069e16ddc3c3",
        "outputId": "a0fb0212-e914-46e0-8ea0-87f45cf7d7fb"
      },
      "outputs": [
        {
          "output_type": "stream",
          "name": "stderr",
          "text": [
            "/usr/local/lib/python3.10/dist-packages/huggingface_hub/utils/_token.py:88: UserWarning: \n",
            "The secret `HF_TOKEN` does not exist in your Colab secrets.\n",
            "To authenticate with the Hugging Face Hub, create a token in your settings tab (https://huggingface.co/settings/tokens), set it as secret in your Google Colab and restart your session.\n",
            "You will be able to reuse this secret in all of your notebooks.\n",
            "Please note that authentication is recommended but still optional to access public models or datasets.\n",
            "  warnings.warn(\n"
          ]
        },
        {
          "output_type": "display_data",
          "data": {
            "text/plain": [
              "tokenizer_config.json:   0%|          | 0.00/401 [00:00<?, ?B/s]"
            ],
            "application/vnd.jupyter.widget-view+json": {
              "version_major": 2,
              "version_minor": 0,
              "model_id": "4fda059290604639982c7fcd3369c91a"
            }
          },
          "metadata": {}
        },
        {
          "output_type": "display_data",
          "data": {
            "text/plain": [
              "vocab.txt:   0%|          | 0.00/1.08M [00:00<?, ?B/s]"
            ],
            "application/vnd.jupyter.widget-view+json": {
              "version_major": 2,
              "version_minor": 0,
              "model_id": "2f7446bacdd041a7bda94df0367201b1"
            }
          },
          "metadata": {}
        },
        {
          "output_type": "display_data",
          "data": {
            "text/plain": [
              "tokenizer.json:   0%|          | 0.00/1.74M [00:00<?, ?B/s]"
            ],
            "application/vnd.jupyter.widget-view+json": {
              "version_major": 2,
              "version_minor": 0,
              "model_id": "47e02fa16f3b41edb664bee1243e7369"
            }
          },
          "metadata": {}
        },
        {
          "output_type": "display_data",
          "data": {
            "text/plain": [
              "special_tokens_map.json:   0%|          | 0.00/112 [00:00<?, ?B/s]"
            ],
            "application/vnd.jupyter.widget-view+json": {
              "version_major": 2,
              "version_minor": 0,
              "model_id": "0f7233a4b22e498198581e76cf94022d"
            }
          },
          "metadata": {}
        },
        {
          "output_type": "display_data",
          "data": {
            "text/plain": [
              "config.json:   0%|          | 0.00/693 [00:00<?, ?B/s]"
            ],
            "application/vnd.jupyter.widget-view+json": {
              "version_major": 2,
              "version_minor": 0,
              "model_id": "cad7081dc80c4757a628f5cc7b10a8e0"
            }
          },
          "metadata": {}
        },
        {
          "output_type": "display_data",
          "data": {
            "text/plain": [
              "model.safetensors:   0%|          | 0.00/118M [00:00<?, ?B/s]"
            ],
            "application/vnd.jupyter.widget-view+json": {
              "version_major": 2,
              "version_minor": 0,
              "model_id": "399721d5ec6c45b5b67028b5c7d6c980"
            }
          },
          "metadata": {}
        },
        {
          "output_type": "stream",
          "name": "stdout",
          "text": [
            "(312,)\n"
          ]
        }
      ],
      "source": [
        "import torch\n",
        "from transformers import AutoTokenizer, AutoModel\n",
        "tokenizer = AutoTokenizer.from_pretrained(\"cointegrated/rubert-tiny2\")\n",
        "model = AutoModel.from_pretrained(\"cointegrated/rubert-tiny2\")\n",
        "# model.cuda()  # uncomment it if you have a GPU\n",
        "\n",
        "def embed_bert_cls(text: str, model, tokenizer) -> np.array:\n",
        "    t = tokenizer(text, padding=True, truncation=True, return_tensors='pt')\n",
        "    with torch.no_grad():\n",
        "        model_output = model(**{k: v.to(model.device) for k, v in t.items()})\n",
        "    embeddings = model_output.last_hidden_state[:, 0, :]\n",
        "    embeddings = torch.nn.functional.normalize(embeddings)\n",
        "    return embeddings[0].cpu().numpy()\n",
        "\n",
        "print(embed_bert_cls('привет мир', model, tokenizer).shape)\n",
        "# (312,)\n"
      ]
    },
    {
      "cell_type": "markdown",
      "id": "673478f3-89ab-46fa-9de9-2cf00aa74172",
      "metadata": {
        "id": "673478f3-89ab-46fa-9de9-2cf00aa74172"
      },
      "source": [
        "### Задание 4"
      ]
    },
    {
      "cell_type": "markdown",
      "id": "b72659ad-a06c-4414-ad22-171f2ef58ac2",
      "metadata": {
        "id": "b72659ad-a06c-4414-ad22-171f2ef58ac2"
      },
      "source": [
        "Векторизуйте все наши заголовки новостей и добавьте этот метод в написанный ранее класс SimpleSearchEngine"
      ]
    },
    {
      "cell_type": "code",
      "execution_count": 51,
      "id": "837a67d2-2e51-49e4-be72-d12e451866d3",
      "metadata": {
        "colab": {
          "base_uri": "https://localhost:8080/",
          "height": 101,
          "referenced_widgets": [
            "75ee4f9821c94b6ebbe25c85c71245d3",
            "1cc8c5ec499843dc9ad75ffdd2068f6d",
            "44420daabf9b4225822419914fab5609",
            "7499c5d81c04495a9a72e9d82b84bd0b",
            "b9a1a12cae084b3db7de872707022ac5",
            "f2c2afad3fdc4652965c36c335fad25f",
            "90a083348a3e49e09fa1a553d1eb68c8",
            "510fe23c0d3c4275b462e2fe59a4552e",
            "5dcde7e0aa6d447880b85d57665fc16c",
            "3f923f86e67c44d29f8ab5a4323010a8",
            "a5a6196971eb4735946d60487f391d0d"
          ]
        },
        "id": "837a67d2-2e51-49e4-be72-d12e451866d3",
        "outputId": "2270229c-d674-4f91-86ac-a7381b8dc59a"
      },
      "outputs": [
        {
          "output_type": "display_data",
          "data": {
            "text/plain": [
              "  0%|          | 0/92555 [00:00<?, ?it/s]"
            ],
            "application/vnd.jupyter.widget-view+json": {
              "version_major": 2,
              "version_minor": 0,
              "model_id": "75ee4f9821c94b6ebbe25c85c71245d3"
            }
          },
          "metadata": {}
        },
        {
          "output_type": "execute_result",
          "data": {
            "text/plain": [
              "['Названы лучшие для отдыха маяки',\n",
              " 'Клубу \"Что? Где? Когда?\" пригрозили выселением из\\xa0Нескучного сада',\n",
              " 'Опубликовано лучшее туристическое видео года']"
            ]
          },
          "metadata": {},
          "execution_count": 51
        }
      ],
      "source": [
        "# solved\n",
        "class BERTSearchEngine:\n",
        "    def __init__(self, model, tokenizer, text_database):\n",
        "        self.raw_procesed_data = [self.preprocess(sample, tokenizer) for sample in text_database]\n",
        "        self.base = []\n",
        "        self.retriever = None\n",
        "        self.inverted_index = {}\n",
        "        self._init_retriever(model, tokenizer, text_database)\n",
        "        self._init_inverted_index(text_database)\n",
        "\n",
        "    @staticmethod\n",
        "    def preprocess(sentence: str, tokenizer):\n",
        "        return tokenizer(sentence, padding=True, truncation=True, return_tensors='pt')\n",
        "\n",
        "    def _embed_bert_cls(self, tokenized_text: dict[torch.Tensor]) -> np.array:\n",
        "        with torch.no_grad():\n",
        "            model_output = self.retriever(**{k: v.to(self.retriever.device) for k, v in tokenized_text.items()})\n",
        "        embeddings = model_output.last_hidden_state[:, 0, :]\n",
        "        embeddings = torch.nn.functional.normalize(embeddings)\n",
        "        return embeddings[0].cpu().numpy()\n",
        "\n",
        "    def _init_retriever(self, model, tokenizer, text_database):\n",
        "        self.retriever = model\n",
        "        self.tokenizer = tokenizer\n",
        "        self.base = np.array([self._embed_bert_cls(self.preprocess(text, tokenizer)) for text in tqdm(text_database)])\n",
        "\n",
        "    def retrieve(self, query: str) -> np.array:\n",
        "        return self._embed_bert_cls(self.preprocess(query, self.tokenizer))\n",
        "\n",
        "    def retrieve_documents(self, query: str, top_k=3) -> list[int]:\n",
        "        query_vector = self.retrieve(query)\n",
        "        cosine_similarities = cosine_similarity([query_vector], self.base).flatten()\n",
        "        relevant_indices = np.argsort(cosine_similarities, axis=0)[::-1][:top_k]\n",
        "        return relevant_indices.tolist()\n",
        "\n",
        "    def _init_inverted_index(self, text_database: list[str]):\n",
        "        self.inverted_index = dict(enumerate(text_database))\n",
        "\n",
        "    def display_relevant_docs(self, query, full_database, top_k=3) -> list[int]:\n",
        "        docs_indexes = self.retrieve_documents(query, top_k=top_k)\n",
        "        return [int(self.inverted_index[ind]) for ind in docs_indexes]\n",
        "\n",
        "\n",
        "simple_search_engine = BERTSearchEngine(model, tokenizer, df['title'])\n",
        "query = 'Какой отдых самый лучший?'\n",
        "\n",
        "simple_search_engine_results = simple_search_engine.display_relevant_docs(query, df['title'])\n",
        "simple_search_engine_results"
      ]
    },
    {
      "cell_type": "code",
      "execution_count": 61,
      "id": "773c9e99-3c1a-4856-bfaa-643c1073112b",
      "metadata": {
        "colab": {
          "base_uri": "https://localhost:8080/"
        },
        "id": "773c9e99-3c1a-4856-bfaa-643c1073112b",
        "outputId": "81cded07-4eee-434d-8d24-0eca48b21f91"
      },
      "outputs": [
        {
          "output_type": "stream",
          "name": "stdout",
          "text": [
            "All checks passed!\n"
          ]
        }
      ],
      "source": [
        "test_sentence = \"Test sentence for preprocessing.\"\n",
        "tokenized_data = BERTSearchEngine.preprocess(test_sentence, tokenizer)\n",
        "test_embedding = simple_search_engine._embed_bert_cls(tokenized_data)\n",
        "\n",
        "expected_embedding_shape = model.config.hidden_size\n",
        "assert test_embedding.shape == (expected_embedding_shape,), f\"The embedding should have shape ({expected_embedding_shape},)\"\n",
        "\n",
        "test_query = \"Sample query for testing.\"\n",
        "retrieved_docs_indices = simple_search_engine.retrieve_documents(test_query, top_k=5)\n",
        "\n",
        "# Assert test for document retrieval\n",
        "assert len(retrieved_docs_indices) <= 5, \"retrieve_documents should return at most top_k documents\"\n",
        "assert all(isinstance(idx, int) for idx in retrieved_docs_indices), \"All indices should be integers\"\n",
        "\n",
        "print(\"All checks passed!\")"
      ]
    },
    {
      "cell_type": "markdown",
      "id": "fdeee84c-3736-4760-aabc-de3bb58d0edc",
      "metadata": {
        "id": "fdeee84c-3736-4760-aabc-de3bb58d0edc"
      },
      "source": [
        "У методов с использованием трансформерных моделей есть один существенный недостаток - у них есть ограничение на используемую длину контекста. Поэтому для обработки длинных текстов, у которых токенизированный контекст превышает заявленную максимальную длину приходится агрегировать кусочки контексты, разбитые на куски, которые помещаются в контекст.  \n",
        "Стратегии агрегации и разбиения тут могут быть разные - с перекрытием, сплошное разбиение и любое другое, которое вы придумаете."
      ]
    },
    {
      "cell_type": "markdown",
      "id": "e3c5f112-b695-4cd3-a648-5e4e2946985d",
      "metadata": {
        "id": "e3c5f112-b695-4cd3-a648-5e4e2946985d"
      },
      "source": [
        "Давайте реализуем обработку длинного текста с разбитием на пересекающиеся участки. В качестве метода агрегации кусков контекста будет использовать усреднение векторов."
      ]
    },
    {
      "cell_type": "code",
      "execution_count": 57,
      "id": "3176b058-1c6c-4774-a63b-0bec040700a7",
      "metadata": {
        "id": "3176b058-1c6c-4774-a63b-0bec040700a7"
      },
      "outputs": [],
      "source": [
        "def split_into_chunks(data, chunk_size, overlap):\n",
        "    # Calculate the number of chunks needed\n",
        "    total_length = data['input_ids'].size(1)\n",
        "    num_chunks = (total_length - overlap) // (chunk_size - overlap)\n",
        "    if (total_length - overlap) % (chunk_size - overlap) != 0:\n",
        "        num_chunks += 1\n",
        "\n",
        "    # Create chunks with overlap for each tensor in the dictionary\n",
        "    chunks = [\n",
        "        # YOUR CODE HERE\n",
        "    ]\n",
        "\n",
        "    # Add an additional dimension to each tensor to maintain batch size of 1\n",
        "    for chunk in chunks:\n",
        "        for key in chunk:\n",
        "            chunk[key] = chunk[key].unsqueeze(0)\n",
        "\n",
        "    return chunks"
      ]
    },
    {
      "cell_type": "code",
      "execution_count": 58,
      "id": "a0680c81-7068-4223-989b-1706a45801f8",
      "metadata": {
        "id": "a0680c81-7068-4223-989b-1706a45801f8"
      },
      "outputs": [],
      "source": [
        "# solved\n",
        "\n",
        "def split_into_chunks(data, chunk_size, overlap):\n",
        "    # Calculate the number of chunks needed\n",
        "    total_length = data['input_ids'].size(1)\n",
        "    num_chunks = (total_length - overlap) // (chunk_size - overlap)\n",
        "    if (total_length - overlap) % (chunk_size - overlap) != 0:\n",
        "        num_chunks += 1\n",
        "\n",
        "    # Create chunks for each tensor in the dictionary\n",
        "    chunks = [\n",
        "        {\n",
        "            key: data[key][0, i * (chunk_size - overlap):i * (chunk_size - overlap) + chunk_size]\n",
        "            for key in data\n",
        "        }\n",
        "        for i in range(num_chunks)\n",
        "    ]\n",
        "\n",
        "    # Add an additional dimension to each tensor to maintain batch size of 1\n",
        "    for chunk in chunks:\n",
        "        for key in chunk:\n",
        "            chunk[key] = chunk[key].unsqueeze(0)\n",
        "\n",
        "    return chunks"
      ]
    },
    {
      "cell_type": "code",
      "execution_count": 60,
      "id": "9a86f1ff-0876-4c3e-be79-d1a200f7b3cc",
      "metadata": {
        "colab": {
          "base_uri": "https://localhost:8080/"
        },
        "id": "9a86f1ff-0876-4c3e-be79-d1a200f7b3cc",
        "outputId": "2c3b4dd9-f5e8-4ab8-f94c-c81740bd864e"
      },
      "outputs": [
        {
          "output_type": "stream",
          "name": "stdout",
          "text": [
            "All checks passed!\n"
          ]
        }
      ],
      "source": [
        "tokenized_data = {'input_ids': torch.randn(1, 1000), 'token_type_ids': torch.randn(1, 1000), 'attention_mask': torch.randn(1, 1000)}\n",
        "chunk_size = 512\n",
        "overlap = 50\n",
        "\n",
        "# Expected number of chunks\n",
        "expected_num_chunks = (1000 - overlap) // (chunk_size - overlap)\n",
        "if (1000 - overlap) % (chunk_size - overlap) != 0:\n",
        "    expected_num_chunks += 1\n",
        "\n",
        "chunks = split_into_chunks(tokenized_data, chunk_size, overlap)\n",
        "\n",
        "assert len(chunks) == expected_num_chunks, \"Number of chunks does not match the expected value\"\n",
        "\n",
        "for i, chunk in enumerate(chunks):\n",
        "    if i < len(chunks) - 1:\n",
        "        assert chunk['input_ids'].size(1) == chunk_size, f\"Chunk {i} does not have the correct chunk size\"\n",
        "    else:\n",
        "        # The last chunk can be smaller\n",
        "        assert chunk['input_ids'].size(1) <= chunk_size, f\"Last chunk {i} is larger than the specified chunk size\"\n",
        "\n",
        "if len(chunks) > 1:\n",
        "    for i in range(len(chunks) - 1):\n",
        "        end_of_first_chunk = chunks[i]['input_ids'][0, -overlap:]\n",
        "        start_of_next_chunk = chunks[i+1]['input_ids'][0, :overlap]\n",
        "        assert torch.equal(end_of_first_chunk, start_of_next_chunk), f\"Chunks {i} and {i+1} do not overlap correctly\"\n",
        "\n",
        "print(\"All checks passed!\")\n"
      ]
    },
    {
      "cell_type": "code",
      "execution_count": 62,
      "id": "3b1267f9-ce15-42eb-bc24-bdc2b22de757",
      "metadata": {
        "scrolled": true,
        "colab": {
          "base_uri": "https://localhost:8080/"
        },
        "id": "3b1267f9-ce15-42eb-bc24-bdc2b22de757",
        "outputId": "1f82a00c-2837-446d-d41b-dde94eeaa109"
      },
      "outputs": [
        {
          "output_type": "execute_result",
          "data": {
            "text/plain": [
              "torch.Size([312])"
            ]
          },
          "metadata": {},
          "execution_count": 62
        }
      ],
      "source": [
        "def bert_long_text_embedding(text, model, tokenizer, max_length=312, aggregation_mode='mean', chunk_size=256, overlap=64):\n",
        "    # Split the text into chunks of max_length\n",
        "    tokenized_text = tokenizer(text, return_tensors='pt')\n",
        "\n",
        "    chunks = split_into_chunks(tokenized_text, chunk_size, overlap)\n",
        "\n",
        "    # Process each chunk\n",
        "    embeddings = []\n",
        "    for chunk in chunks:\n",
        "        with torch.no_grad():\n",
        "            model_output = model(**{k: v.to(model.device) for k, v in chunk.items()})\n",
        "        chunk_embedding = model_output.last_hidden_state[:, 0, :]\n",
        "        chunk_embedding = torch.nn.functional.normalize(chunk_embedding)\n",
        "        chunk_embedding = chunk_embedding[0].cpu()\n",
        "\n",
        "        embeddings.append(chunk_embedding)\n",
        "\n",
        "    # Aggregate embeddings\n",
        "    if aggregation_mode == 'mean':\n",
        "        return torch.mean(torch.stack(embeddings), dim=0)\n",
        "    else:\n",
        "        # Implement other aggregation strategies (e.g., max, concat) as needed\n",
        "        raise NotImplementedError(\"Aggregation mode not implemented\")\n",
        "\n",
        "# Example usage\n",
        "text = df['text'].sample().tolist()\n",
        "\n",
        "embedding = bert_long_text_embedding(text, model, tokenizer)\n",
        "embedding.shape"
      ]
    },
    {
      "cell_type": "code",
      "execution_count": null,
      "id": "0fbf1009-40cf-4ea7-a113-9c6a04b42973",
      "metadata": {
        "id": "0fbf1009-40cf-4ea7-a113-9c6a04b42973"
      },
      "outputs": [],
      "source": []
    }
  ],
  "metadata": {
    "kernelspec": {
      "display_name": "Python 3 (ipykernel)",
      "language": "python",
      "name": "python3"
    },
    "language_info": {
      "codemirror_mode": {
        "name": "ipython",
        "version": 3
      },
      "file_extension": ".py",
      "mimetype": "text/x-python",
      "name": "python",
      "nbconvert_exporter": "python",
      "pygments_lexer": "ipython3",
      "version": "3.10.12"
    },
    "colab": {
      "provenance": [],
      "collapsed_sections": [
        "33864b30-a39e-4344-b36a-1dd67f596dd0"
      ]
    },
    "widgets": {
      "application/vnd.jupyter.widget-state+json": {
        "eae36d77cd7e47359eaf0edae20c6191": {
          "model_module": "@jupyter-widgets/controls",
          "model_name": "HBoxModel",
          "model_module_version": "1.5.0",
          "state": {
            "_dom_classes": [],
            "_model_module": "@jupyter-widgets/controls",
            "_model_module_version": "1.5.0",
            "_model_name": "HBoxModel",
            "_view_count": null,
            "_view_module": "@jupyter-widgets/controls",
            "_view_module_version": "1.5.0",
            "_view_name": "HBoxView",
            "box_style": "",
            "children": [
              "IPY_MODEL_0457a45e223d461d8cd7f65ee4afbccc",
              "IPY_MODEL_60de727138614f879c6745e68e53a3de",
              "IPY_MODEL_51634048eda943e997b477557377daf0"
            ],
            "layout": "IPY_MODEL_ec9a2232e1b544ce95ef10f9480a39a0"
          }
        },
        "0457a45e223d461d8cd7f65ee4afbccc": {
          "model_module": "@jupyter-widgets/controls",
          "model_name": "HTMLModel",
          "model_module_version": "1.5.0",
          "state": {
            "_dom_classes": [],
            "_model_module": "@jupyter-widgets/controls",
            "_model_module_version": "1.5.0",
            "_model_name": "HTMLModel",
            "_view_count": null,
            "_view_module": "@jupyter-widgets/controls",
            "_view_module_version": "1.5.0",
            "_view_name": "HTMLView",
            "description": "",
            "description_tooltip": null,
            "layout": "IPY_MODEL_25a9f7e56d904e71b60787c6ae3fef22",
            "placeholder": "​",
            "style": "IPY_MODEL_731f2fd31f2d4e8884325af32ed2a315",
            "value": "100%"
          }
        },
        "60de727138614f879c6745e68e53a3de": {
          "model_module": "@jupyter-widgets/controls",
          "model_name": "FloatProgressModel",
          "model_module_version": "1.5.0",
          "state": {
            "_dom_classes": [],
            "_model_module": "@jupyter-widgets/controls",
            "_model_module_version": "1.5.0",
            "_model_name": "FloatProgressModel",
            "_view_count": null,
            "_view_module": "@jupyter-widgets/controls",
            "_view_module_version": "1.5.0",
            "_view_name": "ProgressView",
            "bar_style": "success",
            "description": "",
            "description_tooltip": null,
            "layout": "IPY_MODEL_ba3869a9229b4cb7bfac856e7aa38250",
            "max": 92555,
            "min": 0,
            "orientation": "horizontal",
            "style": "IPY_MODEL_21e82b791d304cd7a02a96165e18cd74",
            "value": 92555
          }
        },
        "51634048eda943e997b477557377daf0": {
          "model_module": "@jupyter-widgets/controls",
          "model_name": "HTMLModel",
          "model_module_version": "1.5.0",
          "state": {
            "_dom_classes": [],
            "_model_module": "@jupyter-widgets/controls",
            "_model_module_version": "1.5.0",
            "_model_name": "HTMLModel",
            "_view_count": null,
            "_view_module": "@jupyter-widgets/controls",
            "_view_module_version": "1.5.0",
            "_view_name": "HTMLView",
            "description": "",
            "description_tooltip": null,
            "layout": "IPY_MODEL_7d5dbe0639ab46cd99b0a95b7973bbd5",
            "placeholder": "​",
            "style": "IPY_MODEL_260994f3b6f2414e937f9f5b574df2b2",
            "value": " 92555/92555 [00:21&lt;00:00, 4806.03it/s]"
          }
        },
        "ec9a2232e1b544ce95ef10f9480a39a0": {
          "model_module": "@jupyter-widgets/base",
          "model_name": "LayoutModel",
          "model_module_version": "1.2.0",
          "state": {
            "_model_module": "@jupyter-widgets/base",
            "_model_module_version": "1.2.0",
            "_model_name": "LayoutModel",
            "_view_count": null,
            "_view_module": "@jupyter-widgets/base",
            "_view_module_version": "1.2.0",
            "_view_name": "LayoutView",
            "align_content": null,
            "align_items": null,
            "align_self": null,
            "border": null,
            "bottom": null,
            "display": null,
            "flex": null,
            "flex_flow": null,
            "grid_area": null,
            "grid_auto_columns": null,
            "grid_auto_flow": null,
            "grid_auto_rows": null,
            "grid_column": null,
            "grid_gap": null,
            "grid_row": null,
            "grid_template_areas": null,
            "grid_template_columns": null,
            "grid_template_rows": null,
            "height": null,
            "justify_content": null,
            "justify_items": null,
            "left": null,
            "margin": null,
            "max_height": null,
            "max_width": null,
            "min_height": null,
            "min_width": null,
            "object_fit": null,
            "object_position": null,
            "order": null,
            "overflow": null,
            "overflow_x": null,
            "overflow_y": null,
            "padding": null,
            "right": null,
            "top": null,
            "visibility": null,
            "width": null
          }
        },
        "25a9f7e56d904e71b60787c6ae3fef22": {
          "model_module": "@jupyter-widgets/base",
          "model_name": "LayoutModel",
          "model_module_version": "1.2.0",
          "state": {
            "_model_module": "@jupyter-widgets/base",
            "_model_module_version": "1.2.0",
            "_model_name": "LayoutModel",
            "_view_count": null,
            "_view_module": "@jupyter-widgets/base",
            "_view_module_version": "1.2.0",
            "_view_name": "LayoutView",
            "align_content": null,
            "align_items": null,
            "align_self": null,
            "border": null,
            "bottom": null,
            "display": null,
            "flex": null,
            "flex_flow": null,
            "grid_area": null,
            "grid_auto_columns": null,
            "grid_auto_flow": null,
            "grid_auto_rows": null,
            "grid_column": null,
            "grid_gap": null,
            "grid_row": null,
            "grid_template_areas": null,
            "grid_template_columns": null,
            "grid_template_rows": null,
            "height": null,
            "justify_content": null,
            "justify_items": null,
            "left": null,
            "margin": null,
            "max_height": null,
            "max_width": null,
            "min_height": null,
            "min_width": null,
            "object_fit": null,
            "object_position": null,
            "order": null,
            "overflow": null,
            "overflow_x": null,
            "overflow_y": null,
            "padding": null,
            "right": null,
            "top": null,
            "visibility": null,
            "width": null
          }
        },
        "731f2fd31f2d4e8884325af32ed2a315": {
          "model_module": "@jupyter-widgets/controls",
          "model_name": "DescriptionStyleModel",
          "model_module_version": "1.5.0",
          "state": {
            "_model_module": "@jupyter-widgets/controls",
            "_model_module_version": "1.5.0",
            "_model_name": "DescriptionStyleModel",
            "_view_count": null,
            "_view_module": "@jupyter-widgets/base",
            "_view_module_version": "1.2.0",
            "_view_name": "StyleView",
            "description_width": ""
          }
        },
        "ba3869a9229b4cb7bfac856e7aa38250": {
          "model_module": "@jupyter-widgets/base",
          "model_name": "LayoutModel",
          "model_module_version": "1.2.0",
          "state": {
            "_model_module": "@jupyter-widgets/base",
            "_model_module_version": "1.2.0",
            "_model_name": "LayoutModel",
            "_view_count": null,
            "_view_module": "@jupyter-widgets/base",
            "_view_module_version": "1.2.0",
            "_view_name": "LayoutView",
            "align_content": null,
            "align_items": null,
            "align_self": null,
            "border": null,
            "bottom": null,
            "display": null,
            "flex": null,
            "flex_flow": null,
            "grid_area": null,
            "grid_auto_columns": null,
            "grid_auto_flow": null,
            "grid_auto_rows": null,
            "grid_column": null,
            "grid_gap": null,
            "grid_row": null,
            "grid_template_areas": null,
            "grid_template_columns": null,
            "grid_template_rows": null,
            "height": null,
            "justify_content": null,
            "justify_items": null,
            "left": null,
            "margin": null,
            "max_height": null,
            "max_width": null,
            "min_height": null,
            "min_width": null,
            "object_fit": null,
            "object_position": null,
            "order": null,
            "overflow": null,
            "overflow_x": null,
            "overflow_y": null,
            "padding": null,
            "right": null,
            "top": null,
            "visibility": null,
            "width": null
          }
        },
        "21e82b791d304cd7a02a96165e18cd74": {
          "model_module": "@jupyter-widgets/controls",
          "model_name": "ProgressStyleModel",
          "model_module_version": "1.5.0",
          "state": {
            "_model_module": "@jupyter-widgets/controls",
            "_model_module_version": "1.5.0",
            "_model_name": "ProgressStyleModel",
            "_view_count": null,
            "_view_module": "@jupyter-widgets/base",
            "_view_module_version": "1.2.0",
            "_view_name": "StyleView",
            "bar_color": null,
            "description_width": ""
          }
        },
        "7d5dbe0639ab46cd99b0a95b7973bbd5": {
          "model_module": "@jupyter-widgets/base",
          "model_name": "LayoutModel",
          "model_module_version": "1.2.0",
          "state": {
            "_model_module": "@jupyter-widgets/base",
            "_model_module_version": "1.2.0",
            "_model_name": "LayoutModel",
            "_view_count": null,
            "_view_module": "@jupyter-widgets/base",
            "_view_module_version": "1.2.0",
            "_view_name": "LayoutView",
            "align_content": null,
            "align_items": null,
            "align_self": null,
            "border": null,
            "bottom": null,
            "display": null,
            "flex": null,
            "flex_flow": null,
            "grid_area": null,
            "grid_auto_columns": null,
            "grid_auto_flow": null,
            "grid_auto_rows": null,
            "grid_column": null,
            "grid_gap": null,
            "grid_row": null,
            "grid_template_areas": null,
            "grid_template_columns": null,
            "grid_template_rows": null,
            "height": null,
            "justify_content": null,
            "justify_items": null,
            "left": null,
            "margin": null,
            "max_height": null,
            "max_width": null,
            "min_height": null,
            "min_width": null,
            "object_fit": null,
            "object_position": null,
            "order": null,
            "overflow": null,
            "overflow_x": null,
            "overflow_y": null,
            "padding": null,
            "right": null,
            "top": null,
            "visibility": null,
            "width": null
          }
        },
        "260994f3b6f2414e937f9f5b574df2b2": {
          "model_module": "@jupyter-widgets/controls",
          "model_name": "DescriptionStyleModel",
          "model_module_version": "1.5.0",
          "state": {
            "_model_module": "@jupyter-widgets/controls",
            "_model_module_version": "1.5.0",
            "_model_name": "DescriptionStyleModel",
            "_view_count": null,
            "_view_module": "@jupyter-widgets/base",
            "_view_module_version": "1.2.0",
            "_view_name": "StyleView",
            "description_width": ""
          }
        },
        "4fda059290604639982c7fcd3369c91a": {
          "model_module": "@jupyter-widgets/controls",
          "model_name": "HBoxModel",
          "model_module_version": "1.5.0",
          "state": {
            "_dom_classes": [],
            "_model_module": "@jupyter-widgets/controls",
            "_model_module_version": "1.5.0",
            "_model_name": "HBoxModel",
            "_view_count": null,
            "_view_module": "@jupyter-widgets/controls",
            "_view_module_version": "1.5.0",
            "_view_name": "HBoxView",
            "box_style": "",
            "children": [
              "IPY_MODEL_ec7b8ebf457e4e089eb55a22bcfaa896",
              "IPY_MODEL_37f3010b01f749388c7b8cefb74ff166",
              "IPY_MODEL_f7114f0d3bca481d97075223fba56d56"
            ],
            "layout": "IPY_MODEL_3c2b4b9efb764aa3902e7a7dca76b3a6"
          }
        },
        "ec7b8ebf457e4e089eb55a22bcfaa896": {
          "model_module": "@jupyter-widgets/controls",
          "model_name": "HTMLModel",
          "model_module_version": "1.5.0",
          "state": {
            "_dom_classes": [],
            "_model_module": "@jupyter-widgets/controls",
            "_model_module_version": "1.5.0",
            "_model_name": "HTMLModel",
            "_view_count": null,
            "_view_module": "@jupyter-widgets/controls",
            "_view_module_version": "1.5.0",
            "_view_name": "HTMLView",
            "description": "",
            "description_tooltip": null,
            "layout": "IPY_MODEL_1890b16a581946d3a7fc856a525d5636",
            "placeholder": "​",
            "style": "IPY_MODEL_0d7facdea78d4d2484e7516751ad4164",
            "value": "tokenizer_config.json: 100%"
          }
        },
        "37f3010b01f749388c7b8cefb74ff166": {
          "model_module": "@jupyter-widgets/controls",
          "model_name": "FloatProgressModel",
          "model_module_version": "1.5.0",
          "state": {
            "_dom_classes": [],
            "_model_module": "@jupyter-widgets/controls",
            "_model_module_version": "1.5.0",
            "_model_name": "FloatProgressModel",
            "_view_count": null,
            "_view_module": "@jupyter-widgets/controls",
            "_view_module_version": "1.5.0",
            "_view_name": "ProgressView",
            "bar_style": "success",
            "description": "",
            "description_tooltip": null,
            "layout": "IPY_MODEL_b0876c7a93b84c62839537305425ef56",
            "max": 401,
            "min": 0,
            "orientation": "horizontal",
            "style": "IPY_MODEL_2b4527b5ce8e47fb88a1ddccf436bd4e",
            "value": 401
          }
        },
        "f7114f0d3bca481d97075223fba56d56": {
          "model_module": "@jupyter-widgets/controls",
          "model_name": "HTMLModel",
          "model_module_version": "1.5.0",
          "state": {
            "_dom_classes": [],
            "_model_module": "@jupyter-widgets/controls",
            "_model_module_version": "1.5.0",
            "_model_name": "HTMLModel",
            "_view_count": null,
            "_view_module": "@jupyter-widgets/controls",
            "_view_module_version": "1.5.0",
            "_view_name": "HTMLView",
            "description": "",
            "description_tooltip": null,
            "layout": "IPY_MODEL_1a434390482947cbbdeb9b4240d57667",
            "placeholder": "​",
            "style": "IPY_MODEL_303fed8408fb4fa5888c5da04fbbf6a2",
            "value": " 401/401 [00:00&lt;00:00, 11.4kB/s]"
          }
        },
        "3c2b4b9efb764aa3902e7a7dca76b3a6": {
          "model_module": "@jupyter-widgets/base",
          "model_name": "LayoutModel",
          "model_module_version": "1.2.0",
          "state": {
            "_model_module": "@jupyter-widgets/base",
            "_model_module_version": "1.2.0",
            "_model_name": "LayoutModel",
            "_view_count": null,
            "_view_module": "@jupyter-widgets/base",
            "_view_module_version": "1.2.0",
            "_view_name": "LayoutView",
            "align_content": null,
            "align_items": null,
            "align_self": null,
            "border": null,
            "bottom": null,
            "display": null,
            "flex": null,
            "flex_flow": null,
            "grid_area": null,
            "grid_auto_columns": null,
            "grid_auto_flow": null,
            "grid_auto_rows": null,
            "grid_column": null,
            "grid_gap": null,
            "grid_row": null,
            "grid_template_areas": null,
            "grid_template_columns": null,
            "grid_template_rows": null,
            "height": null,
            "justify_content": null,
            "justify_items": null,
            "left": null,
            "margin": null,
            "max_height": null,
            "max_width": null,
            "min_height": null,
            "min_width": null,
            "object_fit": null,
            "object_position": null,
            "order": null,
            "overflow": null,
            "overflow_x": null,
            "overflow_y": null,
            "padding": null,
            "right": null,
            "top": null,
            "visibility": null,
            "width": null
          }
        },
        "1890b16a581946d3a7fc856a525d5636": {
          "model_module": "@jupyter-widgets/base",
          "model_name": "LayoutModel",
          "model_module_version": "1.2.0",
          "state": {
            "_model_module": "@jupyter-widgets/base",
            "_model_module_version": "1.2.0",
            "_model_name": "LayoutModel",
            "_view_count": null,
            "_view_module": "@jupyter-widgets/base",
            "_view_module_version": "1.2.0",
            "_view_name": "LayoutView",
            "align_content": null,
            "align_items": null,
            "align_self": null,
            "border": null,
            "bottom": null,
            "display": null,
            "flex": null,
            "flex_flow": null,
            "grid_area": null,
            "grid_auto_columns": null,
            "grid_auto_flow": null,
            "grid_auto_rows": null,
            "grid_column": null,
            "grid_gap": null,
            "grid_row": null,
            "grid_template_areas": null,
            "grid_template_columns": null,
            "grid_template_rows": null,
            "height": null,
            "justify_content": null,
            "justify_items": null,
            "left": null,
            "margin": null,
            "max_height": null,
            "max_width": null,
            "min_height": null,
            "min_width": null,
            "object_fit": null,
            "object_position": null,
            "order": null,
            "overflow": null,
            "overflow_x": null,
            "overflow_y": null,
            "padding": null,
            "right": null,
            "top": null,
            "visibility": null,
            "width": null
          }
        },
        "0d7facdea78d4d2484e7516751ad4164": {
          "model_module": "@jupyter-widgets/controls",
          "model_name": "DescriptionStyleModel",
          "model_module_version": "1.5.0",
          "state": {
            "_model_module": "@jupyter-widgets/controls",
            "_model_module_version": "1.5.0",
            "_model_name": "DescriptionStyleModel",
            "_view_count": null,
            "_view_module": "@jupyter-widgets/base",
            "_view_module_version": "1.2.0",
            "_view_name": "StyleView",
            "description_width": ""
          }
        },
        "b0876c7a93b84c62839537305425ef56": {
          "model_module": "@jupyter-widgets/base",
          "model_name": "LayoutModel",
          "model_module_version": "1.2.0",
          "state": {
            "_model_module": "@jupyter-widgets/base",
            "_model_module_version": "1.2.0",
            "_model_name": "LayoutModel",
            "_view_count": null,
            "_view_module": "@jupyter-widgets/base",
            "_view_module_version": "1.2.0",
            "_view_name": "LayoutView",
            "align_content": null,
            "align_items": null,
            "align_self": null,
            "border": null,
            "bottom": null,
            "display": null,
            "flex": null,
            "flex_flow": null,
            "grid_area": null,
            "grid_auto_columns": null,
            "grid_auto_flow": null,
            "grid_auto_rows": null,
            "grid_column": null,
            "grid_gap": null,
            "grid_row": null,
            "grid_template_areas": null,
            "grid_template_columns": null,
            "grid_template_rows": null,
            "height": null,
            "justify_content": null,
            "justify_items": null,
            "left": null,
            "margin": null,
            "max_height": null,
            "max_width": null,
            "min_height": null,
            "min_width": null,
            "object_fit": null,
            "object_position": null,
            "order": null,
            "overflow": null,
            "overflow_x": null,
            "overflow_y": null,
            "padding": null,
            "right": null,
            "top": null,
            "visibility": null,
            "width": null
          }
        },
        "2b4527b5ce8e47fb88a1ddccf436bd4e": {
          "model_module": "@jupyter-widgets/controls",
          "model_name": "ProgressStyleModel",
          "model_module_version": "1.5.0",
          "state": {
            "_model_module": "@jupyter-widgets/controls",
            "_model_module_version": "1.5.0",
            "_model_name": "ProgressStyleModel",
            "_view_count": null,
            "_view_module": "@jupyter-widgets/base",
            "_view_module_version": "1.2.0",
            "_view_name": "StyleView",
            "bar_color": null,
            "description_width": ""
          }
        },
        "1a434390482947cbbdeb9b4240d57667": {
          "model_module": "@jupyter-widgets/base",
          "model_name": "LayoutModel",
          "model_module_version": "1.2.0",
          "state": {
            "_model_module": "@jupyter-widgets/base",
            "_model_module_version": "1.2.0",
            "_model_name": "LayoutModel",
            "_view_count": null,
            "_view_module": "@jupyter-widgets/base",
            "_view_module_version": "1.2.0",
            "_view_name": "LayoutView",
            "align_content": null,
            "align_items": null,
            "align_self": null,
            "border": null,
            "bottom": null,
            "display": null,
            "flex": null,
            "flex_flow": null,
            "grid_area": null,
            "grid_auto_columns": null,
            "grid_auto_flow": null,
            "grid_auto_rows": null,
            "grid_column": null,
            "grid_gap": null,
            "grid_row": null,
            "grid_template_areas": null,
            "grid_template_columns": null,
            "grid_template_rows": null,
            "height": null,
            "justify_content": null,
            "justify_items": null,
            "left": null,
            "margin": null,
            "max_height": null,
            "max_width": null,
            "min_height": null,
            "min_width": null,
            "object_fit": null,
            "object_position": null,
            "order": null,
            "overflow": null,
            "overflow_x": null,
            "overflow_y": null,
            "padding": null,
            "right": null,
            "top": null,
            "visibility": null,
            "width": null
          }
        },
        "303fed8408fb4fa5888c5da04fbbf6a2": {
          "model_module": "@jupyter-widgets/controls",
          "model_name": "DescriptionStyleModel",
          "model_module_version": "1.5.0",
          "state": {
            "_model_module": "@jupyter-widgets/controls",
            "_model_module_version": "1.5.0",
            "_model_name": "DescriptionStyleModel",
            "_view_count": null,
            "_view_module": "@jupyter-widgets/base",
            "_view_module_version": "1.2.0",
            "_view_name": "StyleView",
            "description_width": ""
          }
        },
        "2f7446bacdd041a7bda94df0367201b1": {
          "model_module": "@jupyter-widgets/controls",
          "model_name": "HBoxModel",
          "model_module_version": "1.5.0",
          "state": {
            "_dom_classes": [],
            "_model_module": "@jupyter-widgets/controls",
            "_model_module_version": "1.5.0",
            "_model_name": "HBoxModel",
            "_view_count": null,
            "_view_module": "@jupyter-widgets/controls",
            "_view_module_version": "1.5.0",
            "_view_name": "HBoxView",
            "box_style": "",
            "children": [
              "IPY_MODEL_31b1d7c9f358400a98386e2729a0d81a",
              "IPY_MODEL_bc2e23ce8def4e3a8bb3d0ae15daa2f7",
              "IPY_MODEL_bc7c7244e8964fb382f7f13e64fe29a5"
            ],
            "layout": "IPY_MODEL_9039ef757af9490095781ff872d75e89"
          }
        },
        "31b1d7c9f358400a98386e2729a0d81a": {
          "model_module": "@jupyter-widgets/controls",
          "model_name": "HTMLModel",
          "model_module_version": "1.5.0",
          "state": {
            "_dom_classes": [],
            "_model_module": "@jupyter-widgets/controls",
            "_model_module_version": "1.5.0",
            "_model_name": "HTMLModel",
            "_view_count": null,
            "_view_module": "@jupyter-widgets/controls",
            "_view_module_version": "1.5.0",
            "_view_name": "HTMLView",
            "description": "",
            "description_tooltip": null,
            "layout": "IPY_MODEL_e770f0c880124b859c600fa8ba14134f",
            "placeholder": "​",
            "style": "IPY_MODEL_010a9463297945bbbb252630bd1110cb",
            "value": "vocab.txt: 100%"
          }
        },
        "bc2e23ce8def4e3a8bb3d0ae15daa2f7": {
          "model_module": "@jupyter-widgets/controls",
          "model_name": "FloatProgressModel",
          "model_module_version": "1.5.0",
          "state": {
            "_dom_classes": [],
            "_model_module": "@jupyter-widgets/controls",
            "_model_module_version": "1.5.0",
            "_model_name": "FloatProgressModel",
            "_view_count": null,
            "_view_module": "@jupyter-widgets/controls",
            "_view_module_version": "1.5.0",
            "_view_name": "ProgressView",
            "bar_style": "success",
            "description": "",
            "description_tooltip": null,
            "layout": "IPY_MODEL_413c70fc853343a893492407772f1fb8",
            "max": 1080667,
            "min": 0,
            "orientation": "horizontal",
            "style": "IPY_MODEL_a283d961658742b1bfab69a60c99e28b",
            "value": 1080667
          }
        },
        "bc7c7244e8964fb382f7f13e64fe29a5": {
          "model_module": "@jupyter-widgets/controls",
          "model_name": "HTMLModel",
          "model_module_version": "1.5.0",
          "state": {
            "_dom_classes": [],
            "_model_module": "@jupyter-widgets/controls",
            "_model_module_version": "1.5.0",
            "_model_name": "HTMLModel",
            "_view_count": null,
            "_view_module": "@jupyter-widgets/controls",
            "_view_module_version": "1.5.0",
            "_view_name": "HTMLView",
            "description": "",
            "description_tooltip": null,
            "layout": "IPY_MODEL_efe11e74031c480aae4f7d2e2dab505c",
            "placeholder": "​",
            "style": "IPY_MODEL_ca4b29ebd1614aaebe4ca7998e3c657c",
            "value": " 1.08M/1.08M [00:00&lt;00:00, 8.30MB/s]"
          }
        },
        "9039ef757af9490095781ff872d75e89": {
          "model_module": "@jupyter-widgets/base",
          "model_name": "LayoutModel",
          "model_module_version": "1.2.0",
          "state": {
            "_model_module": "@jupyter-widgets/base",
            "_model_module_version": "1.2.0",
            "_model_name": "LayoutModel",
            "_view_count": null,
            "_view_module": "@jupyter-widgets/base",
            "_view_module_version": "1.2.0",
            "_view_name": "LayoutView",
            "align_content": null,
            "align_items": null,
            "align_self": null,
            "border": null,
            "bottom": null,
            "display": null,
            "flex": null,
            "flex_flow": null,
            "grid_area": null,
            "grid_auto_columns": null,
            "grid_auto_flow": null,
            "grid_auto_rows": null,
            "grid_column": null,
            "grid_gap": null,
            "grid_row": null,
            "grid_template_areas": null,
            "grid_template_columns": null,
            "grid_template_rows": null,
            "height": null,
            "justify_content": null,
            "justify_items": null,
            "left": null,
            "margin": null,
            "max_height": null,
            "max_width": null,
            "min_height": null,
            "min_width": null,
            "object_fit": null,
            "object_position": null,
            "order": null,
            "overflow": null,
            "overflow_x": null,
            "overflow_y": null,
            "padding": null,
            "right": null,
            "top": null,
            "visibility": null,
            "width": null
          }
        },
        "e770f0c880124b859c600fa8ba14134f": {
          "model_module": "@jupyter-widgets/base",
          "model_name": "LayoutModel",
          "model_module_version": "1.2.0",
          "state": {
            "_model_module": "@jupyter-widgets/base",
            "_model_module_version": "1.2.0",
            "_model_name": "LayoutModel",
            "_view_count": null,
            "_view_module": "@jupyter-widgets/base",
            "_view_module_version": "1.2.0",
            "_view_name": "LayoutView",
            "align_content": null,
            "align_items": null,
            "align_self": null,
            "border": null,
            "bottom": null,
            "display": null,
            "flex": null,
            "flex_flow": null,
            "grid_area": null,
            "grid_auto_columns": null,
            "grid_auto_flow": null,
            "grid_auto_rows": null,
            "grid_column": null,
            "grid_gap": null,
            "grid_row": null,
            "grid_template_areas": null,
            "grid_template_columns": null,
            "grid_template_rows": null,
            "height": null,
            "justify_content": null,
            "justify_items": null,
            "left": null,
            "margin": null,
            "max_height": null,
            "max_width": null,
            "min_height": null,
            "min_width": null,
            "object_fit": null,
            "object_position": null,
            "order": null,
            "overflow": null,
            "overflow_x": null,
            "overflow_y": null,
            "padding": null,
            "right": null,
            "top": null,
            "visibility": null,
            "width": null
          }
        },
        "010a9463297945bbbb252630bd1110cb": {
          "model_module": "@jupyter-widgets/controls",
          "model_name": "DescriptionStyleModel",
          "model_module_version": "1.5.0",
          "state": {
            "_model_module": "@jupyter-widgets/controls",
            "_model_module_version": "1.5.0",
            "_model_name": "DescriptionStyleModel",
            "_view_count": null,
            "_view_module": "@jupyter-widgets/base",
            "_view_module_version": "1.2.0",
            "_view_name": "StyleView",
            "description_width": ""
          }
        },
        "413c70fc853343a893492407772f1fb8": {
          "model_module": "@jupyter-widgets/base",
          "model_name": "LayoutModel",
          "model_module_version": "1.2.0",
          "state": {
            "_model_module": "@jupyter-widgets/base",
            "_model_module_version": "1.2.0",
            "_model_name": "LayoutModel",
            "_view_count": null,
            "_view_module": "@jupyter-widgets/base",
            "_view_module_version": "1.2.0",
            "_view_name": "LayoutView",
            "align_content": null,
            "align_items": null,
            "align_self": null,
            "border": null,
            "bottom": null,
            "display": null,
            "flex": null,
            "flex_flow": null,
            "grid_area": null,
            "grid_auto_columns": null,
            "grid_auto_flow": null,
            "grid_auto_rows": null,
            "grid_column": null,
            "grid_gap": null,
            "grid_row": null,
            "grid_template_areas": null,
            "grid_template_columns": null,
            "grid_template_rows": null,
            "height": null,
            "justify_content": null,
            "justify_items": null,
            "left": null,
            "margin": null,
            "max_height": null,
            "max_width": null,
            "min_height": null,
            "min_width": null,
            "object_fit": null,
            "object_position": null,
            "order": null,
            "overflow": null,
            "overflow_x": null,
            "overflow_y": null,
            "padding": null,
            "right": null,
            "top": null,
            "visibility": null,
            "width": null
          }
        },
        "a283d961658742b1bfab69a60c99e28b": {
          "model_module": "@jupyter-widgets/controls",
          "model_name": "ProgressStyleModel",
          "model_module_version": "1.5.0",
          "state": {
            "_model_module": "@jupyter-widgets/controls",
            "_model_module_version": "1.5.0",
            "_model_name": "ProgressStyleModel",
            "_view_count": null,
            "_view_module": "@jupyter-widgets/base",
            "_view_module_version": "1.2.0",
            "_view_name": "StyleView",
            "bar_color": null,
            "description_width": ""
          }
        },
        "efe11e74031c480aae4f7d2e2dab505c": {
          "model_module": "@jupyter-widgets/base",
          "model_name": "LayoutModel",
          "model_module_version": "1.2.0",
          "state": {
            "_model_module": "@jupyter-widgets/base",
            "_model_module_version": "1.2.0",
            "_model_name": "LayoutModel",
            "_view_count": null,
            "_view_module": "@jupyter-widgets/base",
            "_view_module_version": "1.2.0",
            "_view_name": "LayoutView",
            "align_content": null,
            "align_items": null,
            "align_self": null,
            "border": null,
            "bottom": null,
            "display": null,
            "flex": null,
            "flex_flow": null,
            "grid_area": null,
            "grid_auto_columns": null,
            "grid_auto_flow": null,
            "grid_auto_rows": null,
            "grid_column": null,
            "grid_gap": null,
            "grid_row": null,
            "grid_template_areas": null,
            "grid_template_columns": null,
            "grid_template_rows": null,
            "height": null,
            "justify_content": null,
            "justify_items": null,
            "left": null,
            "margin": null,
            "max_height": null,
            "max_width": null,
            "min_height": null,
            "min_width": null,
            "object_fit": null,
            "object_position": null,
            "order": null,
            "overflow": null,
            "overflow_x": null,
            "overflow_y": null,
            "padding": null,
            "right": null,
            "top": null,
            "visibility": null,
            "width": null
          }
        },
        "ca4b29ebd1614aaebe4ca7998e3c657c": {
          "model_module": "@jupyter-widgets/controls",
          "model_name": "DescriptionStyleModel",
          "model_module_version": "1.5.0",
          "state": {
            "_model_module": "@jupyter-widgets/controls",
            "_model_module_version": "1.5.0",
            "_model_name": "DescriptionStyleModel",
            "_view_count": null,
            "_view_module": "@jupyter-widgets/base",
            "_view_module_version": "1.2.0",
            "_view_name": "StyleView",
            "description_width": ""
          }
        },
        "47e02fa16f3b41edb664bee1243e7369": {
          "model_module": "@jupyter-widgets/controls",
          "model_name": "HBoxModel",
          "model_module_version": "1.5.0",
          "state": {
            "_dom_classes": [],
            "_model_module": "@jupyter-widgets/controls",
            "_model_module_version": "1.5.0",
            "_model_name": "HBoxModel",
            "_view_count": null,
            "_view_module": "@jupyter-widgets/controls",
            "_view_module_version": "1.5.0",
            "_view_name": "HBoxView",
            "box_style": "",
            "children": [
              "IPY_MODEL_b901cfcc57a346f28bb5aca5f116c643",
              "IPY_MODEL_0af3fc5915aa4581b836dfcf160476d5",
              "IPY_MODEL_5935b30ccfb94f92bbc549e74cca5f51"
            ],
            "layout": "IPY_MODEL_ff98ad822a0547c1ad9fe87bd298f4e4"
          }
        },
        "b901cfcc57a346f28bb5aca5f116c643": {
          "model_module": "@jupyter-widgets/controls",
          "model_name": "HTMLModel",
          "model_module_version": "1.5.0",
          "state": {
            "_dom_classes": [],
            "_model_module": "@jupyter-widgets/controls",
            "_model_module_version": "1.5.0",
            "_model_name": "HTMLModel",
            "_view_count": null,
            "_view_module": "@jupyter-widgets/controls",
            "_view_module_version": "1.5.0",
            "_view_name": "HTMLView",
            "description": "",
            "description_tooltip": null,
            "layout": "IPY_MODEL_551a9835381c4562af9fd0ca4f15b1de",
            "placeholder": "​",
            "style": "IPY_MODEL_587782919caf43f58910840b5373e44f",
            "value": "tokenizer.json: 100%"
          }
        },
        "0af3fc5915aa4581b836dfcf160476d5": {
          "model_module": "@jupyter-widgets/controls",
          "model_name": "FloatProgressModel",
          "model_module_version": "1.5.0",
          "state": {
            "_dom_classes": [],
            "_model_module": "@jupyter-widgets/controls",
            "_model_module_version": "1.5.0",
            "_model_name": "FloatProgressModel",
            "_view_count": null,
            "_view_module": "@jupyter-widgets/controls",
            "_view_module_version": "1.5.0",
            "_view_name": "ProgressView",
            "bar_style": "success",
            "description": "",
            "description_tooltip": null,
            "layout": "IPY_MODEL_2e5f30ae5b3e450e8ebb0ae4856181e7",
            "max": 1741842,
            "min": 0,
            "orientation": "horizontal",
            "style": "IPY_MODEL_60f90e4b317140a58370dae5bd8ee842",
            "value": 1741842
          }
        },
        "5935b30ccfb94f92bbc549e74cca5f51": {
          "model_module": "@jupyter-widgets/controls",
          "model_name": "HTMLModel",
          "model_module_version": "1.5.0",
          "state": {
            "_dom_classes": [],
            "_model_module": "@jupyter-widgets/controls",
            "_model_module_version": "1.5.0",
            "_model_name": "HTMLModel",
            "_view_count": null,
            "_view_module": "@jupyter-widgets/controls",
            "_view_module_version": "1.5.0",
            "_view_name": "HTMLView",
            "description": "",
            "description_tooltip": null,
            "layout": "IPY_MODEL_292bf5c6a58a4858ac978c63ca4618a2",
            "placeholder": "​",
            "style": "IPY_MODEL_2a082449c8054bd3ba07335856c4e661",
            "value": " 1.74M/1.74M [00:00&lt;00:00, 49.1MB/s]"
          }
        },
        "ff98ad822a0547c1ad9fe87bd298f4e4": {
          "model_module": "@jupyter-widgets/base",
          "model_name": "LayoutModel",
          "model_module_version": "1.2.0",
          "state": {
            "_model_module": "@jupyter-widgets/base",
            "_model_module_version": "1.2.0",
            "_model_name": "LayoutModel",
            "_view_count": null,
            "_view_module": "@jupyter-widgets/base",
            "_view_module_version": "1.2.0",
            "_view_name": "LayoutView",
            "align_content": null,
            "align_items": null,
            "align_self": null,
            "border": null,
            "bottom": null,
            "display": null,
            "flex": null,
            "flex_flow": null,
            "grid_area": null,
            "grid_auto_columns": null,
            "grid_auto_flow": null,
            "grid_auto_rows": null,
            "grid_column": null,
            "grid_gap": null,
            "grid_row": null,
            "grid_template_areas": null,
            "grid_template_columns": null,
            "grid_template_rows": null,
            "height": null,
            "justify_content": null,
            "justify_items": null,
            "left": null,
            "margin": null,
            "max_height": null,
            "max_width": null,
            "min_height": null,
            "min_width": null,
            "object_fit": null,
            "object_position": null,
            "order": null,
            "overflow": null,
            "overflow_x": null,
            "overflow_y": null,
            "padding": null,
            "right": null,
            "top": null,
            "visibility": null,
            "width": null
          }
        },
        "551a9835381c4562af9fd0ca4f15b1de": {
          "model_module": "@jupyter-widgets/base",
          "model_name": "LayoutModel",
          "model_module_version": "1.2.0",
          "state": {
            "_model_module": "@jupyter-widgets/base",
            "_model_module_version": "1.2.0",
            "_model_name": "LayoutModel",
            "_view_count": null,
            "_view_module": "@jupyter-widgets/base",
            "_view_module_version": "1.2.0",
            "_view_name": "LayoutView",
            "align_content": null,
            "align_items": null,
            "align_self": null,
            "border": null,
            "bottom": null,
            "display": null,
            "flex": null,
            "flex_flow": null,
            "grid_area": null,
            "grid_auto_columns": null,
            "grid_auto_flow": null,
            "grid_auto_rows": null,
            "grid_column": null,
            "grid_gap": null,
            "grid_row": null,
            "grid_template_areas": null,
            "grid_template_columns": null,
            "grid_template_rows": null,
            "height": null,
            "justify_content": null,
            "justify_items": null,
            "left": null,
            "margin": null,
            "max_height": null,
            "max_width": null,
            "min_height": null,
            "min_width": null,
            "object_fit": null,
            "object_position": null,
            "order": null,
            "overflow": null,
            "overflow_x": null,
            "overflow_y": null,
            "padding": null,
            "right": null,
            "top": null,
            "visibility": null,
            "width": null
          }
        },
        "587782919caf43f58910840b5373e44f": {
          "model_module": "@jupyter-widgets/controls",
          "model_name": "DescriptionStyleModel",
          "model_module_version": "1.5.0",
          "state": {
            "_model_module": "@jupyter-widgets/controls",
            "_model_module_version": "1.5.0",
            "_model_name": "DescriptionStyleModel",
            "_view_count": null,
            "_view_module": "@jupyter-widgets/base",
            "_view_module_version": "1.2.0",
            "_view_name": "StyleView",
            "description_width": ""
          }
        },
        "2e5f30ae5b3e450e8ebb0ae4856181e7": {
          "model_module": "@jupyter-widgets/base",
          "model_name": "LayoutModel",
          "model_module_version": "1.2.0",
          "state": {
            "_model_module": "@jupyter-widgets/base",
            "_model_module_version": "1.2.0",
            "_model_name": "LayoutModel",
            "_view_count": null,
            "_view_module": "@jupyter-widgets/base",
            "_view_module_version": "1.2.0",
            "_view_name": "LayoutView",
            "align_content": null,
            "align_items": null,
            "align_self": null,
            "border": null,
            "bottom": null,
            "display": null,
            "flex": null,
            "flex_flow": null,
            "grid_area": null,
            "grid_auto_columns": null,
            "grid_auto_flow": null,
            "grid_auto_rows": null,
            "grid_column": null,
            "grid_gap": null,
            "grid_row": null,
            "grid_template_areas": null,
            "grid_template_columns": null,
            "grid_template_rows": null,
            "height": null,
            "justify_content": null,
            "justify_items": null,
            "left": null,
            "margin": null,
            "max_height": null,
            "max_width": null,
            "min_height": null,
            "min_width": null,
            "object_fit": null,
            "object_position": null,
            "order": null,
            "overflow": null,
            "overflow_x": null,
            "overflow_y": null,
            "padding": null,
            "right": null,
            "top": null,
            "visibility": null,
            "width": null
          }
        },
        "60f90e4b317140a58370dae5bd8ee842": {
          "model_module": "@jupyter-widgets/controls",
          "model_name": "ProgressStyleModel",
          "model_module_version": "1.5.0",
          "state": {
            "_model_module": "@jupyter-widgets/controls",
            "_model_module_version": "1.5.0",
            "_model_name": "ProgressStyleModel",
            "_view_count": null,
            "_view_module": "@jupyter-widgets/base",
            "_view_module_version": "1.2.0",
            "_view_name": "StyleView",
            "bar_color": null,
            "description_width": ""
          }
        },
        "292bf5c6a58a4858ac978c63ca4618a2": {
          "model_module": "@jupyter-widgets/base",
          "model_name": "LayoutModel",
          "model_module_version": "1.2.0",
          "state": {
            "_model_module": "@jupyter-widgets/base",
            "_model_module_version": "1.2.0",
            "_model_name": "LayoutModel",
            "_view_count": null,
            "_view_module": "@jupyter-widgets/base",
            "_view_module_version": "1.2.0",
            "_view_name": "LayoutView",
            "align_content": null,
            "align_items": null,
            "align_self": null,
            "border": null,
            "bottom": null,
            "display": null,
            "flex": null,
            "flex_flow": null,
            "grid_area": null,
            "grid_auto_columns": null,
            "grid_auto_flow": null,
            "grid_auto_rows": null,
            "grid_column": null,
            "grid_gap": null,
            "grid_row": null,
            "grid_template_areas": null,
            "grid_template_columns": null,
            "grid_template_rows": null,
            "height": null,
            "justify_content": null,
            "justify_items": null,
            "left": null,
            "margin": null,
            "max_height": null,
            "max_width": null,
            "min_height": null,
            "min_width": null,
            "object_fit": null,
            "object_position": null,
            "order": null,
            "overflow": null,
            "overflow_x": null,
            "overflow_y": null,
            "padding": null,
            "right": null,
            "top": null,
            "visibility": null,
            "width": null
          }
        },
        "2a082449c8054bd3ba07335856c4e661": {
          "model_module": "@jupyter-widgets/controls",
          "model_name": "DescriptionStyleModel",
          "model_module_version": "1.5.0",
          "state": {
            "_model_module": "@jupyter-widgets/controls",
            "_model_module_version": "1.5.0",
            "_model_name": "DescriptionStyleModel",
            "_view_count": null,
            "_view_module": "@jupyter-widgets/base",
            "_view_module_version": "1.2.0",
            "_view_name": "StyleView",
            "description_width": ""
          }
        },
        "0f7233a4b22e498198581e76cf94022d": {
          "model_module": "@jupyter-widgets/controls",
          "model_name": "HBoxModel",
          "model_module_version": "1.5.0",
          "state": {
            "_dom_classes": [],
            "_model_module": "@jupyter-widgets/controls",
            "_model_module_version": "1.5.0",
            "_model_name": "HBoxModel",
            "_view_count": null,
            "_view_module": "@jupyter-widgets/controls",
            "_view_module_version": "1.5.0",
            "_view_name": "HBoxView",
            "box_style": "",
            "children": [
              "IPY_MODEL_510ce8f0911b4bd4aec2b6faa021127e",
              "IPY_MODEL_5c5ff5e98df54c22a65719efe1d8acab",
              "IPY_MODEL_f8f86a793e4a4249b59bfe73e1222b06"
            ],
            "layout": "IPY_MODEL_17dd849baa7c45dfb26e6bfc64d45a2c"
          }
        },
        "510ce8f0911b4bd4aec2b6faa021127e": {
          "model_module": "@jupyter-widgets/controls",
          "model_name": "HTMLModel",
          "model_module_version": "1.5.0",
          "state": {
            "_dom_classes": [],
            "_model_module": "@jupyter-widgets/controls",
            "_model_module_version": "1.5.0",
            "_model_name": "HTMLModel",
            "_view_count": null,
            "_view_module": "@jupyter-widgets/controls",
            "_view_module_version": "1.5.0",
            "_view_name": "HTMLView",
            "description": "",
            "description_tooltip": null,
            "layout": "IPY_MODEL_3b54b159e1444350ac2aa6385ccdadca",
            "placeholder": "​",
            "style": "IPY_MODEL_ac3e9c681d65481fb552b6a27be39885",
            "value": "special_tokens_map.json: 100%"
          }
        },
        "5c5ff5e98df54c22a65719efe1d8acab": {
          "model_module": "@jupyter-widgets/controls",
          "model_name": "FloatProgressModel",
          "model_module_version": "1.5.0",
          "state": {
            "_dom_classes": [],
            "_model_module": "@jupyter-widgets/controls",
            "_model_module_version": "1.5.0",
            "_model_name": "FloatProgressModel",
            "_view_count": null,
            "_view_module": "@jupyter-widgets/controls",
            "_view_module_version": "1.5.0",
            "_view_name": "ProgressView",
            "bar_style": "success",
            "description": "",
            "description_tooltip": null,
            "layout": "IPY_MODEL_7c76446bae924726ba9bc9d5bb3befa7",
            "max": 112,
            "min": 0,
            "orientation": "horizontal",
            "style": "IPY_MODEL_2501d82c3c0d4a0d84a4e99f923a4d41",
            "value": 112
          }
        },
        "f8f86a793e4a4249b59bfe73e1222b06": {
          "model_module": "@jupyter-widgets/controls",
          "model_name": "HTMLModel",
          "model_module_version": "1.5.0",
          "state": {
            "_dom_classes": [],
            "_model_module": "@jupyter-widgets/controls",
            "_model_module_version": "1.5.0",
            "_model_name": "HTMLModel",
            "_view_count": null,
            "_view_module": "@jupyter-widgets/controls",
            "_view_module_version": "1.5.0",
            "_view_name": "HTMLView",
            "description": "",
            "description_tooltip": null,
            "layout": "IPY_MODEL_6f159bf69bd140fc96dfddf491091bb0",
            "placeholder": "​",
            "style": "IPY_MODEL_b2db7e480e0e405f8bdcaab77a8022ea",
            "value": " 112/112 [00:00&lt;00:00, 5.33kB/s]"
          }
        },
        "17dd849baa7c45dfb26e6bfc64d45a2c": {
          "model_module": "@jupyter-widgets/base",
          "model_name": "LayoutModel",
          "model_module_version": "1.2.0",
          "state": {
            "_model_module": "@jupyter-widgets/base",
            "_model_module_version": "1.2.0",
            "_model_name": "LayoutModel",
            "_view_count": null,
            "_view_module": "@jupyter-widgets/base",
            "_view_module_version": "1.2.0",
            "_view_name": "LayoutView",
            "align_content": null,
            "align_items": null,
            "align_self": null,
            "border": null,
            "bottom": null,
            "display": null,
            "flex": null,
            "flex_flow": null,
            "grid_area": null,
            "grid_auto_columns": null,
            "grid_auto_flow": null,
            "grid_auto_rows": null,
            "grid_column": null,
            "grid_gap": null,
            "grid_row": null,
            "grid_template_areas": null,
            "grid_template_columns": null,
            "grid_template_rows": null,
            "height": null,
            "justify_content": null,
            "justify_items": null,
            "left": null,
            "margin": null,
            "max_height": null,
            "max_width": null,
            "min_height": null,
            "min_width": null,
            "object_fit": null,
            "object_position": null,
            "order": null,
            "overflow": null,
            "overflow_x": null,
            "overflow_y": null,
            "padding": null,
            "right": null,
            "top": null,
            "visibility": null,
            "width": null
          }
        },
        "3b54b159e1444350ac2aa6385ccdadca": {
          "model_module": "@jupyter-widgets/base",
          "model_name": "LayoutModel",
          "model_module_version": "1.2.0",
          "state": {
            "_model_module": "@jupyter-widgets/base",
            "_model_module_version": "1.2.0",
            "_model_name": "LayoutModel",
            "_view_count": null,
            "_view_module": "@jupyter-widgets/base",
            "_view_module_version": "1.2.0",
            "_view_name": "LayoutView",
            "align_content": null,
            "align_items": null,
            "align_self": null,
            "border": null,
            "bottom": null,
            "display": null,
            "flex": null,
            "flex_flow": null,
            "grid_area": null,
            "grid_auto_columns": null,
            "grid_auto_flow": null,
            "grid_auto_rows": null,
            "grid_column": null,
            "grid_gap": null,
            "grid_row": null,
            "grid_template_areas": null,
            "grid_template_columns": null,
            "grid_template_rows": null,
            "height": null,
            "justify_content": null,
            "justify_items": null,
            "left": null,
            "margin": null,
            "max_height": null,
            "max_width": null,
            "min_height": null,
            "min_width": null,
            "object_fit": null,
            "object_position": null,
            "order": null,
            "overflow": null,
            "overflow_x": null,
            "overflow_y": null,
            "padding": null,
            "right": null,
            "top": null,
            "visibility": null,
            "width": null
          }
        },
        "ac3e9c681d65481fb552b6a27be39885": {
          "model_module": "@jupyter-widgets/controls",
          "model_name": "DescriptionStyleModel",
          "model_module_version": "1.5.0",
          "state": {
            "_model_module": "@jupyter-widgets/controls",
            "_model_module_version": "1.5.0",
            "_model_name": "DescriptionStyleModel",
            "_view_count": null,
            "_view_module": "@jupyter-widgets/base",
            "_view_module_version": "1.2.0",
            "_view_name": "StyleView",
            "description_width": ""
          }
        },
        "7c76446bae924726ba9bc9d5bb3befa7": {
          "model_module": "@jupyter-widgets/base",
          "model_name": "LayoutModel",
          "model_module_version": "1.2.0",
          "state": {
            "_model_module": "@jupyter-widgets/base",
            "_model_module_version": "1.2.0",
            "_model_name": "LayoutModel",
            "_view_count": null,
            "_view_module": "@jupyter-widgets/base",
            "_view_module_version": "1.2.0",
            "_view_name": "LayoutView",
            "align_content": null,
            "align_items": null,
            "align_self": null,
            "border": null,
            "bottom": null,
            "display": null,
            "flex": null,
            "flex_flow": null,
            "grid_area": null,
            "grid_auto_columns": null,
            "grid_auto_flow": null,
            "grid_auto_rows": null,
            "grid_column": null,
            "grid_gap": null,
            "grid_row": null,
            "grid_template_areas": null,
            "grid_template_columns": null,
            "grid_template_rows": null,
            "height": null,
            "justify_content": null,
            "justify_items": null,
            "left": null,
            "margin": null,
            "max_height": null,
            "max_width": null,
            "min_height": null,
            "min_width": null,
            "object_fit": null,
            "object_position": null,
            "order": null,
            "overflow": null,
            "overflow_x": null,
            "overflow_y": null,
            "padding": null,
            "right": null,
            "top": null,
            "visibility": null,
            "width": null
          }
        },
        "2501d82c3c0d4a0d84a4e99f923a4d41": {
          "model_module": "@jupyter-widgets/controls",
          "model_name": "ProgressStyleModel",
          "model_module_version": "1.5.0",
          "state": {
            "_model_module": "@jupyter-widgets/controls",
            "_model_module_version": "1.5.0",
            "_model_name": "ProgressStyleModel",
            "_view_count": null,
            "_view_module": "@jupyter-widgets/base",
            "_view_module_version": "1.2.0",
            "_view_name": "StyleView",
            "bar_color": null,
            "description_width": ""
          }
        },
        "6f159bf69bd140fc96dfddf491091bb0": {
          "model_module": "@jupyter-widgets/base",
          "model_name": "LayoutModel",
          "model_module_version": "1.2.0",
          "state": {
            "_model_module": "@jupyter-widgets/base",
            "_model_module_version": "1.2.0",
            "_model_name": "LayoutModel",
            "_view_count": null,
            "_view_module": "@jupyter-widgets/base",
            "_view_module_version": "1.2.0",
            "_view_name": "LayoutView",
            "align_content": null,
            "align_items": null,
            "align_self": null,
            "border": null,
            "bottom": null,
            "display": null,
            "flex": null,
            "flex_flow": null,
            "grid_area": null,
            "grid_auto_columns": null,
            "grid_auto_flow": null,
            "grid_auto_rows": null,
            "grid_column": null,
            "grid_gap": null,
            "grid_row": null,
            "grid_template_areas": null,
            "grid_template_columns": null,
            "grid_template_rows": null,
            "height": null,
            "justify_content": null,
            "justify_items": null,
            "left": null,
            "margin": null,
            "max_height": null,
            "max_width": null,
            "min_height": null,
            "min_width": null,
            "object_fit": null,
            "object_position": null,
            "order": null,
            "overflow": null,
            "overflow_x": null,
            "overflow_y": null,
            "padding": null,
            "right": null,
            "top": null,
            "visibility": null,
            "width": null
          }
        },
        "b2db7e480e0e405f8bdcaab77a8022ea": {
          "model_module": "@jupyter-widgets/controls",
          "model_name": "DescriptionStyleModel",
          "model_module_version": "1.5.0",
          "state": {
            "_model_module": "@jupyter-widgets/controls",
            "_model_module_version": "1.5.0",
            "_model_name": "DescriptionStyleModel",
            "_view_count": null,
            "_view_module": "@jupyter-widgets/base",
            "_view_module_version": "1.2.0",
            "_view_name": "StyleView",
            "description_width": ""
          }
        },
        "cad7081dc80c4757a628f5cc7b10a8e0": {
          "model_module": "@jupyter-widgets/controls",
          "model_name": "HBoxModel",
          "model_module_version": "1.5.0",
          "state": {
            "_dom_classes": [],
            "_model_module": "@jupyter-widgets/controls",
            "_model_module_version": "1.5.0",
            "_model_name": "HBoxModel",
            "_view_count": null,
            "_view_module": "@jupyter-widgets/controls",
            "_view_module_version": "1.5.0",
            "_view_name": "HBoxView",
            "box_style": "",
            "children": [
              "IPY_MODEL_4419b066c6624733912ef7afe8392b93",
              "IPY_MODEL_bdb85533c9b54e23a0df9ead6ae9946e",
              "IPY_MODEL_3dd206fb938740f6a21aa29d775d8f15"
            ],
            "layout": "IPY_MODEL_448f3278a0634bf2b7f88001dd0704c4"
          }
        },
        "4419b066c6624733912ef7afe8392b93": {
          "model_module": "@jupyter-widgets/controls",
          "model_name": "HTMLModel",
          "model_module_version": "1.5.0",
          "state": {
            "_dom_classes": [],
            "_model_module": "@jupyter-widgets/controls",
            "_model_module_version": "1.5.0",
            "_model_name": "HTMLModel",
            "_view_count": null,
            "_view_module": "@jupyter-widgets/controls",
            "_view_module_version": "1.5.0",
            "_view_name": "HTMLView",
            "description": "",
            "description_tooltip": null,
            "layout": "IPY_MODEL_515f3806ee2a465f9f82522b92d74d2f",
            "placeholder": "​",
            "style": "IPY_MODEL_5dbc7adf80ea4f66b4d10eb466e6e7a3",
            "value": "config.json: 100%"
          }
        },
        "bdb85533c9b54e23a0df9ead6ae9946e": {
          "model_module": "@jupyter-widgets/controls",
          "model_name": "FloatProgressModel",
          "model_module_version": "1.5.0",
          "state": {
            "_dom_classes": [],
            "_model_module": "@jupyter-widgets/controls",
            "_model_module_version": "1.5.0",
            "_model_name": "FloatProgressModel",
            "_view_count": null,
            "_view_module": "@jupyter-widgets/controls",
            "_view_module_version": "1.5.0",
            "_view_name": "ProgressView",
            "bar_style": "success",
            "description": "",
            "description_tooltip": null,
            "layout": "IPY_MODEL_51b0c20118654528a929c18ab84ee192",
            "max": 693,
            "min": 0,
            "orientation": "horizontal",
            "style": "IPY_MODEL_ea4ea33d28444d449c981ff06ce283e4",
            "value": 693
          }
        },
        "3dd206fb938740f6a21aa29d775d8f15": {
          "model_module": "@jupyter-widgets/controls",
          "model_name": "HTMLModel",
          "model_module_version": "1.5.0",
          "state": {
            "_dom_classes": [],
            "_model_module": "@jupyter-widgets/controls",
            "_model_module_version": "1.5.0",
            "_model_name": "HTMLModel",
            "_view_count": null,
            "_view_module": "@jupyter-widgets/controls",
            "_view_module_version": "1.5.0",
            "_view_name": "HTMLView",
            "description": "",
            "description_tooltip": null,
            "layout": "IPY_MODEL_c0f385d8c2214112b45cff525f49ad4b",
            "placeholder": "​",
            "style": "IPY_MODEL_333a5b5dc3be42819f48b9ef78c160bd",
            "value": " 693/693 [00:00&lt;00:00, 41.1kB/s]"
          }
        },
        "448f3278a0634bf2b7f88001dd0704c4": {
          "model_module": "@jupyter-widgets/base",
          "model_name": "LayoutModel",
          "model_module_version": "1.2.0",
          "state": {
            "_model_module": "@jupyter-widgets/base",
            "_model_module_version": "1.2.0",
            "_model_name": "LayoutModel",
            "_view_count": null,
            "_view_module": "@jupyter-widgets/base",
            "_view_module_version": "1.2.0",
            "_view_name": "LayoutView",
            "align_content": null,
            "align_items": null,
            "align_self": null,
            "border": null,
            "bottom": null,
            "display": null,
            "flex": null,
            "flex_flow": null,
            "grid_area": null,
            "grid_auto_columns": null,
            "grid_auto_flow": null,
            "grid_auto_rows": null,
            "grid_column": null,
            "grid_gap": null,
            "grid_row": null,
            "grid_template_areas": null,
            "grid_template_columns": null,
            "grid_template_rows": null,
            "height": null,
            "justify_content": null,
            "justify_items": null,
            "left": null,
            "margin": null,
            "max_height": null,
            "max_width": null,
            "min_height": null,
            "min_width": null,
            "object_fit": null,
            "object_position": null,
            "order": null,
            "overflow": null,
            "overflow_x": null,
            "overflow_y": null,
            "padding": null,
            "right": null,
            "top": null,
            "visibility": null,
            "width": null
          }
        },
        "515f3806ee2a465f9f82522b92d74d2f": {
          "model_module": "@jupyter-widgets/base",
          "model_name": "LayoutModel",
          "model_module_version": "1.2.0",
          "state": {
            "_model_module": "@jupyter-widgets/base",
            "_model_module_version": "1.2.0",
            "_model_name": "LayoutModel",
            "_view_count": null,
            "_view_module": "@jupyter-widgets/base",
            "_view_module_version": "1.2.0",
            "_view_name": "LayoutView",
            "align_content": null,
            "align_items": null,
            "align_self": null,
            "border": null,
            "bottom": null,
            "display": null,
            "flex": null,
            "flex_flow": null,
            "grid_area": null,
            "grid_auto_columns": null,
            "grid_auto_flow": null,
            "grid_auto_rows": null,
            "grid_column": null,
            "grid_gap": null,
            "grid_row": null,
            "grid_template_areas": null,
            "grid_template_columns": null,
            "grid_template_rows": null,
            "height": null,
            "justify_content": null,
            "justify_items": null,
            "left": null,
            "margin": null,
            "max_height": null,
            "max_width": null,
            "min_height": null,
            "min_width": null,
            "object_fit": null,
            "object_position": null,
            "order": null,
            "overflow": null,
            "overflow_x": null,
            "overflow_y": null,
            "padding": null,
            "right": null,
            "top": null,
            "visibility": null,
            "width": null
          }
        },
        "5dbc7adf80ea4f66b4d10eb466e6e7a3": {
          "model_module": "@jupyter-widgets/controls",
          "model_name": "DescriptionStyleModel",
          "model_module_version": "1.5.0",
          "state": {
            "_model_module": "@jupyter-widgets/controls",
            "_model_module_version": "1.5.0",
            "_model_name": "DescriptionStyleModel",
            "_view_count": null,
            "_view_module": "@jupyter-widgets/base",
            "_view_module_version": "1.2.0",
            "_view_name": "StyleView",
            "description_width": ""
          }
        },
        "51b0c20118654528a929c18ab84ee192": {
          "model_module": "@jupyter-widgets/base",
          "model_name": "LayoutModel",
          "model_module_version": "1.2.0",
          "state": {
            "_model_module": "@jupyter-widgets/base",
            "_model_module_version": "1.2.0",
            "_model_name": "LayoutModel",
            "_view_count": null,
            "_view_module": "@jupyter-widgets/base",
            "_view_module_version": "1.2.0",
            "_view_name": "LayoutView",
            "align_content": null,
            "align_items": null,
            "align_self": null,
            "border": null,
            "bottom": null,
            "display": null,
            "flex": null,
            "flex_flow": null,
            "grid_area": null,
            "grid_auto_columns": null,
            "grid_auto_flow": null,
            "grid_auto_rows": null,
            "grid_column": null,
            "grid_gap": null,
            "grid_row": null,
            "grid_template_areas": null,
            "grid_template_columns": null,
            "grid_template_rows": null,
            "height": null,
            "justify_content": null,
            "justify_items": null,
            "left": null,
            "margin": null,
            "max_height": null,
            "max_width": null,
            "min_height": null,
            "min_width": null,
            "object_fit": null,
            "object_position": null,
            "order": null,
            "overflow": null,
            "overflow_x": null,
            "overflow_y": null,
            "padding": null,
            "right": null,
            "top": null,
            "visibility": null,
            "width": null
          }
        },
        "ea4ea33d28444d449c981ff06ce283e4": {
          "model_module": "@jupyter-widgets/controls",
          "model_name": "ProgressStyleModel",
          "model_module_version": "1.5.0",
          "state": {
            "_model_module": "@jupyter-widgets/controls",
            "_model_module_version": "1.5.0",
            "_model_name": "ProgressStyleModel",
            "_view_count": null,
            "_view_module": "@jupyter-widgets/base",
            "_view_module_version": "1.2.0",
            "_view_name": "StyleView",
            "bar_color": null,
            "description_width": ""
          }
        },
        "c0f385d8c2214112b45cff525f49ad4b": {
          "model_module": "@jupyter-widgets/base",
          "model_name": "LayoutModel",
          "model_module_version": "1.2.0",
          "state": {
            "_model_module": "@jupyter-widgets/base",
            "_model_module_version": "1.2.0",
            "_model_name": "LayoutModel",
            "_view_count": null,
            "_view_module": "@jupyter-widgets/base",
            "_view_module_version": "1.2.0",
            "_view_name": "LayoutView",
            "align_content": null,
            "align_items": null,
            "align_self": null,
            "border": null,
            "bottom": null,
            "display": null,
            "flex": null,
            "flex_flow": null,
            "grid_area": null,
            "grid_auto_columns": null,
            "grid_auto_flow": null,
            "grid_auto_rows": null,
            "grid_column": null,
            "grid_gap": null,
            "grid_row": null,
            "grid_template_areas": null,
            "grid_template_columns": null,
            "grid_template_rows": null,
            "height": null,
            "justify_content": null,
            "justify_items": null,
            "left": null,
            "margin": null,
            "max_height": null,
            "max_width": null,
            "min_height": null,
            "min_width": null,
            "object_fit": null,
            "object_position": null,
            "order": null,
            "overflow": null,
            "overflow_x": null,
            "overflow_y": null,
            "padding": null,
            "right": null,
            "top": null,
            "visibility": null,
            "width": null
          }
        },
        "333a5b5dc3be42819f48b9ef78c160bd": {
          "model_module": "@jupyter-widgets/controls",
          "model_name": "DescriptionStyleModel",
          "model_module_version": "1.5.0",
          "state": {
            "_model_module": "@jupyter-widgets/controls",
            "_model_module_version": "1.5.0",
            "_model_name": "DescriptionStyleModel",
            "_view_count": null,
            "_view_module": "@jupyter-widgets/base",
            "_view_module_version": "1.2.0",
            "_view_name": "StyleView",
            "description_width": ""
          }
        },
        "399721d5ec6c45b5b67028b5c7d6c980": {
          "model_module": "@jupyter-widgets/controls",
          "model_name": "HBoxModel",
          "model_module_version": "1.5.0",
          "state": {
            "_dom_classes": [],
            "_model_module": "@jupyter-widgets/controls",
            "_model_module_version": "1.5.0",
            "_model_name": "HBoxModel",
            "_view_count": null,
            "_view_module": "@jupyter-widgets/controls",
            "_view_module_version": "1.5.0",
            "_view_name": "HBoxView",
            "box_style": "",
            "children": [
              "IPY_MODEL_66b3a9b424d14b828fcb666269192d05",
              "IPY_MODEL_731d7b6a85474be9a170051694486ad7",
              "IPY_MODEL_c722fb4a69274e109cbcc5903c50be8f"
            ],
            "layout": "IPY_MODEL_8a25b9b202134d1f835e57de44c6a247"
          }
        },
        "66b3a9b424d14b828fcb666269192d05": {
          "model_module": "@jupyter-widgets/controls",
          "model_name": "HTMLModel",
          "model_module_version": "1.5.0",
          "state": {
            "_dom_classes": [],
            "_model_module": "@jupyter-widgets/controls",
            "_model_module_version": "1.5.0",
            "_model_name": "HTMLModel",
            "_view_count": null,
            "_view_module": "@jupyter-widgets/controls",
            "_view_module_version": "1.5.0",
            "_view_name": "HTMLView",
            "description": "",
            "description_tooltip": null,
            "layout": "IPY_MODEL_62d05bd25711404398b519aed67e6ddf",
            "placeholder": "​",
            "style": "IPY_MODEL_ad7f819b83794a5298868745a14ad226",
            "value": "model.safetensors: 100%"
          }
        },
        "731d7b6a85474be9a170051694486ad7": {
          "model_module": "@jupyter-widgets/controls",
          "model_name": "FloatProgressModel",
          "model_module_version": "1.5.0",
          "state": {
            "_dom_classes": [],
            "_model_module": "@jupyter-widgets/controls",
            "_model_module_version": "1.5.0",
            "_model_name": "FloatProgressModel",
            "_view_count": null,
            "_view_module": "@jupyter-widgets/controls",
            "_view_module_version": "1.5.0",
            "_view_name": "ProgressView",
            "bar_style": "success",
            "description": "",
            "description_tooltip": null,
            "layout": "IPY_MODEL_7ee3ddaadd994a569313a09e0d4b4345",
            "max": 117529600,
            "min": 0,
            "orientation": "horizontal",
            "style": "IPY_MODEL_d53718ad9b1b465aa82ee9d760588656",
            "value": 117529600
          }
        },
        "c722fb4a69274e109cbcc5903c50be8f": {
          "model_module": "@jupyter-widgets/controls",
          "model_name": "HTMLModel",
          "model_module_version": "1.5.0",
          "state": {
            "_dom_classes": [],
            "_model_module": "@jupyter-widgets/controls",
            "_model_module_version": "1.5.0",
            "_model_name": "HTMLModel",
            "_view_count": null,
            "_view_module": "@jupyter-widgets/controls",
            "_view_module_version": "1.5.0",
            "_view_name": "HTMLView",
            "description": "",
            "description_tooltip": null,
            "layout": "IPY_MODEL_f71a249fa9d34aae9658ebdbced5c3eb",
            "placeholder": "​",
            "style": "IPY_MODEL_fb131bb92b3242ed81a2f1cde6ee9276",
            "value": " 118M/118M [00:01&lt;00:00, 112MB/s]"
          }
        },
        "8a25b9b202134d1f835e57de44c6a247": {
          "model_module": "@jupyter-widgets/base",
          "model_name": "LayoutModel",
          "model_module_version": "1.2.0",
          "state": {
            "_model_module": "@jupyter-widgets/base",
            "_model_module_version": "1.2.0",
            "_model_name": "LayoutModel",
            "_view_count": null,
            "_view_module": "@jupyter-widgets/base",
            "_view_module_version": "1.2.0",
            "_view_name": "LayoutView",
            "align_content": null,
            "align_items": null,
            "align_self": null,
            "border": null,
            "bottom": null,
            "display": null,
            "flex": null,
            "flex_flow": null,
            "grid_area": null,
            "grid_auto_columns": null,
            "grid_auto_flow": null,
            "grid_auto_rows": null,
            "grid_column": null,
            "grid_gap": null,
            "grid_row": null,
            "grid_template_areas": null,
            "grid_template_columns": null,
            "grid_template_rows": null,
            "height": null,
            "justify_content": null,
            "justify_items": null,
            "left": null,
            "margin": null,
            "max_height": null,
            "max_width": null,
            "min_height": null,
            "min_width": null,
            "object_fit": null,
            "object_position": null,
            "order": null,
            "overflow": null,
            "overflow_x": null,
            "overflow_y": null,
            "padding": null,
            "right": null,
            "top": null,
            "visibility": null,
            "width": null
          }
        },
        "62d05bd25711404398b519aed67e6ddf": {
          "model_module": "@jupyter-widgets/base",
          "model_name": "LayoutModel",
          "model_module_version": "1.2.0",
          "state": {
            "_model_module": "@jupyter-widgets/base",
            "_model_module_version": "1.2.0",
            "_model_name": "LayoutModel",
            "_view_count": null,
            "_view_module": "@jupyter-widgets/base",
            "_view_module_version": "1.2.0",
            "_view_name": "LayoutView",
            "align_content": null,
            "align_items": null,
            "align_self": null,
            "border": null,
            "bottom": null,
            "display": null,
            "flex": null,
            "flex_flow": null,
            "grid_area": null,
            "grid_auto_columns": null,
            "grid_auto_flow": null,
            "grid_auto_rows": null,
            "grid_column": null,
            "grid_gap": null,
            "grid_row": null,
            "grid_template_areas": null,
            "grid_template_columns": null,
            "grid_template_rows": null,
            "height": null,
            "justify_content": null,
            "justify_items": null,
            "left": null,
            "margin": null,
            "max_height": null,
            "max_width": null,
            "min_height": null,
            "min_width": null,
            "object_fit": null,
            "object_position": null,
            "order": null,
            "overflow": null,
            "overflow_x": null,
            "overflow_y": null,
            "padding": null,
            "right": null,
            "top": null,
            "visibility": null,
            "width": null
          }
        },
        "ad7f819b83794a5298868745a14ad226": {
          "model_module": "@jupyter-widgets/controls",
          "model_name": "DescriptionStyleModel",
          "model_module_version": "1.5.0",
          "state": {
            "_model_module": "@jupyter-widgets/controls",
            "_model_module_version": "1.5.0",
            "_model_name": "DescriptionStyleModel",
            "_view_count": null,
            "_view_module": "@jupyter-widgets/base",
            "_view_module_version": "1.2.0",
            "_view_name": "StyleView",
            "description_width": ""
          }
        },
        "7ee3ddaadd994a569313a09e0d4b4345": {
          "model_module": "@jupyter-widgets/base",
          "model_name": "LayoutModel",
          "model_module_version": "1.2.0",
          "state": {
            "_model_module": "@jupyter-widgets/base",
            "_model_module_version": "1.2.0",
            "_model_name": "LayoutModel",
            "_view_count": null,
            "_view_module": "@jupyter-widgets/base",
            "_view_module_version": "1.2.0",
            "_view_name": "LayoutView",
            "align_content": null,
            "align_items": null,
            "align_self": null,
            "border": null,
            "bottom": null,
            "display": null,
            "flex": null,
            "flex_flow": null,
            "grid_area": null,
            "grid_auto_columns": null,
            "grid_auto_flow": null,
            "grid_auto_rows": null,
            "grid_column": null,
            "grid_gap": null,
            "grid_row": null,
            "grid_template_areas": null,
            "grid_template_columns": null,
            "grid_template_rows": null,
            "height": null,
            "justify_content": null,
            "justify_items": null,
            "left": null,
            "margin": null,
            "max_height": null,
            "max_width": null,
            "min_height": null,
            "min_width": null,
            "object_fit": null,
            "object_position": null,
            "order": null,
            "overflow": null,
            "overflow_x": null,
            "overflow_y": null,
            "padding": null,
            "right": null,
            "top": null,
            "visibility": null,
            "width": null
          }
        },
        "d53718ad9b1b465aa82ee9d760588656": {
          "model_module": "@jupyter-widgets/controls",
          "model_name": "ProgressStyleModel",
          "model_module_version": "1.5.0",
          "state": {
            "_model_module": "@jupyter-widgets/controls",
            "_model_module_version": "1.5.0",
            "_model_name": "ProgressStyleModel",
            "_view_count": null,
            "_view_module": "@jupyter-widgets/base",
            "_view_module_version": "1.2.0",
            "_view_name": "StyleView",
            "bar_color": null,
            "description_width": ""
          }
        },
        "f71a249fa9d34aae9658ebdbced5c3eb": {
          "model_module": "@jupyter-widgets/base",
          "model_name": "LayoutModel",
          "model_module_version": "1.2.0",
          "state": {
            "_model_module": "@jupyter-widgets/base",
            "_model_module_version": "1.2.0",
            "_model_name": "LayoutModel",
            "_view_count": null,
            "_view_module": "@jupyter-widgets/base",
            "_view_module_version": "1.2.0",
            "_view_name": "LayoutView",
            "align_content": null,
            "align_items": null,
            "align_self": null,
            "border": null,
            "bottom": null,
            "display": null,
            "flex": null,
            "flex_flow": null,
            "grid_area": null,
            "grid_auto_columns": null,
            "grid_auto_flow": null,
            "grid_auto_rows": null,
            "grid_column": null,
            "grid_gap": null,
            "grid_row": null,
            "grid_template_areas": null,
            "grid_template_columns": null,
            "grid_template_rows": null,
            "height": null,
            "justify_content": null,
            "justify_items": null,
            "left": null,
            "margin": null,
            "max_height": null,
            "max_width": null,
            "min_height": null,
            "min_width": null,
            "object_fit": null,
            "object_position": null,
            "order": null,
            "overflow": null,
            "overflow_x": null,
            "overflow_y": null,
            "padding": null,
            "right": null,
            "top": null,
            "visibility": null,
            "width": null
          }
        },
        "fb131bb92b3242ed81a2f1cde6ee9276": {
          "model_module": "@jupyter-widgets/controls",
          "model_name": "DescriptionStyleModel",
          "model_module_version": "1.5.0",
          "state": {
            "_model_module": "@jupyter-widgets/controls",
            "_model_module_version": "1.5.0",
            "_model_name": "DescriptionStyleModel",
            "_view_count": null,
            "_view_module": "@jupyter-widgets/base",
            "_view_module_version": "1.2.0",
            "_view_name": "StyleView",
            "description_width": ""
          }
        },
        "75ee4f9821c94b6ebbe25c85c71245d3": {
          "model_module": "@jupyter-widgets/controls",
          "model_name": "HBoxModel",
          "model_module_version": "1.5.0",
          "state": {
            "_dom_classes": [],
            "_model_module": "@jupyter-widgets/controls",
            "_model_module_version": "1.5.0",
            "_model_name": "HBoxModel",
            "_view_count": null,
            "_view_module": "@jupyter-widgets/controls",
            "_view_module_version": "1.5.0",
            "_view_name": "HBoxView",
            "box_style": "",
            "children": [
              "IPY_MODEL_1cc8c5ec499843dc9ad75ffdd2068f6d",
              "IPY_MODEL_44420daabf9b4225822419914fab5609",
              "IPY_MODEL_7499c5d81c04495a9a72e9d82b84bd0b"
            ],
            "layout": "IPY_MODEL_b9a1a12cae084b3db7de872707022ac5"
          }
        },
        "1cc8c5ec499843dc9ad75ffdd2068f6d": {
          "model_module": "@jupyter-widgets/controls",
          "model_name": "HTMLModel",
          "model_module_version": "1.5.0",
          "state": {
            "_dom_classes": [],
            "_model_module": "@jupyter-widgets/controls",
            "_model_module_version": "1.5.0",
            "_model_name": "HTMLModel",
            "_view_count": null,
            "_view_module": "@jupyter-widgets/controls",
            "_view_module_version": "1.5.0",
            "_view_name": "HTMLView",
            "description": "",
            "description_tooltip": null,
            "layout": "IPY_MODEL_f2c2afad3fdc4652965c36c335fad25f",
            "placeholder": "​",
            "style": "IPY_MODEL_90a083348a3e49e09fa1a553d1eb68c8",
            "value": "100%"
          }
        },
        "44420daabf9b4225822419914fab5609": {
          "model_module": "@jupyter-widgets/controls",
          "model_name": "FloatProgressModel",
          "model_module_version": "1.5.0",
          "state": {
            "_dom_classes": [],
            "_model_module": "@jupyter-widgets/controls",
            "_model_module_version": "1.5.0",
            "_model_name": "FloatProgressModel",
            "_view_count": null,
            "_view_module": "@jupyter-widgets/controls",
            "_view_module_version": "1.5.0",
            "_view_name": "ProgressView",
            "bar_style": "success",
            "description": "",
            "description_tooltip": null,
            "layout": "IPY_MODEL_510fe23c0d3c4275b462e2fe59a4552e",
            "max": 92555,
            "min": 0,
            "orientation": "horizontal",
            "style": "IPY_MODEL_5dcde7e0aa6d447880b85d57665fc16c",
            "value": 92555
          }
        },
        "7499c5d81c04495a9a72e9d82b84bd0b": {
          "model_module": "@jupyter-widgets/controls",
          "model_name": "HTMLModel",
          "model_module_version": "1.5.0",
          "state": {
            "_dom_classes": [],
            "_model_module": "@jupyter-widgets/controls",
            "_model_module_version": "1.5.0",
            "_model_name": "HTMLModel",
            "_view_count": null,
            "_view_module": "@jupyter-widgets/controls",
            "_view_module_version": "1.5.0",
            "_view_name": "HTMLView",
            "description": "",
            "description_tooltip": null,
            "layout": "IPY_MODEL_3f923f86e67c44d29f8ab5a4323010a8",
            "placeholder": "​",
            "style": "IPY_MODEL_a5a6196971eb4735946d60487f391d0d",
            "value": " 92555/92555 [06:16&lt;00:00, 257.52it/s]"
          }
        },
        "b9a1a12cae084b3db7de872707022ac5": {
          "model_module": "@jupyter-widgets/base",
          "model_name": "LayoutModel",
          "model_module_version": "1.2.0",
          "state": {
            "_model_module": "@jupyter-widgets/base",
            "_model_module_version": "1.2.0",
            "_model_name": "LayoutModel",
            "_view_count": null,
            "_view_module": "@jupyter-widgets/base",
            "_view_module_version": "1.2.0",
            "_view_name": "LayoutView",
            "align_content": null,
            "align_items": null,
            "align_self": null,
            "border": null,
            "bottom": null,
            "display": null,
            "flex": null,
            "flex_flow": null,
            "grid_area": null,
            "grid_auto_columns": null,
            "grid_auto_flow": null,
            "grid_auto_rows": null,
            "grid_column": null,
            "grid_gap": null,
            "grid_row": null,
            "grid_template_areas": null,
            "grid_template_columns": null,
            "grid_template_rows": null,
            "height": null,
            "justify_content": null,
            "justify_items": null,
            "left": null,
            "margin": null,
            "max_height": null,
            "max_width": null,
            "min_height": null,
            "min_width": null,
            "object_fit": null,
            "object_position": null,
            "order": null,
            "overflow": null,
            "overflow_x": null,
            "overflow_y": null,
            "padding": null,
            "right": null,
            "top": null,
            "visibility": null,
            "width": null
          }
        },
        "f2c2afad3fdc4652965c36c335fad25f": {
          "model_module": "@jupyter-widgets/base",
          "model_name": "LayoutModel",
          "model_module_version": "1.2.0",
          "state": {
            "_model_module": "@jupyter-widgets/base",
            "_model_module_version": "1.2.0",
            "_model_name": "LayoutModel",
            "_view_count": null,
            "_view_module": "@jupyter-widgets/base",
            "_view_module_version": "1.2.0",
            "_view_name": "LayoutView",
            "align_content": null,
            "align_items": null,
            "align_self": null,
            "border": null,
            "bottom": null,
            "display": null,
            "flex": null,
            "flex_flow": null,
            "grid_area": null,
            "grid_auto_columns": null,
            "grid_auto_flow": null,
            "grid_auto_rows": null,
            "grid_column": null,
            "grid_gap": null,
            "grid_row": null,
            "grid_template_areas": null,
            "grid_template_columns": null,
            "grid_template_rows": null,
            "height": null,
            "justify_content": null,
            "justify_items": null,
            "left": null,
            "margin": null,
            "max_height": null,
            "max_width": null,
            "min_height": null,
            "min_width": null,
            "object_fit": null,
            "object_position": null,
            "order": null,
            "overflow": null,
            "overflow_x": null,
            "overflow_y": null,
            "padding": null,
            "right": null,
            "top": null,
            "visibility": null,
            "width": null
          }
        },
        "90a083348a3e49e09fa1a553d1eb68c8": {
          "model_module": "@jupyter-widgets/controls",
          "model_name": "DescriptionStyleModel",
          "model_module_version": "1.5.0",
          "state": {
            "_model_module": "@jupyter-widgets/controls",
            "_model_module_version": "1.5.0",
            "_model_name": "DescriptionStyleModel",
            "_view_count": null,
            "_view_module": "@jupyter-widgets/base",
            "_view_module_version": "1.2.0",
            "_view_name": "StyleView",
            "description_width": ""
          }
        },
        "510fe23c0d3c4275b462e2fe59a4552e": {
          "model_module": "@jupyter-widgets/base",
          "model_name": "LayoutModel",
          "model_module_version": "1.2.0",
          "state": {
            "_model_module": "@jupyter-widgets/base",
            "_model_module_version": "1.2.0",
            "_model_name": "LayoutModel",
            "_view_count": null,
            "_view_module": "@jupyter-widgets/base",
            "_view_module_version": "1.2.0",
            "_view_name": "LayoutView",
            "align_content": null,
            "align_items": null,
            "align_self": null,
            "border": null,
            "bottom": null,
            "display": null,
            "flex": null,
            "flex_flow": null,
            "grid_area": null,
            "grid_auto_columns": null,
            "grid_auto_flow": null,
            "grid_auto_rows": null,
            "grid_column": null,
            "grid_gap": null,
            "grid_row": null,
            "grid_template_areas": null,
            "grid_template_columns": null,
            "grid_template_rows": null,
            "height": null,
            "justify_content": null,
            "justify_items": null,
            "left": null,
            "margin": null,
            "max_height": null,
            "max_width": null,
            "min_height": null,
            "min_width": null,
            "object_fit": null,
            "object_position": null,
            "order": null,
            "overflow": null,
            "overflow_x": null,
            "overflow_y": null,
            "padding": null,
            "right": null,
            "top": null,
            "visibility": null,
            "width": null
          }
        },
        "5dcde7e0aa6d447880b85d57665fc16c": {
          "model_module": "@jupyter-widgets/controls",
          "model_name": "ProgressStyleModel",
          "model_module_version": "1.5.0",
          "state": {
            "_model_module": "@jupyter-widgets/controls",
            "_model_module_version": "1.5.0",
            "_model_name": "ProgressStyleModel",
            "_view_count": null,
            "_view_module": "@jupyter-widgets/base",
            "_view_module_version": "1.2.0",
            "_view_name": "StyleView",
            "bar_color": null,
            "description_width": ""
          }
        },
        "3f923f86e67c44d29f8ab5a4323010a8": {
          "model_module": "@jupyter-widgets/base",
          "model_name": "LayoutModel",
          "model_module_version": "1.2.0",
          "state": {
            "_model_module": "@jupyter-widgets/base",
            "_model_module_version": "1.2.0",
            "_model_name": "LayoutModel",
            "_view_count": null,
            "_view_module": "@jupyter-widgets/base",
            "_view_module_version": "1.2.0",
            "_view_name": "LayoutView",
            "align_content": null,
            "align_items": null,
            "align_self": null,
            "border": null,
            "bottom": null,
            "display": null,
            "flex": null,
            "flex_flow": null,
            "grid_area": null,
            "grid_auto_columns": null,
            "grid_auto_flow": null,
            "grid_auto_rows": null,
            "grid_column": null,
            "grid_gap": null,
            "grid_row": null,
            "grid_template_areas": null,
            "grid_template_columns": null,
            "grid_template_rows": null,
            "height": null,
            "justify_content": null,
            "justify_items": null,
            "left": null,
            "margin": null,
            "max_height": null,
            "max_width": null,
            "min_height": null,
            "min_width": null,
            "object_fit": null,
            "object_position": null,
            "order": null,
            "overflow": null,
            "overflow_x": null,
            "overflow_y": null,
            "padding": null,
            "right": null,
            "top": null,
            "visibility": null,
            "width": null
          }
        },
        "a5a6196971eb4735946d60487f391d0d": {
          "model_module": "@jupyter-widgets/controls",
          "model_name": "DescriptionStyleModel",
          "model_module_version": "1.5.0",
          "state": {
            "_model_module": "@jupyter-widgets/controls",
            "_model_module_version": "1.5.0",
            "_model_name": "DescriptionStyleModel",
            "_view_count": null,
            "_view_module": "@jupyter-widgets/base",
            "_view_module_version": "1.2.0",
            "_view_name": "StyleView",
            "description_width": ""
          }
        }
      }
    }
  },
  "nbformat": 4,
  "nbformat_minor": 5
}