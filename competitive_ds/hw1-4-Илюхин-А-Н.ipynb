{
 "cells": [
  {
   "cell_type": "markdown",
   "metadata": {
    "id": "_Yx1Mi7abuht"
   },
   "source": [
    "# План домашних заданий"
   ]
  },
  {
   "cell_type": "markdown",
   "metadata": {
    "id": "_HK3X8tveQhH"
   },
   "source": [
    "\n",
    "- Описание задачи и знакомство с данными\n",
    "- Домашнее задание 1. Генерация и фильтрация признаков\n",
    "- Домашнее задание 2. Прогноз времени и вида поломки машин, настройка ML-модели\n",
    "- Дополнительное задание. Визуализация прогнозов, ошибок модели и важности признаков\n",
    "- Домашнее задание 3. Оптимизация. Тюнинг гиперпараметров с помощью `Optuna`\n",
    "- Домашнее задание 4. Блендинг\n",
    "- Домашнее задание 5. Парсинг внешних данных и оптимизация памяти\n",
    "- Отправка финального решения на лидерборд на Kaggle"
   ]
  },
  {
   "cell_type": "code",
   "execution_count": null,
   "metadata": {
    "id": "cfomgq3Sbuht",
    "tags": []
   },
   "outputs": [],
   "source": [
    "import pandas as pd\n",
    "import numpy as np\n",
    "import matplotlib.pyplot as plt\n",
    "import seaborn as sns"
   ]
  },
  {
   "cell_type": "markdown",
   "metadata": {
    "id": "fkeIBE5Kbuht"
   },
   "source": [
    "# <center id=\"part0\"> Описание задачи"
   ]
  },
  {
   "cell_type": "markdown",
   "metadata": {
    "id": "MKmknPZbbuht"
   },
   "source": [
    "**Предыстория:**  мы работаем с каршеринговой компанией, которая управляет крупным автопарком машин. Наша цель — предотвратить длительные периоды простоя машин из-за поломок через своевременное обслуживание и ремонт.\n",
    "\n",
    "\n",
    "**Идея для решения проблемы:** создать приоритизированный список обхода машин. Этот список поможет технической бригаде сосредоточиться на автомобилях, которые наиболее вероятно выйдут из строя в ближайшее время.\n",
    "\n",
    "\n",
    "**Как компания решает задачу:**\n",
    "\n",
    "* Собирает данные о поездках и состоянии машин до поломок.\n",
    "\n",
    "* Нанимает Data Scientist, чтобы он смог использовать эти данные для анализа и прогнозирования характера поломок.\n",
    "\n",
    "**Важный момент**: задачи этого специалиста (Data Scientist) предстоит выполнять вам."
   ]
  },
  {
   "cell_type": "markdown",
   "metadata": {
    "id": "-VMB1MVpbuhu"
   },
   "source": [
    "## <center> Знакомство с данными"
   ]
  },
  {
   "cell_type": "markdown",
   "metadata": {
    "id": "TtZE_Frrbuhu"
   },
   "source": [
    "### Информация про машины с таргетом (основной датасет)"
   ]
  },
  {
   "cell_type": "code",
   "execution_count": null,
   "metadata": {
    "id": "DhA6zYqebuhu",
    "outputId": "6d64cd41-646a-4d14-b9cb-63330516265c",
    "tags": []
   },
   "outputs": [
    {
     "data": {
      "text/html": [
       "<div>\n",
       "<style scoped>\n",
       "    .dataframe tbody tr th:only-of-type {\n",
       "        vertical-align: middle;\n",
       "    }\n",
       "\n",
       "    .dataframe tbody tr th {\n",
       "        vertical-align: top;\n",
       "    }\n",
       "\n",
       "    .dataframe thead th {\n",
       "        text-align: right;\n",
       "    }\n",
       "</style>\n",
       "<table border=\"1\" class=\"dataframe\">\n",
       "  <thead>\n",
       "    <tr style=\"text-align: right;\">\n",
       "      <th></th>\n",
       "      <th>car_id</th>\n",
       "      <th>model</th>\n",
       "      <th>car_type</th>\n",
       "      <th>fuel_type</th>\n",
       "      <th>car_rating</th>\n",
       "      <th>year_to_start</th>\n",
       "      <th>riders</th>\n",
       "      <th>year_to_work</th>\n",
       "      <th>target_reg</th>\n",
       "      <th>target_class</th>\n",
       "    </tr>\n",
       "  </thead>\n",
       "  <tbody>\n",
       "    <tr>\n",
       "      <th>549</th>\n",
       "      <td>t41251369W</td>\n",
       "      <td>Hyundai Solaris</td>\n",
       "      <td>economy</td>\n",
       "      <td>petrol</td>\n",
       "      <td>3.12</td>\n",
       "      <td>2011</td>\n",
       "      <td>2664</td>\n",
       "      <td>2016</td>\n",
       "      <td>64.78</td>\n",
       "      <td>another_bug</td>\n",
       "    </tr>\n",
       "    <tr>\n",
       "      <th>1242</th>\n",
       "      <td>q13192264P</td>\n",
       "      <td>Renault Kaptur</td>\n",
       "      <td>standart</td>\n",
       "      <td>petrol</td>\n",
       "      <td>4.70</td>\n",
       "      <td>2012</td>\n",
       "      <td>24874</td>\n",
       "      <td>2021</td>\n",
       "      <td>51.22</td>\n",
       "      <td>engine_check</td>\n",
       "    </tr>\n",
       "    <tr>\n",
       "      <th>986</th>\n",
       "      <td>N29840074e</td>\n",
       "      <td>Smart ForTwo</td>\n",
       "      <td>economy</td>\n",
       "      <td>petrol</td>\n",
       "      <td>4.52</td>\n",
       "      <td>2015</td>\n",
       "      <td>79976</td>\n",
       "      <td>2020</td>\n",
       "      <td>24.73</td>\n",
       "      <td>engine_overheat</td>\n",
       "    </tr>\n",
       "    <tr>\n",
       "      <th>590</th>\n",
       "      <td>v77404713z</td>\n",
       "      <td>Nissan Qashqai</td>\n",
       "      <td>standart</td>\n",
       "      <td>petrol</td>\n",
       "      <td>3.28</td>\n",
       "      <td>2015</td>\n",
       "      <td>88356</td>\n",
       "      <td>2019</td>\n",
       "      <td>42.45</td>\n",
       "      <td>electro_bug</td>\n",
       "    </tr>\n",
       "    <tr>\n",
       "      <th>267</th>\n",
       "      <td>F72202302t</td>\n",
       "      <td>Smart ForTwo</td>\n",
       "      <td>economy</td>\n",
       "      <td>petrol</td>\n",
       "      <td>3.88</td>\n",
       "      <td>2017</td>\n",
       "      <td>106430</td>\n",
       "      <td>2019</td>\n",
       "      <td>51.85</td>\n",
       "      <td>engine_check</td>\n",
       "    </tr>\n",
       "  </tbody>\n",
       "</table>\n",
       "</div>"
      ],
      "text/plain": [
       "          car_id            model  car_type fuel_type  car_rating  \\\n",
       "549   t41251369W  Hyundai Solaris   economy    petrol        3.12   \n",
       "1242  q13192264P   Renault Kaptur  standart    petrol        4.70   \n",
       "986   N29840074e     Smart ForTwo   economy    petrol        4.52   \n",
       "590   v77404713z   Nissan Qashqai  standart    petrol        3.28   \n",
       "267   F72202302t     Smart ForTwo   economy    petrol        3.88   \n",
       "\n",
       "      year_to_start  riders  year_to_work  target_reg     target_class  \n",
       "549            2011    2664          2016       64.78      another_bug  \n",
       "1242           2012   24874          2021       51.22     engine_check  \n",
       "986            2015   79976          2020       24.73  engine_overheat  \n",
       "590            2015   88356          2019       42.45      electro_bug  \n",
       "267            2017  106430          2019       51.85     engine_check  "
      ]
     },
     "execution_count": 2,
     "metadata": {},
     "output_type": "execute_result"
    }
   ],
   "source": [
    "car_train = pd.read_csv('https://raw.githubusercontent.com/a-milenkin/Competitive_Data_Science/main/data/car_train.csv')\n",
    "car_train.sample(5)"
   ]
  },
  {
   "cell_type": "markdown",
   "metadata": {
    "id": "AWvQSnafbuhu"
   },
   "source": [
    "- `car_id` — идентификатор машины\n",
    "- `model` / `car_type` / `fuel_type` — марка, класс и тип топлива машины\n",
    "- `car_rating` / `riders` — общий рейтинг и общее число поездок к концу 2021 года\n",
    "- `year_to_start` / `year_to_work` — год выпуска машины и год начала работы в автопарке\n",
    "- `target_reg` — количество дней до поломки\n",
    "- `target_class` — класс поломки (всего 9 видов)"
   ]
  },
  {
   "cell_type": "markdown",
   "metadata": {
    "id": "6KWf2LgObuhu"
   },
   "source": [
    "### Информация про поездки"
   ]
  },
  {
   "cell_type": "code",
   "execution_count": null,
   "metadata": {
    "id": "pDc5gXzbbuhu",
    "outputId": "53849f03-cf5e-4773-e68e-7d4ba6ed5e37",
    "tags": []
   },
   "outputs": [
    {
     "data": {
      "text/html": [
       "<div>\n",
       "<style scoped>\n",
       "    .dataframe tbody tr th:only-of-type {\n",
       "        vertical-align: middle;\n",
       "    }\n",
       "\n",
       "    .dataframe tbody tr th {\n",
       "        vertical-align: top;\n",
       "    }\n",
       "\n",
       "    .dataframe thead th {\n",
       "        text-align: right;\n",
       "    }\n",
       "</style>\n",
       "<table border=\"1\" class=\"dataframe\">\n",
       "  <thead>\n",
       "    <tr style=\"text-align: right;\">\n",
       "      <th></th>\n",
       "      <th>user_id</th>\n",
       "      <th>car_id</th>\n",
       "      <th>ride_id</th>\n",
       "      <th>ride_date</th>\n",
       "      <th>rating</th>\n",
       "      <th>ride_duration</th>\n",
       "      <th>ride_cost</th>\n",
       "      <th>speed_avg</th>\n",
       "      <th>speed_max</th>\n",
       "      <th>stop_times</th>\n",
       "      <th>distance</th>\n",
       "      <th>refueling</th>\n",
       "      <th>user_ride_quality</th>\n",
       "      <th>deviation_normal</th>\n",
       "    </tr>\n",
       "  </thead>\n",
       "  <tbody>\n",
       "    <tr>\n",
       "      <th>714145</th>\n",
       "      <td>c13653279A</td>\n",
       "      <td>y-2901647k</td>\n",
       "      <td>E1H</td>\n",
       "      <td>2020-01-27</td>\n",
       "      <td>3.34</td>\n",
       "      <td>53</td>\n",
       "      <td>523</td>\n",
       "      <td>43</td>\n",
       "      <td>76.0</td>\n",
       "      <td>1</td>\n",
       "      <td>2096.180243</td>\n",
       "      <td>0</td>\n",
       "      <td>0.593899</td>\n",
       "      <td>1.232</td>\n",
       "    </tr>\n",
       "    <tr>\n",
       "      <th>344498</th>\n",
       "      <td>Y22780579z</td>\n",
       "      <td>Y22302267X</td>\n",
       "      <td>m1g</td>\n",
       "      <td>2020-03-21</td>\n",
       "      <td>0.10</td>\n",
       "      <td>45</td>\n",
       "      <td>401</td>\n",
       "      <td>33</td>\n",
       "      <td>67.0</td>\n",
       "      <td>0</td>\n",
       "      <td>1464.970892</td>\n",
       "      <td>0</td>\n",
       "      <td>6.353186</td>\n",
       "      <td>0.001</td>\n",
       "    </tr>\n",
       "    <tr>\n",
       "      <th>74995</th>\n",
       "      <td>r22731075S</td>\n",
       "      <td>F-6369826L</td>\n",
       "      <td>v1I</td>\n",
       "      <td>2020-01-01</td>\n",
       "      <td>2.70</td>\n",
       "      <td>17</td>\n",
       "      <td>129</td>\n",
       "      <td>50</td>\n",
       "      <td>88.0</td>\n",
       "      <td>2</td>\n",
       "      <td>439.228596</td>\n",
       "      <td>0</td>\n",
       "      <td>-0.290889</td>\n",
       "      <td>-1.770</td>\n",
       "    </tr>\n",
       "    <tr>\n",
       "      <th>277338</th>\n",
       "      <td>v33411671Q</td>\n",
       "      <td>T-3474422m</td>\n",
       "      <td>a1a</td>\n",
       "      <td>2020-03-23</td>\n",
       "      <td>4.17</td>\n",
       "      <td>51</td>\n",
       "      <td>454</td>\n",
       "      <td>49</td>\n",
       "      <td>61.0</td>\n",
       "      <td>1</td>\n",
       "      <td>1738.436174</td>\n",
       "      <td>0</td>\n",
       "      <td>-13.606936</td>\n",
       "      <td>-17.071</td>\n",
       "    </tr>\n",
       "    <tr>\n",
       "      <th>330777</th>\n",
       "      <td>F10550038H</td>\n",
       "      <td>X15138491s</td>\n",
       "      <td>D1K</td>\n",
       "      <td>2020-01-02</td>\n",
       "      <td>1.23</td>\n",
       "      <td>69</td>\n",
       "      <td>890</td>\n",
       "      <td>41</td>\n",
       "      <td>144.0</td>\n",
       "      <td>1</td>\n",
       "      <td>2782.099733</td>\n",
       "      <td>0</td>\n",
       "      <td>1.615149</td>\n",
       "      <td>-0.000</td>\n",
       "    </tr>\n",
       "  </tbody>\n",
       "</table>\n",
       "</div>"
      ],
      "text/plain": [
       "           user_id      car_id ride_id   ride_date  rating  ride_duration  \\\n",
       "714145  c13653279A  y-2901647k     E1H  2020-01-27    3.34             53   \n",
       "344498  Y22780579z  Y22302267X     m1g  2020-03-21    0.10             45   \n",
       "74995   r22731075S  F-6369826L     v1I  2020-01-01    2.70             17   \n",
       "277338  v33411671Q  T-3474422m     a1a  2020-03-23    4.17             51   \n",
       "330777  F10550038H  X15138491s     D1K  2020-01-02    1.23             69   \n",
       "\n",
       "        ride_cost  speed_avg  speed_max  stop_times     distance  refueling  \\\n",
       "714145        523         43       76.0           1  2096.180243          0   \n",
       "344498        401         33       67.0           0  1464.970892          0   \n",
       "74995         129         50       88.0           2   439.228596          0   \n",
       "277338        454         49       61.0           1  1738.436174          0   \n",
       "330777        890         41      144.0           1  2782.099733          0   \n",
       "\n",
       "        user_ride_quality  deviation_normal  \n",
       "714145           0.593899             1.232  \n",
       "344498           6.353186             0.001  \n",
       "74995           -0.290889            -1.770  \n",
       "277338         -13.606936           -17.071  \n",
       "330777           1.615149            -0.000  "
      ]
     },
     "execution_count": 3,
     "metadata": {},
     "output_type": "execute_result"
    }
   ],
   "source": [
    "rides_info = pd.read_csv('https://raw.githubusercontent.com/a-milenkin/Competitive_Data_Science/main/data/rides_info.csv')\n",
    "rides_info.sample(5)"
   ]
  },
  {
   "cell_type": "markdown",
   "metadata": {
    "id": "ZAn8S24sbuhv"
   },
   "source": [
    "- `user_id` / `car_id` / `ride_id` — идентификаторы водителя, машины, поездки соответственно\n",
    "- `ride_date` / `rating` — дата поездки и рейтинг, поставленный водителем\n",
    "- `ride_duration` / `distance` / `ride_cost` —  длительность (время),  пройденное расстояние, стоимость поездки\n",
    "- `speed_avg` / `speed_max` — средняя и максимальная скорости поездки соответственно\n",
    "- `stop_times` / `refueling` — количество остановок (паузы) и флаг: была ли дозаправка\n",
    "- `user_ride_quality` — оценка манеры вождения водителя машины, определенная скоринговой ML-системой сервиса\n",
    "- `deviation_normal` — общий показатель датчиков о состоянии машины, относительно эталонных показателей (нормы)"
   ]
  },
  {
   "cell_type": "markdown",
   "metadata": {
    "id": "O0Onuz4ybuhv"
   },
   "source": [
    "### Информация про водителей"
   ]
  },
  {
   "cell_type": "code",
   "execution_count": null,
   "metadata": {
    "id": "WBEvQXhxbuhv",
    "outputId": "80c61226-f3e4-445c-e122-d019200a5fbb",
    "tags": []
   },
   "outputs": [
    {
     "data": {
      "text/html": [
       "<div>\n",
       "<style scoped>\n",
       "    .dataframe tbody tr th:only-of-type {\n",
       "        vertical-align: middle;\n",
       "    }\n",
       "\n",
       "    .dataframe tbody tr th {\n",
       "        vertical-align: top;\n",
       "    }\n",
       "\n",
       "    .dataframe thead th {\n",
       "        text-align: right;\n",
       "    }\n",
       "</style>\n",
       "<table border=\"1\" class=\"dataframe\">\n",
       "  <thead>\n",
       "    <tr style=\"text-align: right;\">\n",
       "      <th></th>\n",
       "      <th>age</th>\n",
       "      <th>user_rating</th>\n",
       "      <th>user_rides</th>\n",
       "      <th>user_time_accident</th>\n",
       "      <th>user_id</th>\n",
       "      <th>sex</th>\n",
       "      <th>first_ride_date</th>\n",
       "    </tr>\n",
       "  </thead>\n",
       "  <tbody>\n",
       "    <tr>\n",
       "      <th>6355</th>\n",
       "      <td>19</td>\n",
       "      <td>6.8</td>\n",
       "      <td>2015</td>\n",
       "      <td>4.0</td>\n",
       "      <td>Q15095157g</td>\n",
       "      <td>1</td>\n",
       "      <td>2018-3-6</td>\n",
       "    </tr>\n",
       "    <tr>\n",
       "      <th>4499</th>\n",
       "      <td>30</td>\n",
       "      <td>8.1</td>\n",
       "      <td>1459</td>\n",
       "      <td>9.0</td>\n",
       "      <td>O17985654p</td>\n",
       "      <td>1</td>\n",
       "      <td>2018-8-1</td>\n",
       "    </tr>\n",
       "    <tr>\n",
       "      <th>13770</th>\n",
       "      <td>49</td>\n",
       "      <td>8.0</td>\n",
       "      <td>1967</td>\n",
       "      <td>5.0</td>\n",
       "      <td>m13273997W</td>\n",
       "      <td>0</td>\n",
       "      <td>2018-3-17</td>\n",
       "    </tr>\n",
       "    <tr>\n",
       "      <th>13838</th>\n",
       "      <td>45</td>\n",
       "      <td>7.4</td>\n",
       "      <td>1877</td>\n",
       "      <td>7.0</td>\n",
       "      <td>Q51539900B</td>\n",
       "      <td>0</td>\n",
       "      <td>2021-9-17</td>\n",
       "    </tr>\n",
       "    <tr>\n",
       "      <th>13888</th>\n",
       "      <td>36</td>\n",
       "      <td>8.6</td>\n",
       "      <td>420</td>\n",
       "      <td>1.0</td>\n",
       "      <td>O16710533I</td>\n",
       "      <td>0</td>\n",
       "      <td>2019-7-25</td>\n",
       "    </tr>\n",
       "  </tbody>\n",
       "</table>\n",
       "</div>"
      ],
      "text/plain": [
       "       age  user_rating  user_rides  user_time_accident     user_id  sex  \\\n",
       "6355    19          6.8        2015                 4.0  Q15095157g    1   \n",
       "4499    30          8.1        1459                 9.0  O17985654p    1   \n",
       "13770   49          8.0        1967                 5.0  m13273997W    0   \n",
       "13838   45          7.4        1877                 7.0  Q51539900B    0   \n",
       "13888   36          8.6         420                 1.0  O16710533I    0   \n",
       "\n",
       "      first_ride_date  \n",
       "6355         2018-3-6  \n",
       "4499         2018-8-1  \n",
       "13770       2018-3-17  \n",
       "13838       2021-9-17  \n",
       "13888       2019-7-25  "
      ]
     },
     "execution_count": 4,
     "metadata": {},
     "output_type": "execute_result"
    }
   ],
   "source": [
    "driver_info = pd.read_csv('https://raw.githubusercontent.com/a-milenkin/Competitive_Data_Science/main/data/driver_info.csv')\n",
    "driver_info.sample(5)"
   ]
  },
  {
   "cell_type": "markdown",
   "metadata": {
    "id": "ubFE8w-Kbuhv"
   },
   "source": [
    "- `user_id` / `age` / `sex` — идентификатор, возраст и пол водителя, соответственно\n",
    "- `user_rating` — общий рейтинг пользователя за все поездки к концу 2021 года\n",
    "- `user_rides` — общее количество поездок к концу 2021 года\n",
    "- `user_time_accident` — число инцидентов (это могли быть аварии/штрафы/эвакуация машины)  \n",
    "- `first_ride_date` — дата первой поездки"
   ]
  },
  {
   "cell_type": "markdown",
   "metadata": {
    "id": "cXDdvlHYbuhv"
   },
   "source": [
    "### Информация про ремонт машин"
   ]
  },
  {
   "cell_type": "code",
   "execution_count": null,
   "metadata": {
    "id": "eVTjvBspbuhv",
    "outputId": "6ac51c57-542d-45d3-9465-5e4da7a4e4ae",
    "tags": []
   },
   "outputs": [
    {
     "data": {
      "text/html": [
       "<div>\n",
       "<style scoped>\n",
       "    .dataframe tbody tr th:only-of-type {\n",
       "        vertical-align: middle;\n",
       "    }\n",
       "\n",
       "    .dataframe tbody tr th {\n",
       "        vertical-align: top;\n",
       "    }\n",
       "\n",
       "    .dataframe thead th {\n",
       "        text-align: right;\n",
       "    }\n",
       "</style>\n",
       "<table border=\"1\" class=\"dataframe\">\n",
       "  <thead>\n",
       "    <tr style=\"text-align: right;\">\n",
       "      <th></th>\n",
       "      <th>car_id</th>\n",
       "      <th>worker_id</th>\n",
       "      <th>fix_date</th>\n",
       "      <th>work_type</th>\n",
       "      <th>destroy_degree</th>\n",
       "      <th>work_duration</th>\n",
       "    </tr>\n",
       "  </thead>\n",
       "  <tbody>\n",
       "    <tr>\n",
       "      <th>114253</th>\n",
       "      <td>x-1111076W</td>\n",
       "      <td>KO</td>\n",
       "      <td>2019-9-27 20:34</td>\n",
       "      <td>repair</td>\n",
       "      <td>5.7</td>\n",
       "      <td>18</td>\n",
       "    </tr>\n",
       "    <tr>\n",
       "      <th>3432</th>\n",
       "      <td>d53962651M</td>\n",
       "      <td>RM</td>\n",
       "      <td>2017-4-3 4:22</td>\n",
       "      <td>repair</td>\n",
       "      <td>5.0</td>\n",
       "      <td>34</td>\n",
       "    </tr>\n",
       "    <tr>\n",
       "      <th>23982</th>\n",
       "      <td>f17933532Q</td>\n",
       "      <td>TB</td>\n",
       "      <td>2020-12-29 6:44</td>\n",
       "      <td>repair</td>\n",
       "      <td>5.3</td>\n",
       "      <td>16</td>\n",
       "    </tr>\n",
       "    <tr>\n",
       "      <th>37169</th>\n",
       "      <td>G-1056464Y</td>\n",
       "      <td>HS</td>\n",
       "      <td>2020-3-9 20:51</td>\n",
       "      <td>repair</td>\n",
       "      <td>5.9</td>\n",
       "      <td>21</td>\n",
       "    </tr>\n",
       "    <tr>\n",
       "      <th>11343</th>\n",
       "      <td>x-8009442a</td>\n",
       "      <td>UV</td>\n",
       "      <td>2018-9-7 8:1</td>\n",
       "      <td>reparking</td>\n",
       "      <td>1.0</td>\n",
       "      <td>26</td>\n",
       "    </tr>\n",
       "  </tbody>\n",
       "</table>\n",
       "</div>"
      ],
      "text/plain": [
       "            car_id worker_id         fix_date  work_type  destroy_degree  \\\n",
       "114253  x-1111076W        KO  2019-9-27 20:34     repair             5.7   \n",
       "3432    d53962651M        RM    2017-4-3 4:22     repair             5.0   \n",
       "23982   f17933532Q        TB  2020-12-29 6:44     repair             5.3   \n",
       "37169   G-1056464Y        HS   2020-3-9 20:51     repair             5.9   \n",
       "11343   x-8009442a        UV     2018-9-7 8:1  reparking             1.0   \n",
       "\n",
       "        work_duration  \n",
       "114253             18  \n",
       "3432               34  \n",
       "23982              16  \n",
       "37169              21  \n",
       "11343              26  "
      ]
     },
     "execution_count": 5,
     "metadata": {},
     "output_type": "execute_result"
    }
   ],
   "source": [
    "fix_info = pd.read_csv('https://raw.githubusercontent.com/a-milenkin/Competitive_Data_Science/main/data/fix_info.csv')\n",
    "fix_info.sample(5)"
   ]
  },
  {
   "cell_type": "markdown",
   "metadata": {
    "id": "H01U-FFAbuhv"
   },
   "source": [
    "- `worker_id` / `car_id` — идентификатор работника и машины\n",
    "- `work_type` / `work_duration` — тип и длительность (в часах) проводимой работы\n",
    "- `destroy_degree` — степень износа/поврежденности машины в случае поломки\n",
    "- `fix_date` — время начала ремонта (снятия машины с линии)"
   ]
  },
  {
   "cell_type": "markdown",
   "metadata": {
    "id": "qY-lAjlhbuhv"
   },
   "source": [
    "# Домашнее задание 1. Генерация и фильтрация признаков"
   ]
  },
  {
   "cell_type": "markdown",
   "metadata": {
    "id": "9E2N9m5Cbuhv"
   },
   "source": [
    "<center> <img src=\"https://ucarecdn.com/bf4c772d-b67a-42ae-a48b-cfd83910b0a2/\" width=700>"
   ]
  },
  {
   "cell_type": "markdown",
   "metadata": {
    "id": "HaroHWSBbuhw"
   },
   "source": [
    "<div class=\"alert alert-info\">\n",
    "\n",
    "**Цель блока** — сгенерировать признаки из дополнительных датасетов и добавить их к основному датасету, произвести фильтрацию признаков."
   ]
  },
  {
   "cell_type": "markdown",
   "metadata": {
    "id": "wev7E_qlbuhw"
   },
   "source": [
    "    \n",
    "## Задание 1. Генерация признаков из дополнительных датасетов (6 баллов)"
   ]
  },
  {
   "cell_type": "markdown",
   "metadata": {
    "id": "CSX4pA5Kbuhw"
   },
   "source": [
    "<div class=\"alert alert-info\">\n",
    "\n",
    "1. Возьмите датасет `rides_info` с информацией о поездках и проведите группировку по каждой машине отдельно.\n",
    "\n",
    "2. Для каждой машины (то есть для каждого `car_id`) подсчитайте несколько признаков:\n",
    "  - минимальный рейтинг за все поездки;\n",
    "  - средний рейтинг за все поездки;\n",
    "  - общее количество километров, которое машина проехала;\n",
    "  - максимальная скорость;\n",
    "  - общее количество поездок для каждой машины.\n",
    "\n",
    "3. Добавьте минимум 3 признака на свой выбор.\n",
    "\n",
    "4. Сделайте соединение таблиц — вспомните про методы соединения и выберите подходящий для этого случая.\n",
    "\n",
    "5. Подключите информацию про водителей (`driver_info`) и про ремонт машин (`fix_info`). Добавьте минимум 3 любых признака с каждого датасета.\n",
    "\n",
    "\n",
    "<h4> Критерии оценивания </h4>\n",
    "    \n",
    "- Добавлены 5 обязательных и минимум 3 любых признака из датасета `rides_info` — 2 балла.\n",
    "- Добавлены минимум 3 любых признака из датасета `driver_info` — 2 балла.\n",
    "- Добавлены минимум 3 любых признака из датасета `fix_info` — 2 балла.\n",
    "\n",
    "</div>"
   ]
  },
  {
   "cell_type": "markdown",
   "metadata": {
    "id": "kfAs9dZHbuhw"
   },
   "source": [
    "<div class=\"alert alert-success\">\n",
    "    \n",
    "<h4> Советы по Feature Engineering</h4>\n",
    "    \n",
    "- Начинайте с сырых данных.\n",
    "- Используйте все доступные данные. Покрывайте признаками всю имеющуюся информацию в данных.\n",
    "- Формулируйте предположения: от чего зависит таргет?\n",
    "- Смотрите визуально на классы/ошибки и делайте предположения. Какие полезны?\n",
    "- Помните, что слишком много признаков может быть вредно. Потом придется отфильтровывать.\n",
    "    \n",
    "<h4> Полезные источники </h4>\n",
    "    \n",
    "- Занятие про Feature Engineering.\n",
    "- Занятие про Feature Selection.\n",
    "- [Max Kuhn and Kjell Johnson. Feature Engineering and Selection: A Practical Approach for Predictive Models](http://www.feat.engineering/)."
   ]
  },
  {
   "cell_type": "markdown",
   "metadata": {
    "id": "n5pkVaw0eszI"
   },
   "source": [
    "### Пример расчета признака"
   ]
  },
  {
   "cell_type": "code",
   "execution_count": null,
   "metadata": {
    "id": "CYaNVDLTbuhw",
    "outputId": "74b790bd-f24f-4b3c-a867-d4a19ba4aefa"
   },
   "outputs": [
    {
     "ename": "TypeError",
     "evalue": "merge() missing 1 required positional argument: 'right'",
     "output_type": "error",
     "traceback": [
      "\u001b[0;31m---------------------------------------------------------------------------\u001b[0m",
      "\u001b[0;31mTypeError\u001b[0m                                 Traceback (most recent call last)",
      "Cell \u001b[0;32mIn[6], line 7\u001b[0m\n\u001b[1;32m      1\u001b[0m \u001b[38;5;66;03m# Пример расчета одного признака\u001b[39;00m\n\u001b[1;32m      2\u001b[0m rides_info\u001b[38;5;241m.\u001b[39mgroupby(\u001b[38;5;124m'\u001b[39m\u001b[38;5;124mcar_id\u001b[39m\u001b[38;5;124m'\u001b[39m, as_index\u001b[38;5;241m=\u001b[39m\u001b[38;5;28;01mFalse\u001b[39;00m)\u001b[38;5;241m.\u001b[39magg(\n\u001b[1;32m      3\u001b[0m     mean_rating \u001b[38;5;241m=\u001b[39m (\u001b[38;5;124m'\u001b[39m\u001b[38;5;124mrating\u001b[39m\u001b[38;5;124m'\u001b[39m, \u001b[38;5;124m'\u001b[39m\u001b[38;5;124mmean\u001b[39m\u001b[38;5;124m'\u001b[39m),\n\u001b[1;32m      4\u001b[0m     \u001b[38;5;66;03m# ... еще признаки\u001b[39;00m\n\u001b[1;32m      5\u001b[0m )\n\u001b[0;32m----> 7\u001b[0m df \u001b[38;5;241m=\u001b[39m \u001b[43mpd\u001b[49m\u001b[38;5;241;43m.\u001b[39;49m\u001b[43mmerge\u001b[49m\u001b[43m(\u001b[49m\u001b[38;5;241;43m.\u001b[39;49m\u001b[38;5;241;43m.\u001b[39;49m\u001b[38;5;241;43m.\u001b[39;49m\u001b[43m)\u001b[49m \u001b[38;5;66;03m# Соедините полученный датасет с фичами с основным датасетом\u001b[39;00m\n\u001b[1;32m      9\u001b[0m \u001b[38;5;66;03m# YOUR CODE HERE\u001b[39;00m\n",
      "\u001b[0;31mTypeError\u001b[0m: merge() missing 1 required positional argument: 'right'"
     ]
    }
   ],
   "source": [
    "# Пример расчета одного признака\n",
    "rides_info.groupby('car_id', as_index=False).agg(\n",
    "    mean_rating = ('rating', 'mean'),\n",
    "    # ... еще признаки\n",
    ")\n",
    "\n",
    "df = pd.merge(...) # Соедините полученный датасет с фичами с основным датасетом\n",
    "\n",
    "# YOUR CODE HERE"
   ]
  },
  {
   "cell_type": "markdown",
   "metadata": {
    "id": "7_jt9yAabuhw",
    "tags": []
   },
   "source": [
    "### Идеи для новых признаков\n",
    "\n",
    "1.   Новый пункт\n",
    "2.   Новый пункт\n",
    "\n"
   ]
  },
  {
   "cell_type": "markdown",
   "metadata": {
    "id": "kLgu7UaofIyr"
   },
   "source": [
    "* `feature_min_max_diff` — разница между максимальным и минимальным значениями `deviation_normal` для каждой машины\n",
    "* `feature_corner` — угол наклона по признаку `user_ride_quality` для каждой машины\n",
    "* `feature_mean` — среднее значение `deviation_normal` для каждой машины\n",
    "* `feature_shift` — точка перегиба/сдвига для `deviation_normal`\n",
    "* `feature_start` — значение точки старта для `deviation_normal`\n",
    "* `feature_nans` — сумма пропусков для столбца `...` для каждой машины\n",
    "* `feature_quant` — `X %` квантиль для столбца `...` для каждой машины\n",
    "\n",
    "Подумайте, какие из признаков могут оказаться самыми полезными?"
   ]
  },
  {
   "cell_type": "code",
   "execution_count": null,
   "metadata": {
    "id": "iB9QODvfbuhw"
   },
   "outputs": [],
   "source": [
    "# YOUR CODE HERE"
   ]
  },
  {
   "cell_type": "markdown",
   "metadata": {
    "id": "Q6Fa0zupbuhw"
   },
   "source": [
    "## Задание 2. Применение методов фильтрации признаков (4 балла)\n",
    "\n",
    "<center> <img src=\"https://ucarecdn.com/d1b4bc78-fd04-44fb-bdbf-0a63355b7384/\" width=700>"
   ]
  },
  {
   "cell_type": "markdown",
   "metadata": {
    "id": "c910L9jubuhx"
   },
   "source": [
    "1. Выберите и примените любые 3 (можно и больше) метода фильтрации, которые указаны выше или в ноутбуке по фильтрации из полезных ссылок.\n",
    "2. Проинтерпретируйте результаты и сделайте выводы.\n",
    "\n",
    "\n",
    "<h4> Критерии оценивания </h4>\n",
    "    \n",
    "- Применены методы фильтрации — 1 балл за каждый метод, максимум 3 балла.\n",
    "- Сделаны выводы на основе примененных методов —1 балл.\n",
    "</div>"
   ]
  },
  {
   "cell_type": "markdown",
   "metadata": {
    "id": "9flWgKVxf9Q1"
   },
   "source": [
    "### Советы по Feature Selection"
   ]
  },
  {
   "cell_type": "markdown",
   "metadata": {
    "id": "vYr9VNS5buhw"
   },
   "source": [
    "<div class=\"alert alert-info\">\n",
    "\n",
    "<h3><center>Зачем отбирать признаки</center></h3>\n",
    "    \n",
    "**Основные причины**:\n",
    "    \n",
    "- Главная причина: с увеличением количества признаков часто падает точность предсказания модели, а некоторые модели и вовсе перестают адекватно работать. Так происходит, если в данных большое количество мусорных фичей (почти не коррелирующих с таргетом).\n",
    "\n",
    "- Если фичей очень много, то данные перестают помещаться в память и существенно увеличивают время обучения модели, особенно если мы тестируем несколько алгоритмов или ансамбль. Также важно учитывать, что платформы имеют ограничения на длительность одной сессии (в Kaggle — 12 часов) и лимиты по потребляемой памяти.\n",
    "\n",
    "- Даже если точность не снижается, есть риск, что модель опирается на шумные фичи, что снизит стабильность прогноза на приватной выборке.\n"
   ]
  },
  {
   "cell_type": "markdown",
   "metadata": {
    "id": "P4JQwUS3buhw"
   },
   "source": [
    "<b>Что удалить сразу:</b>\n",
    "    \n",
    "- константы;\n",
    "- уникальные значения (в том числе в тесте; как правило, это ID-шники по типу `car_id`).\n",
    "    \n",
    "<b>Какие методы использовать:</b>\n",
    "    \n",
    "- `Линейная корреляция`.\n",
    "- `Phik` — тоже корреляция, но на стероидах ([туториал на Medium](https://towardsdatascience.com/phik-k-get-familiar-with-the-latest-correlation-coefficient-9ba0032b37e7)).\n",
    "- `Permutation importance` (из `scikit-learn`).\n",
    "- `SHAP values` (из библиотеки `shap`).\n",
    "- `CatBoost Feature Selection` (рекурсивные методы).\n",
    "    "
   ]
  },
  {
   "cell_type": "code",
   "execution_count": null,
   "metadata": {
    "id": "UT2ndUSHbuhx"
   },
   "outputs": [],
   "source": [
    "# YOUR CODE HERE"
   ]
  },
  {
   "cell_type": "markdown",
   "metadata": {
    "id": "iSjuXdlcbuhx"
   },
   "source": [
    "# Домашнее задание 2. Прогноз времени и вида поломки машин. Настройка ML-модели"
   ]
  },
  {
   "cell_type": "markdown",
   "metadata": {
    "id": "2qoVlxvUbuhx"
   },
   "source": [
    "<div class=\"alert alert-info\">\n",
    "\n",
    "**Цель блока** — составить тренировочную и валидационную выборки, произвести обучение модели `CatBoostClassifier` на тренировочной части и оценить качество на валидационной."
   ]
  },
  {
   "cell_type": "markdown",
   "metadata": {
    "id": "OfqcanLLbuhx"
   },
   "source": [
    "##Обучение первой модели (5 баллов)\n",
    "\n",
    "1.   Новый пункт\n",
    "2.   Новый пункт\n",
    "\n"
   ]
  },
  {
   "cell_type": "markdown",
   "metadata": {
    "id": "ZXhXYJt6buhx"
   },
   "source": [
    "1. Классифицируйте признаки на типы (категориальные, числовые, таргеты).\n",
    "\n",
    "2. Выделите в `X` только признаки, а в `y` таргет (для задачи классификации).\n",
    "\n",
    "3. Сделайте разделение данных на *обучающую* и *валидационную* выборки (не забывайте про воспроизводимость результатов).\n",
    "\n",
    "4. Создайте и обучите `CatBoostClassifier` модель (настраивать гиперпараметры сейчас не обязательно).\n",
    "\n",
    "5. Проведите оценку вашей модели, используя метрику `accuracy`.\n",
    "\n",
    "\n",
    "<h4> Критерии оценивания </h4>\n",
    "    \n",
    "- По 1 баллу за каждый корректно выполненный пункт.\n",
    "\n",
    "</div>"
   ]
  },
  {
   "cell_type": "code",
   "execution_count": null,
   "metadata": {
    "id": "klrOFoVpbuhx"
   },
   "outputs": [],
   "source": [
    "from catboost import CatBoostClassifier\n",
    "from sklearn.model_selection import train_test_split\n",
    "from sklearn.metrics import accuracy_score"
   ]
  },
  {
   "cell_type": "code",
   "execution_count": null,
   "metadata": {
    "id": "lqwlTU2gbuhz"
   },
   "outputs": [],
   "source": [
    "features2drop = [...] # то, что надо выбросить\n",
    "targets = [...] # таргеты\n",
    "cat_features = [...] # категориальные признаки\n",
    "\n",
    "num_features = [...] # числовые признаки\n",
    "\n",
    "print('Категориальные признаки:', len(cat_features), cat_features)\n",
    "print('Числовые признаки:', len(num_features), num_features)\n",
    "print('Целевые переменные', targets)"
   ]
  },
  {
   "cell_type": "code",
   "execution_count": null,
   "metadata": {
    "id": "tGK5sgaQbuhz"
   },
   "outputs": [],
   "source": [
    "# YOUR CODE HERE"
   ]
  },
  {
   "cell_type": "markdown",
   "metadata": {
    "id": "pWAOjGCIbuhz"
   },
   "source": [
    "# Дополнительное задание. Визуализация прогнозов, ошибок модели и важности признаков"
   ]
  },
  {
   "cell_type": "markdown",
   "metadata": {
    "id": "oCvZU_ksbuhz"
   },
   "source": [
    "<div class=\"alert alert-info\">\n",
    "\n",
    "**Цель блока** — визуализировать результаты прогнозирования, ошибки модели и важность признаков для лучшего понимания и анализа модели."
   ]
  },
  {
   "cell_type": "markdown",
   "metadata": {
    "id": "onsptUygbuhz"
   },
   "source": [
    "## Визуализация (5 баллов)"
   ]
  },
  {
   "cell_type": "markdown",
   "metadata": {
    "id": "t3gAT3YHbuhz"
   },
   "source": [
    "   \n",
    "1. Визуализируйте важность признаков встроенным методом в `CatBoost`  (помните, что не стоит сильно доверять этому рейтингу важности, т. к. для сильно скоррелированных признаков важность делится пополам — оба признака могут улететь вниз).\n",
    "\n",
    "2. Постройте `waterfall_plot` из библиотеки `SHAP` (подробнее во втором ноутбуке из полезных ссылок ниже).\n",
    "    \n",
    "3. Постройте `classification_report` из библиотеки `scikit-learn`.\n",
    "\n",
    "4. Постройте и визуализируйте матрицу смежности (`confusion_matrix`), посмотрите, в каких классах модель больше всего ошибается.\n",
    "    \n",
    "5. Для каждого графика/примененного метода проинтерпретируйте результаты и сделайте выводы.\n",
    "\n",
    "\n",
    "<h4> Критерии оценивания </h4>\n",
    "    \n",
    "- По 1 баллу за каждый корректно выполненный пункт.\n",
    "    \n",
    "</div>\n",
    "\n",
    "<div class=\"alert alert-success\">\n",
    "\n",
    "Визуализация может помочь даже после того, как мы **уже обучили** какую-нибудь модель. Например:\n",
    "\n",
    "- Понять, что мешает модели или чего не хватает, чтобы не допускать ошибки.\n",
    "- Сделать выводы, как можно улучшить точность в последующих экспериментах.\n",
    "- Визуализировать ошибки модели.\n",
    "- Отсеять лишние признаки.\n",
    "- Найти идеи для новых признаков.\n",
    "- Все зависит от типа ваших данных.\n",
    "\n",
    "<h3> Полезные источники </h3>\n",
    "    \n",
    "- Занятие про визуализацию и Seaborn.\n",
    "- Занятие про продвинутую визуализацию и анализ ошибок модели.\n",
    "\n",
    "</div>    "
   ]
  },
  {
   "cell_type": "code",
   "execution_count": null,
   "metadata": {
    "id": "EYvkiOcrbuh0"
   },
   "outputs": [],
   "source": [
    "# YOUR CODE HERE"
   ]
  },
  {
   "cell_type": "markdown",
   "metadata": {
    "id": "pL8evJIMbuh0"
   },
   "source": [
    "# Домашнее задание 3. Оптимизация. Тюнинг гиперпараметров с помощью `Optuna`"
   ]
  },
  {
   "cell_type": "markdown",
   "metadata": {
    "id": "ZmanV8V8buh0"
   },
   "source": [
    "<div class=\"alert alert-info\">\n",
    "\n",
    "**Цель блока** — улучшить качество предсказания, произведя подбор гиперпараметров для модели с помощью `Optuna`."
   ]
  },
  {
   "cell_type": "markdown",
   "metadata": {
    "id": "qEbxkZf8buh1"
   },
   "source": [
    "## Подбор гиперпараметров (3 балла)"
   ]
  },
  {
   "cell_type": "markdown",
   "metadata": {
    "id": "XogayH7Hbuh1"
   },
   "source": [
    "1. Напишите `objective` функцию и запустите `Optuna`.\n",
    "2. Подберите гиперпараметры для `CatBoostClassifier` (минимум 3).\n",
    "3. Обучите модель с новыми гиперпараметрами, сравните качество и сделайте выводы.\n",
    "\n",
    "    \n",
    "<h4> Критерии оценивания </h4>\n",
    "    \n",
    "- 1 балл за каждый корректно выполненный пункт.\n",
    "    \n",
    "</div>"
   ]
  },
  {
   "cell_type": "code",
   "execution_count": null,
   "metadata": {
    "id": "UrNbom9qbuh1"
   },
   "outputs": [],
   "source": [
    "# YOUR CODE HERE"
   ]
  },
  {
   "cell_type": "markdown",
   "metadata": {
    "id": "ayIdErsgjayi"
   },
   "source": [
    "### Общая информация по `Optuna`"
   ]
  },
  {
   "cell_type": "markdown",
   "metadata": {
    "id": "a6Y35ioqbuh0",
    "tags": []
   },
   "source": [
    "#### Ключевые особенности <code>Optuna</code>\n",
    "\n"
   ]
  },
  {
   "cell_type": "markdown",
   "metadata": {
    "id": "EFwQ3_NStdFY"
   },
   "source": [
    "- Легковесность и универсальность — можно подбирать оптимальные параметры под любые функции и метрики.\n",
    "- SOTA-алгоритмы, адаптированные для поиска гиперпараметров.\n",
    "- Параллелизация и различные методы прунинга.\n",
    "- Встроенная визуализация.\n",
    "- Интеграция со множеством популярных библиотек (бустинги, sklearn, PyTorch, W&B и другие).\n",
    "\n",
    "Разберем Optuna по частям, чтобы понять, как ее использовать."
   ]
  },
  {
   "cell_type": "markdown",
   "metadata": {
    "id": "GIT2J4INtxaf"
   },
   "source": [
    "#### <code>Study</code>: оптимизация, базирующаяся на <code>Objective</code> функции"
   ]
  },
  {
   "cell_type": "markdown",
   "metadata": {
    "id": "wqPh6XVybuh0"
   },
   "source": [
    "\n",
    "\n",
    "В `Objective`-функцию нужно написать код подсчета метрики, которую возвращаем. `Objective` вызывается Optuna много раз для подбора лучших параметров.\n",
    "```python\n",
    "def objective(trial, ...):\n",
    "    # calculate score...\n",
    "    return score\n",
    "```\n",
    "\n",
    "<h4> <code>Trial</code> — одно выполнение <code>Objective</code>-функции</h4>\n",
    "\n",
    "В `trial`-объекте мы передаем параметры для «перебора», используя для каждого типа свой метод. Например:\n",
    "\n",
    "```python\n",
    "# метод `suggest_float` показывает, что перебираем `float` значения, от 0 и до 1.5 границы\n",
    "param = trial.suggest_float('param', 0, 1.5)\n",
    "\n",
    "# Категориальное значение\n",
    "loss_function = trial.suggest_categorical('loss', ['Logloss', 'CrossEntropy'])\n",
    "\n",
    "# Целочисленное значение\n",
    "depth = trial.suggest_int('depth', 5, 8)\n",
    "\n",
    "# Равномерное распределение\n",
    "learning_rate = trial.suggest_uniform('learning_rate', 0.0, 1.0)\n",
    "```"
   ]
  },
  {
   "cell_type": "markdown",
   "metadata": {
    "id": "4huC_vW7uI4o"
   },
   "source": [
    "#### `Study` parameters"
   ]
  },
  {
   "cell_type": "markdown",
   "metadata": {
    "id": "Cq94BjhWbuh0"
   },
   "source": [
    "Инициализируем объект `study`, который начнет перебор и сохранит в себе историю результатов.\n",
    "Если мы стараемся увеличить метрику, а не уменьшить ошибку, то используем `create_study(direction='maximize')`.\n",
    "```python\n",
    "study = optuna.create_study()\n",
    "study.optimize(objective, n_trials=10)\n",
    "```"
   ]
  },
  {
   "cell_type": "markdown",
   "metadata": {
    "id": "x9AvfTv4buh0"
   },
   "source": [
    "<div class=\"alert alert-info\">\n",
    "    \n",
    "В [`Optuna`](https://optuna.readthedocs.io/en/stable/index.html) реализовано несколько методов (`sampler`) подбора параметров (в том числе классические):\n",
    "* `GridSampler`\n",
    "* `RandomSampler`\n",
    "* `Tree-Structed Parzen Estimator` (`TPESampler` — самый популярный, дефолтный)\n",
    "* `BruteForceSampler`\n",
    "* [Другие 4 метода](https://optuna.readthedocs.io/en/stable/reference/samplers/index.html#module-optuna.samplers) (можно написать собственный семплер)"
   ]
  },
  {
   "cell_type": "markdown",
   "metadata": {
    "id": "3g4-aEHabuh0",
    "tags": []
   },
   "source": [
    "### Советы по перебору параметров"
   ]
  },
  {
   "cell_type": "markdown",
   "metadata": {
    "id": "g3b8cs4Mt7pq"
   },
   "source": [
    "- Иметь понимание важности параметров.\n",
    "- Число `iterations` лучше взять с запасом и зафиксировать, при этом ограничив через `early_stopping_rounds`.\n",
    "- Подсмотреть или чувствовать диапазоны и шаг значений.\n",
    "- Исключить то, что перебирать не нужно (`random_seed` , `eval_metric`, `thread_count` и прочее).\n",
    "- Используйте информацию с прошлых попыток."
   ]
  },
  {
   "cell_type": "markdown",
   "metadata": {
    "id": "dXv8NCp_buh1"
   },
   "source": [
    "# Домашнее задание 4. Блендинг"
   ]
  },
  {
   "cell_type": "markdown",
   "metadata": {
    "id": "8-bhQKWGbuh1"
   },
   "source": [
    "<div class=\"alert alert-info\">\n",
    "\n",
    "**Цель блока** — улучшить качество предсказания, объединив несколько моделей вместе методом блендинга."
   ]
  },
  {
   "cell_type": "markdown",
   "metadata": {
    "id": "ZtI-eK3xbuh1"
   },
   "source": [
    "## Задание 6. Блендинг (10 баллов)"
   ]
  },
  {
   "cell_type": "markdown",
   "metadata": {
    "id": "8v9Onoo9buh1"
   },
   "source": [
    "1. Построить и обучить модели:\n",
    "    - `CatBoostClassifier`,\n",
    "    - `LightGBMClassifier (goss)`,\n",
    "    - `XGBoostClassifier (dart)`,\n",
    "    - `RandomForestClassifier`.\n",
    "2. Сделать предсказания каждой моделью, оценить качество.\n",
    "3. Реализовать блендинг двумя способами, оценить качество и сравнить с предыдущим пунктом:\n",
    "    - `Hard Voting` —  метод, при котором делаем голосование всех моделей и выбираем самый популярный класс.\n",
    "    - `Soft Voting` —  метод, при котором мы складываем вероятности предсказания всех моделей по каждому классу и потом выбираем самый класс с максимальной суммой.\n",
    "    \n",
    "<h4> Критерии оценивания </h4>\n",
    "    \n",
    "- Обучены 4 модели — 1 балл за каждую обученную модель, всего 4 балла.\n",
    "- Для модели проведен подбор гиперпараметров — 0,5 балла за каждый параметр, всего 2 балла.\n",
    "- Сделаны предсказания каждой модели и оценено качество — 1 балл.\n",
    "- Реализован `Hard Voting` — 1 балл.\n",
    "- Реализован `Soft Voting` — 1 балл.\n",
    "- Сделаны выводы — 1 балл.\n",
    "    \n",
    "</div>"
   ]
  },
  {
   "cell_type": "code",
   "execution_count": null,
   "metadata": {
    "id": "Mfi_sxnjbuh2"
   },
   "outputs": [],
   "source": [
    "# YOUR CODE HERE"
   ]
  },
  {
   "cell_type": "markdown",
   "metadata": {
    "id": "O2utYsm3mShl"
   },
   "source": [
    "### Общая информация о блендинге"
   ]
  },
  {
   "cell_type": "markdown",
   "metadata": {
    "id": "-JNyyolfbuh1"
   },
   "source": [
    "**Основная идея** — взять от каждого алгоритма лучшее и совместить несколько разных ML-моделей в одну.\n",
    "\n",
    "Что это дает:\n",
    "- Увеличивается обобщающая способность финальной модели и качество улучшается.\n",
    "- Модель становится более стабильной, что позволяет не слететь на приватном лидерборде.\n",
    "\n",
    "Особенно хорошо накидывает блендинг, если смешиваемые модели имеют разную природу — например, нейронные сети, kNN и решающие деревья. Они выучивают разные зависимости и хорошо дополняют друг друга.\n",
    "\n",
    "</div>"
   ]
  },
  {
   "cell_type": "markdown",
   "metadata": {
    "id": "C5w0RwnYbuh3"
   },
   "source": [
    "# <center id=\"part6\"> Отправка финального решения на лидерборд на Kaggle"
   ]
  },
  {
   "cell_type": "markdown",
   "metadata": {
    "id": "wpt2Bdimbuh3"
   },
   "source": [
    "<div class=\"alert alert-info\">\n",
    "\n",
    "**Цель блока** — сделать предсказание с помощью блендинга для тестовой части датасета, отправить результат [в соревнование на Kaggle](https://www.kaggle.com/competitions/competative-data-science-course-by-data-feeling/overview)."
   ]
  },
  {
   "cell_type": "markdown",
   "metadata": {
    "id": "gfYqF37Cbuh3"
   },
   "source": [
    "## Задание 8. Предсказание на тестовом датасете и отправка на Kaggle"
   ]
  },
  {
   "cell_type": "markdown",
   "metadata": {
    "id": "m_ExuGjabuh3"
   },
   "source": [
    "1. Сделать предобработку для тестового датасета, присоединить к нему информацию из других датасетов и добавить признаки, которые генерировали для тренировочного датасета.\n",
    "2. Сделать предсказания каждой моделью, которую хотите включить в ансамбль, но минимум их должно быть 3.\n",
    "3. Сделать блендинг с помощью `Hard Voting` или `Soft Voting` на ваш выбор.\n",
    "4. Сохранить результат предсказания в `csv` файл и отправить решение на Kaggle.\n",
    "    \n",
    "<h4> Критерии оценивания </h4>\n",
    "    \n",
    "- 0 баллов за задание, если итоговый скор на лидерборде меньше чем `0.9`.\n",
    "- 1 балл за каждый выполненный пункт.\n",
    "\n",
    "</div>"
   ]
  },
  {
   "cell_type": "code",
   "execution_count": null,
   "metadata": {
    "id": "Cnp6usAybuh4"
   },
   "outputs": [],
   "source": [
    "car_test = pd.read_csv('https://raw.githubusercontent.com/a-milenkin/Competitive_Data_Science/main/data/car_test.csv')\n",
    "car_test.head(3)"
   ]
  },
  {
   "cell_type": "code",
   "execution_count": null,
   "metadata": {
    "id": "ZEZhf8gabuh4"
   },
   "outputs": [],
   "source": [
    "# YOUR CODE HERE"
   ]
  },
  {
   "cell_type": "markdown",
   "metadata": {
    "id": "cUuphISJbuh4"
   },
   "source": [
    "### Советы по отправке кода на Kaggle\n"
   ]
  },
  {
   "cell_type": "markdown",
   "metadata": {
    "id": "ZAQLSpKWu4aI"
   },
   "source": [
    "\n",
    "Если пишете код на `Kaggle`, то для отправки решения:\n",
    "\n",
    "1. Нажать Save Version.\n",
    "2. Проверить, что в Advanced Settings выбрано «Всегда сохранять результаты ноутбука».\n",
    "3. Выбрать тип сохранения Save & Run All (Commit).\n",
    "4. Нажать кнопку Save."
   ]
  }
 ],
 "metadata": {
  "colab": {
   "provenance": []
  },
  "kernelspec": {
   "display_name": "Python 3 (ipykernel)",
   "language": "python",
   "name": "python3"
  },
  "language_info": {
   "codemirror_mode": {
    "name": "ipython",
    "version": 3
   },
   "file_extension": ".py",
   "mimetype": "text/x-python",
   "name": "python",
   "nbconvert_exporter": "python",
   "pygments_lexer": "ipython3",
   "version": "3.10.12"
  }
 },
 "nbformat": 4,
 "nbformat_minor": 4
}
