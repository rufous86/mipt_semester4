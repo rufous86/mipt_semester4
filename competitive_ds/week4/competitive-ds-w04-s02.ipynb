{
 "cells": [
  {
   "cell_type": "markdown",
   "id": "f780e74e",
   "metadata": {
    "papermill": {
     "duration": 0.02263,
     "end_time": "2024-03-28T18:05:43.103640",
     "exception": false,
     "start_time": "2024-03-28T18:05:43.081010",
     "status": "completed"
    },
    "tags": []
   },
   "source": [
    "# Семинар_8 Стекинг моделей"
   ]
  },
  {
   "cell_type": "markdown",
   "id": "b4e002d5",
   "metadata": {
    "papermill": {
     "duration": 0.021015,
     "end_time": "2024-03-28T18:05:43.146753",
     "exception": false,
     "start_time": "2024-03-28T18:05:43.125738",
     "status": "completed"
    },
    "tags": []
   },
   "source": [
    "Цель семинара: освоить основные подходы стекинга\n",
    "\n",
    "План семинара:\n",
    "\n",
    "* Практика - попробуем StackingClassifier из sklearn\n",
    "* Практика - стекинг с фичами\n",
    "* Практика - разберемся с кросс валлидацией во время стекинга\n",
    "* Практика - попробуем LightAutoML от Сбера\n",
    "* Подведение итогов - проанализируем и обсудим результаты"
   ]
  },
  {
   "cell_type": "markdown",
   "id": "f849949e",
   "metadata": {
    "papermill": {
     "duration": 0.021274,
     "end_time": "2024-03-28T18:05:43.190989",
     "exception": false,
     "start_time": "2024-03-28T18:05:43.169715",
     "status": "completed"
    },
    "tags": []
   },
   "source": [
    "Сразу поставим устанавливаться фреймворк LightAutoML"
   ]
  },
  {
   "cell_type": "code",
   "execution_count": 1,
   "id": "46465c0a",
   "metadata": {
    "execution": {
     "iopub.execute_input": "2024-03-28T18:05:43.235623Z",
     "iopub.status.busy": "2024-03-28T18:05:43.234853Z",
     "iopub.status.idle": "2024-03-28T18:06:53.723106Z",
     "shell.execute_reply": "2024-03-28T18:06:53.721763Z"
    },
    "papermill": {
     "duration": 70.513914,
     "end_time": "2024-03-28T18:06:53.726122",
     "exception": false,
     "start_time": "2024-03-28T18:05:43.212208",
     "status": "completed"
    },
    "tags": []
   },
   "outputs": [
    {
     "name": "stdout",
     "output_type": "stream",
     "text": [
      "\u001b[31mERROR: pip's dependency resolver does not currently take into account all the packages that are installed. This behaviour is the source of the following dependency conflicts.\r\n",
      "keras-nlp 0.8.2 requires keras-core, which is not installed.\r\n",
      "tensorflow-decision-forests 1.8.1 requires wurlitzer, which is not installed.\r\n",
      "albumentations 1.4.0 requires numpy>=1.24.4, but you have numpy 1.23.5 which is incompatible.\r\n",
      "apache-beam 2.46.0 requires dill<0.3.2,>=0.3.1.1, but you have dill 0.3.8 which is incompatible.\r\n",
      "apache-beam 2.46.0 requires pyarrow<10.0.0,>=3.0.0, but you have pyarrow 15.0.2 which is incompatible.\r\n",
      "beatrix-jupyterlab 2023.128.151533 requires jupyterlab~=3.6.0, but you have jupyterlab 4.1.5 which is incompatible.\r\n",
      "chex 0.1.85 requires numpy>=1.24.1, but you have numpy 1.23.5 which is incompatible.\r\n",
      "dask-expr 1.0.4 requires pandas>=2, but you have pandas 1.4.3 which is incompatible.\r\n",
      "featuretools 1.30.0 requires numpy>=1.25.0, but you have numpy 1.23.5 which is incompatible.\r\n",
      "featuretools 1.30.0 requires pandas>=2.0.0, but you have pandas 1.4.3 which is incompatible.\r\n",
      "fitter 1.7.0 requires joblib<2.0.0,>=1.3.1, but you have joblib 1.2.0 which is incompatible.\r\n",
      "libpysal 4.9.2 requires packaging>=22, but you have packaging 21.3 which is incompatible.\r\n",
      "libpysal 4.9.2 requires shapely>=2.0.1, but you have shapely 1.8.5.post1 which is incompatible.\r\n",
      "mizani 0.11.0 requires pandas>=2.1.0, but you have pandas 1.4.3 which is incompatible.\r\n",
      "momepy 0.7.0 requires shapely>=2, but you have shapely 1.8.5.post1 which is incompatible.\r\n",
      "osmnx 1.9.1 requires shapely>=2.0, but you have shapely 1.8.5.post1 which is incompatible.\r\n",
      "plotnine 0.13.2 requires pandas<3.0.0,>=2.1.0, but you have pandas 1.4.3 which is incompatible.\r\n",
      "pyldavis 3.4.1 requires numpy>=1.24.2, but you have numpy 1.23.5 which is incompatible.\r\n",
      "pyldavis 3.4.1 requires pandas>=2.0.0, but you have pandas 1.4.3 which is incompatible.\r\n",
      "spopt 0.6.0 requires shapely>=2.0.1, but you have shapely 1.8.5.post1 which is incompatible.\r\n",
      "tensorflow 2.15.0 requires keras<2.16,>=2.15.0, but you have keras 3.0.5 which is incompatible.\r\n",
      "tensorstore 0.1.56 requires ml-dtypes>=0.3.1, but you have ml-dtypes 0.2.0 which is incompatible.\r\n",
      "woodwork 0.29.0 requires numpy>=1.25.0, but you have numpy 1.23.5 which is incompatible.\r\n",
      "xarray 2024.2.0 requires packaging>=22, but you have packaging 21.3 which is incompatible.\r\n",
      "xarray 2024.2.0 requires pandas>=1.5, but you have pandas 1.4.3 which is incompatible.\u001b[0m\u001b[31m\r\n",
      "\u001b[0m\u001b[31mERROR: pip's dependency resolver does not currently take into account all the packages that are installed. This behaviour is the source of the following dependency conflicts.\r\n",
      "tensorflow-decision-forests 1.8.1 requires wurlitzer, which is not installed.\r\n",
      "beatrix-jupyterlab 2023.128.151533 requires jupyterlab~=3.6.0, but you have jupyterlab 4.1.5 which is incompatible.\r\n",
      "dask-expr 1.0.4 requires pandas>=2, but you have pandas 1.5.3 which is incompatible.\r\n",
      "featuretools 1.30.0 requires numpy>=1.25.0, but you have numpy 1.23.5 which is incompatible.\r\n",
      "featuretools 1.30.0 requires pandas>=2.0.0, but you have pandas 1.5.3 which is incompatible.\r\n",
      "fitter 1.7.0 requires joblib<2.0.0,>=1.3.1, but you have joblib 1.2.0 which is incompatible.\r\n",
      "libpysal 4.9.2 requires packaging>=22, but you have packaging 21.3 which is incompatible.\r\n",
      "libpysal 4.9.2 requires shapely>=2.0.1, but you have shapely 1.8.5.post1 which is incompatible.\r\n",
      "lightautoml 0.3.8b1 requires pandas<=1.4.3; python_version >= \"3.8\", but you have pandas 1.5.3 which is incompatible.\r\n",
      "mizani 0.11.0 requires pandas>=2.1.0, but you have pandas 1.5.3 which is incompatible.\r\n",
      "momepy 0.7.0 requires shapely>=2, but you have shapely 1.8.5.post1 which is incompatible.\r\n",
      "osmnx 1.9.1 requires shapely>=2.0, but you have shapely 1.8.5.post1 which is incompatible.\r\n",
      "plotnine 0.13.2 requires pandas<3.0.0,>=2.1.0, but you have pandas 1.5.3 which is incompatible.\r\n",
      "pyldavis 3.4.1 requires numpy>=1.24.2, but you have numpy 1.23.5 which is incompatible.\r\n",
      "pyldavis 3.4.1 requires pandas>=2.0.0, but you have pandas 1.5.3 which is incompatible.\r\n",
      "spopt 0.6.0 requires shapely>=2.0.1, but you have shapely 1.8.5.post1 which is incompatible.\r\n",
      "woodwork 0.29.0 requires numpy>=1.25.0, but you have numpy 1.23.5 which is incompatible.\r\n",
      "xarray 2024.2.0 requires packaging>=22, but you have packaging 21.3 which is incompatible.\u001b[0m\u001b[31m\r\n",
      "\u001b[0m"
     ]
    }
   ],
   "source": [
    "!pip install -qq -U lightautoml==0.3.8b1\n",
    "!pip install -qq -U pandas==1.5.3"
   ]
  },
  {
   "cell_type": "code",
   "execution_count": 2,
   "id": "c496af9b",
   "metadata": {
    "execution": {
     "iopub.execute_input": "2024-03-28T18:06:53.773233Z",
     "iopub.status.busy": "2024-03-28T18:06:53.772660Z",
     "iopub.status.idle": "2024-03-28T18:07:01.485135Z",
     "shell.execute_reply": "2024-03-28T18:07:01.484169Z"
    },
    "papermill": {
     "duration": 7.739699,
     "end_time": "2024-03-28T18:07:01.487834",
     "exception": false,
     "start_time": "2024-03-28T18:06:53.748135",
     "status": "completed"
    },
    "tags": []
   },
   "outputs": [],
   "source": [
    "import seaborn as sns\n",
    "import matplotlib.pyplot as plt\n",
    "\n",
    "from sklearn.model_selection import train_test_split\n",
    "from sklearn.metrics import roc_auc_score\n",
    "from sklearn import metrics\n",
    "\n",
    "import numpy as np\n",
    "from xgboost import XGBClassifier\n",
    "import xgboost as xgb\n",
    "from catboost import CatBoostClassifier\n",
    "from sklearn.ensemble import StackingClassifier, GradientBoostingClassifier,RandomForestClassifier\n",
    "from sklearn.linear_model import LogisticRegression\n",
    "from lightgbm import LGBMClassifier\n",
    "import lightgbm as lgb\n",
    "import torch\n",
    "\n",
    "import pandas as pd\n",
    "import time\n",
    "\n",
    "pd.set_option('display.max_columns', None)"
   ]
  },
  {
   "cell_type": "markdown",
   "id": "3fea93b2",
   "metadata": {
    "papermill": {
     "duration": 0.021179,
     "end_time": "2024-03-28T18:07:01.530692",
     "exception": false,
     "start_time": "2024-03-28T18:07:01.509513",
     "status": "completed"
    },
    "tags": []
   },
   "source": [
    "# 1. StackingClassifier из библеотеки sklearn (10 мин)"
   ]
  },
  {
   "cell_type": "markdown",
   "id": "58cbbe0f",
   "metadata": {
    "papermill": {
     "duration": 0.020969,
     "end_time": "2024-03-28T18:07:01.572950",
     "exception": false,
     "start_time": "2024-03-28T18:07:01.551981",
     "status": "completed"
    },
    "tags": []
   },
   "source": [
    "В основе стекинга - метамодель, которая будет на вход принимать предсказания базовых моделей и по ним предсказывать целевую переменную."
   ]
  },
  {
   "cell_type": "code",
   "execution_count": 3,
   "id": "9e4db9d9",
   "metadata": {
    "execution": {
     "iopub.execute_input": "2024-03-28T18:07:01.618438Z",
     "iopub.status.busy": "2024-03-28T18:07:01.617019Z",
     "iopub.status.idle": "2024-03-28T18:07:01.900036Z",
     "shell.execute_reply": "2024-03-28T18:07:01.898863Z"
    },
    "papermill": {
     "duration": 0.308251,
     "end_time": "2024-03-28T18:07:01.902639",
     "exception": false,
     "start_time": "2024-03-28T18:07:01.594388",
     "status": "completed"
    },
    "tags": []
   },
   "outputs": [
    {
     "data": {
      "text/html": [
       "<div>\n",
       "<style scoped>\n",
       "    .dataframe tbody tr th:only-of-type {\n",
       "        vertical-align: middle;\n",
       "    }\n",
       "\n",
       "    .dataframe tbody tr th {\n",
       "        vertical-align: top;\n",
       "    }\n",
       "\n",
       "    .dataframe thead th {\n",
       "        text-align: right;\n",
       "    }\n",
       "</style>\n",
       "<table border=\"1\" class=\"dataframe\">\n",
       "  <thead>\n",
       "    <tr style=\"text-align: right;\">\n",
       "      <th></th>\n",
       "      <th>id</th>\n",
       "      <th>X_Minimum</th>\n",
       "      <th>X_Maximum</th>\n",
       "      <th>Y_Minimum</th>\n",
       "      <th>Y_Maximum</th>\n",
       "      <th>Pixels_Areas</th>\n",
       "      <th>X_Perimeter</th>\n",
       "      <th>Y_Perimeter</th>\n",
       "      <th>Sum_of_Luminosity</th>\n",
       "      <th>Minimum_of_Luminosity</th>\n",
       "      <th>Maximum_of_Luminosity</th>\n",
       "      <th>Length_of_Conveyer</th>\n",
       "      <th>TypeOfSteel_A300</th>\n",
       "      <th>TypeOfSteel_A400</th>\n",
       "      <th>Steel_Plate_Thickness</th>\n",
       "      <th>Edges_Index</th>\n",
       "      <th>Empty_Index</th>\n",
       "      <th>Square_Index</th>\n",
       "      <th>Outside_X_Index</th>\n",
       "      <th>Edges_X_Index</th>\n",
       "      <th>Edges_Y_Index</th>\n",
       "      <th>Outside_Global_Index</th>\n",
       "      <th>LogOfAreas</th>\n",
       "      <th>Log_X_Index</th>\n",
       "      <th>Log_Y_Index</th>\n",
       "      <th>Orientation_Index</th>\n",
       "      <th>Luminosity_Index</th>\n",
       "      <th>SigmoidOfAreas</th>\n",
       "      <th>Pastry</th>\n",
       "      <th>Z_Scratch</th>\n",
       "      <th>K_Scatch</th>\n",
       "      <th>Stains</th>\n",
       "      <th>Dirtiness</th>\n",
       "      <th>Bumps</th>\n",
       "      <th>Other_Faults</th>\n",
       "      <th>target</th>\n",
       "    </tr>\n",
       "  </thead>\n",
       "  <tbody>\n",
       "    <tr>\n",
       "      <th>0</th>\n",
       "      <td>0</td>\n",
       "      <td>584</td>\n",
       "      <td>590</td>\n",
       "      <td>909972</td>\n",
       "      <td>909977</td>\n",
       "      <td>16</td>\n",
       "      <td>8</td>\n",
       "      <td>5</td>\n",
       "      <td>2274</td>\n",
       "      <td>113</td>\n",
       "      <td>140</td>\n",
       "      <td>1358</td>\n",
       "      <td>0</td>\n",
       "      <td>1</td>\n",
       "      <td>50</td>\n",
       "      <td>0.7393</td>\n",
       "      <td>0.4000</td>\n",
       "      <td>0.5000</td>\n",
       "      <td>0.0059</td>\n",
       "      <td>1.0000</td>\n",
       "      <td>1.0000</td>\n",
       "      <td>0.0</td>\n",
       "      <td>1.2041</td>\n",
       "      <td>0.9031</td>\n",
       "      <td>0.6990</td>\n",
       "      <td>-0.5000</td>\n",
       "      <td>-0.0104</td>\n",
       "      <td>0.1417</td>\n",
       "      <td>0</td>\n",
       "      <td>0</td>\n",
       "      <td>0</td>\n",
       "      <td>1</td>\n",
       "      <td>0</td>\n",
       "      <td>0</td>\n",
       "      <td>0</td>\n",
       "      <td>3</td>\n",
       "    </tr>\n",
       "    <tr>\n",
       "      <th>1</th>\n",
       "      <td>1</td>\n",
       "      <td>808</td>\n",
       "      <td>816</td>\n",
       "      <td>728350</td>\n",
       "      <td>728372</td>\n",
       "      <td>433</td>\n",
       "      <td>20</td>\n",
       "      <td>54</td>\n",
       "      <td>44478</td>\n",
       "      <td>70</td>\n",
       "      <td>111</td>\n",
       "      <td>1687</td>\n",
       "      <td>1</td>\n",
       "      <td>0</td>\n",
       "      <td>80</td>\n",
       "      <td>0.7772</td>\n",
       "      <td>0.2878</td>\n",
       "      <td>0.2581</td>\n",
       "      <td>0.0044</td>\n",
       "      <td>0.2500</td>\n",
       "      <td>1.0000</td>\n",
       "      <td>1.0</td>\n",
       "      <td>2.6365</td>\n",
       "      <td>0.7782</td>\n",
       "      <td>1.7324</td>\n",
       "      <td>0.7419</td>\n",
       "      <td>-0.2997</td>\n",
       "      <td>0.9491</td>\n",
       "      <td>0</td>\n",
       "      <td>0</td>\n",
       "      <td>0</td>\n",
       "      <td>0</td>\n",
       "      <td>0</td>\n",
       "      <td>0</td>\n",
       "      <td>1</td>\n",
       "      <td>6</td>\n",
       "    </tr>\n",
       "    <tr>\n",
       "      <th>2</th>\n",
       "      <td>2</td>\n",
       "      <td>39</td>\n",
       "      <td>192</td>\n",
       "      <td>2212076</td>\n",
       "      <td>2212144</td>\n",
       "      <td>11388</td>\n",
       "      <td>705</td>\n",
       "      <td>420</td>\n",
       "      <td>1311391</td>\n",
       "      <td>29</td>\n",
       "      <td>141</td>\n",
       "      <td>1400</td>\n",
       "      <td>0</td>\n",
       "      <td>1</td>\n",
       "      <td>40</td>\n",
       "      <td>0.0557</td>\n",
       "      <td>0.5282</td>\n",
       "      <td>0.9895</td>\n",
       "      <td>0.1077</td>\n",
       "      <td>0.2363</td>\n",
       "      <td>0.3857</td>\n",
       "      <td>0.0</td>\n",
       "      <td>4.0564</td>\n",
       "      <td>2.1790</td>\n",
       "      <td>2.2095</td>\n",
       "      <td>-0.0105</td>\n",
       "      <td>-0.0944</td>\n",
       "      <td>1.0000</td>\n",
       "      <td>0</td>\n",
       "      <td>0</td>\n",
       "      <td>1</td>\n",
       "      <td>0</td>\n",
       "      <td>0</td>\n",
       "      <td>0</td>\n",
       "      <td>0</td>\n",
       "      <td>2</td>\n",
       "    </tr>\n",
       "    <tr>\n",
       "      <th>3</th>\n",
       "      <td>3</td>\n",
       "      <td>781</td>\n",
       "      <td>789</td>\n",
       "      <td>3353146</td>\n",
       "      <td>3353173</td>\n",
       "      <td>210</td>\n",
       "      <td>16</td>\n",
       "      <td>29</td>\n",
       "      <td>3202</td>\n",
       "      <td>114</td>\n",
       "      <td>134</td>\n",
       "      <td>1387</td>\n",
       "      <td>0</td>\n",
       "      <td>1</td>\n",
       "      <td>40</td>\n",
       "      <td>0.7202</td>\n",
       "      <td>0.3333</td>\n",
       "      <td>0.3333</td>\n",
       "      <td>0.0044</td>\n",
       "      <td>0.3750</td>\n",
       "      <td>0.9310</td>\n",
       "      <td>1.0</td>\n",
       "      <td>2.3222</td>\n",
       "      <td>0.7782</td>\n",
       "      <td>1.4314</td>\n",
       "      <td>0.6667</td>\n",
       "      <td>-0.0402</td>\n",
       "      <td>0.4025</td>\n",
       "      <td>0</td>\n",
       "      <td>0</td>\n",
       "      <td>1</td>\n",
       "      <td>0</td>\n",
       "      <td>0</td>\n",
       "      <td>0</td>\n",
       "      <td>0</td>\n",
       "      <td>2</td>\n",
       "    </tr>\n",
       "    <tr>\n",
       "      <th>4</th>\n",
       "      <td>4</td>\n",
       "      <td>1540</td>\n",
       "      <td>1560</td>\n",
       "      <td>618457</td>\n",
       "      <td>618502</td>\n",
       "      <td>521</td>\n",
       "      <td>72</td>\n",
       "      <td>67</td>\n",
       "      <td>48231</td>\n",
       "      <td>82</td>\n",
       "      <td>111</td>\n",
       "      <td>1692</td>\n",
       "      <td>0</td>\n",
       "      <td>1</td>\n",
       "      <td>300</td>\n",
       "      <td>0.1211</td>\n",
       "      <td>0.5347</td>\n",
       "      <td>0.0842</td>\n",
       "      <td>0.0192</td>\n",
       "      <td>0.2105</td>\n",
       "      <td>0.9861</td>\n",
       "      <td>1.0</td>\n",
       "      <td>2.7694</td>\n",
       "      <td>1.4150</td>\n",
       "      <td>1.8808</td>\n",
       "      <td>0.9158</td>\n",
       "      <td>-0.2455</td>\n",
       "      <td>0.9998</td>\n",
       "      <td>0</td>\n",
       "      <td>0</td>\n",
       "      <td>0</td>\n",
       "      <td>0</td>\n",
       "      <td>0</td>\n",
       "      <td>0</td>\n",
       "      <td>1</td>\n",
       "      <td>6</td>\n",
       "    </tr>\n",
       "  </tbody>\n",
       "</table>\n",
       "</div>"
      ],
      "text/plain": [
       "   id  X_Minimum  X_Maximum  Y_Minimum  Y_Maximum  Pixels_Areas  X_Perimeter  \\\n",
       "0   0        584        590     909972     909977            16            8   \n",
       "1   1        808        816     728350     728372           433           20   \n",
       "2   2         39        192    2212076    2212144         11388          705   \n",
       "3   3        781        789    3353146    3353173           210           16   \n",
       "4   4       1540       1560     618457     618502           521           72   \n",
       "\n",
       "   Y_Perimeter  Sum_of_Luminosity  Minimum_of_Luminosity  \\\n",
       "0            5               2274                    113   \n",
       "1           54              44478                     70   \n",
       "2          420            1311391                     29   \n",
       "3           29               3202                    114   \n",
       "4           67              48231                     82   \n",
       "\n",
       "   Maximum_of_Luminosity  Length_of_Conveyer  TypeOfSteel_A300  \\\n",
       "0                    140                1358                 0   \n",
       "1                    111                1687                 1   \n",
       "2                    141                1400                 0   \n",
       "3                    134                1387                 0   \n",
       "4                    111                1692                 0   \n",
       "\n",
       "   TypeOfSteel_A400  Steel_Plate_Thickness  Edges_Index  Empty_Index  \\\n",
       "0                 1                     50       0.7393       0.4000   \n",
       "1                 0                     80       0.7772       0.2878   \n",
       "2                 1                     40       0.0557       0.5282   \n",
       "3                 1                     40       0.7202       0.3333   \n",
       "4                 1                    300       0.1211       0.5347   \n",
       "\n",
       "   Square_Index  Outside_X_Index  Edges_X_Index  Edges_Y_Index  \\\n",
       "0        0.5000           0.0059         1.0000         1.0000   \n",
       "1        0.2581           0.0044         0.2500         1.0000   \n",
       "2        0.9895           0.1077         0.2363         0.3857   \n",
       "3        0.3333           0.0044         0.3750         0.9310   \n",
       "4        0.0842           0.0192         0.2105         0.9861   \n",
       "\n",
       "   Outside_Global_Index  LogOfAreas  Log_X_Index  Log_Y_Index  \\\n",
       "0                   0.0      1.2041       0.9031       0.6990   \n",
       "1                   1.0      2.6365       0.7782       1.7324   \n",
       "2                   0.0      4.0564       2.1790       2.2095   \n",
       "3                   1.0      2.3222       0.7782       1.4314   \n",
       "4                   1.0      2.7694       1.4150       1.8808   \n",
       "\n",
       "   Orientation_Index  Luminosity_Index  SigmoidOfAreas  Pastry  Z_Scratch  \\\n",
       "0            -0.5000           -0.0104          0.1417       0          0   \n",
       "1             0.7419           -0.2997          0.9491       0          0   \n",
       "2            -0.0105           -0.0944          1.0000       0          0   \n",
       "3             0.6667           -0.0402          0.4025       0          0   \n",
       "4             0.9158           -0.2455          0.9998       0          0   \n",
       "\n",
       "   K_Scatch  Stains  Dirtiness  Bumps  Other_Faults  target  \n",
       "0         0       1          0      0             0       3  \n",
       "1         0       0          0      0             1       6  \n",
       "2         1       0          0      0             0       2  \n",
       "3         1       0          0      0             0       2  \n",
       "4         0       0          0      0             1       6  "
      ]
     },
     "execution_count": 3,
     "metadata": {},
     "output_type": "execute_result"
    }
   ],
   "source": [
    "train = pd.read_csv('/kaggle/input/seminar1/train_multiclass.csv')\n",
    "test = pd.read_csv('/kaggle/input/playground-series-s4e3/test.csv')\n",
    "train.head()"
   ]
  },
  {
   "cell_type": "code",
   "execution_count": 4,
   "id": "1fdd72b6",
   "metadata": {
    "execution": {
     "iopub.execute_input": "2024-03-28T18:07:01.948956Z",
     "iopub.status.busy": "2024-03-28T18:07:01.948536Z",
     "iopub.status.idle": "2024-03-28T18:07:01.958657Z",
     "shell.execute_reply": "2024-03-28T18:07:01.957480Z"
    },
    "papermill": {
     "duration": 0.03654,
     "end_time": "2024-03-28T18:07:01.961080",
     "exception": false,
     "start_time": "2024-03-28T18:07:01.924540",
     "status": "completed"
    },
    "tags": []
   },
   "outputs": [],
   "source": [
    "targets = ['Pastry', 'Z_Scratch', 'K_Scatch', 'Stains', 'Dirtiness', 'Bumps', 'Other_Faults']\n",
    "\n",
    "X = train.drop(columns=targets + ['target', 'id'])\n",
    "y = train['target']"
   ]
  },
  {
   "cell_type": "code",
   "execution_count": 5,
   "id": "89dd6a8a",
   "metadata": {
    "execution": {
     "iopub.execute_input": "2024-03-28T18:07:02.006827Z",
     "iopub.status.busy": "2024-03-28T18:07:02.006418Z",
     "iopub.status.idle": "2024-03-28T18:07:02.027961Z",
     "shell.execute_reply": "2024-03-28T18:07:02.026789Z"
    },
    "papermill": {
     "duration": 0.047652,
     "end_time": "2024-03-28T18:07:02.030735",
     "exception": false,
     "start_time": "2024-03-28T18:07:01.983083",
     "status": "completed"
    },
    "tags": []
   },
   "outputs": [],
   "source": [
    "X_train, X_test, y_train, y_test = train_test_split(X, y, test_size=0.2,\n",
    "                                                  random_state=43, stratify=y)"
   ]
  },
  {
   "cell_type": "markdown",
   "id": "0a54f38a",
   "metadata": {
    "papermill": {
     "duration": 0.021582,
     "end_time": "2024-03-28T18:07:02.074871",
     "exception": false,
     "start_time": "2024-03-28T18:07:02.053289",
     "status": "completed"
    },
    "tags": []
   },
   "source": [
    "Для начала просто запустим наши алгоритмы, которые мы в дальнейшем будем стекать"
   ]
  },
  {
   "cell_type": "code",
   "execution_count": 6,
   "id": "e1950260",
   "metadata": {
    "execution": {
     "iopub.execute_input": "2024-03-28T18:07:02.120824Z",
     "iopub.status.busy": "2024-03-28T18:07:02.120382Z",
     "iopub.status.idle": "2024-03-28T18:07:11.171442Z",
     "shell.execute_reply": "2024-03-28T18:07:11.170544Z"
    },
    "papermill": {
     "duration": 9.076582,
     "end_time": "2024-03-28T18:07:11.173714",
     "exception": false,
     "start_time": "2024-03-28T18:07:02.097132",
     "status": "completed"
    },
    "tags": []
   },
   "outputs": [
    {
     "data": {
      "text/plain": [
       "0.8421011099722924"
      ]
     },
     "execution_count": 6,
     "metadata": {},
     "output_type": "execute_result"
    }
   ],
   "source": [
    "clf_rf = RandomForestClassifier(n_estimators=120, random_state=42)\n",
    "clf_rf.fit(X_train, y_train)\n",
    "\n",
    "y_pred_proba_rf = clf_rf.predict_proba(X_test)\n",
    "\n",
    "roc_auc = roc_auc_score(y_test, y_pred_proba_rf, multi_class='ovo')\n",
    "roc_auc"
   ]
  },
  {
   "cell_type": "code",
   "execution_count": 7,
   "id": "e72bb3be",
   "metadata": {
    "execution": {
     "iopub.execute_input": "2024-03-28T18:07:11.220916Z",
     "iopub.status.busy": "2024-03-28T18:07:11.220215Z",
     "iopub.status.idle": "2024-03-28T18:07:16.667464Z",
     "shell.execute_reply": "2024-03-28T18:07:16.665988Z"
    },
    "papermill": {
     "duration": 5.474849,
     "end_time": "2024-03-28T18:07:16.670657",
     "exception": false,
     "start_time": "2024-03-28T18:07:11.195808",
     "status": "completed"
    },
    "tags": []
   },
   "outputs": [
    {
     "name": "stdout",
     "output_type": "stream",
     "text": [
      "Training until validation scores don't improve for 50 rounds\n",
      "Early stopping, best iteration is:\n",
      "[41]\tvalid_0's multi_logloss: 1.06599\n"
     ]
    },
    {
     "data": {
      "text/plain": [
       "0.8554545880034186"
      ]
     },
     "execution_count": 7,
     "metadata": {},
     "output_type": "execute_result"
    }
   ],
   "source": [
    "clf_lg = LGBMClassifier(random_state=43,\n",
    "        objective=\"multiclass\",\n",
    "        n_estimators=200,\n",
    "        num_class=8,\n",
    "        n_jobs=-1,\n",
    ")\n",
    "\n",
    "clf_lg.fit(X_train, y_train, verbose=False,\n",
    "        eval_set=[(X_test, y_test)],\n",
    "        callbacks=[lgb.early_stopping(stopping_rounds=50)],\n",
    "    )\n",
    "\n",
    "y_lg_mc = clf_lg.predict_proba(X_test)\n",
    "roc_auc_score(y_test, y_lg_mc, multi_class='ovo')"
   ]
  },
  {
   "cell_type": "code",
   "execution_count": 8,
   "id": "658d7694",
   "metadata": {
    "execution": {
     "iopub.execute_input": "2024-03-28T18:07:16.718502Z",
     "iopub.status.busy": "2024-03-28T18:07:16.717410Z",
     "iopub.status.idle": "2024-03-28T18:07:30.195689Z",
     "shell.execute_reply": "2024-03-28T18:07:30.194456Z"
    },
    "papermill": {
     "duration": 13.504778,
     "end_time": "2024-03-28T18:07:30.198060",
     "exception": false,
     "start_time": "2024-03-28T18:07:16.693282",
     "status": "completed"
    },
    "tags": []
   },
   "outputs": [
    {
     "name": "stdout",
     "output_type": "stream",
     "text": [
      "0:\ttest: 0.7906086\tbest: 0.7906086 (0)\ttotal: 110ms\tremaining: 1m 49s\n",
      "100:\ttest: 0.9178482\tbest: 0.9178482 (100)\ttotal: 3.72s\tremaining: 33.2s\n",
      "200:\ttest: 0.9192138\tbest: 0.9193226 (171)\ttotal: 7.21s\tremaining: 28.7s\n",
      "300:\ttest: 0.9190907\tbest: 0.9197072 (259)\ttotal: 11.1s\tremaining: 25.8s\n",
      "Stopped by overfitting detector  (100 iterations wait)\n",
      "\n",
      "bestTest = 0.9197071666\n",
      "bestIteration = 259\n",
      "\n",
      "Shrink model to first 260 iterations.\n"
     ]
    },
    {
     "data": {
      "text/plain": [
       "0.8619144795002696"
      ]
     },
     "execution_count": 8,
     "metadata": {},
     "output_type": "execute_result"
    }
   ],
   "source": [
    "cb_mc = CatBoostClassifier(random_seed=43,\n",
    "                           eval_metric='AUC',\n",
    "                           learning_rate=0.1\n",
    "                           )\n",
    "\n",
    "cb_mc.fit(X_train, y_train, eval_set=(X_test, y_test),\n",
    "          verbose=100, early_stopping_rounds=100)\n",
    "\n",
    "y_cb_mc = cb_mc.predict_proba(X_test)\n",
    "roc_auc_score(y_test, y_cb_mc, multi_class='ovo')"
   ]
  },
  {
   "cell_type": "markdown",
   "id": "2eb606f6",
   "metadata": {
    "papermill": {
     "duration": 0.023382,
     "end_time": "2024-03-28T18:07:30.244999",
     "exception": false,
     "start_time": "2024-03-28T18:07:30.221617",
     "status": "completed"
    },
    "tags": []
   },
   "source": [
    "Для StackingClassifier sklearn нам нужно определить базовые модели, которые будут формировать превичные предсказания и мета модель. Мета модель будет использовать предсказания базовых моделей в качестве входных фичей."
   ]
  },
  {
   "cell_type": "markdown",
   "id": "35e8ffbb",
   "metadata": {
    "papermill": {
     "duration": 0.023135,
     "end_time": "2024-03-28T18:07:30.291238",
     "exception": false,
     "start_time": "2024-03-28T18:07:30.268103",
     "status": "completed"
    },
    "tags": []
   },
   "source": [
    "* Запустите [StackingClassifier (дока)](https://scikit-learn.org/stable/modules/generated/sklearn.ensemble.StackingClassifier.html)\n",
    "* В качестве base_estimators используем RandomForest и LGBMClassifier.\n",
    "* В качестве meta_estimator - логистическую регрессию."
   ]
  },
  {
   "cell_type": "code",
   "execution_count": 9,
   "id": "adfa8e55",
   "metadata": {
    "execution": {
     "iopub.execute_input": "2024-03-28T18:07:30.339831Z",
     "iopub.status.busy": "2024-03-28T18:07:30.338653Z",
     "iopub.status.idle": "2024-03-28T18:08:30.927954Z",
     "shell.execute_reply": "2024-03-28T18:08:30.925548Z"
    },
    "papermill": {
     "duration": 60.653486,
     "end_time": "2024-03-28T18:08:30.967743",
     "exception": false,
     "start_time": "2024-03-28T18:07:30.314257",
     "status": "completed"
    },
    "tags": []
   },
   "outputs": [
    {
     "name": "stderr",
     "output_type": "stream",
     "text": [
      "/opt/conda/lib/python3.10/site-packages/sklearn/linear_model/_logistic.py:458: ConvergenceWarning: lbfgs failed to converge (status=1):\n",
      "STOP: TOTAL NO. of ITERATIONS REACHED LIMIT.\n",
      "\n",
      "Increase the number of iterations (max_iter) or scale the data as shown in:\n",
      "    https://scikit-learn.org/stable/modules/preprocessing.html\n",
      "Please also refer to the documentation for alternative solver options:\n",
      "    https://scikit-learn.org/stable/modules/linear_model.html#logistic-regression\n",
      "  n_iter_i = _check_optimize_result(\n"
     ]
    },
    {
     "data": {
      "text/html": [
       "<style>#sk-container-id-1 {color: black;background-color: white;}#sk-container-id-1 pre{padding: 0;}#sk-container-id-1 div.sk-toggleable {background-color: white;}#sk-container-id-1 label.sk-toggleable__label {cursor: pointer;display: block;width: 100%;margin-bottom: 0;padding: 0.3em;box-sizing: border-box;text-align: center;}#sk-container-id-1 label.sk-toggleable__label-arrow:before {content: \"▸\";float: left;margin-right: 0.25em;color: #696969;}#sk-container-id-1 label.sk-toggleable__label-arrow:hover:before {color: black;}#sk-container-id-1 div.sk-estimator:hover label.sk-toggleable__label-arrow:before {color: black;}#sk-container-id-1 div.sk-toggleable__content {max-height: 0;max-width: 0;overflow: hidden;text-align: left;background-color: #f0f8ff;}#sk-container-id-1 div.sk-toggleable__content pre {margin: 0.2em;color: black;border-radius: 0.25em;background-color: #f0f8ff;}#sk-container-id-1 input.sk-toggleable__control:checked~div.sk-toggleable__content {max-height: 200px;max-width: 100%;overflow: auto;}#sk-container-id-1 input.sk-toggleable__control:checked~label.sk-toggleable__label-arrow:before {content: \"▾\";}#sk-container-id-1 div.sk-estimator input.sk-toggleable__control:checked~label.sk-toggleable__label {background-color: #d4ebff;}#sk-container-id-1 div.sk-label input.sk-toggleable__control:checked~label.sk-toggleable__label {background-color: #d4ebff;}#sk-container-id-1 input.sk-hidden--visually {border: 0;clip: rect(1px 1px 1px 1px);clip: rect(1px, 1px, 1px, 1px);height: 1px;margin: -1px;overflow: hidden;padding: 0;position: absolute;width: 1px;}#sk-container-id-1 div.sk-estimator {font-family: monospace;background-color: #f0f8ff;border: 1px dotted black;border-radius: 0.25em;box-sizing: border-box;margin-bottom: 0.5em;}#sk-container-id-1 div.sk-estimator:hover {background-color: #d4ebff;}#sk-container-id-1 div.sk-parallel-item::after {content: \"\";width: 100%;border-bottom: 1px solid gray;flex-grow: 1;}#sk-container-id-1 div.sk-label:hover label.sk-toggleable__label {background-color: #d4ebff;}#sk-container-id-1 div.sk-serial::before {content: \"\";position: absolute;border-left: 1px solid gray;box-sizing: border-box;top: 0;bottom: 0;left: 50%;z-index: 0;}#sk-container-id-1 div.sk-serial {display: flex;flex-direction: column;align-items: center;background-color: white;padding-right: 0.2em;padding-left: 0.2em;position: relative;}#sk-container-id-1 div.sk-item {position: relative;z-index: 1;}#sk-container-id-1 div.sk-parallel {display: flex;align-items: stretch;justify-content: center;background-color: white;position: relative;}#sk-container-id-1 div.sk-item::before, #sk-container-id-1 div.sk-parallel-item::before {content: \"\";position: absolute;border-left: 1px solid gray;box-sizing: border-box;top: 0;bottom: 0;left: 50%;z-index: -1;}#sk-container-id-1 div.sk-parallel-item {display: flex;flex-direction: column;z-index: 1;position: relative;background-color: white;}#sk-container-id-1 div.sk-parallel-item:first-child::after {align-self: flex-end;width: 50%;}#sk-container-id-1 div.sk-parallel-item:last-child::after {align-self: flex-start;width: 50%;}#sk-container-id-1 div.sk-parallel-item:only-child::after {width: 0;}#sk-container-id-1 div.sk-dashed-wrapped {border: 1px dashed gray;margin: 0 0.4em 0.5em 0.4em;box-sizing: border-box;padding-bottom: 0.4em;background-color: white;}#sk-container-id-1 div.sk-label label {font-family: monospace;font-weight: bold;display: inline-block;line-height: 1.2em;}#sk-container-id-1 div.sk-label-container {text-align: center;}#sk-container-id-1 div.sk-container {/* jupyter's `normalize.less` sets `[hidden] { display: none; }` but bootstrap.min.css set `[hidden] { display: none !important; }` so we also need the `!important` here to be able to override the default hidden behavior on the sphinx rendered scikit-learn.org. See: https://github.com/scikit-learn/scikit-learn/issues/21755 */display: inline-block !important;position: relative;}#sk-container-id-1 div.sk-text-repr-fallback {display: none;}</style><div id=\"sk-container-id-1\" class=\"sk-top-container\"><div class=\"sk-text-repr-fallback\"><pre>StackingClassifier(estimators=[(&#x27;rf&#x27;,\n",
       "                                RandomForestClassifier(n_estimators=120,\n",
       "                                                       random_state=42)),\n",
       "                               (&#x27;lgbm&#x27;,\n",
       "                                LGBMClassifier(n_estimators=42, num_class=8,\n",
       "                                               objective=&#x27;multiclass&#x27;,\n",
       "                                               random_state=42))],\n",
       "                   final_estimator=LogisticRegression())</pre><b>In a Jupyter environment, please rerun this cell to show the HTML representation or trust the notebook. <br />On GitHub, the HTML representation is unable to render, please try loading this page with nbviewer.org.</b></div><div class=\"sk-container\" hidden><div class=\"sk-item sk-dashed-wrapped\"><div class=\"sk-label-container\"><div class=\"sk-label sk-toggleable\"><input class=\"sk-toggleable__control sk-hidden--visually\" id=\"sk-estimator-id-1\" type=\"checkbox\" ><label for=\"sk-estimator-id-1\" class=\"sk-toggleable__label sk-toggleable__label-arrow\">StackingClassifier</label><div class=\"sk-toggleable__content\"><pre>StackingClassifier(estimators=[(&#x27;rf&#x27;,\n",
       "                                RandomForestClassifier(n_estimators=120,\n",
       "                                                       random_state=42)),\n",
       "                               (&#x27;lgbm&#x27;,\n",
       "                                LGBMClassifier(n_estimators=42, num_class=8,\n",
       "                                               objective=&#x27;multiclass&#x27;,\n",
       "                                               random_state=42))],\n",
       "                   final_estimator=LogisticRegression())</pre></div></div></div><div class=\"sk-serial\"><div class=\"sk-item\"><div class=\"sk-parallel\"><div class=\"sk-parallel-item\"><div class=\"sk-item\"><div class=\"sk-label-container\"><div class=\"sk-label sk-toggleable\"><label>rf</label></div></div><div class=\"sk-serial\"><div class=\"sk-item\"><div class=\"sk-estimator sk-toggleable\"><input class=\"sk-toggleable__control sk-hidden--visually\" id=\"sk-estimator-id-2\" type=\"checkbox\" ><label for=\"sk-estimator-id-2\" class=\"sk-toggleable__label sk-toggleable__label-arrow\">RandomForestClassifier</label><div class=\"sk-toggleable__content\"><pre>RandomForestClassifier(n_estimators=120, random_state=42)</pre></div></div></div></div></div></div><div class=\"sk-parallel-item\"><div class=\"sk-item\"><div class=\"sk-label-container\"><div class=\"sk-label sk-toggleable\"><label>lgbm</label></div></div><div class=\"sk-serial\"><div class=\"sk-item\"><div class=\"sk-estimator sk-toggleable\"><input class=\"sk-toggleable__control sk-hidden--visually\" id=\"sk-estimator-id-3\" type=\"checkbox\" ><label for=\"sk-estimator-id-3\" class=\"sk-toggleable__label sk-toggleable__label-arrow\">LGBMClassifier</label><div class=\"sk-toggleable__content\"><pre>LGBMClassifier(n_estimators=42, num_class=8, objective=&#x27;multiclass&#x27;,\n",
       "               random_state=42)</pre></div></div></div></div></div></div></div></div><div class=\"sk-item\"><div class=\"sk-parallel\"><div class=\"sk-parallel-item\"><div class=\"sk-item\"><div class=\"sk-label-container\"><div class=\"sk-label sk-toggleable\"><label>final_estimator</label></div></div><div class=\"sk-serial\"><div class=\"sk-item\"><div class=\"sk-estimator sk-toggleable\"><input class=\"sk-toggleable__control sk-hidden--visually\" id=\"sk-estimator-id-4\" type=\"checkbox\" ><label for=\"sk-estimator-id-4\" class=\"sk-toggleable__label sk-toggleable__label-arrow\">LogisticRegression</label><div class=\"sk-toggleable__content\"><pre>LogisticRegression()</pre></div></div></div></div></div></div></div></div></div></div></div></div>"
      ],
      "text/plain": [
       "StackingClassifier(estimators=[('rf',\n",
       "                                RandomForestClassifier(n_estimators=120,\n",
       "                                                       random_state=42)),\n",
       "                               ('lgbm',\n",
       "                                LGBMClassifier(n_estimators=42, num_class=8,\n",
       "                                               objective='multiclass',\n",
       "                                               random_state=42))],\n",
       "                   final_estimator=LogisticRegression())"
      ]
     },
     "execution_count": 9,
     "metadata": {},
     "output_type": "execute_result"
    }
   ],
   "source": [
    "base_estimators = [\n",
    "    ('rf', RandomForestClassifier(n_estimators=120, random_state=42)),\n",
    "    ('lgbm', LGBMClassifier(random_state=42,\n",
    "        objective=\"multiclass\",\n",
    "        n_estimators=42,\n",
    "        num_class=8,\n",
    "        n_jobs=-1,))\n",
    "]\n",
    "meta_estimator = LogisticRegression()\n",
    "\n",
    "stacking_clf = StackingClassifier(estimators=base_estimators, final_estimator=meta_estimator)\n",
    "\n",
    "stacking_clf.fit(X_train, y_train)"
   ]
  },
  {
   "cell_type": "code",
   "execution_count": 10,
   "id": "13cc4bee",
   "metadata": {
    "execution": {
     "iopub.execute_input": "2024-03-28T18:08:31.016049Z",
     "iopub.status.busy": "2024-03-28T18:08:31.015662Z",
     "iopub.status.idle": "2024-03-28T18:08:31.389589Z",
     "shell.execute_reply": "2024-03-28T18:08:31.388504Z"
    },
    "papermill": {
     "duration": 0.401202,
     "end_time": "2024-03-28T18:08:31.392091",
     "exception": false,
     "start_time": "2024-03-28T18:08:30.990889",
     "status": "completed"
    },
    "tags": []
   },
   "outputs": [
    {
     "data": {
      "text/plain": [
       "0.8436538391768517"
      ]
     },
     "execution_count": 10,
     "metadata": {},
     "output_type": "execute_result"
    }
   ],
   "source": [
    "y_pred = stacking_clf.predict_proba(X_test)\n",
    "score = roc_auc_score(y_test, y_pred, multi_class='ovo')\n",
    "score"
   ]
  },
  {
   "cell_type": "markdown",
   "id": "0368ded3",
   "metadata": {
    "papermill": {
     "duration": 0.090072,
     "end_time": "2024-03-28T18:08:31.506109",
     "exception": false,
     "start_time": "2024-03-28T18:08:31.416037",
     "status": "completed"
    },
    "tags": []
   },
   "source": [
    "А теперь попробуем в качестве метамодели использовать CatBoost"
   ]
  },
  {
   "cell_type": "code",
   "execution_count": 11,
   "id": "7b18993c",
   "metadata": {
    "execution": {
     "iopub.execute_input": "2024-03-28T18:08:31.555979Z",
     "iopub.status.busy": "2024-03-28T18:08:31.555581Z",
     "iopub.status.idle": "2024-03-28T18:09:51.059075Z",
     "shell.execute_reply": "2024-03-28T18:09:51.057974Z"
    },
    "papermill": {
     "duration": 79.555715,
     "end_time": "2024-03-28T18:09:51.085879",
     "exception": false,
     "start_time": "2024-03-28T18:08:31.530164",
     "status": "completed"
    },
    "tags": []
   },
   "outputs": [
    {
     "data": {
      "text/html": [
       "<style>#sk-container-id-2 {color: black;background-color: white;}#sk-container-id-2 pre{padding: 0;}#sk-container-id-2 div.sk-toggleable {background-color: white;}#sk-container-id-2 label.sk-toggleable__label {cursor: pointer;display: block;width: 100%;margin-bottom: 0;padding: 0.3em;box-sizing: border-box;text-align: center;}#sk-container-id-2 label.sk-toggleable__label-arrow:before {content: \"▸\";float: left;margin-right: 0.25em;color: #696969;}#sk-container-id-2 label.sk-toggleable__label-arrow:hover:before {color: black;}#sk-container-id-2 div.sk-estimator:hover label.sk-toggleable__label-arrow:before {color: black;}#sk-container-id-2 div.sk-toggleable__content {max-height: 0;max-width: 0;overflow: hidden;text-align: left;background-color: #f0f8ff;}#sk-container-id-2 div.sk-toggleable__content pre {margin: 0.2em;color: black;border-radius: 0.25em;background-color: #f0f8ff;}#sk-container-id-2 input.sk-toggleable__control:checked~div.sk-toggleable__content {max-height: 200px;max-width: 100%;overflow: auto;}#sk-container-id-2 input.sk-toggleable__control:checked~label.sk-toggleable__label-arrow:before {content: \"▾\";}#sk-container-id-2 div.sk-estimator input.sk-toggleable__control:checked~label.sk-toggleable__label {background-color: #d4ebff;}#sk-container-id-2 div.sk-label input.sk-toggleable__control:checked~label.sk-toggleable__label {background-color: #d4ebff;}#sk-container-id-2 input.sk-hidden--visually {border: 0;clip: rect(1px 1px 1px 1px);clip: rect(1px, 1px, 1px, 1px);height: 1px;margin: -1px;overflow: hidden;padding: 0;position: absolute;width: 1px;}#sk-container-id-2 div.sk-estimator {font-family: monospace;background-color: #f0f8ff;border: 1px dotted black;border-radius: 0.25em;box-sizing: border-box;margin-bottom: 0.5em;}#sk-container-id-2 div.sk-estimator:hover {background-color: #d4ebff;}#sk-container-id-2 div.sk-parallel-item::after {content: \"\";width: 100%;border-bottom: 1px solid gray;flex-grow: 1;}#sk-container-id-2 div.sk-label:hover label.sk-toggleable__label {background-color: #d4ebff;}#sk-container-id-2 div.sk-serial::before {content: \"\";position: absolute;border-left: 1px solid gray;box-sizing: border-box;top: 0;bottom: 0;left: 50%;z-index: 0;}#sk-container-id-2 div.sk-serial {display: flex;flex-direction: column;align-items: center;background-color: white;padding-right: 0.2em;padding-left: 0.2em;position: relative;}#sk-container-id-2 div.sk-item {position: relative;z-index: 1;}#sk-container-id-2 div.sk-parallel {display: flex;align-items: stretch;justify-content: center;background-color: white;position: relative;}#sk-container-id-2 div.sk-item::before, #sk-container-id-2 div.sk-parallel-item::before {content: \"\";position: absolute;border-left: 1px solid gray;box-sizing: border-box;top: 0;bottom: 0;left: 50%;z-index: -1;}#sk-container-id-2 div.sk-parallel-item {display: flex;flex-direction: column;z-index: 1;position: relative;background-color: white;}#sk-container-id-2 div.sk-parallel-item:first-child::after {align-self: flex-end;width: 50%;}#sk-container-id-2 div.sk-parallel-item:last-child::after {align-self: flex-start;width: 50%;}#sk-container-id-2 div.sk-parallel-item:only-child::after {width: 0;}#sk-container-id-2 div.sk-dashed-wrapped {border: 1px dashed gray;margin: 0 0.4em 0.5em 0.4em;box-sizing: border-box;padding-bottom: 0.4em;background-color: white;}#sk-container-id-2 div.sk-label label {font-family: monospace;font-weight: bold;display: inline-block;line-height: 1.2em;}#sk-container-id-2 div.sk-label-container {text-align: center;}#sk-container-id-2 div.sk-container {/* jupyter's `normalize.less` sets `[hidden] { display: none; }` but bootstrap.min.css set `[hidden] { display: none !important; }` so we also need the `!important` here to be able to override the default hidden behavior on the sphinx rendered scikit-learn.org. See: https://github.com/scikit-learn/scikit-learn/issues/21755 */display: inline-block !important;position: relative;}#sk-container-id-2 div.sk-text-repr-fallback {display: none;}</style><div id=\"sk-container-id-2\" class=\"sk-top-container\"><div class=\"sk-text-repr-fallback\"><pre>StackingClassifier(estimators=[(&#x27;rf&#x27;,\n",
       "                                RandomForestClassifier(n_estimators=120,\n",
       "                                                       random_state=42)),\n",
       "                               (&#x27;lgbm&#x27;,\n",
       "                                LGBMClassifier(n_estimators=41, num_class=8,\n",
       "                                               objective=&#x27;multiclass&#x27;,\n",
       "                                               random_state=42))],\n",
       "                   final_estimator=&lt;catboost.core.CatBoostClassifier object at 0x794cb0b4cc10&gt;)</pre><b>In a Jupyter environment, please rerun this cell to show the HTML representation or trust the notebook. <br />On GitHub, the HTML representation is unable to render, please try loading this page with nbviewer.org.</b></div><div class=\"sk-container\" hidden><div class=\"sk-item sk-dashed-wrapped\"><div class=\"sk-label-container\"><div class=\"sk-label sk-toggleable\"><input class=\"sk-toggleable__control sk-hidden--visually\" id=\"sk-estimator-id-5\" type=\"checkbox\" ><label for=\"sk-estimator-id-5\" class=\"sk-toggleable__label sk-toggleable__label-arrow\">StackingClassifier</label><div class=\"sk-toggleable__content\"><pre>StackingClassifier(estimators=[(&#x27;rf&#x27;,\n",
       "                                RandomForestClassifier(n_estimators=120,\n",
       "                                                       random_state=42)),\n",
       "                               (&#x27;lgbm&#x27;,\n",
       "                                LGBMClassifier(n_estimators=41, num_class=8,\n",
       "                                               objective=&#x27;multiclass&#x27;,\n",
       "                                               random_state=42))],\n",
       "                   final_estimator=&lt;catboost.core.CatBoostClassifier object at 0x794cb0b4cc10&gt;)</pre></div></div></div><div class=\"sk-serial\"><div class=\"sk-item\"><div class=\"sk-parallel\"><div class=\"sk-parallel-item\"><div class=\"sk-item\"><div class=\"sk-label-container\"><div class=\"sk-label sk-toggleable\"><label>rf</label></div></div><div class=\"sk-serial\"><div class=\"sk-item\"><div class=\"sk-estimator sk-toggleable\"><input class=\"sk-toggleable__control sk-hidden--visually\" id=\"sk-estimator-id-6\" type=\"checkbox\" ><label for=\"sk-estimator-id-6\" class=\"sk-toggleable__label sk-toggleable__label-arrow\">RandomForestClassifier</label><div class=\"sk-toggleable__content\"><pre>RandomForestClassifier(n_estimators=120, random_state=42)</pre></div></div></div></div></div></div><div class=\"sk-parallel-item\"><div class=\"sk-item\"><div class=\"sk-label-container\"><div class=\"sk-label sk-toggleable\"><label>lgbm</label></div></div><div class=\"sk-serial\"><div class=\"sk-item\"><div class=\"sk-estimator sk-toggleable\"><input class=\"sk-toggleable__control sk-hidden--visually\" id=\"sk-estimator-id-7\" type=\"checkbox\" ><label for=\"sk-estimator-id-7\" class=\"sk-toggleable__label sk-toggleable__label-arrow\">LGBMClassifier</label><div class=\"sk-toggleable__content\"><pre>LGBMClassifier(n_estimators=41, num_class=8, objective=&#x27;multiclass&#x27;,\n",
       "               random_state=42)</pre></div></div></div></div></div></div></div></div><div class=\"sk-item\"><div class=\"sk-parallel\"><div class=\"sk-parallel-item\"><div class=\"sk-item\"><div class=\"sk-label-container\"><div class=\"sk-label sk-toggleable\"><label>final_estimator</label></div></div><div class=\"sk-serial\"><div class=\"sk-item\"><div class=\"sk-estimator sk-toggleable\"><input class=\"sk-toggleable__control sk-hidden--visually\" id=\"sk-estimator-id-8\" type=\"checkbox\" ><label for=\"sk-estimator-id-8\" class=\"sk-toggleable__label sk-toggleable__label-arrow\">CatBoostClassifier</label><div class=\"sk-toggleable__content\"><pre>&lt;catboost.core.CatBoostClassifier object at 0x794cb0b4cc10&gt;</pre></div></div></div></div></div></div></div></div></div></div></div></div>"
      ],
      "text/plain": [
       "StackingClassifier(estimators=[('rf',\n",
       "                                RandomForestClassifier(n_estimators=120,\n",
       "                                                       random_state=42)),\n",
       "                               ('lgbm',\n",
       "                                LGBMClassifier(n_estimators=41, num_class=8,\n",
       "                                               objective='multiclass',\n",
       "                                               random_state=42))],\n",
       "                   final_estimator=<catboost.core.CatBoostClassifier object at 0x794cb0b4cc10>)"
      ]
     },
     "execution_count": 11,
     "metadata": {},
     "output_type": "execute_result"
    }
   ],
   "source": [
    "base_estimators = [\n",
    "    ('rf', RandomForestClassifier(n_estimators=120, random_state=42)),\n",
    "    ('lgbm', LGBMClassifier(random_state=42,\n",
    "        objective=\"multiclass\",\n",
    "        n_estimators=41,\n",
    "        num_class=8,\n",
    "        n_jobs=-1,))\n",
    "]\n",
    "meta_estimator = CatBoostClassifier(random_seed=43, verbose=False,\n",
    "                           eval_metric='AUC',\n",
    "                           #iterations=100,\n",
    "                           learning_rate=0.1\n",
    "                           )\n",
    "\n",
    "stacking_clf = StackingClassifier(estimators=base_estimators, final_estimator=meta_estimator)\n",
    "\n",
    "stacking_clf.fit(X_train, y_train)"
   ]
  },
  {
   "cell_type": "code",
   "execution_count": 12,
   "id": "89ed1d70",
   "metadata": {
    "execution": {
     "iopub.execute_input": "2024-03-28T18:09:51.136590Z",
     "iopub.status.busy": "2024-03-28T18:09:51.136170Z",
     "iopub.status.idle": "2024-03-28T18:09:51.452847Z",
     "shell.execute_reply": "2024-03-28T18:09:51.451595Z"
    },
    "papermill": {
     "duration": 0.345262,
     "end_time": "2024-03-28T18:09:51.455485",
     "exception": false,
     "start_time": "2024-03-28T18:09:51.110223",
     "status": "completed"
    },
    "tags": []
   },
   "outputs": [
    {
     "data": {
      "text/plain": [
       "0.8453512065219331"
      ]
     },
     "execution_count": 12,
     "metadata": {},
     "output_type": "execute_result"
    }
   ],
   "source": [
    "y_pred = stacking_clf.predict_proba(X_test)\n",
    "score = roc_auc_score(y_test, y_pred, multi_class='ovo')\n",
    "score"
   ]
  },
  {
   "cell_type": "markdown",
   "id": "e38b0e35",
   "metadata": {
    "papermill": {
     "duration": 0.024084,
     "end_time": "2024-03-28T18:09:51.504976",
     "exception": false,
     "start_time": "2024-03-28T18:09:51.480892",
     "status": "completed"
    },
    "tags": []
   },
   "source": [
    "# 2. Стекинг с фичами (10 мин)"
   ]
  },
  {
   "cell_type": "markdown",
   "id": "63fa7ee1",
   "metadata": {
    "papermill": {
     "duration": 0.023705,
     "end_time": "2024-03-28T18:09:51.552789",
     "exception": false,
     "start_time": "2024-03-28T18:09:51.529084",
     "status": "completed"
    },
    "tags": []
   },
   "source": [
    "А теперь давайте самостоятельно сделаем предсказания базовыми моделями, а на вход к метамодели подадим предсказания базовых и изначальные фичи"
   ]
  },
  {
   "cell_type": "markdown",
   "id": "0d9d0e78",
   "metadata": {
    "papermill": {
     "duration": 0.023711,
     "end_time": "2024-03-28T18:09:51.600484",
     "exception": false,
     "start_time": "2024-03-28T18:09:51.576773",
     "status": "completed"
    },
    "tags": []
   },
   "source": [
    "Предскажим вероятности на трейн выборке"
   ]
  },
  {
   "cell_type": "code",
   "execution_count": 13,
   "id": "32b395be",
   "metadata": {
    "execution": {
     "iopub.execute_input": "2024-03-28T18:09:51.650702Z",
     "iopub.status.busy": "2024-03-28T18:09:51.650321Z",
     "iopub.status.idle": "2024-03-28T18:10:05.807155Z",
     "shell.execute_reply": "2024-03-28T18:10:05.806115Z"
    },
    "papermill": {
     "duration": 14.185852,
     "end_time": "2024-03-28T18:10:05.810540",
     "exception": false,
     "start_time": "2024-03-28T18:09:51.624688",
     "status": "completed"
    },
    "tags": []
   },
   "outputs": [
    {
     "name": "stdout",
     "output_type": "stream",
     "text": [
      "Training until validation scores don't improve for 50 rounds\n",
      "Early stopping, best iteration is:\n",
      "[41]\tvalid_0's multi_logloss: 1.06599\n"
     ]
    },
    {
     "data": {
      "text/html": [
       "<style>#sk-container-id-3 {color: black;background-color: white;}#sk-container-id-3 pre{padding: 0;}#sk-container-id-3 div.sk-toggleable {background-color: white;}#sk-container-id-3 label.sk-toggleable__label {cursor: pointer;display: block;width: 100%;margin-bottom: 0;padding: 0.3em;box-sizing: border-box;text-align: center;}#sk-container-id-3 label.sk-toggleable__label-arrow:before {content: \"▸\";float: left;margin-right: 0.25em;color: #696969;}#sk-container-id-3 label.sk-toggleable__label-arrow:hover:before {color: black;}#sk-container-id-3 div.sk-estimator:hover label.sk-toggleable__label-arrow:before {color: black;}#sk-container-id-3 div.sk-toggleable__content {max-height: 0;max-width: 0;overflow: hidden;text-align: left;background-color: #f0f8ff;}#sk-container-id-3 div.sk-toggleable__content pre {margin: 0.2em;color: black;border-radius: 0.25em;background-color: #f0f8ff;}#sk-container-id-3 input.sk-toggleable__control:checked~div.sk-toggleable__content {max-height: 200px;max-width: 100%;overflow: auto;}#sk-container-id-3 input.sk-toggleable__control:checked~label.sk-toggleable__label-arrow:before {content: \"▾\";}#sk-container-id-3 div.sk-estimator input.sk-toggleable__control:checked~label.sk-toggleable__label {background-color: #d4ebff;}#sk-container-id-3 div.sk-label input.sk-toggleable__control:checked~label.sk-toggleable__label {background-color: #d4ebff;}#sk-container-id-3 input.sk-hidden--visually {border: 0;clip: rect(1px 1px 1px 1px);clip: rect(1px, 1px, 1px, 1px);height: 1px;margin: -1px;overflow: hidden;padding: 0;position: absolute;width: 1px;}#sk-container-id-3 div.sk-estimator {font-family: monospace;background-color: #f0f8ff;border: 1px dotted black;border-radius: 0.25em;box-sizing: border-box;margin-bottom: 0.5em;}#sk-container-id-3 div.sk-estimator:hover {background-color: #d4ebff;}#sk-container-id-3 div.sk-parallel-item::after {content: \"\";width: 100%;border-bottom: 1px solid gray;flex-grow: 1;}#sk-container-id-3 div.sk-label:hover label.sk-toggleable__label {background-color: #d4ebff;}#sk-container-id-3 div.sk-serial::before {content: \"\";position: absolute;border-left: 1px solid gray;box-sizing: border-box;top: 0;bottom: 0;left: 50%;z-index: 0;}#sk-container-id-3 div.sk-serial {display: flex;flex-direction: column;align-items: center;background-color: white;padding-right: 0.2em;padding-left: 0.2em;position: relative;}#sk-container-id-3 div.sk-item {position: relative;z-index: 1;}#sk-container-id-3 div.sk-parallel {display: flex;align-items: stretch;justify-content: center;background-color: white;position: relative;}#sk-container-id-3 div.sk-item::before, #sk-container-id-3 div.sk-parallel-item::before {content: \"\";position: absolute;border-left: 1px solid gray;box-sizing: border-box;top: 0;bottom: 0;left: 50%;z-index: -1;}#sk-container-id-3 div.sk-parallel-item {display: flex;flex-direction: column;z-index: 1;position: relative;background-color: white;}#sk-container-id-3 div.sk-parallel-item:first-child::after {align-self: flex-end;width: 50%;}#sk-container-id-3 div.sk-parallel-item:last-child::after {align-self: flex-start;width: 50%;}#sk-container-id-3 div.sk-parallel-item:only-child::after {width: 0;}#sk-container-id-3 div.sk-dashed-wrapped {border: 1px dashed gray;margin: 0 0.4em 0.5em 0.4em;box-sizing: border-box;padding-bottom: 0.4em;background-color: white;}#sk-container-id-3 div.sk-label label {font-family: monospace;font-weight: bold;display: inline-block;line-height: 1.2em;}#sk-container-id-3 div.sk-label-container {text-align: center;}#sk-container-id-3 div.sk-container {/* jupyter's `normalize.less` sets `[hidden] { display: none; }` but bootstrap.min.css set `[hidden] { display: none !important; }` so we also need the `!important` here to be able to override the default hidden behavior on the sphinx rendered scikit-learn.org. See: https://github.com/scikit-learn/scikit-learn/issues/21755 */display: inline-block !important;position: relative;}#sk-container-id-3 div.sk-text-repr-fallback {display: none;}</style><div id=\"sk-container-id-3\" class=\"sk-top-container\"><div class=\"sk-text-repr-fallback\"><pre>RandomForestClassifier(n_estimators=120, random_state=42)</pre><b>In a Jupyter environment, please rerun this cell to show the HTML representation or trust the notebook. <br />On GitHub, the HTML representation is unable to render, please try loading this page with nbviewer.org.</b></div><div class=\"sk-container\" hidden><div class=\"sk-item\"><div class=\"sk-estimator sk-toggleable\"><input class=\"sk-toggleable__control sk-hidden--visually\" id=\"sk-estimator-id-9\" type=\"checkbox\" checked><label for=\"sk-estimator-id-9\" class=\"sk-toggleable__label sk-toggleable__label-arrow\">RandomForestClassifier</label><div class=\"sk-toggleable__content\"><pre>RandomForestClassifier(n_estimators=120, random_state=42)</pre></div></div></div></div></div>"
      ],
      "text/plain": [
       "RandomForestClassifier(n_estimators=120, random_state=42)"
      ]
     },
     "execution_count": 13,
     "metadata": {},
     "output_type": "execute_result"
    }
   ],
   "source": [
    "clf_lg.fit(X_train, y_train, verbose=False,\n",
    "        eval_set=[(X_test, y_test)],\n",
    "        callbacks=[lgb.early_stopping(stopping_rounds=50)],\n",
    "    )\n",
    "clf_rf.fit(X_train, y_train)"
   ]
  },
  {
   "cell_type": "code",
   "execution_count": 14,
   "id": "688858f2",
   "metadata": {
    "execution": {
     "iopub.execute_input": "2024-03-28T18:10:05.873378Z",
     "iopub.status.busy": "2024-03-28T18:10:05.872960Z",
     "iopub.status.idle": "2024-03-28T18:10:06.693004Z",
     "shell.execute_reply": "2024-03-28T18:10:06.691907Z"
    },
    "papermill": {
     "duration": 0.856434,
     "end_time": "2024-03-28T18:10:06.696317",
     "exception": false,
     "start_time": "2024-03-28T18:10:05.839883",
     "status": "completed"
    },
    "tags": []
   },
   "outputs": [],
   "source": [
    "y_pred_proba_lg = clf_lg.predict_proba(X_train)\n",
    "y_pred_proba_rf = clf_rf.predict_proba(X_train)"
   ]
  },
  {
   "cell_type": "markdown",
   "id": "aae8bc63",
   "metadata": {
    "papermill": {
     "duration": 0.025289,
     "end_time": "2024-03-28T18:10:06.752412",
     "exception": false,
     "start_time": "2024-03-28T18:10:06.727123",
     "status": "completed"
    },
    "tags": []
   },
   "source": [
    "* Примержьте полученные вероятности к изначальным фичам в X_train"
   ]
  },
  {
   "cell_type": "code",
   "execution_count": 15,
   "id": "45b411f1",
   "metadata": {
    "execution": {
     "iopub.execute_input": "2024-03-28T18:10:06.805370Z",
     "iopub.status.busy": "2024-03-28T18:10:06.804414Z",
     "iopub.status.idle": "2024-03-28T18:10:06.816827Z",
     "shell.execute_reply": "2024-03-28T18:10:06.815489Z"
    },
    "papermill": {
     "duration": 0.042365,
     "end_time": "2024-03-28T18:10:06.819628",
     "exception": false,
     "start_time": "2024-03-28T18:10:06.777263",
     "status": "completed"
    },
    "tags": []
   },
   "outputs": [],
   "source": [
    "X_tr_new = np.column_stack((y_pred_proba_lg, y_pred_proba_rf, X_train))"
   ]
  },
  {
   "cell_type": "markdown",
   "id": "d5c156f1",
   "metadata": {
    "papermill": {
     "duration": 0.024335,
     "end_time": "2024-03-28T18:10:06.868863",
     "exception": false,
     "start_time": "2024-03-28T18:10:06.844528",
     "status": "completed"
    },
    "tags": []
   },
   "source": [
    "* Обучите мета-модель на полученном трейне"
   ]
  },
  {
   "cell_type": "code",
   "execution_count": 16,
   "id": "57b62483",
   "metadata": {
    "execution": {
     "iopub.execute_input": "2024-03-28T18:10:06.921529Z",
     "iopub.status.busy": "2024-03-28T18:10:06.920728Z",
     "iopub.status.idle": "2024-03-28T18:10:06.926292Z",
     "shell.execute_reply": "2024-03-28T18:10:06.925257Z"
    },
    "papermill": {
     "duration": 0.034478,
     "end_time": "2024-03-28T18:10:06.928718",
     "exception": false,
     "start_time": "2024-03-28T18:10:06.894240",
     "status": "completed"
    },
    "tags": []
   },
   "outputs": [],
   "source": [
    "meta_estimator = CatBoostClassifier(random_seed=43, verbose=100,\n",
    "                           eval_metric='AUC',\n",
    "                           learning_rate=0.1\n",
    "                           )"
   ]
  },
  {
   "cell_type": "code",
   "execution_count": 17,
   "id": "b2453b57",
   "metadata": {
    "execution": {
     "iopub.execute_input": "2024-03-28T18:10:06.981690Z",
     "iopub.status.busy": "2024-03-28T18:10:06.980823Z",
     "iopub.status.idle": "2024-03-28T18:10:48.914082Z",
     "shell.execute_reply": "2024-03-28T18:10:48.913106Z"
    },
    "papermill": {
     "duration": 41.962826,
     "end_time": "2024-03-28T18:10:48.916692",
     "exception": false,
     "start_time": "2024-03-28T18:10:06.953866",
     "status": "completed"
    },
    "tags": []
   },
   "outputs": [
    {
     "name": "stdout",
     "output_type": "stream",
     "text": [
      "0:\ttotal: 66.2ms\tremaining: 1m 6s\n",
      "100:\ttotal: 4.29s\tremaining: 38.2s\n",
      "200:\ttotal: 8.45s\tremaining: 33.6s\n",
      "300:\ttotal: 12.6s\tremaining: 29.2s\n",
      "400:\ttotal: 16.6s\tremaining: 24.8s\n",
      "500:\ttotal: 20.7s\tremaining: 20.6s\n",
      "600:\ttotal: 24.8s\tremaining: 16.4s\n",
      "700:\ttotal: 28.8s\tremaining: 12.3s\n",
      "800:\ttotal: 33.3s\tremaining: 8.27s\n",
      "900:\ttotal: 37.3s\tremaining: 4.1s\n",
      "999:\ttotal: 41.3s\tremaining: 0us\n"
     ]
    },
    {
     "data": {
      "text/plain": [
       "<catboost.core.CatBoostClassifier at 0x794cb0d39cc0>"
      ]
     },
     "execution_count": 17,
     "metadata": {},
     "output_type": "execute_result"
    }
   ],
   "source": [
    "meta_estimator.fit(X_tr_new, y_train)"
   ]
  },
  {
   "cell_type": "markdown",
   "id": "59709580",
   "metadata": {
    "papermill": {
     "duration": 0.025918,
     "end_time": "2024-03-28T18:10:48.968630",
     "exception": false,
     "start_time": "2024-03-28T18:10:48.942712",
     "status": "completed"
    },
    "tags": []
   },
   "source": [
    "* Сделайте предсказания на отложенной выборке и посмотрите скор"
   ]
  },
  {
   "cell_type": "code",
   "execution_count": 18,
   "id": "e2a57429",
   "metadata": {
    "execution": {
     "iopub.execute_input": "2024-03-28T18:10:49.023802Z",
     "iopub.status.busy": "2024-03-28T18:10:49.023080Z",
     "iopub.status.idle": "2024-03-28T18:10:49.225789Z",
     "shell.execute_reply": "2024-03-28T18:10:49.224802Z"
    },
    "papermill": {
     "duration": 0.232894,
     "end_time": "2024-03-28T18:10:49.228336",
     "exception": false,
     "start_time": "2024-03-28T18:10:48.995442",
     "status": "completed"
    },
    "tags": []
   },
   "outputs": [],
   "source": [
    "y_pred_proba_lg = clf_lg.predict_proba(X_test)\n",
    "y_pred_proba_rf = clf_rf.predict_proba(X_test)\n",
    "X_te_new = np.column_stack((y_pred_proba_lg, y_pred_proba_rf, X_test))"
   ]
  },
  {
   "cell_type": "code",
   "execution_count": 19,
   "id": "c0a393b1",
   "metadata": {
    "execution": {
     "iopub.execute_input": "2024-03-28T18:10:49.283343Z",
     "iopub.status.busy": "2024-03-28T18:10:49.282638Z",
     "iopub.status.idle": "2024-03-28T18:10:49.458467Z",
     "shell.execute_reply": "2024-03-28T18:10:49.457413Z"
    },
    "papermill": {
     "duration": 0.206292,
     "end_time": "2024-03-28T18:10:49.461126",
     "exception": false,
     "start_time": "2024-03-28T18:10:49.254834",
     "status": "completed"
    },
    "tags": []
   },
   "outputs": [
    {
     "data": {
      "text/plain": [
       "0.7608863705006514"
      ]
     },
     "execution_count": 19,
     "metadata": {},
     "output_type": "execute_result"
    }
   ],
   "source": [
    "y_proba_meta = meta_estimator.predict_proba(X_te_new)\n",
    "score = roc_auc_score(y_test, y_proba_meta, multi_class='ovo')\n",
    "score"
   ]
  },
  {
   "cell_type": "markdown",
   "id": "834e5fa6",
   "metadata": {
    "papermill": {
     "duration": 0.028272,
     "end_time": "2024-03-28T18:10:49.520071",
     "exception": false,
     "start_time": "2024-03-28T18:10:49.491799",
     "status": "completed"
    },
    "tags": []
   },
   "source": [
    "Скор получился не очень.\n",
    "Это произошло, потому что мы на одном и том же наборе обучили базовые модели, а потом сделали предсказания базовыми моделями. Т.е. произошел лик. Мы сначала переобучились на трейне, сделали предсказания для трейна. И далее на этих предсказаниях обучали метамодель."
   ]
  },
  {
   "cell_type": "markdown",
   "id": "a921c8a9",
   "metadata": {
    "papermill": {
     "duration": 0.026091,
     "end_time": "2024-03-28T18:10:49.573882",
     "exception": false,
     "start_time": "2024-03-28T18:10:49.547791",
     "status": "completed"
    },
    "tags": []
   },
   "source": [
    "А теперь попробуем разбить наш трейн (X_train) на трейн для базовых моделей и трейн для метамодели. "
   ]
  },
  {
   "attachments": {
    "98a4b534-fae2-4bb9-ae64-e136de51f679.png": {
     "image/png": "[encoded data removed]"
    }
   },
   "cell_type": "markdown",
   "id": "fde30a22",
   "metadata": {
    "papermill": {
     "duration": 0.0264,
     "end_time": "2024-03-28T18:10:49.626949",
     "exception": false,
     "start_time": "2024-03-28T18:10:49.600549",
     "status": "completed"
    },
    "tags": []
   },
   "source": [
    "![Screenshot from 2024-03-28 00-21-02.png](attachment:98a4b534-fae2-4bb9-ae64-e136de51f679.png)"
   ]
  },
  {
   "cell_type": "markdown",
   "id": "0d8dada7",
   "metadata": {
    "papermill": {
     "duration": 0.034913,
     "end_time": "2024-03-28T18:10:49.693270",
     "exception": false,
     "start_time": "2024-03-28T18:10:49.658357",
     "status": "completed"
    },
    "tags": []
   },
   "source": [
    "Мы хотим разбить нашу выборку X_train на X_tr и X_tr_meta.\n",
    "\n",
    "На X_tr мы будем обучать первичные модели. \n",
    "\n",
    "Далее сделаем предсказания первичными моделями на X_tr_meta, смерджим с изначальными фичами X_tr_meta.\n",
    "И на X_tr_meta обучим метамодель. \n",
    "\n",
    "Далее нам нужно будет получить предсказния для X_test первичными моделями, смерджить с X_test\n",
    "и скормить полученный датафрейм метамодели.\n"
   ]
  },
  {
   "cell_type": "code",
   "execution_count": 20,
   "id": "b24115f8",
   "metadata": {
    "execution": {
     "iopub.execute_input": "2024-03-28T18:10:49.754611Z",
     "iopub.status.busy": "2024-03-28T18:10:49.754163Z",
     "iopub.status.idle": "2024-03-28T18:10:49.770483Z",
     "shell.execute_reply": "2024-03-28T18:10:49.769352Z"
    },
    "papermill": {
     "duration": 0.048546,
     "end_time": "2024-03-28T18:10:49.773910",
     "exception": false,
     "start_time": "2024-03-28T18:10:49.725364",
     "status": "completed"
    },
    "tags": []
   },
   "outputs": [],
   "source": [
    "X_tr, X_tr_meta, y_tr, y_tr_meta = train_test_split(X_train, y_train, test_size=0.3,\n",
    "                                                  random_state=43, stratify=y_train)"
   ]
  },
  {
   "cell_type": "code",
   "execution_count": 21,
   "id": "f54379a0",
   "metadata": {
    "execution": {
     "iopub.execute_input": "2024-03-28T18:10:49.827411Z",
     "iopub.status.busy": "2024-03-28T18:10:49.827016Z",
     "iopub.status.idle": "2024-03-28T18:11:00.509110Z",
     "shell.execute_reply": "2024-03-28T18:11:00.508001Z"
    },
    "papermill": {
     "duration": 10.711764,
     "end_time": "2024-03-28T18:11:00.511586",
     "exception": false,
     "start_time": "2024-03-28T18:10:49.799822",
     "status": "completed"
    },
    "tags": []
   },
   "outputs": [
    {
     "name": "stdout",
     "output_type": "stream",
     "text": [
      "Training until validation scores don't improve for 50 rounds\n",
      "Early stopping, best iteration is:\n",
      "[37]\tvalid_0's multi_logloss: 1.07698\n"
     ]
    },
    {
     "data": {
      "text/html": [
       "<style>#sk-container-id-4 {color: black;background-color: white;}#sk-container-id-4 pre{padding: 0;}#sk-container-id-4 div.sk-toggleable {background-color: white;}#sk-container-id-4 label.sk-toggleable__label {cursor: pointer;display: block;width: 100%;margin-bottom: 0;padding: 0.3em;box-sizing: border-box;text-align: center;}#sk-container-id-4 label.sk-toggleable__label-arrow:before {content: \"▸\";float: left;margin-right: 0.25em;color: #696969;}#sk-container-id-4 label.sk-toggleable__label-arrow:hover:before {color: black;}#sk-container-id-4 div.sk-estimator:hover label.sk-toggleable__label-arrow:before {color: black;}#sk-container-id-4 div.sk-toggleable__content {max-height: 0;max-width: 0;overflow: hidden;text-align: left;background-color: #f0f8ff;}#sk-container-id-4 div.sk-toggleable__content pre {margin: 0.2em;color: black;border-radius: 0.25em;background-color: #f0f8ff;}#sk-container-id-4 input.sk-toggleable__control:checked~div.sk-toggleable__content {max-height: 200px;max-width: 100%;overflow: auto;}#sk-container-id-4 input.sk-toggleable__control:checked~label.sk-toggleable__label-arrow:before {content: \"▾\";}#sk-container-id-4 div.sk-estimator input.sk-toggleable__control:checked~label.sk-toggleable__label {background-color: #d4ebff;}#sk-container-id-4 div.sk-label input.sk-toggleable__control:checked~label.sk-toggleable__label {background-color: #d4ebff;}#sk-container-id-4 input.sk-hidden--visually {border: 0;clip: rect(1px 1px 1px 1px);clip: rect(1px, 1px, 1px, 1px);height: 1px;margin: -1px;overflow: hidden;padding: 0;position: absolute;width: 1px;}#sk-container-id-4 div.sk-estimator {font-family: monospace;background-color: #f0f8ff;border: 1px dotted black;border-radius: 0.25em;box-sizing: border-box;margin-bottom: 0.5em;}#sk-container-id-4 div.sk-estimator:hover {background-color: #d4ebff;}#sk-container-id-4 div.sk-parallel-item::after {content: \"\";width: 100%;border-bottom: 1px solid gray;flex-grow: 1;}#sk-container-id-4 div.sk-label:hover label.sk-toggleable__label {background-color: #d4ebff;}#sk-container-id-4 div.sk-serial::before {content: \"\";position: absolute;border-left: 1px solid gray;box-sizing: border-box;top: 0;bottom: 0;left: 50%;z-index: 0;}#sk-container-id-4 div.sk-serial {display: flex;flex-direction: column;align-items: center;background-color: white;padding-right: 0.2em;padding-left: 0.2em;position: relative;}#sk-container-id-4 div.sk-item {position: relative;z-index: 1;}#sk-container-id-4 div.sk-parallel {display: flex;align-items: stretch;justify-content: center;background-color: white;position: relative;}#sk-container-id-4 div.sk-item::before, #sk-container-id-4 div.sk-parallel-item::before {content: \"\";position: absolute;border-left: 1px solid gray;box-sizing: border-box;top: 0;bottom: 0;left: 50%;z-index: -1;}#sk-container-id-4 div.sk-parallel-item {display: flex;flex-direction: column;z-index: 1;position: relative;background-color: white;}#sk-container-id-4 div.sk-parallel-item:first-child::after {align-self: flex-end;width: 50%;}#sk-container-id-4 div.sk-parallel-item:last-child::after {align-self: flex-start;width: 50%;}#sk-container-id-4 div.sk-parallel-item:only-child::after {width: 0;}#sk-container-id-4 div.sk-dashed-wrapped {border: 1px dashed gray;margin: 0 0.4em 0.5em 0.4em;box-sizing: border-box;padding-bottom: 0.4em;background-color: white;}#sk-container-id-4 div.sk-label label {font-family: monospace;font-weight: bold;display: inline-block;line-height: 1.2em;}#sk-container-id-4 div.sk-label-container {text-align: center;}#sk-container-id-4 div.sk-container {/* jupyter's `normalize.less` sets `[hidden] { display: none; }` but bootstrap.min.css set `[hidden] { display: none !important; }` so we also need the `!important` here to be able to override the default hidden behavior on the sphinx rendered scikit-learn.org. See: https://github.com/scikit-learn/scikit-learn/issues/21755 */display: inline-block !important;position: relative;}#sk-container-id-4 div.sk-text-repr-fallback {display: none;}</style><div id=\"sk-container-id-4\" class=\"sk-top-container\"><div class=\"sk-text-repr-fallback\"><pre>RandomForestClassifier(n_estimators=120, random_state=42)</pre><b>In a Jupyter environment, please rerun this cell to show the HTML representation or trust the notebook. <br />On GitHub, the HTML representation is unable to render, please try loading this page with nbviewer.org.</b></div><div class=\"sk-container\" hidden><div class=\"sk-item\"><div class=\"sk-estimator sk-toggleable\"><input class=\"sk-toggleable__control sk-hidden--visually\" id=\"sk-estimator-id-10\" type=\"checkbox\" checked><label for=\"sk-estimator-id-10\" class=\"sk-toggleable__label sk-toggleable__label-arrow\">RandomForestClassifier</label><div class=\"sk-toggleable__content\"><pre>RandomForestClassifier(n_estimators=120, random_state=42)</pre></div></div></div></div></div>"
      ],
      "text/plain": [
       "RandomForestClassifier(n_estimators=120, random_state=42)"
      ]
     },
     "execution_count": 21,
     "metadata": {},
     "output_type": "execute_result"
    }
   ],
   "source": [
    "clf_lg.fit(X_tr, y_tr, verbose= -100,\n",
    "        eval_set=[(X_test, y_test)],\n",
    "        callbacks=[lgb.early_stopping(stopping_rounds=50)],\n",
    "    )\n",
    "clf_rf.fit(X_tr, y_tr)"
   ]
  },
  {
   "cell_type": "markdown",
   "id": "a59e6c38",
   "metadata": {
    "papermill": {
     "duration": 0.026171,
     "end_time": "2024-03-28T18:11:00.563857",
     "exception": false,
     "start_time": "2024-03-28T18:11:00.537686",
     "status": "completed"
    },
    "tags": []
   },
   "source": [
    "Делаем предсказания по X_tr_meta"
   ]
  },
  {
   "cell_type": "code",
   "execution_count": 22,
   "id": "c265d24a",
   "metadata": {
    "execution": {
     "iopub.execute_input": "2024-03-28T18:11:00.618132Z",
     "iopub.status.busy": "2024-03-28T18:11:00.617764Z",
     "iopub.status.idle": "2024-03-28T18:11:00.830450Z",
     "shell.execute_reply": "2024-03-28T18:11:00.829473Z"
    },
    "papermill": {
     "duration": 0.243075,
     "end_time": "2024-03-28T18:11:00.833240",
     "exception": false,
     "start_time": "2024-03-28T18:11:00.590165",
     "status": "completed"
    },
    "tags": []
   },
   "outputs": [],
   "source": [
    "y_pred_proba_lg = clf_lg.predict_proba(X_tr_meta)\n",
    "y_pred_proba_rf = clf_rf.predict_proba(X_tr_meta)"
   ]
  },
  {
   "cell_type": "markdown",
   "id": "c15b5f43",
   "metadata": {
    "papermill": {
     "duration": 0.026385,
     "end_time": "2024-03-28T18:11:00.886013",
     "exception": false,
     "start_time": "2024-03-28T18:11:00.859628",
     "status": "completed"
    },
    "tags": []
   },
   "source": [
    "Мерджим предсказания с изначальными фичами"
   ]
  },
  {
   "cell_type": "code",
   "execution_count": 23,
   "id": "fc4ac5ab",
   "metadata": {
    "execution": {
     "iopub.execute_input": "2024-03-28T18:11:00.940955Z",
     "iopub.status.busy": "2024-03-28T18:11:00.940567Z",
     "iopub.status.idle": "2024-03-28T18:11:00.946305Z",
     "shell.execute_reply": "2024-03-28T18:11:00.945347Z"
    },
    "papermill": {
     "duration": 0.036433,
     "end_time": "2024-03-28T18:11:00.948854",
     "exception": false,
     "start_time": "2024-03-28T18:11:00.912421",
     "status": "completed"
    },
    "tags": []
   },
   "outputs": [],
   "source": [
    "X_tr_meta = np.column_stack((y_pred_proba_lg, y_pred_proba_rf, X_tr_meta))"
   ]
  },
  {
   "cell_type": "code",
   "execution_count": 24,
   "id": "9a8cc126",
   "metadata": {
    "execution": {
     "iopub.execute_input": "2024-03-28T18:11:01.004842Z",
     "iopub.status.busy": "2024-03-28T18:11:01.004449Z",
     "iopub.status.idle": "2024-03-28T18:11:32.863892Z",
     "shell.execute_reply": "2024-03-28T18:11:32.862445Z"
    },
    "papermill": {
     "duration": 31.913316,
     "end_time": "2024-03-28T18:11:32.889407",
     "exception": false,
     "start_time": "2024-03-28T18:11:00.976091",
     "status": "completed"
    },
    "tags": []
   },
   "outputs": [
    {
     "data": {
      "text/plain": [
       "<catboost.core.CatBoostClassifier at 0x794cb0d3ae90>"
      ]
     },
     "execution_count": 24,
     "metadata": {},
     "output_type": "execute_result"
    }
   ],
   "source": [
    "meta_estimator = CatBoostClassifier(random_seed=43, verbose=False,\n",
    "                           eval_metric='AUC',\n",
    "                           learning_rate=0.1\n",
    "                           )\n",
    "meta_estimator.fit(X_tr_meta, y_tr_meta)"
   ]
  },
  {
   "cell_type": "markdown",
   "id": "f9a46d7a",
   "metadata": {
    "papermill": {
     "duration": 0.028518,
     "end_time": "2024-03-28T18:11:32.944469",
     "exception": false,
     "start_time": "2024-03-28T18:11:32.915951",
     "status": "completed"
    },
    "tags": []
   },
   "source": [
    "Делаем предсказания по X_test и мерджим предсказания с изначальными фичами"
   ]
  },
  {
   "cell_type": "code",
   "execution_count": 25,
   "id": "128fa3a0",
   "metadata": {
    "execution": {
     "iopub.execute_input": "2024-03-28T18:11:32.999883Z",
     "iopub.status.busy": "2024-03-28T18:11:32.999241Z",
     "iopub.status.idle": "2024-03-28T18:11:33.189849Z",
     "shell.execute_reply": "2024-03-28T18:11:33.188786Z"
    },
    "papermill": {
     "duration": 0.221469,
     "end_time": "2024-03-28T18:11:33.192472",
     "exception": false,
     "start_time": "2024-03-28T18:11:32.971003",
     "status": "completed"
    },
    "tags": []
   },
   "outputs": [],
   "source": [
    "y_pred_proba_lg = clf_lg.predict_proba(X_test)\n",
    "y_pred_proba_rf = clf_rf.predict_proba(X_test)\n",
    "X_test = np.column_stack((y_pred_proba_lg, y_pred_proba_rf, X_test))"
   ]
  },
  {
   "cell_type": "code",
   "execution_count": 26,
   "id": "bb7d3282",
   "metadata": {
    "execution": {
     "iopub.execute_input": "2024-03-28T18:11:33.247754Z",
     "iopub.status.busy": "2024-03-28T18:11:33.247105Z",
     "iopub.status.idle": "2024-03-28T18:11:33.426766Z",
     "shell.execute_reply": "2024-03-28T18:11:33.425750Z"
    },
    "papermill": {
     "duration": 0.210285,
     "end_time": "2024-03-28T18:11:33.429389",
     "exception": false,
     "start_time": "2024-03-28T18:11:33.219104",
     "status": "completed"
    },
    "tags": []
   },
   "outputs": [
    {
     "data": {
      "text/plain": [
       "0.8371302808116703"
      ]
     },
     "execution_count": 26,
     "metadata": {},
     "output_type": "execute_result"
    }
   ],
   "source": [
    "y_proba_meta = meta_estimator.predict_proba(X_test)\n",
    "score = roc_auc_score(y_test, y_proba_meta, multi_class='ovo')\n",
    "score"
   ]
  },
  {
   "cell_type": "markdown",
   "id": "d1be1e92",
   "metadata": {
    "papermill": {
     "duration": 0.026462,
     "end_time": "2024-03-28T18:11:33.483073",
     "exception": false,
     "start_time": "2024-03-28T18:11:33.456611",
     "status": "completed"
    },
    "tags": []
   },
   "source": [
    "# 3. LightAutoML (Lama) (20 мин)"
   ]
  },
  {
   "cell_type": "markdown",
   "id": "2e0af5dc",
   "metadata": {
    "papermill": {
     "duration": 0.026235,
     "end_time": "2024-03-28T18:11:33.535913",
     "exception": false,
     "start_time": "2024-03-28T18:11:33.509678",
     "status": "completed"
    },
    "tags": []
   },
   "source": [
    "* Open source фреймворк от Сбера\n",
    "* Можно решать и таблички и nlp и зрение\n",
    "* Кастомизация\n",
    "* Задаем время тренировки и алгоритмы далее система все сделает сама\n",
    "* Стэкинг на стероидах"
   ]
  },
  {
   "cell_type": "markdown",
   "id": "3b00412b",
   "metadata": {
    "papermill": {
     "duration": 0.026212,
     "end_time": "2024-03-28T18:11:33.588711",
     "exception": false,
     "start_time": "2024-03-28T18:11:33.562499",
     "status": "completed"
    },
    "tags": []
   },
   "source": [
    "Для выполнения задания вам пригодится [дока](https://lightautoml.readthedocs.io/en/latest/)\n",
    "\n",
    "[github](https://github.com/sb-ai-lab/LightAutoML) проекта"
   ]
  },
  {
   "cell_type": "code",
   "execution_count": 27,
   "id": "6354fb7e",
   "metadata": {
    "execution": {
     "iopub.execute_input": "2024-03-28T18:11:33.643488Z",
     "iopub.status.busy": "2024-03-28T18:11:33.643101Z",
     "iopub.status.idle": "2024-03-28T18:12:12.072457Z",
     "shell.execute_reply": "2024-03-28T18:12:12.071170Z"
    },
    "papermill": {
     "duration": 38.459956,
     "end_time": "2024-03-28T18:12:12.075211",
     "exception": false,
     "start_time": "2024-03-28T18:11:33.615255",
     "status": "completed"
    },
    "tags": []
   },
   "outputs": [],
   "source": [
    "from lightautoml.automl.presets.tabular_presets import TabularAutoML, TabularUtilizedAutoML\n",
    "from lightautoml.tasks import Task"
   ]
  },
  {
   "cell_type": "markdown",
   "id": "cd186d3d",
   "metadata": {
    "papermill": {
     "duration": 0.026635,
     "end_time": "2024-03-28T18:12:12.128861",
     "exception": false,
     "start_time": "2024-03-28T18:12:12.102226",
     "status": "completed"
    },
    "tags": []
   },
   "source": [
    "Параметры обучения\n",
    "* TIMEOUT показывает сколько секунд будет происходить тренировка"
   ]
  },
  {
   "cell_type": "markdown",
   "id": "78676ae3",
   "metadata": {
    "papermill": {
     "duration": 0.026324,
     "end_time": "2024-03-28T18:12:12.181898",
     "exception": false,
     "start_time": "2024-03-28T18:12:12.155574",
     "status": "completed"
    },
    "tags": []
   },
   "source": [
    "Для обучения нам нужно подать датафрейм и указать колонку, которая является таргетом.\n",
    "Мы могли бы сразу подать изначальный трейн датафрейм (переменная train) и потом сделать out-of-fold предсказания на тесте (переменная test) для нашего сабмита.\n",
    "Но чтобы по-честному сравнить работоспособность разных подходов сохраним первоначальное разбиение на трейн и тест."
   ]
  },
  {
   "cell_type": "code",
   "execution_count": 28,
   "id": "a72d3818",
   "metadata": {
    "execution": {
     "iopub.execute_input": "2024-03-28T18:12:12.237121Z",
     "iopub.status.busy": "2024-03-28T18:12:12.236409Z",
     "iopub.status.idle": "2024-03-28T18:12:12.255485Z",
     "shell.execute_reply": "2024-03-28T18:12:12.254424Z"
    },
    "papermill": {
     "duration": 0.04975,
     "end_time": "2024-03-28T18:12:12.258245",
     "exception": false,
     "start_time": "2024-03-28T18:12:12.208495",
     "status": "completed"
    },
    "tags": []
   },
   "outputs": [],
   "source": [
    "X_train, X_test, y_train, y_test = train_test_split(X, y, test_size=0.2,\n",
    "                                                  random_state=43, stratify=y)"
   ]
  },
  {
   "cell_type": "markdown",
   "id": "48c38b67",
   "metadata": {
    "papermill": {
     "duration": 0.026474,
     "end_time": "2024-03-28T18:12:12.311505",
     "exception": false,
     "start_time": "2024-03-28T18:12:12.285031",
     "status": "completed"
    },
    "tags": []
   },
   "source": [
    "Примержим к трейну таргет"
   ]
  },
  {
   "cell_type": "code",
   "execution_count": 29,
   "id": "40dff97c",
   "metadata": {
    "execution": {
     "iopub.execute_input": "2024-03-28T18:12:12.366512Z",
     "iopub.status.busy": "2024-03-28T18:12:12.366099Z",
     "iopub.status.idle": "2024-03-28T18:12:12.371882Z",
     "shell.execute_reply": "2024-03-28T18:12:12.370895Z"
    },
    "papermill": {
     "duration": 0.036724,
     "end_time": "2024-03-28T18:12:12.374746",
     "exception": false,
     "start_time": "2024-03-28T18:12:12.338022",
     "status": "completed"
    },
    "tags": []
   },
   "outputs": [],
   "source": [
    "X_train['target'] = y_train"
   ]
  },
  {
   "cell_type": "code",
   "execution_count": 30,
   "id": "518aca87",
   "metadata": {
    "execution": {
     "iopub.execute_input": "2024-03-28T18:12:12.430137Z",
     "iopub.status.busy": "2024-03-28T18:12:12.429725Z",
     "iopub.status.idle": "2024-03-28T18:12:12.435194Z",
     "shell.execute_reply": "2024-03-28T18:12:12.433865Z"
    },
    "papermill": {
     "duration": 0.036214,
     "end_time": "2024-03-28T18:12:12.437745",
     "exception": false,
     "start_time": "2024-03-28T18:12:12.401531",
     "status": "completed"
    },
    "tags": []
   },
   "outputs": [],
   "source": [
    "N_THREADS = 4 # threads cnt for lgbm and linear models\n",
    "N_FOLDS = 3 # folds cnt for AutoML\n",
    "RANDOM_STATE = 42 # fixed random state for various reasons\n",
    "TIMEOUT = 5 * 60 # Time in seconds for automl run\n",
    "TARGET = 'target' # Target column name"
   ]
  },
  {
   "cell_type": "code",
   "execution_count": 31,
   "id": "409c26a4",
   "metadata": {
    "execution": {
     "iopub.execute_input": "2024-03-28T18:12:12.494094Z",
     "iopub.status.busy": "2024-03-28T18:12:12.493707Z",
     "iopub.status.idle": "2024-03-28T18:12:12.541438Z",
     "shell.execute_reply": "2024-03-28T18:12:12.540549Z"
    },
    "papermill": {
     "duration": 0.07909,
     "end_time": "2024-03-28T18:12:12.543921",
     "exception": false,
     "start_time": "2024-03-28T18:12:12.464831",
     "status": "completed"
    },
    "tags": []
   },
   "outputs": [],
   "source": [
    "np.random.seed(RANDOM_STATE)\n",
    "torch.set_num_threads(N_THREADS)"
   ]
  },
  {
   "cell_type": "markdown",
   "id": "3d5a7dd7",
   "metadata": {
    "papermill": {
     "duration": 0.026935,
     "end_time": "2024-03-28T18:12:12.599462",
     "exception": false,
     "start_time": "2024-03-28T18:12:12.572527",
     "status": "completed"
    },
    "tags": []
   },
   "source": [
    "* Установите правильную задачу\n",
    "* Посмотрите возможные варианты в документации. Мы решаем мультикласс. Но можно решать и как мультилейбл."
   ]
  },
  {
   "cell_type": "code",
   "execution_count": 32,
   "id": "77e9607d",
   "metadata": {
    "execution": {
     "iopub.execute_input": "2024-03-28T18:12:12.655271Z",
     "iopub.status.busy": "2024-03-28T18:12:12.654868Z",
     "iopub.status.idle": "2024-03-28T18:12:12.690650Z",
     "shell.execute_reply": "2024-03-28T18:12:12.689551Z"
    },
    "papermill": {
     "duration": 0.0674,
     "end_time": "2024-03-28T18:12:12.693856",
     "exception": false,
     "start_time": "2024-03-28T18:12:12.626456",
     "status": "completed"
    },
    "tags": []
   },
   "outputs": [],
   "source": [
    "task = Task('multiclass', metric='auc_mu')"
   ]
  },
  {
   "cell_type": "markdown",
   "id": "af7ff4bd",
   "metadata": {
    "papermill": {
     "duration": 0.026458,
     "end_time": "2024-03-28T18:12:12.747288",
     "exception": false,
     "start_time": "2024-03-28T18:12:12.720830",
     "status": "completed"
    },
    "tags": []
   },
   "source": [
    "* Укажем целевую колонку, а также столбцы, которые нужно выбросить"
   ]
  },
  {
   "cell_type": "code",
   "execution_count": 33,
   "id": "374f258d",
   "metadata": {
    "execution": {
     "iopub.execute_input": "2024-03-28T18:12:12.802995Z",
     "iopub.status.busy": "2024-03-28T18:12:12.802576Z",
     "iopub.status.idle": "2024-03-28T18:12:12.807697Z",
     "shell.execute_reply": "2024-03-28T18:12:12.806663Z"
    },
    "papermill": {
     "duration": 0.035732,
     "end_time": "2024-03-28T18:12:12.809883",
     "exception": false,
     "start_time": "2024-03-28T18:12:12.774151",
     "status": "completed"
    },
    "tags": []
   },
   "outputs": [],
   "source": [
    "roles = {\n",
    "    'target': TARGET,\n",
    "    'drop': []### столбцы которые отбросим\n",
    "}"
   ]
  },
  {
   "cell_type": "markdown",
   "id": "21ad40f9",
   "metadata": {
    "papermill": {
     "duration": 0.027086,
     "end_time": "2024-03-28T18:12:12.863685",
     "exception": false,
     "start_time": "2024-03-28T18:12:12.836599",
     "status": "completed"
    },
    "tags": []
   },
   "source": [
    "В параметре 'use_algos' мы указываем тренируемые алгоритмы. В первой квадратной скобке указываются алгоритмы превого уровня. В следующей квадратной скобке указываем мета алгоритмы. Мы можем застекать несколько раз указав несколько квадратных скобок.  \n",
    "\n",
    "Параметр 'skip_conn' регулирует, будет ли осуществляться передача фичей, например, с первого слоя на третий в стекинге. "
   ]
  },
  {
   "cell_type": "code",
   "execution_count": 34,
   "id": "328cdb38",
   "metadata": {
    "execution": {
     "iopub.execute_input": "2024-03-28T18:12:12.919525Z",
     "iopub.status.busy": "2024-03-28T18:12:12.919103Z",
     "iopub.status.idle": "2024-03-28T18:16:19.513668Z",
     "shell.execute_reply": "2024-03-28T18:16:19.511404Z"
    },
    "papermill": {
     "duration": 246.625444,
     "end_time": "2024-03-28T18:16:19.516453",
     "exception": false,
     "start_time": "2024-03-28T18:12:12.891009",
     "status": "completed"
    },
    "tags": []
   },
   "outputs": [
    {
     "name": "stdout",
     "output_type": "stream",
     "text": [
      "[18:12:12] Start automl \u001b[1mutilizator\u001b[0m with listed constraints:\n",
      "[18:12:12] - time: 300.00 seconds\n",
      "[18:12:12] - CPU: 4 cores\n",
      "[18:12:12] - memory: 16 GB\n",
      "\n",
      "[18:12:12] \u001b[1mIf one preset completes earlier, next preset configuration will be started\u001b[0m\n",
      "\n",
      "[18:12:12] ==================================================\n",
      "[18:12:12] Start 0 automl preset configuration:\n",
      "[18:12:12] \u001b[1mconf_0_sel_type_0.yml\u001b[0m, random state: {'reader_params': {'random_state': 42}, 'nn_params': {'random_state': 42}, 'general_params': {'return_all_predictions': False}}\n",
      "[18:12:13] Stdout logging level is INFO.\n",
      "[18:12:13] Task: multiclass\n",
      "\n",
      "[18:12:13] Start automl preset with listed constraints:\n",
      "[18:12:13] - time: 300.00 seconds\n",
      "[18:12:13] - CPU: 4 cores\n",
      "[18:12:13] - memory: 16 GB\n",
      "\n",
      "[18:12:13] \u001b[1mTrain data shape: (15358, 28)\u001b[0m\n",
      "\n"
     ]
    },
    {
     "name": "stderr",
     "output_type": "stream",
     "text": [
      "/opt/conda/lib/python3.10/site-packages/joblib/externals/loky/backend/fork_exec.py:37: RuntimeWarning: os.fork() was called. os.fork() is incompatible with multithreaded code, and JAX is multithreaded, so this will likely lead to a deadlock.\n",
      "  pid = os.fork()\n"
     ]
    },
    {
     "name": "stdout",
     "output_type": "stream",
     "text": [
      "[18:12:35] Layer \u001b[1m1\u001b[0m train process start. Time left 277.72 secs\n",
      "[18:12:36] Start fitting \u001b[1mLvl_0_Pipe_0_Mod_0_LightGBM\u001b[0m ...\n",
      "[18:16:19] Time limit exceeded after calculating fold 1\n",
      "\n",
      "[18:16:19] Fitting \u001b[1mLvl_0_Pipe_0_Mod_0_LightGBM\u001b[0m finished. score = \u001b[1m0.890472641099212\u001b[0m\n",
      "[18:16:19] \u001b[1mLvl_0_Pipe_0_Mod_0_LightGBM\u001b[0m fitting and predicting completed\n",
      "[18:16:19] Time left 53.53 secs\n",
      "\n",
      "[18:16:19] Time limit exceeded in one of the tasks. AutoML will blend level 1 models.\n",
      "\n",
      "[18:16:19] \u001b[1mLayer 1 training completed.\u001b[0m\n",
      "\n",
      "[18:16:19] \u001b[1mAutoml preset training completed in 246.47 seconds\u001b[0m\n",
      "\n",
      "[18:16:19] Model description:\n",
      "Final prediction for new objects (level 0) = \n",
      "\t 1.00000 * (2 averaged models Lvl_0_Pipe_0_Mod_0_LightGBM) \n",
      "\n",
      "[18:16:19] ==================================================\n",
      "oof_pred:\n",
      "array([[0.02515407, 0.02056164, 0.7218708 , 0.00998849, 0.00854117,\n",
      "        0.07315461, 0.12118571, 0.01954354],\n",
      "       [0.07085165, 0.03594754, 0.0751396 , 0.0136142 , 0.01398428,\n",
      "        0.2847424 , 0.46256214, 0.04315819],\n",
      "       [       nan,        nan,        nan,        nan,        nan,\n",
      "               nan,        nan,        nan],\n",
      "       [0.06181025, 0.02856441, 0.06431538, 0.01196782, 0.01116814,\n",
      "        0.44564286, 0.34577978, 0.03075136],\n",
      "       [0.07988656, 0.03805709, 0.07698347, 0.11614618, 0.01458169,\n",
      "        0.28740326, 0.33548003, 0.05146172],\n",
      "       [       nan,        nan,        nan,        nan,        nan,\n",
      "               nan,        nan,        nan],\n",
      "       [0.03638341, 0.02959921, 0.10354247, 0.0139073 , 0.01725038,\n",
      "        0.24361345, 0.50414723, 0.05155653],\n",
      "       [0.03433473, 0.02264462, 0.06081682, 0.52794135, 0.00982329,\n",
      "        0.09085361, 0.22500852, 0.02857705],\n",
      "       [       nan,        nan,        nan,        nan,        nan,\n",
      "               nan,        nan,        nan],\n",
      "       [0.10482362, 0.03222628, 0.06510324, 0.01159891, 0.0108086 ,\n",
      "        0.33143365, 0.41411632, 0.02988936]], dtype=float32)\n",
      "Shape = (15358, 8)\n"
     ]
    }
   ],
   "source": [
    "automl = TabularUtilizedAutoML(task = task, \n",
    "                       timeout = TIMEOUT,\n",
    "                       cpu_limit = N_THREADS,\n",
    "                       general_params = {'use_algos': [\n",
    "                                                       ['lgb','xgb'], # базовые модели\n",
    "                                                       ['rf']# мета модель\n",
    "                       ], \n",
    "                                         'skip_conn': False}, # добавляем фичи\n",
    "                       reader_params = {'n_jobs': N_THREADS, 'cv': N_FOLDS},\n",
    "                       tuning_params = {'max_tuning_time': 1200}, # параметры Оптюны\n",
    "                       )\n",
    "oof_pred = automl.fit_predict(X_train, roles = roles, verbose = 1)\n",
    "print('oof_pred:\\n{}\\nShape = {}'.format(oof_pred[:10], oof_pred.shape))"
   ]
  },
  {
   "cell_type": "markdown",
   "id": "6dda07b3",
   "metadata": {
    "papermill": {
     "duration": 0.029215,
     "end_time": "2024-03-28T18:16:19.574887",
     "exception": false,
     "start_time": "2024-03-28T18:16:19.545672",
     "status": "completed"
    },
    "tags": []
   },
   "source": [
    "Сделаем предикт на тесте"
   ]
  },
  {
   "cell_type": "code",
   "execution_count": 35,
   "id": "1a7883a5",
   "metadata": {
    "execution": {
     "iopub.execute_input": "2024-03-28T18:16:19.636668Z",
     "iopub.status.busy": "2024-03-28T18:16:19.635482Z",
     "iopub.status.idle": "2024-03-28T18:16:19.951328Z",
     "shell.execute_reply": "2024-03-28T18:16:19.950056Z"
    },
    "papermill": {
     "duration": 0.349857,
     "end_time": "2024-03-28T18:16:19.954103",
     "exception": false,
     "start_time": "2024-03-28T18:16:19.604246",
     "status": "completed"
    },
    "tags": []
   },
   "outputs": [],
   "source": [
    "y_proba = automl.predict(X_test)"
   ]
  },
  {
   "cell_type": "markdown",
   "id": "eab7de8a",
   "metadata": {
    "papermill": {
     "duration": 0.030309,
     "end_time": "2024-03-28T18:16:20.014407",
     "exception": false,
     "start_time": "2024-03-28T18:16:19.984098",
     "status": "completed"
    },
    "tags": []
   },
   "source": [
    "Оцените метрику\n",
    "* В каком формате выдает предсказания Лама?"
   ]
  },
  {
   "cell_type": "code",
   "execution_count": 36,
   "id": "8f9b8371",
   "metadata": {
    "execution": {
     "iopub.execute_input": "2024-03-28T18:16:20.077935Z",
     "iopub.status.busy": "2024-03-28T18:16:20.077530Z",
     "iopub.status.idle": "2024-03-28T18:16:20.147643Z",
     "shell.execute_reply": "2024-03-28T18:16:20.146569Z"
    },
    "papermill": {
     "duration": 0.104629,
     "end_time": "2024-03-28T18:16:20.149988",
     "exception": false,
     "start_time": "2024-03-28T18:16:20.045359",
     "status": "completed"
    },
    "tags": []
   },
   "outputs": [
    {
     "data": {
      "text/plain": [
       "0.8562600839210782"
      ]
     },
     "execution_count": 36,
     "metadata": {},
     "output_type": "execute_result"
    }
   ],
   "source": [
    "score = roc_auc_score(y_test, y_proba.data,\n",
    "                      multi_class='ovo')\n",
    "score"
   ]
  },
  {
   "cell_type": "markdown",
   "id": "66e1ef85",
   "metadata": {
    "papermill": {
     "duration": 0.029145,
     "end_time": "2024-03-28T18:16:20.208782",
     "exception": false,
     "start_time": "2024-03-28T18:16:20.179637",
     "status": "completed"
    },
    "tags": []
   },
   "source": [
    "## Попробуйте поменять базовые модели и запустите обучение стеккинга с фичами, сравните скор."
   ]
  },
  {
   "cell_type": "code",
   "execution_count": 37,
   "id": "87528d56",
   "metadata": {
    "execution": {
     "iopub.execute_input": "2024-03-28T18:16:20.270258Z",
     "iopub.status.busy": "2024-03-28T18:16:20.269853Z",
     "iopub.status.idle": "2024-03-28T18:18:53.098846Z",
     "shell.execute_reply": "2024-03-28T18:18:53.096973Z"
    },
    "papermill": {
     "duration": 152.863867,
     "end_time": "2024-03-28T18:18:53.102686",
     "exception": false,
     "start_time": "2024-03-28T18:16:20.238819",
     "status": "completed"
    },
    "tags": []
   },
   "outputs": [
    {
     "name": "stdout",
     "output_type": "stream",
     "text": [
      "[18:16:20] Start automl \u001b[1mutilizator\u001b[0m with listed constraints:\n",
      "[18:16:20] - time: 300.00 seconds\n",
      "[18:16:20] - CPU: 4 cores\n",
      "[18:16:20] - memory: 16 GB\n",
      "\n",
      "[18:16:20] \u001b[1mIf one preset completes earlier, next preset configuration will be started\u001b[0m\n",
      "\n",
      "[18:16:20] ==================================================\n",
      "[18:16:20] Start 0 automl preset configuration:\n",
      "[18:16:20] \u001b[1mconf_0_sel_type_0.yml\u001b[0m, random state: {'reader_params': {'random_state': 42}, 'nn_params': {'random_state': 42}, 'general_params': {'return_all_predictions': False}}\n",
      "[18:16:20] Stdout logging level is INFO.\n",
      "[18:16:20] Task: multiclass\n",
      "\n",
      "[18:16:20] Start automl preset with listed constraints:\n",
      "[18:16:20] - time: 300.00 seconds\n",
      "[18:16:20] - CPU: 4 cores\n",
      "[18:16:20] - memory: 16 GB\n",
      "\n",
      "[18:16:20] \u001b[1mTrain data shape: (15358, 28)\u001b[0m\n",
      "\n",
      "[18:16:23] Layer \u001b[1m1\u001b[0m train process start. Time left 296.45 secs\n",
      "[18:16:25] Start fitting \u001b[1mLvl_0_Pipe_0_Mod_0_LightGBM\u001b[0m ...\n",
      "[18:18:17] Time limit exceeded after calculating fold 0\n",
      "\n",
      "[18:18:17] Fitting \u001b[1mLvl_0_Pipe_0_Mod_0_LightGBM\u001b[0m finished. score = \u001b[1m0.8884941644637777\u001b[0m\n",
      "[18:18:17] \u001b[1mLvl_0_Pipe_0_Mod_0_LightGBM\u001b[0m fitting and predicting completed\n",
      "[18:18:17] Start fitting \u001b[1mLvl_0_Pipe_0_Mod_1_CatBoost\u001b[0m ...\n",
      "[18:18:42] Fitting \u001b[1mLvl_0_Pipe_0_Mod_1_CatBoost\u001b[0m finished. score = \u001b[1m0.8927867081447421\u001b[0m\n",
      "[18:18:42] \u001b[1mLvl_0_Pipe_0_Mod_1_CatBoost\u001b[0m fitting and predicting completed\n",
      "[18:18:42] Time left 158.03 secs\n",
      "\n",
      "[18:18:42] Time limit exceeded in one of the tasks. AutoML will blend level 1 models.\n",
      "\n",
      "[18:18:42] \u001b[1mLayer 1 training completed.\u001b[0m\n",
      "\n",
      "[18:18:42] Blending: optimization starts with equal weights and score \u001b[1m0.8924200908890858\u001b[0m\n",
      "[18:18:47] Blending: iteration \u001b[1m0\u001b[0m: score = \u001b[1m0.8928714170033363\u001b[0m, weights = \u001b[1m[0.14268108 0.85731894]\u001b[0m\n",
      "[18:18:53] Blending: iteration \u001b[1m1\u001b[0m: score = \u001b[1m0.8928714170033363\u001b[0m, weights = \u001b[1m[0.14268108 0.85731894]\u001b[0m\n",
      "[18:18:53] Blending: no score update. Terminated\n",
      "\n",
      "[18:18:53] \u001b[1mAutoml preset training completed in 152.69 seconds\u001b[0m\n",
      "\n",
      "[18:18:53] Model description:\n",
      "Final prediction for new objects (level 0) = \n",
      "\t 0.14268 * (1 averaged models Lvl_0_Pipe_0_Mod_0_LightGBM) +\n",
      "\t 0.85732 * (3 averaged models Lvl_0_Pipe_0_Mod_1_CatBoost) \n",
      "\n",
      "[18:18:53] ==================================================\n",
      "oof_pred:\n",
      "array([[2.87770323e-04, 7.39178271e-04, 8.79271686e-01, 1.58313160e-05,\n",
      "        5.47351141e-04, 2.55350326e-03, 1.07001357e-01, 9.58334375e-03],\n",
      "       [9.82775241e-02, 2.05490980e-02, 1.26131466e-02, 2.44619092e-03,\n",
      "        9.61706601e-03, 2.67938554e-01, 5.51618695e-01, 3.69397327e-02],\n",
      "       [4.90516163e-02, 2.64162198e-02, 3.94435227e-02, 1.05128037e-02,\n",
      "        3.03952284e-02, 4.19877052e-01, 3.80550146e-01, 4.37533818e-02],\n",
      "       [8.57135728e-02, 9.86686349e-03, 1.16759650e-02, 2.18058401e-03,\n",
      "        4.01172973e-03, 5.05741715e-01, 3.57140213e-01, 2.36693639e-02],\n",
      "       [5.31819649e-02, 1.94481444e-02, 2.89922729e-02, 1.46326199e-01,\n",
      "        3.76128517e-02, 2.75546342e-01, 3.88396382e-01, 5.04958443e-02],\n",
      "       [5.86683350e-03, 7.30965361e-02, 1.02801099e-02, 1.45075901e-03,\n",
      "        8.15792382e-03, 3.68691921e-01, 4.78801548e-01, 5.36543727e-02],\n",
      "       [4.30931756e-03, 5.80275105e-03, 4.04280983e-02, 1.82149571e-03,\n",
      "        1.24213761e-02, 2.25334302e-01, 6.03551269e-01, 1.06331423e-01],\n",
      "       [1.08357966e-02, 4.32295818e-03, 1.62170306e-02, 7.26911187e-01,\n",
      "        4.61789593e-03, 3.18914950e-02, 1.81061104e-01, 2.41425410e-02],\n",
      "       [2.73832679e-03, 6.27933323e-01, 1.53100805e-03, 6.71332411e-04,\n",
      "        1.61875982e-03, 1.24862805e-01, 2.13376924e-01, 2.72675380e-02],\n",
      "       [1.47714272e-01, 1.39028784e-02, 1.01670595e-02, 1.90058188e-03,\n",
      "        3.18965456e-03, 3.64055365e-01, 4.34494585e-01, 2.45756432e-02]],\n",
      "      dtype=float32)\n",
      "Shape = (15358, 8)\n"
     ]
    }
   ],
   "source": [
    "automl = TabularUtilizedAutoML(task = task, \n",
    "                       timeout = TIMEOUT,\n",
    "                       cpu_limit = N_THREADS,\n",
    "                       general_params = {'use_algos': [\n",
    "                                                       ['lgb','cb'], # базовые модели\n",
    "                                                       ['rf']# мета модель\n",
    "                       ], \n",
    "                                         'skip_conn': True}, # добавляем фичи\n",
    "                       reader_params = {'n_jobs': N_THREADS, 'cv': N_FOLDS},\n",
    "                       tuning_params = {'max_tuning_time': 1200}, # параметры Оптюны\n",
    "                       )\n",
    "oof_pred = automl.fit_predict(X_train, roles = roles, verbose = 1)\n",
    "print('oof_pred:\\n{}\\nShape = {}'.format(oof_pred[:10], oof_pred.shape))"
   ]
  },
  {
   "cell_type": "markdown",
   "id": "ef832e74",
   "metadata": {
    "papermill": {
     "duration": 0.03276,
     "end_time": "2024-03-28T18:18:53.197558",
     "exception": false,
     "start_time": "2024-03-28T18:18:53.164798",
     "status": "completed"
    },
    "tags": []
   },
   "source": [
    "Сделаем предикт на тесте"
   ]
  },
  {
   "cell_type": "code",
   "execution_count": 38,
   "id": "c17e52c4",
   "metadata": {
    "execution": {
     "iopub.execute_input": "2024-03-28T18:18:53.265037Z",
     "iopub.status.busy": "2024-03-28T18:18:53.264645Z",
     "iopub.status.idle": "2024-03-28T18:18:53.601540Z",
     "shell.execute_reply": "2024-03-28T18:18:53.600562Z"
    },
    "papermill": {
     "duration": 0.374117,
     "end_time": "2024-03-28T18:18:53.604388",
     "exception": false,
     "start_time": "2024-03-28T18:18:53.230271",
     "status": "completed"
    },
    "tags": []
   },
   "outputs": [],
   "source": [
    "y_proba = automl.predict(X_test)"
   ]
  },
  {
   "cell_type": "markdown",
   "id": "0c8b7a51",
   "metadata": {
    "papermill": {
     "duration": 0.032869,
     "end_time": "2024-03-28T18:18:53.669921",
     "exception": false,
     "start_time": "2024-03-28T18:18:53.637052",
     "status": "completed"
    },
    "tags": []
   },
   "source": [
    "Оцените метрику\n",
    "* В каком формате выдает предсказания Лама?"
   ]
  },
  {
   "cell_type": "code",
   "execution_count": 39,
   "id": "d2cd1871",
   "metadata": {
    "execution": {
     "iopub.execute_input": "2024-03-28T18:18:53.737808Z",
     "iopub.status.busy": "2024-03-28T18:18:53.737418Z",
     "iopub.status.idle": "2024-03-28T18:18:53.802944Z",
     "shell.execute_reply": "2024-03-28T18:18:53.801764Z"
    },
    "papermill": {
     "duration": 0.10295,
     "end_time": "2024-03-28T18:18:53.805589",
     "exception": false,
     "start_time": "2024-03-28T18:18:53.702639",
     "status": "completed"
    },
    "tags": []
   },
   "outputs": [
    {
     "data": {
      "text/plain": [
       "0.8629639699274498"
      ]
     },
     "execution_count": 39,
     "metadata": {},
     "output_type": "execute_result"
    }
   ],
   "source": [
    "score = roc_auc_score(y_test, y_proba.data,\n",
    "                      multi_class='ovo')\n",
    "score"
   ]
  },
  {
   "cell_type": "markdown",
   "id": "d14525e9",
   "metadata": {
    "papermill": {
     "duration": 0.032791,
     "end_time": "2024-03-28T18:18:53.871427",
     "exception": false,
     "start_time": "2024-03-28T18:18:53.838636",
     "status": "completed"
    },
    "tags": []
   },
   "source": [
    "### *Попробуйте Ламу для мультилэйбл задачи."
   ]
  },
  {
   "cell_type": "code",
   "execution_count": null,
   "id": "8a11b7f6",
   "metadata": {
    "papermill": {
     "duration": 0.034494,
     "end_time": "2024-03-28T18:18:53.940157",
     "exception": false,
     "start_time": "2024-03-28T18:18:53.905663",
     "status": "completed"
    },
    "tags": []
   },
   "outputs": [],
   "source": []
  },
  {
   "cell_type": "markdown",
   "id": "7a13613a",
   "metadata": {
    "papermill": {
     "duration": 0.033113,
     "end_time": "2024-03-28T18:18:54.008030",
     "exception": false,
     "start_time": "2024-03-28T18:18:53.974917",
     "status": "completed"
    },
    "tags": []
   },
   "source": [
    "# 4. Сделайте сабмит для Ламы (10 мин)"
   ]
  },
  {
   "cell_type": "markdown",
   "id": "94d6401d",
   "metadata": {
    "papermill": {
     "duration": 0.03259,
     "end_time": "2024-03-28T18:18:54.073643",
     "exception": false,
     "start_time": "2024-03-28T18:18:54.041053",
     "status": "completed"
    },
    "tags": []
   },
   "source": [
    "* Запустите Ламу на всем трейн датасете. И далее предскажите на тесте и сделайте сабмит"
   ]
  },
  {
   "cell_type": "code",
   "execution_count": 40,
   "id": "d2cf9290",
   "metadata": {
    "execution": {
     "iopub.execute_input": "2024-03-28T18:18:54.142348Z",
     "iopub.status.busy": "2024-03-28T18:18:54.141921Z",
     "iopub.status.idle": "2024-03-28T18:18:55.215381Z",
     "shell.execute_reply": "2024-03-28T18:18:55.214232Z"
    },
    "papermill": {
     "duration": 1.110177,
     "end_time": "2024-03-28T18:18:55.217897",
     "exception": false,
     "start_time": "2024-03-28T18:18:54.107720",
     "status": "completed"
    },
    "tags": []
   },
   "outputs": [
    {
     "data": {
      "text/html": [
       "<div>\n",
       "<style scoped>\n",
       "    .dataframe tbody tr th:only-of-type {\n",
       "        vertical-align: middle;\n",
       "    }\n",
       "\n",
       "    .dataframe tbody tr th {\n",
       "        vertical-align: top;\n",
       "    }\n",
       "\n",
       "    .dataframe thead th {\n",
       "        text-align: right;\n",
       "    }\n",
       "</style>\n",
       "<table border=\"1\" class=\"dataframe\">\n",
       "  <thead>\n",
       "    <tr style=\"text-align: right;\">\n",
       "      <th></th>\n",
       "      <th>id</th>\n",
       "      <th>Pastry</th>\n",
       "      <th>Z_Scratch</th>\n",
       "      <th>K_Scatch</th>\n",
       "      <th>Stains</th>\n",
       "      <th>Dirtiness</th>\n",
       "      <th>Bumps</th>\n",
       "      <th>Other_Faults</th>\n",
       "    </tr>\n",
       "  </thead>\n",
       "  <tbody>\n",
       "    <tr>\n",
       "      <th>0</th>\n",
       "      <td>19219</td>\n",
       "      <td>0.452823</td>\n",
       "      <td>0.009084</td>\n",
       "      <td>0.012684</td>\n",
       "      <td>0.001934</td>\n",
       "      <td>0.030121</td>\n",
       "      <td>0.130262</td>\n",
       "      <td>0.326449</td>\n",
       "    </tr>\n",
       "    <tr>\n",
       "      <th>1</th>\n",
       "      <td>19220</td>\n",
       "      <td>0.285689</td>\n",
       "      <td>0.021389</td>\n",
       "      <td>0.014664</td>\n",
       "      <td>0.002006</td>\n",
       "      <td>0.159481</td>\n",
       "      <td>0.143952</td>\n",
       "      <td>0.333615</td>\n",
       "    </tr>\n",
       "    <tr>\n",
       "      <th>2</th>\n",
       "      <td>19221</td>\n",
       "      <td>0.007055</td>\n",
       "      <td>0.041683</td>\n",
       "      <td>0.061723</td>\n",
       "      <td>0.003752</td>\n",
       "      <td>0.006426</td>\n",
       "      <td>0.296490</td>\n",
       "      <td>0.495518</td>\n",
       "    </tr>\n",
       "    <tr>\n",
       "      <th>3</th>\n",
       "      <td>19222</td>\n",
       "      <td>0.119708</td>\n",
       "      <td>0.008635</td>\n",
       "      <td>0.010647</td>\n",
       "      <td>0.004155</td>\n",
       "      <td>0.007967</td>\n",
       "      <td>0.354535</td>\n",
       "      <td>0.444048</td>\n",
       "    </tr>\n",
       "    <tr>\n",
       "      <th>4</th>\n",
       "      <td>19223</td>\n",
       "      <td>0.006542</td>\n",
       "      <td>0.006835</td>\n",
       "      <td>0.011156</td>\n",
       "      <td>0.004314</td>\n",
       "      <td>0.007815</td>\n",
       "      <td>0.574579</td>\n",
       "      <td>0.350519</td>\n",
       "    </tr>\n",
       "  </tbody>\n",
       "</table>\n",
       "</div>"
      ],
      "text/plain": [
       "      id    Pastry  Z_Scratch  K_Scatch    Stains  Dirtiness     Bumps  \\\n",
       "0  19219  0.452823   0.009084  0.012684  0.001934   0.030121  0.130262   \n",
       "1  19220  0.285689   0.021389  0.014664  0.002006   0.159481  0.143952   \n",
       "2  19221  0.007055   0.041683  0.061723  0.003752   0.006426  0.296490   \n",
       "3  19222  0.119708   0.008635  0.010647  0.004155   0.007967  0.354535   \n",
       "4  19223  0.006542   0.006835  0.011156  0.004314   0.007815  0.574579   \n",
       "\n",
       "   Other_Faults  \n",
       "0      0.326449  \n",
       "1      0.333615  \n",
       "2      0.495518  \n",
       "3      0.444048  \n",
       "4      0.350519  "
      ]
     },
     "execution_count": 40,
     "metadata": {},
     "output_type": "execute_result"
    }
   ],
   "source": [
    "submission = pd.DataFrame(\n",
    "    automl.predict(test).data[:, :-1],\n",
    "    columns=targets,\n",
    "    index=test.id\n",
    ").reset_index()\n",
    "submission.to_csv('submission.csv', index=False)\n",
    "submission.head(5)"
   ]
  },
  {
   "cell_type": "markdown",
   "id": "3427cf6d",
   "metadata": {
    "papermill": {
     "duration": 0.032686,
     "end_time": "2024-03-28T18:18:55.283823",
     "exception": false,
     "start_time": "2024-03-28T18:18:55.251137",
     "status": "completed"
    },
    "tags": []
   },
   "source": [
    "## Дополнительные эксперименты. Запустите тренировку Ламы на несколько часов\n",
    "\n",
    "\n",
    "* Можно поставить несколько часов на тренировку. Посмотрите в доке, какие еще алгоритмы можно попробовать добавить.\n",
    "* Перед тем, как запускать тренировку на 10 часов, убедитесь, что сможете сделать сабмит из out-of-fold предсказаний ламы.\n",
    "* И конечно же, можно сделать блендинг стекинга с другими моделями))"
   ]
  }
 ],
 "metadata": {
  "kaggle": {
   "accelerator": "none",
   "dataSources": [
    {
     "databundleVersionId": 7659021,
     "sourceId": 68699,
     "sourceType": "competition"
    },
    {
     "sourceId": 165617723,
     "sourceType": "kernelVersion"
    }
   ],
   "dockerImageVersionId": 30673,
   "isGpuEnabled": false,
   "isInternetEnabled": true,
   "language": "python",
   "sourceType": "notebook"
  },
  "kernelspec": {
   "display_name": "Python 3",
   "language": "python",
   "name": "python3"
  },
  "language_info": {
   "codemirror_mode": {
    "name": "ipython",
    "version": 3
   },
   "file_extension": ".py",
   "mimetype": "text/x-python",
   "name": "python",
   "nbconvert_exporter": "python",
   "pygments_lexer": "ipython3",
   "version": "3.10.13"
  },
  "papermill": {
   "default_parameters": {},
   "duration": 797.900809,
   "end_time": "2024-03-28T18:18:57.940245",
   "environment_variables": {},
   "exception": null,
   "input_path": "__notebook__.ipynb",
   "output_path": "__notebook__.ipynb",
   "parameters": {},
   "start_time": "2024-03-28T18:05:40.039436",
   "version": "2.5.0"
  }
 },
 "nbformat": 4,
 "nbformat_minor": 5
}
