{
 "cells": [
  {
   "cell_type": "markdown",
   "id": "53f21855",
   "metadata": {
    "papermill": {
     "duration": 0.014743,
     "end_time": "2024-03-25T18:48:23.366268",
     "exception": false,
     "start_time": "2024-03-25T18:48:23.351525",
     "status": "completed"
    },
    "tags": []
   },
   "source": [
    "# Семинар_7 Методы ансамблирования моделей. Блендинг."
   ]
  },
  {
   "cell_type": "markdown",
   "id": "755ed8b3",
   "metadata": {
    "papermill": {
     "duration": 0.011011,
     "end_time": "2024-03-25T18:48:23.388864",
     "exception": false,
     "start_time": "2024-03-25T18:48:23.377853",
     "status": "completed"
    },
    "tags": []
   },
   "source": [
    "Цель семинара: освоить основные техники блендинга моделей\n",
    "\n",
    "План семинара:\n",
    "\n",
    "* Практика - Реализуем Hard и Soft voting с помощью voting classifier и без\n",
    "* Практика - заблендим модели с разными весами\n",
    "* Практика - сделаем бленд вашего решения с публичным решением\n",
    "* Подведение итогов - проанализируем и обсудим результаты"
   ]
  },
  {
   "cell_type": "code",
   "execution_count": 1,
   "id": "e57928f0",
   "metadata": {
    "execution": {
     "iopub.execute_input": "2024-03-25T18:48:23.415300Z",
     "iopub.status.busy": "2024-03-25T18:48:23.414605Z",
     "iopub.status.idle": "2024-03-25T18:48:28.493181Z",
     "shell.execute_reply": "2024-03-25T18:48:28.492150Z"
    },
    "papermill": {
     "duration": 5.094611,
     "end_time": "2024-03-25T18:48:28.495846",
     "exception": false,
     "start_time": "2024-03-25T18:48:23.401235",
     "status": "completed"
    },
    "tags": []
   },
   "outputs": [],
   "source": [
    "import seaborn as sns\n",
    "import matplotlib.pyplot as plt\n",
    "\n",
    "from sklearn.model_selection import train_test_split\n",
    "from sklearn.metrics import roc_auc_score, f1_score\n",
    "from sklearn import metrics\n",
    "\n",
    "import numpy as np\n",
    "from xgboost import XGBClassifier\n",
    "import xgboost as xgb\n",
    "from catboost import CatBoostClassifier\n",
    "from sklearn.ensemble import RandomForestClassifier, VotingClassifier\n",
    "from lightgbm import LGBMClassifier\n",
    "import lightgbm as lgb\n",
    "\n",
    "import pandas as pd\n",
    "import time\n",
    "\n",
    "pd.set_option('display.max_columns', None)"
   ]
  },
  {
   "cell_type": "markdown",
   "id": "2fe1354a",
   "metadata": {
    "papermill": {
     "duration": 0.01277,
     "end_time": "2024-03-25T18:48:28.521069",
     "exception": false,
     "start_time": "2024-03-25T18:48:28.508299",
     "status": "completed"
    },
    "tags": []
   },
   "source": [
    "# 1. Soft Voting (15 мин).\n",
    "Когда смешиваем вероятности"
   ]
  },
  {
   "cell_type": "markdown",
   "id": "db443bef",
   "metadata": {
    "papermill": {
     "duration": 0.011027,
     "end_time": "2024-03-25T18:48:28.543512",
     "exception": false,
     "start_time": "2024-03-25T18:48:28.532485",
     "status": "completed"
    },
    "tags": []
   },
   "source": [
    "Сначала получим предсказания для моделей разными алгоритмами ml\n",
    "\n",
    "Начнем с multiclass постановки задачи"
   ]
  },
  {
   "cell_type": "code",
   "execution_count": 2,
   "id": "6394bd54",
   "metadata": {
    "execution": {
     "iopub.execute_input": "2024-03-25T18:48:28.569830Z",
     "iopub.status.busy": "2024-03-25T18:48:28.568794Z",
     "iopub.status.idle": "2024-03-25T18:48:28.826330Z",
     "shell.execute_reply": "2024-03-25T18:48:28.824983Z"
    },
    "papermill": {
     "duration": 0.27371,
     "end_time": "2024-03-25T18:48:28.828737",
     "exception": false,
     "start_time": "2024-03-25T18:48:28.555027",
     "status": "completed"
    },
    "tags": []
   },
   "outputs": [
    {
     "data": {
      "text/html": [
       "<div>\n",
       "<style scoped>\n",
       "    .dataframe tbody tr th:only-of-type {\n",
       "        vertical-align: middle;\n",
       "    }\n",
       "\n",
       "    .dataframe tbody tr th {\n",
       "        vertical-align: top;\n",
       "    }\n",
       "\n",
       "    .dataframe thead th {\n",
       "        text-align: right;\n",
       "    }\n",
       "</style>\n",
       "<table border=\"1\" class=\"dataframe\">\n",
       "  <thead>\n",
       "    <tr style=\"text-align: right;\">\n",
       "      <th></th>\n",
       "      <th>id</th>\n",
       "      <th>X_Minimum</th>\n",
       "      <th>X_Maximum</th>\n",
       "      <th>Y_Minimum</th>\n",
       "      <th>Y_Maximum</th>\n",
       "      <th>Pixels_Areas</th>\n",
       "      <th>X_Perimeter</th>\n",
       "      <th>Y_Perimeter</th>\n",
       "      <th>Sum_of_Luminosity</th>\n",
       "      <th>Minimum_of_Luminosity</th>\n",
       "      <th>Maximum_of_Luminosity</th>\n",
       "      <th>Length_of_Conveyer</th>\n",
       "      <th>TypeOfSteel_A300</th>\n",
       "      <th>TypeOfSteel_A400</th>\n",
       "      <th>Steel_Plate_Thickness</th>\n",
       "      <th>Edges_Index</th>\n",
       "      <th>Empty_Index</th>\n",
       "      <th>Square_Index</th>\n",
       "      <th>Outside_X_Index</th>\n",
       "      <th>Edges_X_Index</th>\n",
       "      <th>Edges_Y_Index</th>\n",
       "      <th>Outside_Global_Index</th>\n",
       "      <th>LogOfAreas</th>\n",
       "      <th>Log_X_Index</th>\n",
       "      <th>Log_Y_Index</th>\n",
       "      <th>Orientation_Index</th>\n",
       "      <th>Luminosity_Index</th>\n",
       "      <th>SigmoidOfAreas</th>\n",
       "      <th>Pastry</th>\n",
       "      <th>Z_Scratch</th>\n",
       "      <th>K_Scatch</th>\n",
       "      <th>Stains</th>\n",
       "      <th>Dirtiness</th>\n",
       "      <th>Bumps</th>\n",
       "      <th>Other_Faults</th>\n",
       "      <th>target</th>\n",
       "    </tr>\n",
       "  </thead>\n",
       "  <tbody>\n",
       "    <tr>\n",
       "      <th>0</th>\n",
       "      <td>0</td>\n",
       "      <td>584</td>\n",
       "      <td>590</td>\n",
       "      <td>909972</td>\n",
       "      <td>909977</td>\n",
       "      <td>16</td>\n",
       "      <td>8</td>\n",
       "      <td>5</td>\n",
       "      <td>2274</td>\n",
       "      <td>113</td>\n",
       "      <td>140</td>\n",
       "      <td>1358</td>\n",
       "      <td>0</td>\n",
       "      <td>1</td>\n",
       "      <td>50</td>\n",
       "      <td>0.7393</td>\n",
       "      <td>0.4000</td>\n",
       "      <td>0.5000</td>\n",
       "      <td>0.0059</td>\n",
       "      <td>1.0000</td>\n",
       "      <td>1.0000</td>\n",
       "      <td>0.0</td>\n",
       "      <td>1.2041</td>\n",
       "      <td>0.9031</td>\n",
       "      <td>0.6990</td>\n",
       "      <td>-0.5000</td>\n",
       "      <td>-0.0104</td>\n",
       "      <td>0.1417</td>\n",
       "      <td>0</td>\n",
       "      <td>0</td>\n",
       "      <td>0</td>\n",
       "      <td>1</td>\n",
       "      <td>0</td>\n",
       "      <td>0</td>\n",
       "      <td>0</td>\n",
       "      <td>3</td>\n",
       "    </tr>\n",
       "    <tr>\n",
       "      <th>1</th>\n",
       "      <td>1</td>\n",
       "      <td>808</td>\n",
       "      <td>816</td>\n",
       "      <td>728350</td>\n",
       "      <td>728372</td>\n",
       "      <td>433</td>\n",
       "      <td>20</td>\n",
       "      <td>54</td>\n",
       "      <td>44478</td>\n",
       "      <td>70</td>\n",
       "      <td>111</td>\n",
       "      <td>1687</td>\n",
       "      <td>1</td>\n",
       "      <td>0</td>\n",
       "      <td>80</td>\n",
       "      <td>0.7772</td>\n",
       "      <td>0.2878</td>\n",
       "      <td>0.2581</td>\n",
       "      <td>0.0044</td>\n",
       "      <td>0.2500</td>\n",
       "      <td>1.0000</td>\n",
       "      <td>1.0</td>\n",
       "      <td>2.6365</td>\n",
       "      <td>0.7782</td>\n",
       "      <td>1.7324</td>\n",
       "      <td>0.7419</td>\n",
       "      <td>-0.2997</td>\n",
       "      <td>0.9491</td>\n",
       "      <td>0</td>\n",
       "      <td>0</td>\n",
       "      <td>0</td>\n",
       "      <td>0</td>\n",
       "      <td>0</td>\n",
       "      <td>0</td>\n",
       "      <td>1</td>\n",
       "      <td>6</td>\n",
       "    </tr>\n",
       "    <tr>\n",
       "      <th>2</th>\n",
       "      <td>2</td>\n",
       "      <td>39</td>\n",
       "      <td>192</td>\n",
       "      <td>2212076</td>\n",
       "      <td>2212144</td>\n",
       "      <td>11388</td>\n",
       "      <td>705</td>\n",
       "      <td>420</td>\n",
       "      <td>1311391</td>\n",
       "      <td>29</td>\n",
       "      <td>141</td>\n",
       "      <td>1400</td>\n",
       "      <td>0</td>\n",
       "      <td>1</td>\n",
       "      <td>40</td>\n",
       "      <td>0.0557</td>\n",
       "      <td>0.5282</td>\n",
       "      <td>0.9895</td>\n",
       "      <td>0.1077</td>\n",
       "      <td>0.2363</td>\n",
       "      <td>0.3857</td>\n",
       "      <td>0.0</td>\n",
       "      <td>4.0564</td>\n",
       "      <td>2.1790</td>\n",
       "      <td>2.2095</td>\n",
       "      <td>-0.0105</td>\n",
       "      <td>-0.0944</td>\n",
       "      <td>1.0000</td>\n",
       "      <td>0</td>\n",
       "      <td>0</td>\n",
       "      <td>1</td>\n",
       "      <td>0</td>\n",
       "      <td>0</td>\n",
       "      <td>0</td>\n",
       "      <td>0</td>\n",
       "      <td>2</td>\n",
       "    </tr>\n",
       "    <tr>\n",
       "      <th>3</th>\n",
       "      <td>3</td>\n",
       "      <td>781</td>\n",
       "      <td>789</td>\n",
       "      <td>3353146</td>\n",
       "      <td>3353173</td>\n",
       "      <td>210</td>\n",
       "      <td>16</td>\n",
       "      <td>29</td>\n",
       "      <td>3202</td>\n",
       "      <td>114</td>\n",
       "      <td>134</td>\n",
       "      <td>1387</td>\n",
       "      <td>0</td>\n",
       "      <td>1</td>\n",
       "      <td>40</td>\n",
       "      <td>0.7202</td>\n",
       "      <td>0.3333</td>\n",
       "      <td>0.3333</td>\n",
       "      <td>0.0044</td>\n",
       "      <td>0.3750</td>\n",
       "      <td>0.9310</td>\n",
       "      <td>1.0</td>\n",
       "      <td>2.3222</td>\n",
       "      <td>0.7782</td>\n",
       "      <td>1.4314</td>\n",
       "      <td>0.6667</td>\n",
       "      <td>-0.0402</td>\n",
       "      <td>0.4025</td>\n",
       "      <td>0</td>\n",
       "      <td>0</td>\n",
       "      <td>1</td>\n",
       "      <td>0</td>\n",
       "      <td>0</td>\n",
       "      <td>0</td>\n",
       "      <td>0</td>\n",
       "      <td>2</td>\n",
       "    </tr>\n",
       "    <tr>\n",
       "      <th>4</th>\n",
       "      <td>4</td>\n",
       "      <td>1540</td>\n",
       "      <td>1560</td>\n",
       "      <td>618457</td>\n",
       "      <td>618502</td>\n",
       "      <td>521</td>\n",
       "      <td>72</td>\n",
       "      <td>67</td>\n",
       "      <td>48231</td>\n",
       "      <td>82</td>\n",
       "      <td>111</td>\n",
       "      <td>1692</td>\n",
       "      <td>0</td>\n",
       "      <td>1</td>\n",
       "      <td>300</td>\n",
       "      <td>0.1211</td>\n",
       "      <td>0.5347</td>\n",
       "      <td>0.0842</td>\n",
       "      <td>0.0192</td>\n",
       "      <td>0.2105</td>\n",
       "      <td>0.9861</td>\n",
       "      <td>1.0</td>\n",
       "      <td>2.7694</td>\n",
       "      <td>1.4150</td>\n",
       "      <td>1.8808</td>\n",
       "      <td>0.9158</td>\n",
       "      <td>-0.2455</td>\n",
       "      <td>0.9998</td>\n",
       "      <td>0</td>\n",
       "      <td>0</td>\n",
       "      <td>0</td>\n",
       "      <td>0</td>\n",
       "      <td>0</td>\n",
       "      <td>0</td>\n",
       "      <td>1</td>\n",
       "      <td>6</td>\n",
       "    </tr>\n",
       "  </tbody>\n",
       "</table>\n",
       "</div>"
      ],
      "text/plain": [
       "   id  X_Minimum  X_Maximum  Y_Minimum  Y_Maximum  Pixels_Areas  X_Perimeter  \\\n",
       "0   0        584        590     909972     909977            16            8   \n",
       "1   1        808        816     728350     728372           433           20   \n",
       "2   2         39        192    2212076    2212144         11388          705   \n",
       "3   3        781        789    3353146    3353173           210           16   \n",
       "4   4       1540       1560     618457     618502           521           72   \n",
       "\n",
       "   Y_Perimeter  Sum_of_Luminosity  Minimum_of_Luminosity  \\\n",
       "0            5               2274                    113   \n",
       "1           54              44478                     70   \n",
       "2          420            1311391                     29   \n",
       "3           29               3202                    114   \n",
       "4           67              48231                     82   \n",
       "\n",
       "   Maximum_of_Luminosity  Length_of_Conveyer  TypeOfSteel_A300  \\\n",
       "0                    140                1358                 0   \n",
       "1                    111                1687                 1   \n",
       "2                    141                1400                 0   \n",
       "3                    134                1387                 0   \n",
       "4                    111                1692                 0   \n",
       "\n",
       "   TypeOfSteel_A400  Steel_Plate_Thickness  Edges_Index  Empty_Index  \\\n",
       "0                 1                     50       0.7393       0.4000   \n",
       "1                 0                     80       0.7772       0.2878   \n",
       "2                 1                     40       0.0557       0.5282   \n",
       "3                 1                     40       0.7202       0.3333   \n",
       "4                 1                    300       0.1211       0.5347   \n",
       "\n",
       "   Square_Index  Outside_X_Index  Edges_X_Index  Edges_Y_Index  \\\n",
       "0        0.5000           0.0059         1.0000         1.0000   \n",
       "1        0.2581           0.0044         0.2500         1.0000   \n",
       "2        0.9895           0.1077         0.2363         0.3857   \n",
       "3        0.3333           0.0044         0.3750         0.9310   \n",
       "4        0.0842           0.0192         0.2105         0.9861   \n",
       "\n",
       "   Outside_Global_Index  LogOfAreas  Log_X_Index  Log_Y_Index  \\\n",
       "0                   0.0      1.2041       0.9031       0.6990   \n",
       "1                   1.0      2.6365       0.7782       1.7324   \n",
       "2                   0.0      4.0564       2.1790       2.2095   \n",
       "3                   1.0      2.3222       0.7782       1.4314   \n",
       "4                   1.0      2.7694       1.4150       1.8808   \n",
       "\n",
       "   Orientation_Index  Luminosity_Index  SigmoidOfAreas  Pastry  Z_Scratch  \\\n",
       "0            -0.5000           -0.0104          0.1417       0          0   \n",
       "1             0.7419           -0.2997          0.9491       0          0   \n",
       "2            -0.0105           -0.0944          1.0000       0          0   \n",
       "3             0.6667           -0.0402          0.4025       0          0   \n",
       "4             0.9158           -0.2455          0.9998       0          0   \n",
       "\n",
       "   K_Scatch  Stains  Dirtiness  Bumps  Other_Faults  target  \n",
       "0         0       1          0      0             0       3  \n",
       "1         0       0          0      0             1       6  \n",
       "2         1       0          0      0             0       2  \n",
       "3         1       0          0      0             0       2  \n",
       "4         0       0          0      0             1       6  "
      ]
     },
     "execution_count": 2,
     "metadata": {},
     "output_type": "execute_result"
    }
   ],
   "source": [
    "train = pd.read_csv('/kaggle/input/seminar1/train_multiclass.csv')\n",
    "test = pd.read_csv('/kaggle/input/playground-series-s4e3/test.csv')\n",
    "train.head()"
   ]
  },
  {
   "cell_type": "code",
   "execution_count": 3,
   "id": "f6f885bc",
   "metadata": {
    "execution": {
     "iopub.execute_input": "2024-03-25T18:48:28.854483Z",
     "iopub.status.busy": "2024-03-25T18:48:28.853875Z",
     "iopub.status.idle": "2024-03-25T18:48:28.867607Z",
     "shell.execute_reply": "2024-03-25T18:48:28.866734Z"
    },
    "papermill": {
     "duration": 0.029611,
     "end_time": "2024-03-25T18:48:28.870316",
     "exception": false,
     "start_time": "2024-03-25T18:48:28.840705",
     "status": "completed"
    },
    "tags": []
   },
   "outputs": [],
   "source": [
    "targets = ['Pastry', 'Z_Scratch', 'K_Scatch', 'Stains', 'Dirtiness', 'Bumps', 'Other_Faults']\n",
    "\n",
    "X = train.drop(columns=targets + ['target', 'id'])\n",
    "y = train['target']"
   ]
  },
  {
   "cell_type": "code",
   "execution_count": 4,
   "id": "e0571559",
   "metadata": {
    "execution": {
     "iopub.execute_input": "2024-03-25T18:48:28.897611Z",
     "iopub.status.busy": "2024-03-25T18:48:28.896733Z",
     "iopub.status.idle": "2024-03-25T18:48:28.920934Z",
     "shell.execute_reply": "2024-03-25T18:48:28.919672Z"
    },
    "papermill": {
     "duration": 0.040958,
     "end_time": "2024-03-25T18:48:28.923662",
     "exception": false,
     "start_time": "2024-03-25T18:48:28.882704",
     "status": "completed"
    },
    "tags": []
   },
   "outputs": [],
   "source": [
    "X_train, X_test, y_train, y_test = train_test_split(X, y, test_size=0.2,\n",
    "                                                  random_state=43, stratify=y)"
   ]
  },
  {
   "cell_type": "code",
   "execution_count": 5,
   "id": "8c0fd53f",
   "metadata": {
    "execution": {
     "iopub.execute_input": "2024-03-25T18:48:28.949532Z",
     "iopub.status.busy": "2024-03-25T18:48:28.949111Z",
     "iopub.status.idle": "2024-03-25T18:48:42.129060Z",
     "shell.execute_reply": "2024-03-25T18:48:42.127735Z"
    },
    "papermill": {
     "duration": 13.196256,
     "end_time": "2024-03-25T18:48:42.132048",
     "exception": false,
     "start_time": "2024-03-25T18:48:28.935792",
     "status": "completed"
    },
    "tags": []
   },
   "outputs": [
    {
     "data": {
      "text/html": [
       "<style>#sk-container-id-1 {color: black;background-color: white;}#sk-container-id-1 pre{padding: 0;}#sk-container-id-1 div.sk-toggleable {background-color: white;}#sk-container-id-1 label.sk-toggleable__label {cursor: pointer;display: block;width: 100%;margin-bottom: 0;padding: 0.3em;box-sizing: border-box;text-align: center;}#sk-container-id-1 label.sk-toggleable__label-arrow:before {content: \"▸\";float: left;margin-right: 0.25em;color: #696969;}#sk-container-id-1 label.sk-toggleable__label-arrow:hover:before {color: black;}#sk-container-id-1 div.sk-estimator:hover label.sk-toggleable__label-arrow:before {color: black;}#sk-container-id-1 div.sk-toggleable__content {max-height: 0;max-width: 0;overflow: hidden;text-align: left;background-color: #f0f8ff;}#sk-container-id-1 div.sk-toggleable__content pre {margin: 0.2em;color: black;border-radius: 0.25em;background-color: #f0f8ff;}#sk-container-id-1 input.sk-toggleable__control:checked~div.sk-toggleable__content {max-height: 200px;max-width: 100%;overflow: auto;}#sk-container-id-1 input.sk-toggleable__control:checked~label.sk-toggleable__label-arrow:before {content: \"▾\";}#sk-container-id-1 div.sk-estimator input.sk-toggleable__control:checked~label.sk-toggleable__label {background-color: #d4ebff;}#sk-container-id-1 div.sk-label input.sk-toggleable__control:checked~label.sk-toggleable__label {background-color: #d4ebff;}#sk-container-id-1 input.sk-hidden--visually {border: 0;clip: rect(1px 1px 1px 1px);clip: rect(1px, 1px, 1px, 1px);height: 1px;margin: -1px;overflow: hidden;padding: 0;position: absolute;width: 1px;}#sk-container-id-1 div.sk-estimator {font-family: monospace;background-color: #f0f8ff;border: 1px dotted black;border-radius: 0.25em;box-sizing: border-box;margin-bottom: 0.5em;}#sk-container-id-1 div.sk-estimator:hover {background-color: #d4ebff;}#sk-container-id-1 div.sk-parallel-item::after {content: \"\";width: 100%;border-bottom: 1px solid gray;flex-grow: 1;}#sk-container-id-1 div.sk-label:hover label.sk-toggleable__label {background-color: #d4ebff;}#sk-container-id-1 div.sk-serial::before {content: \"\";position: absolute;border-left: 1px solid gray;box-sizing: border-box;top: 0;bottom: 0;left: 50%;z-index: 0;}#sk-container-id-1 div.sk-serial {display: flex;flex-direction: column;align-items: center;background-color: white;padding-right: 0.2em;padding-left: 0.2em;position: relative;}#sk-container-id-1 div.sk-item {position: relative;z-index: 1;}#sk-container-id-1 div.sk-parallel {display: flex;align-items: stretch;justify-content: center;background-color: white;position: relative;}#sk-container-id-1 div.sk-item::before, #sk-container-id-1 div.sk-parallel-item::before {content: \"\";position: absolute;border-left: 1px solid gray;box-sizing: border-box;top: 0;bottom: 0;left: 50%;z-index: -1;}#sk-container-id-1 div.sk-parallel-item {display: flex;flex-direction: column;z-index: 1;position: relative;background-color: white;}#sk-container-id-1 div.sk-parallel-item:first-child::after {align-self: flex-end;width: 50%;}#sk-container-id-1 div.sk-parallel-item:last-child::after {align-self: flex-start;width: 50%;}#sk-container-id-1 div.sk-parallel-item:only-child::after {width: 0;}#sk-container-id-1 div.sk-dashed-wrapped {border: 1px dashed gray;margin: 0 0.4em 0.5em 0.4em;box-sizing: border-box;padding-bottom: 0.4em;background-color: white;}#sk-container-id-1 div.sk-label label {font-family: monospace;font-weight: bold;display: inline-block;line-height: 1.2em;}#sk-container-id-1 div.sk-label-container {text-align: center;}#sk-container-id-1 div.sk-container {/* jupyter's `normalize.less` sets `[hidden] { display: none; }` but bootstrap.min.css set `[hidden] { display: none !important; }` so we also need the `!important` here to be able to override the default hidden behavior on the sphinx rendered scikit-learn.org. See: https://github.com/scikit-learn/scikit-learn/issues/21755 */display: inline-block !important;position: relative;}#sk-container-id-1 div.sk-text-repr-fallback {display: none;}</style><div id=\"sk-container-id-1\" class=\"sk-top-container\"><div class=\"sk-text-repr-fallback\"><pre>RandomForestClassifier(n_estimators=150, random_state=42)</pre><b>In a Jupyter environment, please rerun this cell to show the HTML representation or trust the notebook. <br />On GitHub, the HTML representation is unable to render, please try loading this page with nbviewer.org.</b></div><div class=\"sk-container\" hidden><div class=\"sk-item\"><div class=\"sk-estimator sk-toggleable\"><input class=\"sk-toggleable__control sk-hidden--visually\" id=\"sk-estimator-id-1\" type=\"checkbox\" checked><label for=\"sk-estimator-id-1\" class=\"sk-toggleable__label sk-toggleable__label-arrow\">RandomForestClassifier</label><div class=\"sk-toggleable__content\"><pre>RandomForestClassifier(n_estimators=150, random_state=42)</pre></div></div></div></div></div>"
      ],
      "text/plain": [
       "RandomForestClassifier(n_estimators=150, random_state=42)"
      ]
     },
     "execution_count": 5,
     "metadata": {},
     "output_type": "execute_result"
    }
   ],
   "source": [
    "rf_mc = RandomForestClassifier(n_estimators=150, random_state=42)\n",
    "\n",
    "rf_mc.fit(X_train, y_train)"
   ]
  },
  {
   "cell_type": "code",
   "execution_count": 6,
   "id": "4d03bdf9",
   "metadata": {
    "execution": {
     "iopub.execute_input": "2024-03-25T18:48:42.158502Z",
     "iopub.status.busy": "2024-03-25T18:48:42.158129Z",
     "iopub.status.idle": "2024-03-25T18:48:42.414578Z",
     "shell.execute_reply": "2024-03-25T18:48:42.413438Z"
    },
    "papermill": {
     "duration": 0.272827,
     "end_time": "2024-03-25T18:48:42.417437",
     "exception": false,
     "start_time": "2024-03-25T18:48:42.144610",
     "status": "completed"
    },
    "tags": []
   },
   "outputs": [
    {
     "data": {
      "text/plain": [
       "0.843902041116409"
      ]
     },
     "execution_count": 6,
     "metadata": {},
     "output_type": "execute_result"
    }
   ],
   "source": [
    "rf_preds = rf_mc.predict_proba(X_test)\n",
    "roc_auc_lr = roc_auc_score(y_test, rf_preds, multi_class='ovo')\n",
    "roc_auc_lr"
   ]
  },
  {
   "cell_type": "code",
   "execution_count": 7,
   "id": "993d4777",
   "metadata": {
    "execution": {
     "iopub.execute_input": "2024-03-25T18:48:42.444158Z",
     "iopub.status.busy": "2024-03-25T18:48:42.443766Z",
     "iopub.status.idle": "2024-03-25T18:48:55.508753Z",
     "shell.execute_reply": "2024-03-25T18:48:55.507851Z"
    },
    "papermill": {
     "duration": 13.084104,
     "end_time": "2024-03-25T18:48:55.514136",
     "exception": false,
     "start_time": "2024-03-25T18:48:42.430032",
     "status": "completed"
    },
    "tags": []
   },
   "outputs": [
    {
     "name": "stdout",
     "output_type": "stream",
     "text": [
      "0:\ttest: 0.7906086\tbest: 0.7906086 (0)\ttotal: 113ms\tremaining: 1m 52s\n",
      "50:\ttest: 0.9128485\tbest: 0.9128485 (50)\ttotal: 1.9s\tremaining: 35.4s\n",
      "100:\ttest: 0.9178482\tbest: 0.9178482 (100)\ttotal: 3.63s\tremaining: 32.3s\n",
      "150:\ttest: 0.9191680\tbest: 0.9192460 (148)\ttotal: 5.31s\tremaining: 29.9s\n",
      "200:\ttest: 0.9192138\tbest: 0.9193226 (171)\ttotal: 6.98s\tremaining: 27.7s\n",
      "250:\ttest: 0.9194266\tbest: 0.9196873 (222)\ttotal: 8.71s\tremaining: 26s\n",
      "300:\ttest: 0.9190907\tbest: 0.9197072 (259)\ttotal: 10.4s\tremaining: 24.2s\n",
      "350:\ttest: 0.9188507\tbest: 0.9197072 (259)\ttotal: 12.5s\tremaining: 23.1s\n",
      "Stopped by overfitting detector  (100 iterations wait)\n",
      "\n",
      "bestTest = 0.9197071666\n",
      "bestIteration = 259\n",
      "\n",
      "Shrink model to first 260 iterations.\n"
     ]
    },
    {
     "data": {
      "text/plain": [
       "<catboost.core.CatBoostClassifier at 0x7f3c71ad2860>"
      ]
     },
     "execution_count": 7,
     "metadata": {},
     "output_type": "execute_result"
    }
   ],
   "source": [
    "cb_mc = CatBoostClassifier(random_seed=43,\n",
    "                           eval_metric='AUC',\n",
    "                           learning_rate=0.1,\n",
    "                           )\n",
    "\n",
    "cb_mc.fit(X_train, y_train, eval_set=(X_test, y_test),\n",
    "          verbose=50, early_stopping_rounds=100)"
   ]
  },
  {
   "cell_type": "code",
   "execution_count": 8,
   "id": "7f958b98",
   "metadata": {
    "execution": {
     "iopub.execute_input": "2024-03-25T18:48:55.543746Z",
     "iopub.status.busy": "2024-03-25T18:48:55.542488Z",
     "iopub.status.idle": "2024-03-25T18:48:55.610027Z",
     "shell.execute_reply": "2024-03-25T18:48:55.608840Z"
    },
    "papermill": {
     "duration": 0.084781,
     "end_time": "2024-03-25T18:48:55.612586",
     "exception": false,
     "start_time": "2024-03-25T18:48:55.527805",
     "status": "completed"
    },
    "tags": []
   },
   "outputs": [
    {
     "data": {
      "text/plain": [
       "0.8619144795002696"
      ]
     },
     "execution_count": 8,
     "metadata": {},
     "output_type": "execute_result"
    }
   ],
   "source": [
    "y_pred_proba_cb = cb_mc.predict_proba(X_test)\n",
    "\n",
    "roc_auc = roc_auc_score(y_test, y_pred_proba_cb, multi_class='ovo')\n",
    "roc_auc"
   ]
  },
  {
   "cell_type": "code",
   "execution_count": 9,
   "id": "ca77dcb9",
   "metadata": {
    "execution": {
     "iopub.execute_input": "2024-03-25T18:48:55.641074Z",
     "iopub.status.busy": "2024-03-25T18:48:55.640637Z",
     "iopub.status.idle": "2024-03-25T18:49:01.856926Z",
     "shell.execute_reply": "2024-03-25T18:49:01.855817Z"
    },
    "papermill": {
     "duration": 6.233111,
     "end_time": "2024-03-25T18:49:01.859081",
     "exception": false,
     "start_time": "2024-03-25T18:48:55.625970",
     "status": "completed"
    },
    "tags": []
   },
   "outputs": [
    {
     "name": "stdout",
     "output_type": "stream",
     "text": [
      "Training until validation scores don't improve for 50 rounds\n",
      "Early stopping, best iteration is:\n",
      "[41]\tvalid_0's multi_logloss: 1.06599\n"
     ]
    },
    {
     "data": {
      "text/html": [
       "<style>#sk-container-id-2 {color: black;background-color: white;}#sk-container-id-2 pre{padding: 0;}#sk-container-id-2 div.sk-toggleable {background-color: white;}#sk-container-id-2 label.sk-toggleable__label {cursor: pointer;display: block;width: 100%;margin-bottom: 0;padding: 0.3em;box-sizing: border-box;text-align: center;}#sk-container-id-2 label.sk-toggleable__label-arrow:before {content: \"▸\";float: left;margin-right: 0.25em;color: #696969;}#sk-container-id-2 label.sk-toggleable__label-arrow:hover:before {color: black;}#sk-container-id-2 div.sk-estimator:hover label.sk-toggleable__label-arrow:before {color: black;}#sk-container-id-2 div.sk-toggleable__content {max-height: 0;max-width: 0;overflow: hidden;text-align: left;background-color: #f0f8ff;}#sk-container-id-2 div.sk-toggleable__content pre {margin: 0.2em;color: black;border-radius: 0.25em;background-color: #f0f8ff;}#sk-container-id-2 input.sk-toggleable__control:checked~div.sk-toggleable__content {max-height: 200px;max-width: 100%;overflow: auto;}#sk-container-id-2 input.sk-toggleable__control:checked~label.sk-toggleable__label-arrow:before {content: \"▾\";}#sk-container-id-2 div.sk-estimator input.sk-toggleable__control:checked~label.sk-toggleable__label {background-color: #d4ebff;}#sk-container-id-2 div.sk-label input.sk-toggleable__control:checked~label.sk-toggleable__label {background-color: #d4ebff;}#sk-container-id-2 input.sk-hidden--visually {border: 0;clip: rect(1px 1px 1px 1px);clip: rect(1px, 1px, 1px, 1px);height: 1px;margin: -1px;overflow: hidden;padding: 0;position: absolute;width: 1px;}#sk-container-id-2 div.sk-estimator {font-family: monospace;background-color: #f0f8ff;border: 1px dotted black;border-radius: 0.25em;box-sizing: border-box;margin-bottom: 0.5em;}#sk-container-id-2 div.sk-estimator:hover {background-color: #d4ebff;}#sk-container-id-2 div.sk-parallel-item::after {content: \"\";width: 100%;border-bottom: 1px solid gray;flex-grow: 1;}#sk-container-id-2 div.sk-label:hover label.sk-toggleable__label {background-color: #d4ebff;}#sk-container-id-2 div.sk-serial::before {content: \"\";position: absolute;border-left: 1px solid gray;box-sizing: border-box;top: 0;bottom: 0;left: 50%;z-index: 0;}#sk-container-id-2 div.sk-serial {display: flex;flex-direction: column;align-items: center;background-color: white;padding-right: 0.2em;padding-left: 0.2em;position: relative;}#sk-container-id-2 div.sk-item {position: relative;z-index: 1;}#sk-container-id-2 div.sk-parallel {display: flex;align-items: stretch;justify-content: center;background-color: white;position: relative;}#sk-container-id-2 div.sk-item::before, #sk-container-id-2 div.sk-parallel-item::before {content: \"\";position: absolute;border-left: 1px solid gray;box-sizing: border-box;top: 0;bottom: 0;left: 50%;z-index: -1;}#sk-container-id-2 div.sk-parallel-item {display: flex;flex-direction: column;z-index: 1;position: relative;background-color: white;}#sk-container-id-2 div.sk-parallel-item:first-child::after {align-self: flex-end;width: 50%;}#sk-container-id-2 div.sk-parallel-item:last-child::after {align-self: flex-start;width: 50%;}#sk-container-id-2 div.sk-parallel-item:only-child::after {width: 0;}#sk-container-id-2 div.sk-dashed-wrapped {border: 1px dashed gray;margin: 0 0.4em 0.5em 0.4em;box-sizing: border-box;padding-bottom: 0.4em;background-color: white;}#sk-container-id-2 div.sk-label label {font-family: monospace;font-weight: bold;display: inline-block;line-height: 1.2em;}#sk-container-id-2 div.sk-label-container {text-align: center;}#sk-container-id-2 div.sk-container {/* jupyter's `normalize.less` sets `[hidden] { display: none; }` but bootstrap.min.css set `[hidden] { display: none !important; }` so we also need the `!important` here to be able to override the default hidden behavior on the sphinx rendered scikit-learn.org. See: https://github.com/scikit-learn/scikit-learn/issues/21755 */display: inline-block !important;position: relative;}#sk-container-id-2 div.sk-text-repr-fallback {display: none;}</style><div id=\"sk-container-id-2\" class=\"sk-top-container\"><div class=\"sk-text-repr-fallback\"><pre>LGBMClassifier(n_estimators=500, n_jobs=-1, num_class=7, objective=&#x27;multiclass&#x27;,\n",
       "               random_state=43, verbose=-1)</pre><b>In a Jupyter environment, please rerun this cell to show the HTML representation or trust the notebook. <br />On GitHub, the HTML representation is unable to render, please try loading this page with nbviewer.org.</b></div><div class=\"sk-container\" hidden><div class=\"sk-item\"><div class=\"sk-estimator sk-toggleable\"><input class=\"sk-toggleable__control sk-hidden--visually\" id=\"sk-estimator-id-2\" type=\"checkbox\" checked><label for=\"sk-estimator-id-2\" class=\"sk-toggleable__label sk-toggleable__label-arrow\">LGBMClassifier</label><div class=\"sk-toggleable__content\"><pre>LGBMClassifier(n_estimators=500, n_jobs=-1, num_class=7, objective=&#x27;multiclass&#x27;,\n",
       "               random_state=43, verbose=-1)</pre></div></div></div></div></div>"
      ],
      "text/plain": [
       "LGBMClassifier(n_estimators=500, n_jobs=-1, num_class=7, objective='multiclass',\n",
       "               random_state=43, verbose=-1)"
      ]
     },
     "execution_count": 9,
     "metadata": {},
     "output_type": "execute_result"
    }
   ],
   "source": [
    "lg_mc = LGBMClassifier(random_state=43,\n",
    "        objective=\"multiclass\",\n",
    "        n_estimators=500,\n",
    "        num_class=7,\n",
    "        verbose=-1,\n",
    "        n_jobs=-1,\n",
    ")\n",
    "\n",
    "lg_mc.fit(X_train, y_train,\n",
    "        eval_set=[(X_test, y_test)],\n",
    "        callbacks=[lgb.early_stopping(stopping_rounds=50)],\n",
    "    )"
   ]
  },
  {
   "cell_type": "code",
   "execution_count": 10,
   "id": "cf09ae4c",
   "metadata": {
    "execution": {
     "iopub.execute_input": "2024-03-25T18:49:01.888234Z",
     "iopub.status.busy": "2024-03-25T18:49:01.887861Z",
     "iopub.status.idle": "2024-03-25T18:49:02.025406Z",
     "shell.execute_reply": "2024-03-25T18:49:02.024143Z"
    },
    "papermill": {
     "duration": 0.154749,
     "end_time": "2024-03-25T18:49:02.027930",
     "exception": false,
     "start_time": "2024-03-25T18:49:01.873181",
     "status": "completed"
    },
    "tags": []
   },
   "outputs": [
    {
     "data": {
      "text/plain": [
       "0.8554545880034186"
      ]
     },
     "execution_count": 10,
     "metadata": {},
     "output_type": "execute_result"
    }
   ],
   "source": [
    "y_lg_mc = lg_mc.predict_proba(X_test)\n",
    "roc_auc = roc_auc_score(y_test, y_lg_mc, multi_class='ovo')\n",
    "roc_auc"
   ]
  },
  {
   "cell_type": "markdown",
   "id": "4d774cdc",
   "metadata": {
    "papermill": {
     "duration": 0.013917,
     "end_time": "2024-03-25T18:49:02.055621",
     "exception": false,
     "start_time": "2024-03-25T18:49:02.041704",
     "status": "completed"
    },
    "tags": []
   },
   "source": [
    "* Запустите [sklearn VotingClassifier](https://scikit-learn.org/stable/modules/generated/sklearn.ensemble.VotingClassifier.html) (ссылка на доку) с нашими моделями \n",
    "* Измерьте roc_auc"
   ]
  },
  {
   "cell_type": "code",
   "execution_count": 11,
   "id": "3a163808",
   "metadata": {
    "execution": {
     "iopub.execute_input": "2024-03-25T18:49:02.084706Z",
     "iopub.status.busy": "2024-03-25T18:49:02.084288Z",
     "iopub.status.idle": "2024-03-25T18:49:24.660019Z",
     "shell.execute_reply": "2024-03-25T18:49:24.658877Z"
    },
    "papermill": {
     "duration": 22.593293,
     "end_time": "2024-03-25T18:49:24.662510",
     "exception": false,
     "start_time": "2024-03-25T18:49:02.069217",
     "status": "completed"
    },
    "tags": []
   },
   "outputs": [
    {
     "data": {
      "text/plain": [
       "0.860794358943277"
      ]
     },
     "execution_count": 11,
     "metadata": {},
     "output_type": "execute_result"
    }
   ],
   "source": [
    "lg_mc = LGBMClassifier(random_state=43,\n",
    "        objective=\"multiclass\",\n",
    "        n_estimators=50,\n",
    "        verbose=-1,\n",
    "        num_class=7,\n",
    "        n_jobs=-1,\n",
    ")\n",
    "\n",
    "rf_mc = RandomForestClassifier(n_estimators=150, random_state=42)\n",
    "\n",
    "cb_mc = CatBoostClassifier(random_seed=43,\n",
    "                           eval_metric='AUC',\n",
    "                           iterations=260,\n",
    "                           learning_rate=0.1,\n",
    "                           verbose=0,\n",
    "                           )\n",
    "\n",
    "models = [('rf', rf_mc), ('lgbm', lg_mc), ('cb', cb_mc)]\n",
    "\n",
    "voting_soft = VotingClassifier(estimators=models, voting='soft')\n",
    "\n",
    "voting_soft.fit(X_train, y_train)\n",
    "\n",
    "y_pred_proba_soft = voting_soft.predict_proba(X_test)\n",
    "\n",
    "roc_auc = roc_auc_score(y_test, y_pred_proba_soft, multi_class='ovo')\n",
    "roc_auc"
   ]
  },
  {
   "cell_type": "markdown",
   "id": "e251c384",
   "metadata": {
    "papermill": {
     "duration": 0.013319,
     "end_time": "2024-03-25T18:49:24.689459",
     "exception": false,
     "start_time": "2024-03-25T18:49:24.676140",
     "status": "completed"
    },
    "tags": []
   },
   "source": [
    "## Блендинг с весами\n",
    "* Попробуйте добавить веса нашим моделям\n",
    "* Подумайте, какой модели лучше присвоить наибольший вес, а какой наименьший "
   ]
  },
  {
   "cell_type": "code",
   "execution_count": 12,
   "id": "5aff0067",
   "metadata": {
    "execution": {
     "iopub.execute_input": "2024-03-25T18:49:24.718533Z",
     "iopub.status.busy": "2024-03-25T18:49:24.718143Z",
     "iopub.status.idle": "2024-03-25T18:49:47.581435Z",
     "shell.execute_reply": "2024-03-25T18:49:47.580087Z"
    },
    "papermill": {
     "duration": 22.881014,
     "end_time": "2024-03-25T18:49:47.583969",
     "exception": false,
     "start_time": "2024-03-25T18:49:24.702955",
     "status": "completed"
    },
    "tags": []
   },
   "outputs": [
    {
     "data": {
      "text/plain": [
       "(0.8631931357484875, 0.4776063194815121)"
      ]
     },
     "execution_count": 12,
     "metadata": {},
     "output_type": "execute_result"
    }
   ],
   "source": [
    "weights = [0.1, 0.3, 0.6]\n",
    "voting_soft = VotingClassifier(estimators=models, voting='soft', weights=weights)\n",
    "\n",
    "voting_soft.fit(X_train, y_train)\n",
    "\n",
    "y_pred_proba_soft = voting_soft.predict_proba(X_test)\n",
    "y_pred_soft = voting_soft.predict(X_test)\n",
    "\n",
    "roc_auc = roc_auc_score(y_test, y_pred_proba_soft, multi_class='ovo')\n",
    "f1_soft = f1_score(y_test, y_pred_soft, average='macro') # Подсчитаем F1\n",
    "roc_auc, f1_soft"
   ]
  },
  {
   "cell_type": "markdown",
   "id": "c05de2d2",
   "metadata": {
    "papermill": {
     "duration": 0.01334,
     "end_time": "2024-03-25T18:49:47.611074",
     "exception": false,
     "start_time": "2024-03-25T18:49:47.597734",
     "status": "completed"
    },
    "tags": []
   },
   "source": [
    "* Скор подрос - класс"
   ]
  },
  {
   "cell_type": "markdown",
   "id": "ca7f4a97",
   "metadata": {
    "papermill": {
     "duration": 0.01325,
     "end_time": "2024-03-25T18:49:47.637966",
     "exception": false,
     "start_time": "2024-03-25T18:49:47.624716",
     "status": "completed"
    },
    "tags": []
   },
   "source": [
    "# 2. Теперь попробуем сами реализовать hard voting (10 мин)\n",
    "Выбираем самую встречаемую метку из всех предсказаний"
   ]
  },
  {
   "cell_type": "markdown",
   "id": "15b41274",
   "metadata": {
    "papermill": {
     "duration": 0.01315,
     "end_time": "2024-03-25T18:49:47.664522",
     "exception": false,
     "start_time": "2024-03-25T18:49:47.651372",
     "status": "completed"
    },
    "tags": []
   },
   "source": [
    "Нам нужно предиктить не вероятности, а значение класса. \n",
    "\n",
    "Измерим качество метрикой [f1 score](https://scikit-learn.org/stable/modules/generated/sklearn.metrics.f1_score.html)."
   ]
  },
  {
   "cell_type": "code",
   "execution_count": 13,
   "id": "a590e317",
   "metadata": {
    "execution": {
     "iopub.execute_input": "2024-03-25T18:49:47.693500Z",
     "iopub.status.busy": "2024-03-25T18:49:47.693119Z",
     "iopub.status.idle": "2024-03-25T18:49:59.286164Z",
     "shell.execute_reply": "2024-03-25T18:49:59.284979Z"
    },
    "papermill": {
     "duration": 11.610674,
     "end_time": "2024-03-25T18:49:59.288697",
     "exception": false,
     "start_time": "2024-03-25T18:49:47.678023",
     "status": "completed"
    },
    "tags": []
   },
   "outputs": [
    {
     "data": {
      "text/plain": [
       "0.43421859356527065"
      ]
     },
     "execution_count": 13,
     "metadata": {},
     "output_type": "execute_result"
    }
   ],
   "source": [
    "rf_mc = RandomForestClassifier(n_estimators=150, random_state=42)\n",
    "\n",
    "rf_mc.fit(X_train, y_train)\n",
    "\n",
    "rf_preds = rf_mc.predict(X_test)\n",
    "f1_score(y_test, rf_preds, average='macro')"
   ]
  },
  {
   "cell_type": "code",
   "execution_count": 14,
   "id": "61be94fa",
   "metadata": {
    "execution": {
     "iopub.execute_input": "2024-03-25T18:49:59.395072Z",
     "iopub.status.busy": "2024-03-25T18:49:59.394164Z",
     "iopub.status.idle": "2024-03-25T18:50:12.605805Z",
     "shell.execute_reply": "2024-03-25T18:50:12.604792Z"
    },
    "papermill": {
     "duration": 13.229232,
     "end_time": "2024-03-25T18:50:12.607951",
     "exception": false,
     "start_time": "2024-03-25T18:49:59.378719",
     "status": "completed"
    },
    "tags": []
   },
   "outputs": [
    {
     "name": "stdout",
     "output_type": "stream",
     "text": [
      "0:\ttest: 0.7906086\tbest: 0.7906086 (0)\ttotal: 55.1ms\tremaining: 55s\n",
      "50:\ttest: 0.9128485\tbest: 0.9128485 (50)\ttotal: 1.98s\tremaining: 36.8s\n",
      "100:\ttest: 0.9178482\tbest: 0.9178482 (100)\ttotal: 3.8s\tremaining: 33.9s\n",
      "150:\ttest: 0.9191680\tbest: 0.9192460 (148)\ttotal: 5.59s\tremaining: 31.4s\n",
      "200:\ttest: 0.9192138\tbest: 0.9193226 (171)\ttotal: 7.35s\tremaining: 29.2s\n",
      "250:\ttest: 0.9194266\tbest: 0.9196873 (222)\ttotal: 9.11s\tremaining: 27.2s\n",
      "300:\ttest: 0.9190907\tbest: 0.9197072 (259)\ttotal: 11s\tremaining: 25.5s\n",
      "350:\ttest: 0.9188507\tbest: 0.9197072 (259)\ttotal: 12.7s\tremaining: 23.6s\n",
      "Stopped by overfitting detector  (100 iterations wait)\n",
      "\n",
      "bestTest = 0.9197071666\n",
      "bestIteration = 259\n",
      "\n",
      "Shrink model to first 260 iterations.\n",
      "CPU times: user 48 s, sys: 1.45 s, total: 49.5 s\n",
      "Wall time: 13.2 s\n"
     ]
    },
    {
     "data": {
      "text/plain": [
       "<catboost.core.CatBoostClassifier at 0x7f3c71157a90>"
      ]
     },
     "execution_count": 14,
     "metadata": {},
     "output_type": "execute_result"
    }
   ],
   "source": [
    "%%time\n",
    "cb_mc = CatBoostClassifier(random_seed=43,\n",
    "                           eval_metric='AUC',\n",
    "                           learning_rate=0.1,\n",
    "                           task_type='CPU', # по умолчанию\n",
    "                           thread_count=-1, # по умолчанию\n",
    "                           )\n",
    "\n",
    "cb_mc.fit(X_train, y_train, eval_set=(X_test, y_test),\n",
    "          verbose=50, early_stopping_rounds=100)"
   ]
  },
  {
   "cell_type": "code",
   "execution_count": 15,
   "id": "334223c8",
   "metadata": {
    "execution": {
     "iopub.execute_input": "2024-03-25T18:50:12.641511Z",
     "iopub.status.busy": "2024-03-25T18:50:12.641108Z",
     "iopub.status.idle": "2024-03-25T18:50:12.663878Z",
     "shell.execute_reply": "2024-03-25T18:50:12.662691Z"
    },
    "papermill": {
     "duration": 0.041387,
     "end_time": "2024-03-25T18:50:12.666268",
     "exception": false,
     "start_time": "2024-03-25T18:50:12.624881",
     "status": "completed"
    },
    "tags": []
   },
   "outputs": [
    {
     "data": {
      "text/plain": [
       "0.47698032401709123"
      ]
     },
     "execution_count": 15,
     "metadata": {},
     "output_type": "execute_result"
    }
   ],
   "source": [
    "y_cb_mc = cb_mc.predict(X_test).ravel()\n",
    "f1_cb = f1_score(y_test, y_cb_mc, average='macro')\n",
    "f1_cb"
   ]
  },
  {
   "cell_type": "code",
   "execution_count": 16,
   "id": "e4d07144",
   "metadata": {
    "execution": {
     "iopub.execute_input": "2024-03-25T18:50:12.698043Z",
     "iopub.status.busy": "2024-03-25T18:50:12.697605Z",
     "iopub.status.idle": "2024-03-25T18:50:17.863559Z",
     "shell.execute_reply": "2024-03-25T18:50:17.862191Z"
    },
    "papermill": {
     "duration": 5.185006,
     "end_time": "2024-03-25T18:50:17.866098",
     "exception": false,
     "start_time": "2024-03-25T18:50:12.681092",
     "status": "completed"
    },
    "tags": []
   },
   "outputs": [
    {
     "name": "stdout",
     "output_type": "stream",
     "text": [
      "Training until validation scores don't improve for 50 rounds\n",
      "Early stopping, best iteration is:\n",
      "[41]\tvalid_0's multi_logloss: 1.06599\n",
      "CPU times: user 5.14 s, sys: 11.4 ms, total: 5.15 s\n",
      "Wall time: 5.16 s\n"
     ]
    },
    {
     "data": {
      "text/html": [
       "<style>#sk-container-id-3 {color: black;background-color: white;}#sk-container-id-3 pre{padding: 0;}#sk-container-id-3 div.sk-toggleable {background-color: white;}#sk-container-id-3 label.sk-toggleable__label {cursor: pointer;display: block;width: 100%;margin-bottom: 0;padding: 0.3em;box-sizing: border-box;text-align: center;}#sk-container-id-3 label.sk-toggleable__label-arrow:before {content: \"▸\";float: left;margin-right: 0.25em;color: #696969;}#sk-container-id-3 label.sk-toggleable__label-arrow:hover:before {color: black;}#sk-container-id-3 div.sk-estimator:hover label.sk-toggleable__label-arrow:before {color: black;}#sk-container-id-3 div.sk-toggleable__content {max-height: 0;max-width: 0;overflow: hidden;text-align: left;background-color: #f0f8ff;}#sk-container-id-3 div.sk-toggleable__content pre {margin: 0.2em;color: black;border-radius: 0.25em;background-color: #f0f8ff;}#sk-container-id-3 input.sk-toggleable__control:checked~div.sk-toggleable__content {max-height: 200px;max-width: 100%;overflow: auto;}#sk-container-id-3 input.sk-toggleable__control:checked~label.sk-toggleable__label-arrow:before {content: \"▾\";}#sk-container-id-3 div.sk-estimator input.sk-toggleable__control:checked~label.sk-toggleable__label {background-color: #d4ebff;}#sk-container-id-3 div.sk-label input.sk-toggleable__control:checked~label.sk-toggleable__label {background-color: #d4ebff;}#sk-container-id-3 input.sk-hidden--visually {border: 0;clip: rect(1px 1px 1px 1px);clip: rect(1px, 1px, 1px, 1px);height: 1px;margin: -1px;overflow: hidden;padding: 0;position: absolute;width: 1px;}#sk-container-id-3 div.sk-estimator {font-family: monospace;background-color: #f0f8ff;border: 1px dotted black;border-radius: 0.25em;box-sizing: border-box;margin-bottom: 0.5em;}#sk-container-id-3 div.sk-estimator:hover {background-color: #d4ebff;}#sk-container-id-3 div.sk-parallel-item::after {content: \"\";width: 100%;border-bottom: 1px solid gray;flex-grow: 1;}#sk-container-id-3 div.sk-label:hover label.sk-toggleable__label {background-color: #d4ebff;}#sk-container-id-3 div.sk-serial::before {content: \"\";position: absolute;border-left: 1px solid gray;box-sizing: border-box;top: 0;bottom: 0;left: 50%;z-index: 0;}#sk-container-id-3 div.sk-serial {display: flex;flex-direction: column;align-items: center;background-color: white;padding-right: 0.2em;padding-left: 0.2em;position: relative;}#sk-container-id-3 div.sk-item {position: relative;z-index: 1;}#sk-container-id-3 div.sk-parallel {display: flex;align-items: stretch;justify-content: center;background-color: white;position: relative;}#sk-container-id-3 div.sk-item::before, #sk-container-id-3 div.sk-parallel-item::before {content: \"\";position: absolute;border-left: 1px solid gray;box-sizing: border-box;top: 0;bottom: 0;left: 50%;z-index: -1;}#sk-container-id-3 div.sk-parallel-item {display: flex;flex-direction: column;z-index: 1;position: relative;background-color: white;}#sk-container-id-3 div.sk-parallel-item:first-child::after {align-self: flex-end;width: 50%;}#sk-container-id-3 div.sk-parallel-item:last-child::after {align-self: flex-start;width: 50%;}#sk-container-id-3 div.sk-parallel-item:only-child::after {width: 0;}#sk-container-id-3 div.sk-dashed-wrapped {border: 1px dashed gray;margin: 0 0.4em 0.5em 0.4em;box-sizing: border-box;padding-bottom: 0.4em;background-color: white;}#sk-container-id-3 div.sk-label label {font-family: monospace;font-weight: bold;display: inline-block;line-height: 1.2em;}#sk-container-id-3 div.sk-label-container {text-align: center;}#sk-container-id-3 div.sk-container {/* jupyter's `normalize.less` sets `[hidden] { display: none; }` but bootstrap.min.css set `[hidden] { display: none !important; }` so we also need the `!important` here to be able to override the default hidden behavior on the sphinx rendered scikit-learn.org. See: https://github.com/scikit-learn/scikit-learn/issues/21755 */display: inline-block !important;position: relative;}#sk-container-id-3 div.sk-text-repr-fallback {display: none;}</style><div id=\"sk-container-id-3\" class=\"sk-top-container\"><div class=\"sk-text-repr-fallback\"><pre>LGBMClassifier(n_estimators=500, n_jobs=-1, num_class=8, objective=&#x27;multiclass&#x27;,\n",
       "               random_state=43, verbose=-1)</pre><b>In a Jupyter environment, please rerun this cell to show the HTML representation or trust the notebook. <br />On GitHub, the HTML representation is unable to render, please try loading this page with nbviewer.org.</b></div><div class=\"sk-container\" hidden><div class=\"sk-item\"><div class=\"sk-estimator sk-toggleable\"><input class=\"sk-toggleable__control sk-hidden--visually\" id=\"sk-estimator-id-3\" type=\"checkbox\" checked><label for=\"sk-estimator-id-3\" class=\"sk-toggleable__label sk-toggleable__label-arrow\">LGBMClassifier</label><div class=\"sk-toggleable__content\"><pre>LGBMClassifier(n_estimators=500, n_jobs=-1, num_class=8, objective=&#x27;multiclass&#x27;,\n",
       "               random_state=43, verbose=-1)</pre></div></div></div></div></div>"
      ],
      "text/plain": [
       "LGBMClassifier(n_estimators=500, n_jobs=-1, num_class=8, objective='multiclass',\n",
       "               random_state=43, verbose=-1)"
      ]
     },
     "execution_count": 16,
     "metadata": {},
     "output_type": "execute_result"
    }
   ],
   "source": [
    "%%time\n",
    "lg_mc = LGBMClassifier(random_state=43,\n",
    "        objective=\"multiclass\",\n",
    "        n_estimators=500,\n",
    "        num_class=8,\n",
    "        verbose=-1,\n",
    "        n_jobs=-1,\n",
    ")\n",
    "\n",
    "lg_mc.fit(X_train, y_train,\n",
    "        eval_set=[(X_test, y_test)],\n",
    "        callbacks=[lgb.early_stopping(stopping_rounds=50)],\n",
    "    )"
   ]
  },
  {
   "cell_type": "code",
   "execution_count": 17,
   "id": "ef35795b",
   "metadata": {
    "execution": {
     "iopub.execute_input": "2024-03-25T18:50:17.900746Z",
     "iopub.status.busy": "2024-03-25T18:50:17.900285Z",
     "iopub.status.idle": "2024-03-25T18:50:18.000661Z",
     "shell.execute_reply": "2024-03-25T18:50:17.999320Z"
    },
    "papermill": {
     "duration": 0.121776,
     "end_time": "2024-03-25T18:50:18.003367",
     "exception": false,
     "start_time": "2024-03-25T18:50:17.881591",
     "status": "completed"
    },
    "tags": []
   },
   "outputs": [
    {
     "data": {
      "text/plain": [
       "0.47688686133400016"
      ]
     },
     "execution_count": 17,
     "metadata": {},
     "output_type": "execute_result"
    }
   ],
   "source": [
    "y_lg_mc = lg_mc.predict(X_test)\n",
    "f1_lg = f1_score(y_test, y_lg_mc, average='macro')\n",
    "f1_lg"
   ]
  },
  {
   "cell_type": "markdown",
   "id": "d42623c0",
   "metadata": {
    "papermill": {
     "duration": 0.016575,
     "end_time": "2024-03-25T18:50:18.035115",
     "exception": false,
     "start_time": "2024-03-25T18:50:18.018540",
     "status": "completed"
    },
    "tags": []
   },
   "source": [
    "Мы получили hard labels предсказания. Они хранятся в переменных `y_cb_mc`, `y_lg_mc`, `rf_preds`.\n",
    "\n",
    "Сделайте бленд решением большинства, например с помощью [функции `mode`](https://docs.scipy.org/doc/scipy/reference/generated/scipy.stats.mode.html) из `scipy` или другим способом."
   ]
  },
  {
   "cell_type": "code",
   "execution_count": 18,
   "id": "c5dd398f",
   "metadata": {
    "execution": {
     "iopub.execute_input": "2024-03-25T18:50:18.068367Z",
     "iopub.status.busy": "2024-03-25T18:50:18.067302Z",
     "iopub.status.idle": "2024-03-25T18:50:18.075122Z",
     "shell.execute_reply": "2024-03-25T18:50:18.074157Z"
    },
    "papermill": {
     "duration": 0.026545,
     "end_time": "2024-03-25T18:50:18.077265",
     "exception": false,
     "start_time": "2024-03-25T18:50:18.050720",
     "status": "completed"
    },
    "tags": []
   },
   "outputs": [
    {
     "data": {
      "text/plain": [
       "array([[1, 6, 5, ..., 3, 6, 1],\n",
       "       [6, 1, 5, ..., 3, 5, 1],\n",
       "       [1, 1, 5, ..., 3, 5, 1]])"
      ]
     },
     "execution_count": 18,
     "metadata": {},
     "output_type": "execute_result"
    }
   ],
   "source": [
    "from scipy.stats import mode\n",
    "\n",
    "predictions = np.vstack((rf_preds, y_cb_mc, y_lg_mc))\n",
    "predictions"
   ]
  },
  {
   "cell_type": "code",
   "execution_count": 19,
   "id": "9e2ac771",
   "metadata": {
    "execution": {
     "iopub.execute_input": "2024-03-25T18:50:18.109585Z",
     "iopub.status.busy": "2024-03-25T18:50:18.108813Z",
     "iopub.status.idle": "2024-03-25T18:50:18.292109Z",
     "shell.execute_reply": "2024-03-25T18:50:18.291121Z"
    },
    "papermill": {
     "duration": 0.202286,
     "end_time": "2024-03-25T18:50:18.294604",
     "exception": false,
     "start_time": "2024-03-25T18:50:18.092318",
     "status": "completed"
    },
    "tags": []
   },
   "outputs": [],
   "source": [
    "hard_voting_predictions, _ = mode(predictions, axis=0)"
   ]
  },
  {
   "cell_type": "code",
   "execution_count": 20,
   "id": "fb474b77",
   "metadata": {
    "execution": {
     "iopub.execute_input": "2024-03-25T18:50:18.327142Z",
     "iopub.status.busy": "2024-03-25T18:50:18.326454Z",
     "iopub.status.idle": "2024-03-25T18:50:18.337370Z",
     "shell.execute_reply": "2024-03-25T18:50:18.336261Z"
    },
    "papermill": {
     "duration": 0.029712,
     "end_time": "2024-03-25T18:50:18.339529",
     "exception": false,
     "start_time": "2024-03-25T18:50:18.309817",
     "status": "completed"
    },
    "tags": []
   },
   "outputs": [
    {
     "data": {
      "text/plain": [
       "0.46310167269489755"
      ]
     },
     "execution_count": 20,
     "metadata": {},
     "output_type": "execute_result"
    }
   ],
   "source": [
    "f1_hard = f1_score(y_test, hard_voting_predictions, average='macro')\n",
    "f1_hard"
   ]
  },
  {
   "cell_type": "markdown",
   "id": "562fd004",
   "metadata": {
    "papermill": {
     "duration": 0.015604,
     "end_time": "2024-03-25T18:50:18.370342",
     "exception": false,
     "start_time": "2024-03-25T18:50:18.354738",
     "status": "completed"
    },
    "tags": []
   },
   "source": [
    "# 3. Бленд в задаче мультилейбл. (10 мин)"
   ]
  },
  {
   "cell_type": "code",
   "execution_count": 21,
   "id": "1932d383",
   "metadata": {
    "execution": {
     "iopub.execute_input": "2024-03-25T18:50:18.404054Z",
     "iopub.status.busy": "2024-03-25T18:50:18.403274Z",
     "iopub.status.idle": "2024-03-25T18:50:18.417054Z",
     "shell.execute_reply": "2024-03-25T18:50:18.415832Z"
    },
    "papermill": {
     "duration": 0.033556,
     "end_time": "2024-03-25T18:50:18.419726",
     "exception": false,
     "start_time": "2024-03-25T18:50:18.386170",
     "status": "completed"
    },
    "tags": []
   },
   "outputs": [],
   "source": [
    "targets = ['Pastry', 'Z_Scratch', 'K_Scatch', 'Stains', 'Dirtiness', 'Bumps', 'Other_Faults']\n",
    "\n",
    "X = train.drop(columns=targets + ['target', 'id'])\n",
    "y = train[targets]"
   ]
  },
  {
   "cell_type": "code",
   "execution_count": 22,
   "id": "face03cd",
   "metadata": {
    "execution": {
     "iopub.execute_input": "2024-03-25T18:50:18.452240Z",
     "iopub.status.busy": "2024-03-25T18:50:18.451881Z",
     "iopub.status.idle": "2024-03-25T18:50:18.465673Z",
     "shell.execute_reply": "2024-03-25T18:50:18.464721Z"
    },
    "papermill": {
     "duration": 0.033085,
     "end_time": "2024-03-25T18:50:18.468284",
     "exception": false,
     "start_time": "2024-03-25T18:50:18.435199",
     "status": "completed"
    },
    "tags": []
   },
   "outputs": [],
   "source": [
    "X_train, X_test, y_train, y_test = train_test_split(X, y, test_size=0.2,\n",
    "                                                  random_state=43)"
   ]
  },
  {
   "cell_type": "markdown",
   "id": "c97eae67",
   "metadata": {
    "papermill": {
     "duration": 0.014906,
     "end_time": "2024-03-25T18:50:18.498917",
     "exception": false,
     "start_time": "2024-03-25T18:50:18.484011",
     "status": "completed"
    },
    "tags": []
   },
   "source": [
    "Приведите предсказания y_pred_proba в нужный для нас формат\n"
   ]
  },
  {
   "cell_type": "code",
   "execution_count": 23,
   "id": "9bbab5c3",
   "metadata": {
    "execution": {
     "iopub.execute_input": "2024-03-25T18:50:18.531335Z",
     "iopub.status.busy": "2024-03-25T18:50:18.530960Z",
     "iopub.status.idle": "2024-03-25T18:50:29.746687Z",
     "shell.execute_reply": "2024-03-25T18:50:29.745387Z"
    },
    "papermill": {
     "duration": 11.234992,
     "end_time": "2024-03-25T18:50:29.749197",
     "exception": false,
     "start_time": "2024-03-25T18:50:18.514205",
     "status": "completed"
    },
    "tags": []
   },
   "outputs": [
    {
     "data": {
      "text/plain": [
       "0.8696074513197496"
      ]
     },
     "execution_count": 23,
     "metadata": {},
     "output_type": "execute_result"
    }
   ],
   "source": [
    "clf_rf = RandomForestClassifier(n_estimators=80, random_state=42)\n",
    "\n",
    "clf_rf.fit(X_train, y_train)\n",
    "\n",
    "y_pred_proba = clf_rf.predict_proba(X_test)\n",
    "\n",
    "y_pred_proba = [element[:, 1].reshape(-1, 1) for element in y_pred_proba]\n",
    "y_pred_proba_rf = np.hstack(y_pred_proba)\n",
    "\n",
    "roc_auc = roc_auc_score(y_test, y_pred_proba_rf, multi_class='ovo')\n",
    "roc_auc"
   ]
  },
  {
   "cell_type": "code",
   "execution_count": 24,
   "id": "854b2b8b",
   "metadata": {
    "execution": {
     "iopub.execute_input": "2024-03-25T18:50:29.784230Z",
     "iopub.status.busy": "2024-03-25T18:50:29.783867Z",
     "iopub.status.idle": "2024-03-25T18:50:31.915296Z",
     "shell.execute_reply": "2024-03-25T18:50:31.913953Z"
    },
    "papermill": {
     "duration": 2.151781,
     "end_time": "2024-03-25T18:50:31.918133",
     "exception": false,
     "start_time": "2024-03-25T18:50:29.766352",
     "status": "completed"
    },
    "tags": []
   },
   "outputs": [
    {
     "name": "stdout",
     "output_type": "stream",
     "text": [
      "[0]\tvalidation_0-logloss:0.32725\tvalidation_1-logloss:0.33221\n",
      "[5]\tvalidation_0-logloss:0.22112\tvalidation_1-logloss:0.24060\n",
      "[10]\tvalidation_0-logloss:0.19573\tvalidation_1-logloss:0.22735\n",
      "[15]\tvalidation_0-logloss:0.18297\tvalidation_1-logloss:0.22570\n",
      "[20]\tvalidation_0-logloss:0.17415\tvalidation_1-logloss:0.22625\n",
      "[25]\tvalidation_0-logloss:0.16567\tvalidation_1-logloss:0.22759\n",
      "[26]\tvalidation_0-logloss:0.16407\tvalidation_1-logloss:0.22792\n"
     ]
    },
    {
     "data": {
      "text/plain": [
       "0.8786061873598214"
      ]
     },
     "execution_count": 24,
     "metadata": {},
     "output_type": "execute_result"
    }
   ],
   "source": [
    "clf_xb = xgb.XGBClassifier(tree_method=\"hist\",\n",
    "                        seed=42,\n",
    "                        n_estimators=80,\n",
    "                        early_stopping_rounds=10,\n",
    "                       )\n",
    "eval_set = [(X_train, y_train), (X_test, y_test)]\n",
    "clf_xb.fit(X_train, y_train, eval_set=eval_set, verbose=5)\n",
    "\n",
    "y_pred_proba_xb = clf_xb.predict_proba(X_test)\n",
    "roc_auc = roc_auc_score(y_test, y_pred_proba_xb, multi_class='ovo')\n",
    "roc_auc"
   ]
  },
  {
   "cell_type": "markdown",
   "id": "1d87ca69",
   "metadata": {
    "papermill": {
     "duration": 0.019629,
     "end_time": "2024-03-25T18:50:31.954524",
     "exception": false,
     "start_time": "2024-03-25T18:50:31.934895",
     "status": "completed"
    },
    "tags": []
   },
   "source": [
    "* Какую лосс-функцию надо передать в [Катбуст](https://catboost.ai/en/docs/concepts/loss-functions), чтобы запустилось мультилэйбл обучение?"
   ]
  },
  {
   "cell_type": "code",
   "execution_count": 25,
   "id": "ef072f78",
   "metadata": {
    "execution": {
     "iopub.execute_input": "2024-03-25T18:50:31.989639Z",
     "iopub.status.busy": "2024-03-25T18:50:31.989238Z",
     "iopub.status.idle": "2024-03-25T18:50:45.451883Z",
     "shell.execute_reply": "2024-03-25T18:50:45.450631Z"
    },
    "papermill": {
     "duration": 13.483536,
     "end_time": "2024-03-25T18:50:45.454319",
     "exception": false,
     "start_time": "2024-03-25T18:50:31.970783",
     "status": "completed"
    },
    "tags": []
   },
   "outputs": [
    {
     "name": "stdout",
     "output_type": "stream",
     "text": [
      "Learning rate set to 0.062221\n",
      "0:\tlearn: 0.5980770\ttest: 0.5976106\tbest: 0.5976106 (0)\ttotal: 78.8ms\tremaining: 1m 18s\n",
      "50:\tlearn: 0.2222342\ttest: 0.2268459\tbest: 0.2268459 (50)\ttotal: 2.65s\tremaining: 49.3s\n",
      "100:\tlearn: 0.2114079\ttest: 0.2226119\tbest: 0.2226119 (100)\ttotal: 5.21s\tremaining: 46.4s\n",
      "150:\tlearn: 0.2046259\ttest: 0.2216911\tbest: 0.2216900 (149)\ttotal: 7.78s\tremaining: 43.8s\n",
      "200:\tlearn: 0.1979215\ttest: 0.2211451\tbest: 0.2211451 (200)\ttotal: 10.3s\tremaining: 40.9s\n",
      "250:\tlearn: 0.1920818\ttest: 0.2210089\tbest: 0.2209226 (211)\ttotal: 12.8s\tremaining: 38.1s\n",
      "Stopped by overfitting detector  (50 iterations wait)\n",
      "\n",
      "bestTest = 0.2209225926\n",
      "bestIteration = 211\n",
      "\n",
      "Shrink model to first 212 iterations.\n"
     ]
    },
    {
     "data": {
      "text/plain": [
       "0.8843693782401463"
      ]
     },
     "execution_count": 25,
     "metadata": {},
     "output_type": "execute_result"
    }
   ],
   "source": [
    "clf_cb = CatBoostClassifier(random_seed=42,\n",
    "                         #iterations=200,\n",
    "                         early_stopping_rounds=50,\n",
    "                         loss_function='MultiLogloss',\n",
    "                         verbose=50)\n",
    "\n",
    "clf_cb.fit(X_train, y_train, eval_set=(X_test, y_test))\n",
    "\n",
    "y_pred_proba_cb = clf_cb.predict_proba(X_test)\n",
    "\n",
    "roc_auc = roc_auc_score(y_test, y_pred_proba_cb, multi_class='ovo')\n",
    "roc_auc"
   ]
  },
  {
   "cell_type": "markdown",
   "id": "97edfc2b",
   "metadata": {
    "papermill": {
     "duration": 0.017955,
     "end_time": "2024-03-25T18:50:45.489543",
     "exception": false,
     "start_time": "2024-03-25T18:50:45.471588",
     "status": "completed"
    },
    "tags": []
   },
   "source": [
    "* Сделайте бленд, посчитав среднее между тремя предсказаниями\n",
    "* Посчитайте roc_auc"
   ]
  },
  {
   "cell_type": "code",
   "execution_count": 26,
   "id": "c74d67de",
   "metadata": {
    "execution": {
     "iopub.execute_input": "2024-03-25T18:50:45.524731Z",
     "iopub.status.busy": "2024-03-25T18:50:45.524278Z",
     "iopub.status.idle": "2024-03-25T18:50:45.547302Z",
     "shell.execute_reply": "2024-03-25T18:50:45.546205Z"
    },
    "papermill": {
     "duration": 0.043594,
     "end_time": "2024-03-25T18:50:45.549647",
     "exception": false,
     "start_time": "2024-03-25T18:50:45.506053",
     "status": "completed"
    },
    "tags": []
   },
   "outputs": [
    {
     "data": {
      "text/plain": [
       "0.8847122723547554"
      ]
     },
     "execution_count": 26,
     "metadata": {},
     "output_type": "execute_result"
    }
   ],
   "source": [
    "voting_predictions = (y_pred_proba_cb + y_pred_proba_xb + y_pred_proba_rf) / 3\n",
    "\n",
    "roc_auc = roc_auc_score(y_test, voting_predictions, multi_class='ovo')\n",
    "roc_auc"
   ]
  },
  {
   "cell_type": "code",
   "execution_count": 27,
   "id": "d1607d4a",
   "metadata": {
    "execution": {
     "iopub.execute_input": "2024-03-25T18:50:45.585529Z",
     "iopub.status.busy": "2024-03-25T18:50:45.585136Z",
     "iopub.status.idle": "2024-03-25T18:50:45.606498Z",
     "shell.execute_reply": "2024-03-25T18:50:45.605455Z"
    },
    "papermill": {
     "duration": 0.042045,
     "end_time": "2024-03-25T18:50:45.608951",
     "exception": false,
     "start_time": "2024-03-25T18:50:45.566906",
     "status": "completed"
    },
    "tags": []
   },
   "outputs": [
    {
     "data": {
      "text/plain": [
       "0.8856574629041921"
      ]
     },
     "execution_count": 27,
     "metadata": {},
     "output_type": "execute_result"
    }
   ],
   "source": [
    "voting_predictions = y_pred_proba_cb * 0.5 + y_pred_proba_xb * 0.4 + y_pred_proba_rf * 0.1\n",
    "\n",
    "roc_auc = roc_auc_score(y_test, voting_predictions, multi_class='ovo')\n",
    "roc_auc"
   ]
  },
  {
   "cell_type": "markdown",
   "id": "ae75f457",
   "metadata": {
    "papermill": {
     "duration": 0.017354,
     "end_time": "2024-03-25T18:50:45.643315",
     "exception": false,
     "start_time": "2024-03-25T18:50:45.625961",
     "status": "completed"
    },
    "tags": []
   },
   "source": [
    "# 4. Бленд с весами. Оптимизация значений весов (10 мин)."
   ]
  },
  {
   "cell_type": "markdown",
   "id": "cc4f3cd1",
   "metadata": {
    "papermill": {
     "duration": 0.018033,
     "end_time": "2024-03-25T18:50:45.678358",
     "exception": false,
     "start_time": "2024-03-25T18:50:45.660325",
     "status": "completed"
    },
    "tags": []
   },
   "source": [
    "* Мы можем добавить веса каждому из пресказаний бленда\n",
    "* Подберем оптюной значения весов"
   ]
  },
  {
   "cell_type": "code",
   "execution_count": 28,
   "id": "13cb142d",
   "metadata": {
    "execution": {
     "iopub.execute_input": "2024-03-25T18:50:45.713821Z",
     "iopub.status.busy": "2024-03-25T18:50:45.713413Z",
     "iopub.status.idle": "2024-03-25T18:50:45.904260Z",
     "shell.execute_reply": "2024-03-25T18:50:45.903332Z"
    },
    "papermill": {
     "duration": 0.211283,
     "end_time": "2024-03-25T18:50:45.906652",
     "exception": false,
     "start_time": "2024-03-25T18:50:45.695369",
     "status": "completed"
    },
    "tags": []
   },
   "outputs": [],
   "source": [
    "import optuna\n",
    "\n",
    "optuna.logging.set_verbosity(optuna.logging.ERROR)\n",
    "def objective(trial):\n",
    "\n",
    "    a = trial.suggest_float('a', 0, 1)\n",
    "    b = trial.suggest_float('b', 0, 1 - a)\n",
    "    c = 1 - a - b\n",
    "    \n",
    "    voting_predictions = a * y_pred_proba_cb + b * y_pred_proba_xb + c * y_pred_proba_rf\n",
    "    \n",
    "    roc_auc = roc_auc_score(y_test, voting_predictions, multi_class='ovo')\n",
    "    \n",
    "    return roc_auc"
   ]
  },
  {
   "cell_type": "code",
   "execution_count": 29,
   "id": "b7fb5db3",
   "metadata": {
    "execution": {
     "iopub.execute_input": "2024-03-25T18:50:45.942857Z",
     "iopub.status.busy": "2024-03-25T18:50:45.941703Z",
     "iopub.status.idle": "2024-03-25T18:51:18.122609Z",
     "shell.execute_reply": "2024-03-25T18:51:18.121274Z"
    },
    "papermill": {
     "duration": 32.201608,
     "end_time": "2024-03-25T18:51:18.125134",
     "exception": false,
     "start_time": "2024-03-25T18:50:45.923526",
     "status": "completed"
    },
    "tags": []
   },
   "outputs": [
    {
     "name": "stderr",
     "output_type": "stream",
     "text": [
      "/opt/conda/lib/python3.10/site-packages/optuna/samplers/_tpe/sampler.py:529: RuntimeWarning: invalid value encountered in subtract\n",
      "  acq_func_vals = log_likelihoods_below - log_likelihoods_above\n",
      "/opt/conda/lib/python3.10/site-packages/optuna/samplers/_tpe/sampler.py:529: RuntimeWarning: invalid value encountered in subtract\n",
      "  acq_func_vals = log_likelihoods_below - log_likelihoods_above\n",
      "/opt/conda/lib/python3.10/site-packages/optuna/samplers/_tpe/sampler.py:529: RuntimeWarning: invalid value encountered in subtract\n",
      "  acq_func_vals = log_likelihoods_below - log_likelihoods_above\n",
      "/opt/conda/lib/python3.10/site-packages/optuna/samplers/_tpe/sampler.py:529: RuntimeWarning: invalid value encountered in subtract\n",
      "  acq_func_vals = log_likelihoods_below - log_likelihoods_above\n"
     ]
    },
    {
     "data": {
      "text/plain": [
       "{'a': 0.5979961063539885, 'b': 0.27531083356672875}"
      ]
     },
     "execution_count": 29,
     "metadata": {},
     "output_type": "execute_result"
    }
   ],
   "source": [
    "study = optuna.create_study(direction='maximize')\n",
    "study.optimize(objective, n_trials=1000)\n",
    "\n",
    "best_weights = study.best_params\n",
    "best_weights"
   ]
  },
  {
   "cell_type": "code",
   "execution_count": 30,
   "id": "ae7dc947",
   "metadata": {
    "execution": {
     "iopub.execute_input": "2024-03-25T18:51:18.163021Z",
     "iopub.status.busy": "2024-03-25T18:51:18.162583Z",
     "iopub.status.idle": "2024-03-25T18:51:18.185735Z",
     "shell.execute_reply": "2024-03-25T18:51:18.184542Z"
    },
    "papermill": {
     "duration": 0.045489,
     "end_time": "2024-03-25T18:51:18.188204",
     "exception": false,
     "start_time": "2024-03-25T18:51:18.142715",
     "status": "completed"
    },
    "tags": []
   },
   "outputs": [
    {
     "data": {
      "text/plain": [
       "0.8859283722298007"
      ]
     },
     "execution_count": 30,
     "metadata": {},
     "output_type": "execute_result"
    }
   ],
   "source": [
    "best_a = best_weights['a']\n",
    "best_b = best_weights['b']\n",
    "best_c = 1 - best_a - best_b\n",
    "\n",
    "best_voting_predictions = best_a * y_pred_proba_cb + best_b * y_pred_proba_xb + best_c * y_pred_proba_rf\n",
    "\n",
    "best_roc_auc = roc_auc_score(y_test, best_voting_predictions, multi_class='ovo')\n",
    "best_roc_auc"
   ]
  },
  {
   "cell_type": "markdown",
   "id": "bd55cd30",
   "metadata": {
    "papermill": {
     "duration": 0.017837,
     "end_time": "2024-03-25T18:51:18.224133",
     "exception": false,
     "start_time": "2024-03-25T18:51:18.206296",
     "status": "completed"
    },
    "tags": []
   },
   "source": [
    "* Выведите на экран, какие веса мы подобрали"
   ]
  },
  {
   "cell_type": "code",
   "execution_count": 31,
   "id": "44136178",
   "metadata": {
    "execution": {
     "iopub.execute_input": "2024-03-25T18:51:18.262429Z",
     "iopub.status.busy": "2024-03-25T18:51:18.262033Z",
     "iopub.status.idle": "2024-03-25T18:51:18.267807Z",
     "shell.execute_reply": "2024-03-25T18:51:18.266603Z"
    },
    "papermill": {
     "duration": 0.027478,
     "end_time": "2024-03-25T18:51:18.270404",
     "exception": false,
     "start_time": "2024-03-25T18:51:18.242926",
     "status": "completed"
    },
    "tags": []
   },
   "outputs": [
    {
     "name": "stdout",
     "output_type": "stream",
     "text": [
      "0.5979961063539885 0.27531083356672875 0.12669306007928277\n"
     ]
    }
   ],
   "source": [
    "print(best_a, best_b, best_c)"
   ]
  },
  {
   "cell_type": "markdown",
   "id": "50965bdd",
   "metadata": {
    "papermill": {
     "duration": 0.017208,
     "end_time": "2024-03-25T18:51:18.306447",
     "exception": false,
     "start_time": "2024-03-25T18:51:18.289239",
     "status": "completed"
    },
    "tags": []
   },
   "source": [
    "# 5. Бленд с публичным решением."
   ]
  },
  {
   "cell_type": "markdown",
   "id": "698347f4",
   "metadata": {
    "papermill": {
     "duration": 0.017473,
     "end_time": "2024-03-25T18:51:18.341260",
     "exception": false,
     "start_time": "2024-03-25T18:51:18.323787",
     "status": "completed"
    },
    "tags": []
   },
   "source": [
    "* Получите предсказания на тестовых данных разными мл моделями. Сделайте бленд.\n",
    "* Скачайте предсказания из публичнном ноуте. Например [из этого](https://www.kaggle.com/code/khsamaha/spd-multi-label-xgboost-mlr-r/output). Сблендите с вашими предсказаниями. \n",
    "* *Отошлите сабмишн на лб."
   ]
  },
  {
   "cell_type": "code",
   "execution_count": 32,
   "id": "5e91c908",
   "metadata": {
    "execution": {
     "iopub.execute_input": "2024-03-25T18:51:18.378424Z",
     "iopub.status.busy": "2024-03-25T18:51:18.378040Z",
     "iopub.status.idle": "2024-03-25T18:51:18.470876Z",
     "shell.execute_reply": "2024-03-25T18:51:18.469630Z"
    },
    "papermill": {
     "duration": 0.11502,
     "end_time": "2024-03-25T18:51:18.473736",
     "exception": false,
     "start_time": "2024-03-25T18:51:18.358716",
     "status": "completed"
    },
    "tags": []
   },
   "outputs": [],
   "source": [
    "cb_preds = clf_cb.predict_proba(test.iloc[:,1:])\n",
    "xgb_preds = clf_xb.predict_proba(test.iloc[:,1:])\n",
    "\n",
    "predicts = 0.6 * cb_preds + 0.4 * xgb_preds\n",
    "# best_a, best_b - наши веса"
   ]
  },
  {
   "cell_type": "markdown",
   "id": "8840acf3",
   "metadata": {
    "papermill": {
     "duration": 0.017398,
     "end_time": "2024-03-25T18:51:18.508616",
     "exception": false,
     "start_time": "2024-03-25T18:51:18.491218",
     "status": "completed"
    },
    "tags": []
   },
   "source": [
    "Добавьте предикты из ноута по ссылке.\n",
    "\n",
    "Для этого нажмите add input и сделайте поиск по названию ноутбука.\n",
    "\n",
    "Получите предсказания из ноута и сбледите с нашими."
   ]
  },
  {
   "cell_type": "code",
   "execution_count": 33,
   "id": "67d307c4",
   "metadata": {
    "execution": {
     "iopub.execute_input": "2024-03-25T18:51:18.545448Z",
     "iopub.status.busy": "2024-03-25T18:51:18.545084Z",
     "iopub.status.idle": "2024-03-25T18:51:18.645412Z",
     "shell.execute_reply": "2024-03-25T18:51:18.644424Z"
    },
    "papermill": {
     "duration": 0.121827,
     "end_time": "2024-03-25T18:51:18.647942",
     "exception": false,
     "start_time": "2024-03-25T18:51:18.526115",
     "status": "completed"
    },
    "tags": []
   },
   "outputs": [],
   "source": [
    "sub2 = pd.read_csv('/kaggle/input/spd-multi-label-xgboost-mlr-r/submission.csv')\n",
    "sub3 = pd.read_csv('/kaggle/input/ps4e3-steel-plate-fault-prediction-multilabel/submission_comb.csv')"
   ]
  },
  {
   "cell_type": "markdown",
   "id": "7292e29a",
   "metadata": {
    "papermill": {
     "duration": 0.01704,
     "end_time": "2024-03-25T18:51:18.682702",
     "exception": false,
     "start_time": "2024-03-25T18:51:18.665662",
     "status": "completed"
    },
    "tags": []
   },
   "source": [
    "Добавте к нашему бленду еще один или несколько [публичных ноутбуков](https://www.kaggle.com/competitions/playground-series-s4e3/code?competitionId=68699&sortBy=scoreDescending&excludeNonAccessedDatasources=true) с предсказаниями (можно поставить фильтр Public score)\n",
    "\n",
    "Старайтесь выбирать для бленда модели, которые не обучали сами."
   ]
  },
  {
   "cell_type": "code",
   "execution_count": 34,
   "id": "e657f750",
   "metadata": {
    "execution": {
     "iopub.execute_input": "2024-03-25T18:51:18.720581Z",
     "iopub.status.busy": "2024-03-25T18:51:18.720147Z",
     "iopub.status.idle": "2024-03-25T18:51:18.728657Z",
     "shell.execute_reply": "2024-03-25T18:51:18.727349Z"
    },
    "papermill": {
     "duration": 0.031119,
     "end_time": "2024-03-25T18:51:18.731176",
     "exception": false,
     "start_time": "2024-03-25T18:51:18.700057",
     "status": "completed"
    },
    "tags": []
   },
   "outputs": [],
   "source": [
    "preds_fin = sub2.iloc[:,1:].values * 0.1 + predicts * 0.1 + sub3.iloc[:,1:].values * 0.8"
   ]
  },
  {
   "cell_type": "code",
   "execution_count": 35,
   "id": "a4d94982",
   "metadata": {
    "execution": {
     "iopub.execute_input": "2024-03-25T18:51:18.768552Z",
     "iopub.status.busy": "2024-03-25T18:51:18.768173Z",
     "iopub.status.idle": "2024-03-25T18:51:18.968164Z",
     "shell.execute_reply": "2024-03-25T18:51:18.967031Z"
    },
    "papermill": {
     "duration": 0.222132,
     "end_time": "2024-03-25T18:51:18.971042",
     "exception": false,
     "start_time": "2024-03-25T18:51:18.748910",
     "status": "completed"
    },
    "tags": []
   },
   "outputs": [
    {
     "data": {
      "text/html": [
       "<div>\n",
       "<style scoped>\n",
       "    .dataframe tbody tr th:only-of-type {\n",
       "        vertical-align: middle;\n",
       "    }\n",
       "\n",
       "    .dataframe tbody tr th {\n",
       "        vertical-align: top;\n",
       "    }\n",
       "\n",
       "    .dataframe thead th {\n",
       "        text-align: right;\n",
       "    }\n",
       "</style>\n",
       "<table border=\"1\" class=\"dataframe\">\n",
       "  <thead>\n",
       "    <tr style=\"text-align: right;\">\n",
       "      <th></th>\n",
       "      <th>id</th>\n",
       "      <th>Pastry</th>\n",
       "      <th>Z_Scratch</th>\n",
       "      <th>K_Scatch</th>\n",
       "      <th>Stains</th>\n",
       "      <th>Dirtiness</th>\n",
       "      <th>Bumps</th>\n",
       "      <th>Other_Faults</th>\n",
       "    </tr>\n",
       "  </thead>\n",
       "  <tbody>\n",
       "    <tr>\n",
       "      <th>0</th>\n",
       "      <td>19219</td>\n",
       "      <td>0.482327</td>\n",
       "      <td>0.003502</td>\n",
       "      <td>0.004232</td>\n",
       "      <td>0.007867</td>\n",
       "      <td>0.020232</td>\n",
       "      <td>0.155492</td>\n",
       "      <td>0.326437</td>\n",
       "    </tr>\n",
       "    <tr>\n",
       "      <th>1</th>\n",
       "      <td>19220</td>\n",
       "      <td>0.287892</td>\n",
       "      <td>0.025048</td>\n",
       "      <td>0.011333</td>\n",
       "      <td>0.009184</td>\n",
       "      <td>0.148615</td>\n",
       "      <td>0.164321</td>\n",
       "      <td>0.345433</td>\n",
       "    </tr>\n",
       "    <tr>\n",
       "      <th>2</th>\n",
       "      <td>19221</td>\n",
       "      <td>0.005542</td>\n",
       "      <td>0.039518</td>\n",
       "      <td>0.041839</td>\n",
       "      <td>0.009984</td>\n",
       "      <td>0.011320</td>\n",
       "      <td>0.327451</td>\n",
       "      <td>0.534944</td>\n",
       "    </tr>\n",
       "    <tr>\n",
       "      <th>3</th>\n",
       "      <td>19222</td>\n",
       "      <td>0.114475</td>\n",
       "      <td>0.006026</td>\n",
       "      <td>0.002099</td>\n",
       "      <td>0.010245</td>\n",
       "      <td>0.014127</td>\n",
       "      <td>0.423671</td>\n",
       "      <td>0.417156</td>\n",
       "    </tr>\n",
       "    <tr>\n",
       "      <th>4</th>\n",
       "      <td>19223</td>\n",
       "      <td>0.006622</td>\n",
       "      <td>0.005256</td>\n",
       "      <td>0.002399</td>\n",
       "      <td>0.011700</td>\n",
       "      <td>0.009643</td>\n",
       "      <td>0.628359</td>\n",
       "      <td>0.335519</td>\n",
       "    </tr>\n",
       "  </tbody>\n",
       "</table>\n",
       "</div>"
      ],
      "text/plain": [
       "      id    Pastry  Z_Scratch  K_Scatch    Stains  Dirtiness     Bumps  \\\n",
       "0  19219  0.482327   0.003502  0.004232  0.007867   0.020232  0.155492   \n",
       "1  19220  0.287892   0.025048  0.011333  0.009184   0.148615  0.164321   \n",
       "2  19221  0.005542   0.039518  0.041839  0.009984   0.011320  0.327451   \n",
       "3  19222  0.114475   0.006026  0.002099  0.010245   0.014127  0.423671   \n",
       "4  19223  0.006622   0.005256  0.002399  0.011700   0.009643  0.628359   \n",
       "\n",
       "   Other_Faults  \n",
       "0      0.326437  \n",
       "1      0.345433  \n",
       "2      0.534944  \n",
       "3      0.417156  \n",
       "4      0.335519  "
      ]
     },
     "execution_count": 35,
     "metadata": {},
     "output_type": "execute_result"
    }
   ],
   "source": [
    "submission = pd.DataFrame(\n",
    "    preds_fin,\n",
    "    columns=targets,\n",
    "    index=test.id\n",
    ").reset_index()\n",
    "submission.to_csv('submission.csv', index=False)\n",
    "submission.head(5)"
   ]
  },
  {
   "cell_type": "code",
   "execution_count": null,
   "id": "166f9069",
   "metadata": {
    "papermill": {
     "duration": 0.017377,
     "end_time": "2024-03-25T18:51:19.006365",
     "exception": false,
     "start_time": "2024-03-25T18:51:18.988988",
     "status": "completed"
    },
    "tags": []
   },
   "outputs": [],
   "source": []
  }
 ],
 "metadata": {
  "kaggle": {
   "accelerator": "none",
   "dataSources": [
    {
     "databundleVersionId": 7659021,
     "sourceId": 68699,
     "sourceType": "competition"
    },
    {
     "sourceId": 165617723,
     "sourceType": "kernelVersion"
    },
    {
     "sourceId": 168390757,
     "sourceType": "kernelVersion"
    },
    {
     "sourceId": 166920029,
     "sourceType": "kernelVersion"
    }
   ],
   "dockerImageVersionId": 30673,
   "isGpuEnabled": false,
   "isInternetEnabled": true,
   "language": "python",
   "sourceType": "notebook"
  },
  "kernelspec": {
   "display_name": "Python 3",
   "language": "python",
   "name": "python3"
  },
  "language_info": {
   "codemirror_mode": {
    "name": "ipython",
    "version": 3
   },
   "file_extension": ".py",
   "mimetype": "text/x-python",
   "name": "python",
   "nbconvert_exporter": "python",
   "pygments_lexer": "ipython3",
   "version": "3.10.13"
  },
  "papermill": {
   "default_parameters": {},
   "duration": 179.682015,
   "end_time": "2024-03-25T18:51:19.948057",
   "environment_variables": {},
   "exception": null,
   "input_path": "__notebook__.ipynb",
   "output_path": "__notebook__.ipynb",
   "parameters": {},
   "start_time": "2024-03-25T18:48:20.266042",
   "version": "2.5.0"
  }
 },
 "nbformat": 4,
 "nbformat_minor": 5
}
